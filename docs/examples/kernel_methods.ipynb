{
 "cells": [
  {
   "cell_type": "markdown",
   "metadata": {
    "collapsed": false
   },
   "source": [
    "# Large Scale Kernel Models\n",
    "\n",
    "> _Author:_ Giacomo Turri — [g-turri](https://github.com/g-turri)\n",
    "\n",
    "In our exploration of the `kooplearn` library, we delve into the utilization of kernel methods for analyzing dynamical systems. Our initial exposure to the library, as discussed in the [getting started](getting_started) example, involved studying the behavior of the _noisy logistic map_ using the {class}`kooplearn.models.Nonlinear` class.\n",
    "\n",
    "Expanding our investigation, we now turn our attention to two additional classes within the library: {class}`kooplearn.models.Kernel` and {class}`kooplearn.models.NystroemKernel`. These classes leverage kernel methods to effectively model the transfer operator $\\mathcal{T}$. Our focus is on comparing the performance of three models implemented in the above classes:\n",
    "\n",
    "1.   Reduced Rank Regression (RRR) as described in {footcite:t}`Kostic2022`,\n",
    "2.   Nyström Reduced Rank Regression (Nyström-RRR) as described in {footcite:t}`Meanti2023`,\n",
    "3.   Randomized Reduced Rank Regression (Randomized-RRR) as described in {footcite:t}`Turri2023`\n",
    "\n",
    "by investigating the Lorenz-63 System (a.k.a. Lorenz attractor). This model is defined by a system of three coupled ordinary differential equations:\n",
    "\n",
    "$$\n",
    "  \\begin{align}\n",
    "  \\dot{x} &= \\sigma (y - x), \\\\\n",
    "  \\dot{y} &= x (\\rho - z) - y, \\\\\n",
    "  \\dot{z} &= x y - \\beta z\n",
    "  \\end{align}\n",
    "$$\n",
    "\n",
    "where:\n",
    "- $x, y, z$ are the three variables representing the state of the system;\n",
    "- $t$ is time;\n",
    "- $\\sigma$, $\\rho$, and $\\beta$ are parameters of the system.\n",
    "\n",
    "These parameters play crucial roles in determining the behavior of the Lorenz-63 system. In this notebook, we study the \"canonical\" configuration, employing the parameter values Edward Lorenz originally used in his seminal paper in 1963: $\\sigma=10$, $\\rho=28$, and $\\beta=8/3$. In this configuration, the Lorenz-63 system exhibits a chaotic attractor known as the Lorenz attractor, which is a butterfly-shaped trajectory in state space."
   ]
  },
  {
   "cell_type": "markdown",
   "metadata": {
    "collapsed": false
   },
   "source": [
    "## Setup `kooplearn` + importing dependecies"
   ]
  },
  {
   "cell_type": "code",
   "execution_count": null,
   "metadata": {
    "ExecuteTime": {
     "end_time": "2024-03-19T12:25:40.249371Z",
     "start_time": "2024-03-19T12:25:37.667776Z"
    },
    "collapsed": false
   },
   "outputs": [],
   "source": [
    "import importlib\n",
    "\n",
    "for module in ['kooplearn', 'ml_confs', 'scienceplots']:\n",
    "    try:\n",
    "        importlib.import_module(module)\n",
    "    except ImportError:\n",
    "      if module == 'kooplearn':\n",
    "        module = 'kooplearn[full]'\n",
    "      %pip install -q {module}"
   ]
  },
  {
   "cell_type": "code",
   "execution_count": null,
   "metadata": {
    "ExecuteTime": {
     "end_time": "2024-03-19T12:25:40.253619Z",
     "start_time": "2024-03-19T12:25:40.250645Z"
    },
    "collapsed": false
   },
   "outputs": [],
   "source": [
    "# Import dependencies\n",
    "import functools\n",
    "import numpy as np\n",
    "import scienceplots\n",
    "import matplotlib.pyplot as plt\n",
    "from matplotlib.ticker import MultipleLocator\n",
    "import ml_confs\n",
    "# Plotting settings\n",
    "plt.style.use(['science','sans','bright'])\n",
    "plt.rcParams.update({'text.usetex' : False})"
   ]
  },
  {
   "cell_type": "code",
   "execution_count": null,
   "metadata": {
    "ExecuteTime": {
     "end_time": "2024-03-19T12:25:40.268447Z",
     "start_time": "2024-03-19T12:25:40.254423Z"
    },
    "executionInfo": {
     "elapsed": 9,
     "status": "ok",
     "timestamp": 1709913895778,
     "user": {
      "displayName": "Giacomo Turri",
      "userId": "13549940502458923269"
     },
     "user_tz": -60
    },
    "id": "3XxzzJuDaxIe"
   },
   "outputs": [],
   "source": [
    "# Wrapper function useful for measuring the execution time of functions\n",
    "# Adapted from https://realpython.com/python-timer/#creating-a-python-timer-decorator\n",
    "from time import perf_counter\n",
    "\n",
    "configs = ml_confs.from_dict({\n",
    "    'train_samples': 10000,\n",
    "    'test_samples': 100,\n",
    "})\n",
    "\n",
    "def timer(func):\n",
    "    @functools.wraps(func)\n",
    "    def wrapper_timer(*args, **kwargs):\n",
    "        tic = perf_counter()\n",
    "        value = func(*args, **kwargs)\n",
    "        toc = perf_counter()\n",
    "        elapsed_time = toc - tic\n",
    "        return value, elapsed_time\n",
    "\n",
    "    return wrapper_timer"
   ]
  },
  {
   "cell_type": "markdown",
   "metadata": {
    "id": "N6tDzciVaxIf"
   },
   "source": [
    "## Data Generation\n",
    "In `kooplearn`, we provide an implementation of the Lorenz-63 system in {class}`kooplearn.datasets.Lorenz63`. With this class, we sample the dataset by setting the initial condition `X0` equal to 1 for the three components, the number of time steps `T` according to the sample sizes defined above."
   ]
  },
  {
   "cell_type": "code",
   "execution_count": null,
   "metadata": {
    "ExecuteTime": {
     "end_time": "2024-03-19T12:25:40.473945Z",
     "start_time": "2024-03-19T12:25:40.269279Z"
    },
    "executionInfo": {
     "elapsed": 10491,
     "status": "ok",
     "timestamp": 1709913909776,
     "user": {
      "displayName": "Giacomo Turri",
      "userId": "13549940502458923269"
     },
     "user_tz": -60
    },
    "id": "G-7l9b44axIh"
   },
   "outputs": [],
   "source": [
    "from kooplearn.datasets import Lorenz63\n",
    "\n",
    "raw_data = Lorenz63().sample(X0 = np.ones(3), T=configs.train_samples + 1000 + configs.test_samples)\n",
    "mean = np.mean(raw_data, axis=0)\n",
    "norm = np.max(np.abs(raw_data), axis=0)\n",
    "# Data rescaling\n",
    "data = raw_data - mean\n",
    "data /= norm\n",
    "\n",
    "dataset = {\n",
    "    \"train\": data[:configs.train_samples + 1],\n",
    "    \"test\": data[-configs.test_samples - 1:],\n",
    "}"
   ]
  },
  {
   "cell_type": "markdown",
   "metadata": {
    "id": "JVMInT4BlCys"
   },
   "source": [
    "Here, we provide a visualization of the sampled trajectory. The blue and pink lines represent the training and test trajectories, respectively."
   ]
  },
  {
   "cell_type": "code",
   "execution_count": null,
   "metadata": {
    "ExecuteTime": {
     "end_time": "2024-03-19T12:25:40.634227Z",
     "start_time": "2024-03-19T12:25:40.475405Z"
    },
    "colab": {
     "base_uri": "https://localhost:8080/",
     "height": 511
    },
    "executionInfo": {
     "elapsed": 814,
     "status": "ok",
     "timestamp": 1709913910588,
     "user": {
      "displayName": "Giacomo Turri",
      "userId": "13549940502458923269"
     },
     "user_tz": -60
    },
    "id": "ACV055oFtIxL",
    "outputId": "04cbc384-48e1-4bce-eaff-83741eb9b974"
   },
   "outputs": [],
   "source": [
    "\n",
    "\n",
    "fig = plt.figure(figsize=(6,6))\n",
    "ax = fig.add_subplot(111, projection='3d')\n",
    "ax.plot(dataset['train'][:,0], dataset['train'][:,1], dataset['train'][:,2], lw=.5, label='Training data')\n",
    "ax.plot(dataset['test'][:,0], dataset['test'][:,1], dataset['test'][:,2], lw=2, label='Test data')\n",
    "ax.set_title(\"Lorenz System Trajectory\")\n",
    "ax.set_xlabel(\"X\")\n",
    "ax.set_xticks(np.linspace(-1,1,5),)\n",
    "ax.set_xticklabels(np.linspace(-1,1,5))\n",
    "ax.set_ylabel(\"Y\")\n",
    "ax.set_yticks(np.linspace(-1,1,5))\n",
    "ax.set_zlabel(\"Z\")\n",
    "ax.set_zticks(np.linspace(-.5,.5,5))\n",
    "\n",
    "spacing = 0.25\n",
    "minorLocator = MultipleLocator(spacing)\n",
    "ax.yaxis.set_minor_locator(minorLocator)\n",
    "ax.xaxis.set_minor_locator(minorLocator)\n",
    "ax.grid(which = 'minor')\n",
    "\n",
    "plt.legend()\n",
    "plt.show()"
   ]
  },
  {
   "cell_type": "markdown",
   "metadata": {
    "id": "uUhLs9SOIkSZ"
   },
   "source": [
    "After having generated the trajectories, as already seen in the [getting started](getting_started) tutorial, we organize them into context windows using the {meth}`kooplearn.data.traj_to_contexts` method."
   ]
  },
  {
   "cell_type": "code",
   "execution_count": null,
   "metadata": {
    "ExecuteTime": {
     "end_time": "2024-03-19T12:25:40.638671Z",
     "start_time": "2024-03-19T12:25:40.635119Z"
    },
    "executionInfo": {
     "elapsed": 1255,
     "status": "ok",
     "timestamp": 1709913918686,
     "user": {
      "displayName": "Giacomo Turri",
      "userId": "13549940502458923269"
     },
     "user_tz": -60
    },
    "id": "WdTdXX0paxIh"
   },
   "outputs": [],
   "source": [
    "from kooplearn.data import traj_to_contexts\n",
    "\n",
    "# From trajectories to context windows\n",
    "contexts = {k: traj_to_contexts(v) for k, v in dataset.items()} # Converting the trajectories to contexts\n",
    "for split, ds in contexts.items():\n",
    "    print(f\"{split.capitalize()} contexts have shape {ds.shape}: {len(ds)} contexts of length {ds.context_length} with {ds.shape[2]} features each\")"
   ]
  },
  {
   "cell_type": "markdown",
   "metadata": {
    "collapsed": false
   },
   "source": [
    "## Estimators fitting"
   ]
  },
  {
   "cell_type": "markdown",
   "metadata": {
    "collapsed": false
   },
   "source": [
    "Here, we show how to fit the estimators and learn the transfer operator $\\mathcal{T}$ in reproducing kernel Hilbert space (RKHS). The first step in training the estimators is the choice of the kernel. In this example, we choose the standard Gaussian kernel and set its length scale using median heuristics.\n",
    "\n",
    "Then, the hyperparameters to be tuned, common to the three estimators under consideration, are:\n",
    "- The Tikhonov regularization, `tikhonov_reg`, which should be a small positive number to ensure stability and generalizability,\n",
    "- The `rank` of the model, which depends on the system being analyzed.\n",
    "\n",
    "Concerning RRR and Nyström-RRR models we can choose the `svd_solver` to be `full`, computing the exact SVD decomposition with LAPACK sover, or `arnoldi`, exploiting arnoldi iterations with ARPACK solver.\n",
    "\n",
    "Moreover, for Nyström-RRR model we can set the number of Nyström centers, `num_centers`, where we look for a tradeoff between a fast model to train (small value) and an accurate model (large value).\n",
    "\n",
    "Finally, in the randomized-RRR model which leverages Gaussian sketching, we can set:\n",
    "- `iterated_power` *(int)*, the number of power iterations,\n",
    "- `n_oversamples` *(int)*, the number of oversamples,\n",
    "- `optimal_sketching` *(bool)*, whether performing optimal sketching or not."
   ]
  },
  {
   "cell_type": "code",
   "execution_count": null,
   "metadata": {
    "ExecuteTime": {
     "end_time": "2024-03-19T12:25:41.313064Z",
     "start_time": "2024-03-19T12:25:40.639876Z"
    },
    "executionInfo": {
     "elapsed": 4,
     "status": "ok",
     "timestamp": 1709913924430,
     "user": {
      "displayName": "Giacomo Turri",
      "userId": "13549940502458923269"
     },
     "user_tz": -60
    },
    "id": "XRKAFezTaxIi"
   },
   "outputs": [],
   "source": [
    "from kooplearn.models import Kernel, NystroemKernel\n",
    "from scipy.spatial.distance import pdist\n",
    "from sklearn.gaussian_process.kernels import RBF\n",
    "\n",
    "reduced_rank = True\n",
    "rank = 25\n",
    "num_centers = 250\n",
    "tikhonov_reg = 1e-6\n",
    "\n",
    "# Instantiang the RBF kernel and its length scale as the median of the pairwise distances of the dataset\n",
    "data_pdist = pdist(dataset['train'])\n",
    "kernel = RBF(length_scale=np.quantile(data_pdist, 0.5))"
   ]
  },
  {
   "cell_type": "code",
   "execution_count": null,
   "metadata": {
    "ExecuteTime": {
     "end_time": "2024-03-19T12:25:41.317367Z",
     "start_time": "2024-03-19T12:25:41.314005Z"
    },
    "executionInfo": {
     "elapsed": 338,
     "status": "ok",
     "timestamp": 1709913921828,
     "user": {
      "displayName": "Giacomo Turri",
      "userId": "13549940502458923269"
     },
     "user_tz": -60
    },
    "id": "Wc_wBAYzaxIi"
   },
   "outputs": [],
   "source": [
    "def runner(models, stop):\n",
    "    results = {}\n",
    "    for name, model in models.items():\n",
    "        model, fit_time = timer(model.fit)(contexts['train'][:stop])\n",
    "        # One-step prediction\n",
    "        X_pred_test = model.predict(contexts['train'])\n",
    "        X_true_test = contexts['train'].lookforward(model.lookback_len)\n",
    "\n",
    "        results[name] = {\n",
    "            'fit_time': fit_time,\n",
    "            'RMSE_onestep_test': np.sqrt(np.mean((X_pred_test - X_true_test)**2)),\n",
    "        }\n",
    "        print(r'Fitting of {} model took {:.2f}s and has a test RMSE of {:.5f}.'.format(name, results[name]['fit_time'], results[name]['RMSE_onestep_test']))\n",
    "    return results"
   ]
  },
  {
   "cell_type": "markdown",
   "metadata": {
    "collapsed": false
   },
   "source": [
    "We study the performance of the three models in terms of root-mean-square error (RMSE) of the one-step prediction on the test set and of fitting time, as a function of the training sample size."
   ]
  },
  {
   "cell_type": "code",
   "execution_count": null,
   "metadata": {
    "ExecuteTime": {
     "end_time": "2024-03-19T12:27:51.259761Z",
     "start_time": "2024-03-19T12:25:41.318123Z"
    },
    "colab": {
     "base_uri": "https://localhost:8080/",
     "height": 1000,
     "referenced_widgets": [
      "ef63b4e7397c45c89ee49b312f2b83ce",
      "e7eab3d8423f4854a114048b44a3ca3e",
      "d91e35c00a8444ce9522706289ff679d",
      "0a38362633df40dea2149ddb8e83c62b",
      "97f206ef37ed4e5780e129d71aa31432",
      "02e0d3b7e7c84567b55dd24b727b427c",
      "436d1e449c88469fbac0bc379bb87d1c",
      "75136739e78348318935f43906afd228",
      "e2e617108a244e0faa5dd3a670b363a0",
      "73486ccc42064bb391b2656efe70aa66",
      "ff236c48be14449eac2c4eb21c9dcb00"
     ]
    },
    "executionInfo": {
     "elapsed": 335947,
     "status": "ok",
     "timestamp": 1709914264195,
     "user": {
      "displayName": "Giacomo Turri",
      "userId": "13549940502458923269"
     },
     "user_tz": -60
    },
    "id": "t-52nJXCaxIj",
    "outputId": "4ef1a71d-f46f-452a-e66a-1c9fc823c771"
   },
   "outputs": [],
   "source": [
    "train_stops = np.logspace(3, 4, 10).astype(int)\n",
    "\n",
    "results = []\n",
    "for stop in train_stops:\n",
    "    models = {\n",
    "        'RRR': Kernel(kernel=kernel, reduced_rank=reduced_rank, tikhonov_reg=tikhonov_reg, rank = rank, svd_solver='arnoldi'),\n",
    "        'Randomized-RRR': Kernel(kernel=kernel, reduced_rank=reduced_rank, svd_solver='randomized', tikhonov_reg=tikhonov_reg, rank = rank, rng_seed=42),\n",
    "        'Nystroem-RRR': NystroemKernel(kernel=kernel, reduced_rank=reduced_rank, svd_solver='arnoldi', tikhonov_reg=tikhonov_reg, rank = rank, num_centers=num_centers, rng_seed=42),\n",
    "    }\n",
    "    print(f'\\nTraining points: {stop}')\n",
    "    results.append(runner(models, stop))"
   ]
  },
  {
   "cell_type": "code",
   "execution_count": null,
   "metadata": {
    "ExecuteTime": {
     "end_time": "2024-03-19T12:27:51.311519Z",
     "start_time": "2024-03-19T12:27:51.279265Z"
    },
    "collapsed": false
   },
   "outputs": [],
   "source": [
    "timings = {name: np.array([res[name]['fit_time'] for res in results]) for name in models.keys()}\n",
    "test_rMSE = {name: np.array([res[name]['RMSE_onestep_test'] for res in results]) for name in models.keys()}\n",
    "\n",
    "speedup = {}\n",
    "for name in models.keys():  \n",
    "    speedup[name] = timings['RRR']/timings[name]"
   ]
  },
  {
   "cell_type": "markdown",
   "metadata": {
    "collapsed": false
   },
   "source": [
    "We compare, on the left panel, the RMSE of the one-step prediction on the test set and, on the right panel, the fitting time of the three models. We can observe how the RMSE of the three the models is close to each other and decreases as the number of training points increases. Notably, with randomized-RRR and Nyström-RRR we achieve almost the same RMSE with a speed-up in the fitting time w.r.t. \"vanilla\" RRR."
   ]
  },
  {
   "cell_type": "code",
   "execution_count": null,
   "metadata": {
    "ExecuteTime": {
     "end_time": "2024-03-19T12:27:52.159334Z",
     "start_time": "2024-03-19T12:27:51.312849Z"
    },
    "collapsed": false
   },
   "outputs": [],
   "source": [
    "fig, axes = plt.subplots(ncols=2, figsize=(10,4))\n",
    "for name in models.keys():\n",
    "    axes[0].plot(train_stops, test_rMSE[name],'.-', label=name, markersize=10)\n",
    "    axes[1].plot(train_stops, timings[name],'.-', label=name, markersize=10)\n",
    "\n",
    "colors = []\n",
    "for line in axes[0].get_lines():\n",
    "    colors.append(line.get_color())\n",
    "\n",
    "axes[0].set_title('RMSE')\n",
    "axes[1].set_title('Fitting time (s)')\n",
    "axes[1].legend(frameon = False, loc = 'upper left')\n",
    "axes[1].set_yscale('log')\n",
    "\n",
    "for ax in axes:\n",
    "    ax.set_xscale('log')\n",
    "    ax.set_xlabel('Training points')\n",
    "\n",
    "ax = axes[1]\n",
    "for name in models.keys():\n",
    "    for i, el in enumerate(speedup[name]):\n",
    "        if (name == 'Randomized-RRR'):\n",
    "            c = colors[1]\n",
    "            ax.text(train_stops[i], timings[name][i]*1.2, f'{el:.1f}x', fontsize=10, color = c, ha='center')\n",
    "        elif (name == 'Nystroem-RRR'):\n",
    "            c = colors[2]\n",
    "            ax.text(train_stops[i], timings[name][i]*0.75, f'{el:.1f}x', fontsize=10, color = c, ha='center')\n",
    "        else:\n",
    "            pass\n",
    "    print(f\"Average fitting time speed-up for {name}: {np.mean(speedup[name]):.2f}x\")"
   ]
  }
 ],
 "metadata": {
  "colab": {
   "provenance": []
  },
  "kernelspec": {
   "display_name": "Python 3 (ipykernel)",
   "language": "python",
   "name": "python3"
  },
  "language_info": {
   "codemirror_mode": {
    "name": "ipython",
    "version": 3
   },
   "file_extension": ".py",
   "mimetype": "text/x-python",
   "name": "python",
   "nbconvert_exporter": "python",
   "pygments_lexer": "ipython3",
   "version": "3.11.4"
  },
  "widgets": {
   "application/vnd.jupyter.widget-state+json": {
    "02e0d3b7e7c84567b55dd24b727b427c": {
     "model_module": "@jupyter-widgets/base",
     "model_module_version": "1.2.0",
     "model_name": "LayoutModel",
     "state": {
      "_model_module": "@jupyter-widgets/base",
      "_model_module_version": "1.2.0",
      "_model_name": "LayoutModel",
      "_view_count": null,
      "_view_module": "@jupyter-widgets/base",
      "_view_module_version": "1.2.0",
      "_view_name": "LayoutView",
      "align_content": null,
      "align_items": null,
      "align_self": null,
      "border": null,
      "bottom": null,
      "display": null,
      "flex": null,
      "flex_flow": null,
      "grid_area": null,
      "grid_auto_columns": null,
      "grid_auto_flow": null,
      "grid_auto_rows": null,
      "grid_column": null,
      "grid_gap": null,
      "grid_row": null,
      "grid_template_areas": null,
      "grid_template_columns": null,
      "grid_template_rows": null,
      "height": null,
      "justify_content": null,
      "justify_items": null,
      "left": null,
      "margin": null,
      "max_height": null,
      "max_width": null,
      "min_height": null,
      "min_width": null,
      "object_fit": null,
      "object_position": null,
      "order": null,
      "overflow": null,
      "overflow_x": null,
      "overflow_y": null,
      "padding": null,
      "right": null,
      "top": null,
      "visibility": null,
      "width": null
     }
    },
    "0a38362633df40dea2149ddb8e83c62b": {
     "model_module": "@jupyter-widgets/controls",
     "model_module_version": "1.5.0",
     "model_name": "HTMLModel",
     "state": {
      "_dom_classes": [],
      "_model_module": "@jupyter-widgets/controls",
      "_model_module_version": "1.5.0",
      "_model_name": "HTMLModel",
      "_view_count": null,
      "_view_module": "@jupyter-widgets/controls",
      "_view_module_version": "1.5.0",
      "_view_name": "HTMLView",
      "description": "",
      "description_tooltip": null,
      "layout": "IPY_MODEL_73486ccc42064bb391b2656efe70aa66",
      "placeholder": "​",
      "style": "IPY_MODEL_ff236c48be14449eac2c4eb21c9dcb00",
      "value": " 10/10 [05:35&lt;00:00, 73.81s/it]"
     }
    },
    "436d1e449c88469fbac0bc379bb87d1c": {
     "model_module": "@jupyter-widgets/controls",
     "model_module_version": "1.5.0",
     "model_name": "DescriptionStyleModel",
     "state": {
      "_model_module": "@jupyter-widgets/controls",
      "_model_module_version": "1.5.0",
      "_model_name": "DescriptionStyleModel",
      "_view_count": null,
      "_view_module": "@jupyter-widgets/base",
      "_view_module_version": "1.2.0",
      "_view_name": "StyleView",
      "description_width": ""
     }
    },
    "73486ccc42064bb391b2656efe70aa66": {
     "model_module": "@jupyter-widgets/base",
     "model_module_version": "1.2.0",
     "model_name": "LayoutModel",
     "state": {
      "_model_module": "@jupyter-widgets/base",
      "_model_module_version": "1.2.0",
      "_model_name": "LayoutModel",
      "_view_count": null,
      "_view_module": "@jupyter-widgets/base",
      "_view_module_version": "1.2.0",
      "_view_name": "LayoutView",
      "align_content": null,
      "align_items": null,
      "align_self": null,
      "border": null,
      "bottom": null,
      "display": null,
      "flex": null,
      "flex_flow": null,
      "grid_area": null,
      "grid_auto_columns": null,
      "grid_auto_flow": null,
      "grid_auto_rows": null,
      "grid_column": null,
      "grid_gap": null,
      "grid_row": null,
      "grid_template_areas": null,
      "grid_template_columns": null,
      "grid_template_rows": null,
      "height": null,
      "justify_content": null,
      "justify_items": null,
      "left": null,
      "margin": null,
      "max_height": null,
      "max_width": null,
      "min_height": null,
      "min_width": null,
      "object_fit": null,
      "object_position": null,
      "order": null,
      "overflow": null,
      "overflow_x": null,
      "overflow_y": null,
      "padding": null,
      "right": null,
      "top": null,
      "visibility": null,
      "width": null
     }
    },
    "75136739e78348318935f43906afd228": {
     "model_module": "@jupyter-widgets/base",
     "model_module_version": "1.2.0",
     "model_name": "LayoutModel",
     "state": {
      "_model_module": "@jupyter-widgets/base",
      "_model_module_version": "1.2.0",
      "_model_name": "LayoutModel",
      "_view_count": null,
      "_view_module": "@jupyter-widgets/base",
      "_view_module_version": "1.2.0",
      "_view_name": "LayoutView",
      "align_content": null,
      "align_items": null,
      "align_self": null,
      "border": null,
      "bottom": null,
      "display": null,
      "flex": null,
      "flex_flow": null,
      "grid_area": null,
      "grid_auto_columns": null,
      "grid_auto_flow": null,
      "grid_auto_rows": null,
      "grid_column": null,
      "grid_gap": null,
      "grid_row": null,
      "grid_template_areas": null,
      "grid_template_columns": null,
      "grid_template_rows": null,
      "height": null,
      "justify_content": null,
      "justify_items": null,
      "left": null,
      "margin": null,
      "max_height": null,
      "max_width": null,
      "min_height": null,
      "min_width": null,
      "object_fit": null,
      "object_position": null,
      "order": null,
      "overflow": null,
      "overflow_x": null,
      "overflow_y": null,
      "padding": null,
      "right": null,
      "top": null,
      "visibility": null,
      "width": null
     }
    },
    "97f206ef37ed4e5780e129d71aa31432": {
     "model_module": "@jupyter-widgets/base",
     "model_module_version": "1.2.0",
     "model_name": "LayoutModel",
     "state": {
      "_model_module": "@jupyter-widgets/base",
      "_model_module_version": "1.2.0",
      "_model_name": "LayoutModel",
      "_view_count": null,
      "_view_module": "@jupyter-widgets/base",
      "_view_module_version": "1.2.0",
      "_view_name": "LayoutView",
      "align_content": null,
      "align_items": null,
      "align_self": null,
      "border": null,
      "bottom": null,
      "display": null,
      "flex": null,
      "flex_flow": null,
      "grid_area": null,
      "grid_auto_columns": null,
      "grid_auto_flow": null,
      "grid_auto_rows": null,
      "grid_column": null,
      "grid_gap": null,
      "grid_row": null,
      "grid_template_areas": null,
      "grid_template_columns": null,
      "grid_template_rows": null,
      "height": null,
      "justify_content": null,
      "justify_items": null,
      "left": null,
      "margin": null,
      "max_height": null,
      "max_width": null,
      "min_height": null,
      "min_width": null,
      "object_fit": null,
      "object_position": null,
      "order": null,
      "overflow": null,
      "overflow_x": null,
      "overflow_y": null,
      "padding": null,
      "right": null,
      "top": null,
      "visibility": null,
      "width": null
     }
    },
    "d91e35c00a8444ce9522706289ff679d": {
     "model_module": "@jupyter-widgets/controls",
     "model_module_version": "1.5.0",
     "model_name": "FloatProgressModel",
     "state": {
      "_dom_classes": [],
      "_model_module": "@jupyter-widgets/controls",
      "_model_module_version": "1.5.0",
      "_model_name": "FloatProgressModel",
      "_view_count": null,
      "_view_module": "@jupyter-widgets/controls",
      "_view_module_version": "1.5.0",
      "_view_name": "ProgressView",
      "bar_style": "success",
      "description": "",
      "description_tooltip": null,
      "layout": "IPY_MODEL_75136739e78348318935f43906afd228",
      "max": 10,
      "min": 0,
      "orientation": "horizontal",
      "style": "IPY_MODEL_e2e617108a244e0faa5dd3a670b363a0",
      "value": 10
     }
    },
    "e2e617108a244e0faa5dd3a670b363a0": {
     "model_module": "@jupyter-widgets/controls",
     "model_module_version": "1.5.0",
     "model_name": "ProgressStyleModel",
     "state": {
      "_model_module": "@jupyter-widgets/controls",
      "_model_module_version": "1.5.0",
      "_model_name": "ProgressStyleModel",
      "_view_count": null,
      "_view_module": "@jupyter-widgets/base",
      "_view_module_version": "1.2.0",
      "_view_name": "StyleView",
      "bar_color": null,
      "description_width": ""
     }
    },
    "e7eab3d8423f4854a114048b44a3ca3e": {
     "model_module": "@jupyter-widgets/controls",
     "model_module_version": "1.5.0",
     "model_name": "HTMLModel",
     "state": {
      "_dom_classes": [],
      "_model_module": "@jupyter-widgets/controls",
      "_model_module_version": "1.5.0",
      "_model_name": "HTMLModel",
      "_view_count": null,
      "_view_module": "@jupyter-widgets/controls",
      "_view_module_version": "1.5.0",
      "_view_name": "HTMLView",
      "description": "",
      "description_tooltip": null,
      "layout": "IPY_MODEL_02e0d3b7e7c84567b55dd24b727b427c",
      "placeholder": "​",
      "style": "IPY_MODEL_436d1e449c88469fbac0bc379bb87d1c",
      "value": "100%"
     }
    },
    "ef63b4e7397c45c89ee49b312f2b83ce": {
     "model_module": "@jupyter-widgets/controls",
     "model_module_version": "1.5.0",
     "model_name": "HBoxModel",
     "state": {
      "_dom_classes": [],
      "_model_module": "@jupyter-widgets/controls",
      "_model_module_version": "1.5.0",
      "_model_name": "HBoxModel",
      "_view_count": null,
      "_view_module": "@jupyter-widgets/controls",
      "_view_module_version": "1.5.0",
      "_view_name": "HBoxView",
      "box_style": "",
      "children": [
       "IPY_MODEL_e7eab3d8423f4854a114048b44a3ca3e",
       "IPY_MODEL_d91e35c00a8444ce9522706289ff679d",
       "IPY_MODEL_0a38362633df40dea2149ddb8e83c62b"
      ],
      "layout": "IPY_MODEL_97f206ef37ed4e5780e129d71aa31432"
     }
    },
    "ff236c48be14449eac2c4eb21c9dcb00": {
     "model_module": "@jupyter-widgets/controls",
     "model_module_version": "1.5.0",
     "model_name": "DescriptionStyleModel",
     "state": {
      "_model_module": "@jupyter-widgets/controls",
      "_model_module_version": "1.5.0",
      "_model_name": "DescriptionStyleModel",
      "_view_count": null,
      "_view_module": "@jupyter-widgets/base",
      "_view_module_version": "1.2.0",
      "_view_name": "StyleView",
      "description_width": ""
     }
    }
   }
  }
 },
 "nbformat": 4,
 "nbformat_minor": 0
}
