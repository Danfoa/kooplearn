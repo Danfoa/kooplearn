{
 "cells": [
  {
   "cell_type": "markdown",
   "metadata": {
    "id": "GgBVGIUIVVWx"
   },
   "source": [
    "# Large Scale Kernel Models\n",
    "\n",
    "In our exploration of the `kooplearn` library, we delve into the utilization of kernel methods for analyzing dynamical systems. Our initial exposure to the library, as discussed in the [getting started](getting_started) example, involved studying the behavior of the _noisy logistic map_ using the {class}`kooplearn.models.Nonlinear` class.\n",
    "\n",
    "Expanding our investigation, we now turn our attention to two additional classes within the library: {class}`kooplearn.models.Kernel` and {class}`kooplearn.models.NystroemKernel`. These classes leverage kernel methods to effectively model the transfer operator $\\mathcal{T}$. Our focus is on comparing the performance of three models implemented in the above classes:\n",
    "\n",
    "1.   Reduced Rank Regression as described in {footcite:t}`Kostic2022`,\n",
    "2.   Nyström Reduced Rank Regression as described in {footcite:t}`Meanti2023`,\n",
    "3.   Randomized Reduced Rank Regression as described in {footcite:t}`Turri2023`\n",
    "\n",
    "by investigating the Lorenz-63 System (a.k.a. Lorenz attractor). This model is defined by a system of three coupled ordinary differential equations:\n",
    "\n",
    "$$\n",
    "  \\begin{align}\n",
    "  \\dot{x} &= \\sigma (y - x), \\\\\n",
    "  \\dot{y} &= x (\\rho - z) - y, \\\\\n",
    "  \\dot{z} &= x y - \\beta z\n",
    "  \\end{align}\n",
    "$$"
   ]
  },
  {
   "cell_type": "markdown",
   "metadata": {
    "id": "7COeR5LUUjMS"
   },
   "source": [
    "## Setup `kooplearn` + importing dependecies"
   ]
  },
  {
   "cell_type": "code",
   "execution_count": null,
   "metadata": {
    "ExecuteTime": {
     "end_time": "2024-03-18T17:36:31.618460Z",
     "start_time": "2024-03-18T17:36:28.933506Z"
    },
    "colab": {
     "base_uri": "https://localhost:8080/"
    },
    "executionInfo": {
     "elapsed": 34768,
     "status": "ok",
     "timestamp": 1709913873376,
     "user": {
      "displayName": "Giacomo Turri",
      "userId": "13549940502458923269"
     },
     "user_tz": -60
    },
    "id": "JV96AGIFa7j6",
    "outputId": "a9add159-c3ea-4ce8-ae7b-3eef2dfb5f02"
   },
   "outputs": [],
   "source": [
    "import importlib\n",
    "\n",
    "for module in ['kooplearn', 'ml_confs', 'scienceplots']:\n",
    "    try:\n",
    "        importlib.import_module(module)\n",
    "    except ImportError:\n",
    "      if module == 'kooplearn':\n",
    "        module = 'kooplearn[full]'\n",
    "      %pip install -q {module}"
   ]
  },
  {
   "cell_type": "code",
   "execution_count": null,
   "metadata": {
    "ExecuteTime": {
     "end_time": "2024-03-18T17:36:31.622595Z",
     "start_time": "2024-03-18T17:36:31.619657Z"
    },
    "executionInfo": {
     "elapsed": 2019,
     "status": "ok",
     "timestamp": 1709913875385,
     "user": {
      "displayName": "Giacomo Turri",
      "userId": "13549940502458923269"
     },
     "user_tz": -60
    },
    "id": "XaJVCB9JaxId"
   },
   "outputs": [],
   "source": [
    "# Import dependencies\n",
    "import functools\n",
    "import numpy as np\n",
    "import matplotlib.pyplot as plt\n",
    "import ml_confs\n",
    "from tqdm.notebook import tqdm\n",
    "\n",
    "plt.style.use(['science','sans','bright'])\n",
    "plt.rcParams.update({'text.usetex' : False})"
   ]
  },
  {
   "cell_type": "markdown",
   "metadata": {
    "id": "6xr9DZlzhBnS"
   },
   "source": [
    "Defining the number of training and tests and a wrapper function useful for measuring the execution time of functions"
   ]
  },
  {
   "cell_type": "code",
   "execution_count": null,
   "metadata": {
    "ExecuteTime": {
     "end_time": "2024-03-18T17:36:34.802717Z",
     "start_time": "2024-03-18T17:36:34.798125Z"
    },
    "executionInfo": {
     "elapsed": 9,
     "status": "ok",
     "timestamp": 1709913895778,
     "user": {
      "displayName": "Giacomo Turri",
      "userId": "13549940502458923269"
     },
     "user_tz": -60
    },
    "id": "3XxzzJuDaxIe"
   },
   "outputs": [],
   "source": [
    "from time import perf_counter\n",
    "\n",
    "configs = ml_confs.from_dict({\n",
    "    'train_samples': 10000,\n",
    "    'test_samples': 100,\n",
    "})\n",
    "\n",
    "# Adapted from https://realpython.com/python-timer/#creating-a-python-timer-decorator\n",
    "def timer(func):\n",
    "    @functools.wraps(func)\n",
    "    def wrapper_timer(*args, **kwargs):\n",
    "        tic = perf_counter()\n",
    "        value = func(*args, **kwargs)\n",
    "        toc = perf_counter()\n",
    "        elapsed_time = toc - tic\n",
    "        return value, elapsed_time\n",
    "\n",
    "    return wrapper_timer"
   ]
  },
  {
   "cell_type": "markdown",
   "metadata": {
    "id": "N6tDzciVaxIf"
   },
   "source": [
    "## Data Generation\n",
    "In `kooplearn`, we provide an implementation of the Lorenz-63 system in {class}`kooplearn.datasets.Lorenz63`. With this class, we generate the dataset by setting the initial condition `X0` equal to 1 for the three components, the number of time steps `T` according to the sample sizes defined above. We left the system parameters $\\sigma$, $\\rho$, and $\\beta$, at their default values, which are $10$, $28$ and $8/3$, respectively."
   ]
  },
  {
   "cell_type": "code",
   "execution_count": null,
   "metadata": {
    "ExecuteTime": {
     "end_time": "2024-03-18T17:36:36.941145Z",
     "start_time": "2024-03-18T17:36:36.734041Z"
    },
    "executionInfo": {
     "elapsed": 10491,
     "status": "ok",
     "timestamp": 1709913909776,
     "user": {
      "displayName": "Giacomo Turri",
      "userId": "13549940502458923269"
     },
     "user_tz": -60
    },
    "id": "G-7l9b44axIh"
   },
   "outputs": [],
   "source": [
    "from kooplearn.datasets import Lorenz63\n",
    "\n",
    "raw_data = Lorenz63().sample(X0 = np.ones(3), T=configs.train_samples + 1000 + configs.test_samples)\n",
    "mean = np.mean(raw_data, axis=0)\n",
    "norm = np.max(np.abs(raw_data), axis=0)\n",
    "# Data rescaling\n",
    "data = raw_data - mean\n",
    "data /= norm\n",
    "\n",
    "train_data = data[:configs.train_samples + 1]\n",
    "test_data =  data[-configs.test_samples - 1:]"
   ]
  },
  {
   "cell_type": "markdown",
   "metadata": {
    "id": "JVMInT4BlCys"
   },
   "source": [
    "Here we provide a visualization of the sampled three-dimensional trajectory. The blue and orange lines represent the training and test trajectories, respectively."
   ]
  },
  {
   "cell_type": "code",
   "execution_count": null,
   "metadata": {
    "ExecuteTime": {
     "end_time": "2024-03-18T17:36:38.435062Z",
     "start_time": "2024-03-18T17:36:38.092356Z"
    },
    "colab": {
     "base_uri": "https://localhost:8080/",
     "height": 511
    },
    "executionInfo": {
     "elapsed": 814,
     "status": "ok",
     "timestamp": 1709913910588,
     "user": {
      "displayName": "Giacomo Turri",
      "userId": "13549940502458923269"
     },
     "user_tz": -60
    },
    "id": "ACV055oFtIxL",
    "outputId": "04cbc384-48e1-4bce-eaff-83741eb9b974"
   },
   "outputs": [],
   "source": [
    "fig = plt.figure(figsize=(6,6))\n",
    "ax = fig.add_subplot(111, projection='3d')\n",
    "ax.plot(train_data[:,0], train_data[:,1], train_data[:,2], lw=.5, label='Training data')\n",
    "ax.plot(test_data[:,0], test_data[:,1], test_data[:,2], lw=2, label='Test data')\n",
    "ax.set_title(\"Lorenz System Trajectory\")\n",
    "ax.set_xlabel(\"X\")\n",
    "ax.set_ylabel(\"Y\")\n",
    "ax.set_zlabel(\"Z\")\n",
    "plt.legend()\n",
    "plt.tight_layout()\n",
    "plt.show()"
   ]
  },
  {
   "cell_type": "markdown",
   "metadata": {
    "id": "uUhLs9SOIkSZ"
   },
   "source": [
    "After having generated the trajectories, as already seen in the [getting started](getting_started) tutorial, we organize the time-series into context windows using the {meth}`kooplearn.data.traj_to_contexts` method."
   ]
  },
  {
   "cell_type": "code",
   "execution_count": null,
   "metadata": {
    "ExecuteTime": {
     "end_time": "2024-03-18T17:37:12.522061Z",
     "start_time": "2024-03-18T17:37:12.518495Z"
    },
    "executionInfo": {
     "elapsed": 1255,
     "status": "ok",
     "timestamp": 1709913918686,
     "user": {
      "displayName": "Giacomo Turri",
      "userId": "13549940502458923269"
     },
     "user_tz": -60
    },
    "id": "WdTdXX0paxIh"
   },
   "outputs": [],
   "source": [
    "from kooplearn.data import traj_to_contexts\n",
    "\n",
    "# From trajectories to context windows\n",
    "train_contexts = traj_to_contexts(train_data)\n",
    "test_contexts = traj_to_contexts(test_data)"
   ]
  },
  {
   "cell_type": "markdown",
   "metadata": {
    "id": "-PKJxMWGaxIi"
   },
   "source": [
    "## Estimators fitting\n",
    "\n",
    "Here we p we choose the RBF kernel and set its length scale using median heuristics."
   ]
  },
  {
   "cell_type": "code",
   "execution_count": null,
   "metadata": {
    "ExecuteTime": {
     "end_time": "2024-03-18T17:37:14.344887Z",
     "start_time": "2024-03-18T17:37:13.691286Z"
    },
    "executionInfo": {
     "elapsed": 4,
     "status": "ok",
     "timestamp": 1709913924430,
     "user": {
      "displayName": "Giacomo Turri",
      "userId": "13549940502458923269"
     },
     "user_tz": -60
    },
    "id": "XRKAFezTaxIi"
   },
   "outputs": [],
   "source": [
    "from kooplearn.models import Kernel, NystroemKernel\n",
    "from scipy.spatial.distance import pdist\n",
    "from sklearn.gaussian_process.kernels import RBF\n",
    "\n",
    "reduced_rank = True\n",
    "rank = 25\n",
    "num_centers = 250\n",
    "tikhonov_reg = 1e-6\n",
    "\n",
    "# Instantiang the RBF kernel and its length scale as the median of the pairwise distances of the dataset\n",
    "data_pdist = pdist(train_data)\n",
    "kernel = RBF(length_scale=np.quantile(data_pdist, 0.5))"
   ]
  },
  {
   "cell_type": "code",
   "execution_count": null,
   "metadata": {
    "ExecuteTime": {
     "end_time": "2024-03-18T17:37:15.047492Z",
     "start_time": "2024-03-18T17:37:15.043365Z"
    },
    "executionInfo": {
     "elapsed": 338,
     "status": "ok",
     "timestamp": 1709913921828,
     "user": {
      "displayName": "Giacomo Turri",
      "userId": "13549940502458923269"
     },
     "user_tz": -60
    },
    "id": "Wc_wBAYzaxIi"
   },
   "outputs": [],
   "source": [
    "def runner(models, stop):\n",
    "    results = {}\n",
    "    for name, model in models.items():\n",
    "        model, fit_time = timer(model.fit)(train_contexts[:stop])\n",
    "        # One-step prediction\n",
    "        X_pred_train = model.predict(train_contexts)\n",
    "        X_true_train = train_contexts.lookforward(model.lookback_len)\n",
    "        X_pred_test = model.predict(test_contexts)\n",
    "        X_true_test = test_contexts.lookforward(model.lookback_len)\n",
    "\n",
    "        results[name] = {\n",
    "            'fit_time': fit_time,\n",
    "            'rMSE_onestep_train': np.sqrt(np.mean((X_pred_train - X_true_train)**2)),\n",
    "            'rMSE_onestep_test': np.sqrt(np.mean((X_pred_test - X_true_test)**2)),\n",
    "            # 'X_pred': X_pred\n",
    "        }\n",
    "        print(r'Fitting of {} model took {:.2f}s and has a test rMSE of {:.5f}.'.format(name, results[name]['fit_time'], results[name]['rMSE_onestep_test']))\n",
    "    return results"
   ]
  },
  {
   "cell_type": "code",
   "execution_count": null,
   "metadata": {
    "ExecuteTime": {
     "end_time": "2024-03-18T17:39:21.290530Z",
     "start_time": "2024-03-18T17:37:17.112556Z"
    },
    "colab": {
     "base_uri": "https://localhost:8080/",
     "height": 1000,
     "referenced_widgets": [
      "ef63b4e7397c45c89ee49b312f2b83ce",
      "e7eab3d8423f4854a114048b44a3ca3e",
      "d91e35c00a8444ce9522706289ff679d",
      "0a38362633df40dea2149ddb8e83c62b",
      "97f206ef37ed4e5780e129d71aa31432",
      "02e0d3b7e7c84567b55dd24b727b427c",
      "436d1e449c88469fbac0bc379bb87d1c",
      "75136739e78348318935f43906afd228",
      "e2e617108a244e0faa5dd3a670b363a0",
      "73486ccc42064bb391b2656efe70aa66",
      "ff236c48be14449eac2c4eb21c9dcb00"
     ]
    },
    "executionInfo": {
     "elapsed": 335947,
     "status": "ok",
     "timestamp": 1709914264195,
     "user": {
      "displayName": "Giacomo Turri",
      "userId": "13549940502458923269"
     },
     "user_tz": -60
    },
    "id": "t-52nJXCaxIj",
    "outputId": "4ef1a71d-f46f-452a-e66a-1c9fc823c771"
   },
   "outputs": [],
   "source": [
    "train_stops = np.logspace(3, 4, 10).astype(int)\n",
    "\n",
    "results = []\n",
    "for stop in tqdm(train_stops, total=len(train_stops)):\n",
    "    models = {\n",
    "        'Kernel': Kernel(kernel=kernel, reduced_rank=reduced_rank, tikhonov_reg=tikhonov_reg, rank = rank, svd_solver='arnoldi'),\n",
    "        'RandSVDKernel': Kernel(kernel=kernel, reduced_rank=reduced_rank, svd_solver='randomized', tikhonov_reg=tikhonov_reg, rank = rank, rng_seed=42),\n",
    "        'Nystroem': NystroemKernel(kernel=kernel, reduced_rank=reduced_rank, svd_solver='arnoldi', tikhonov_reg=tikhonov_reg, rank = rank, num_centers=num_centers, rng_seed=42),\n",
    "    }\n",
    "    print(f'\\nTraining points: {stop}')\n",
    "    results.append(runner(models, stop))"
   ]
  },
  {
   "cell_type": "code",
   "execution_count": null,
   "metadata": {
    "ExecuteTime": {
     "end_time": "2024-03-18T17:39:21.298165Z",
     "start_time": "2024-03-18T17:39:21.292721Z"
    },
    "executionInfo": {
     "elapsed": 399,
     "status": "ok",
     "timestamp": 1709914328609,
     "user": {
      "displayName": "Giacomo Turri",
      "userId": "13549940502458923269"
     },
     "user_tz": -60
    },
    "id": "x6NxBkQZaxIj"
   },
   "outputs": [],
   "source": [
    "timings = {name: [res[name]['fit_time'] for res in results] for name in models.keys()}\n",
    "train_rMSE = {name: [res[name]['rMSE_onestep_train'] for res in results] for name in models.keys()}\n",
    "test_rMSE = {name: [res[name]['rMSE_onestep_test'] for res in results] for name in models.keys()}"
   ]
  },
  {
   "cell_type": "code",
   "execution_count": null,
   "metadata": {
    "ExecuteTime": {
     "end_time": "2024-03-18T17:40:29.010058Z",
     "start_time": "2024-03-18T17:40:28.323611Z"
    },
    "executionInfo": {
     "elapsed": 7,
     "status": "ok",
     "timestamp": 1709744128313,
     "user": {
      "displayName": "Giacomo Turri",
      "userId": "13549940502458923269"
     },
     "user_tz": -60
    },
    "id": "-_lrILtGaxIk"
   },
   "outputs": [],
   "source": [
    "fig, axes = plt.subplots(ncols=2, figsize=(10,4))\n",
    "for name in models.keys():\n",
    "    axes[0].plot(train_stops, test_rMSE[name],'.-', label=name, markersize=10)\n",
    "    axes[1].plot(train_stops, timings[name],'.-', label=name, markersize=10)\n",
    "\n",
    "axes[0].set_title('rMSE')\n",
    "axes[1].set_title('Training time (s)')\n",
    "axes[1].legend(frameon = False, loc = 'upper left')\n",
    "axes[1].set_yscale('log')\n",
    "for ax in axes:\n",
    "    ax.set_xscale('log')\n",
    "\n",
    "    ax.set_xlabel('Training points')"
   ]
  }
 ],
 "metadata": {
  "colab": {
   "provenance": []
  },
  "kernelspec": {
   "display_name": "Python 3 (ipykernel)",
   "language": "python",
   "name": "python3"
  },
  "language_info": {
   "codemirror_mode": {
    "name": "ipython",
    "version": 3
   },
   "file_extension": ".py",
   "mimetype": "text/x-python",
   "name": "python",
   "nbconvert_exporter": "python",
   "pygments_lexer": "ipython3",
   "version": "3.11.4"
  },
  "widgets": {
   "application/vnd.jupyter.widget-state+json": {
    "02e0d3b7e7c84567b55dd24b727b427c": {
     "model_module": "@jupyter-widgets/base",
     "model_module_version": "1.2.0",
     "model_name": "LayoutModel",
     "state": {
      "_model_module": "@jupyter-widgets/base",
      "_model_module_version": "1.2.0",
      "_model_name": "LayoutModel",
      "_view_count": null,
      "_view_module": "@jupyter-widgets/base",
      "_view_module_version": "1.2.0",
      "_view_name": "LayoutView",
      "align_content": null,
      "align_items": null,
      "align_self": null,
      "border": null,
      "bottom": null,
      "display": null,
      "flex": null,
      "flex_flow": null,
      "grid_area": null,
      "grid_auto_columns": null,
      "grid_auto_flow": null,
      "grid_auto_rows": null,
      "grid_column": null,
      "grid_gap": null,
      "grid_row": null,
      "grid_template_areas": null,
      "grid_template_columns": null,
      "grid_template_rows": null,
      "height": null,
      "justify_content": null,
      "justify_items": null,
      "left": null,
      "margin": null,
      "max_height": null,
      "max_width": null,
      "min_height": null,
      "min_width": null,
      "object_fit": null,
      "object_position": null,
      "order": null,
      "overflow": null,
      "overflow_x": null,
      "overflow_y": null,
      "padding": null,
      "right": null,
      "top": null,
      "visibility": null,
      "width": null
     }
    },
    "0a38362633df40dea2149ddb8e83c62b": {
     "model_module": "@jupyter-widgets/controls",
     "model_module_version": "1.5.0",
     "model_name": "HTMLModel",
     "state": {
      "_dom_classes": [],
      "_model_module": "@jupyter-widgets/controls",
      "_model_module_version": "1.5.0",
      "_model_name": "HTMLModel",
      "_view_count": null,
      "_view_module": "@jupyter-widgets/controls",
      "_view_module_version": "1.5.0",
      "_view_name": "HTMLView",
      "description": "",
      "description_tooltip": null,
      "layout": "IPY_MODEL_73486ccc42064bb391b2656efe70aa66",
      "placeholder": "​",
      "style": "IPY_MODEL_ff236c48be14449eac2c4eb21c9dcb00",
      "value": " 10/10 [05:35&lt;00:00, 73.81s/it]"
     }
    },
    "436d1e449c88469fbac0bc379bb87d1c": {
     "model_module": "@jupyter-widgets/controls",
     "model_module_version": "1.5.0",
     "model_name": "DescriptionStyleModel",
     "state": {
      "_model_module": "@jupyter-widgets/controls",
      "_model_module_version": "1.5.0",
      "_model_name": "DescriptionStyleModel",
      "_view_count": null,
      "_view_module": "@jupyter-widgets/base",
      "_view_module_version": "1.2.0",
      "_view_name": "StyleView",
      "description_width": ""
     }
    },
    "73486ccc42064bb391b2656efe70aa66": {
     "model_module": "@jupyter-widgets/base",
     "model_module_version": "1.2.0",
     "model_name": "LayoutModel",
     "state": {
      "_model_module": "@jupyter-widgets/base",
      "_model_module_version": "1.2.0",
      "_model_name": "LayoutModel",
      "_view_count": null,
      "_view_module": "@jupyter-widgets/base",
      "_view_module_version": "1.2.0",
      "_view_name": "LayoutView",
      "align_content": null,
      "align_items": null,
      "align_self": null,
      "border": null,
      "bottom": null,
      "display": null,
      "flex": null,
      "flex_flow": null,
      "grid_area": null,
      "grid_auto_columns": null,
      "grid_auto_flow": null,
      "grid_auto_rows": null,
      "grid_column": null,
      "grid_gap": null,
      "grid_row": null,
      "grid_template_areas": null,
      "grid_template_columns": null,
      "grid_template_rows": null,
      "height": null,
      "justify_content": null,
      "justify_items": null,
      "left": null,
      "margin": null,
      "max_height": null,
      "max_width": null,
      "min_height": null,
      "min_width": null,
      "object_fit": null,
      "object_position": null,
      "order": null,
      "overflow": null,
      "overflow_x": null,
      "overflow_y": null,
      "padding": null,
      "right": null,
      "top": null,
      "visibility": null,
      "width": null
     }
    },
    "75136739e78348318935f43906afd228": {
     "model_module": "@jupyter-widgets/base",
     "model_module_version": "1.2.0",
     "model_name": "LayoutModel",
     "state": {
      "_model_module": "@jupyter-widgets/base",
      "_model_module_version": "1.2.0",
      "_model_name": "LayoutModel",
      "_view_count": null,
      "_view_module": "@jupyter-widgets/base",
      "_view_module_version": "1.2.0",
      "_view_name": "LayoutView",
      "align_content": null,
      "align_items": null,
      "align_self": null,
      "border": null,
      "bottom": null,
      "display": null,
      "flex": null,
      "flex_flow": null,
      "grid_area": null,
      "grid_auto_columns": null,
      "grid_auto_flow": null,
      "grid_auto_rows": null,
      "grid_column": null,
      "grid_gap": null,
      "grid_row": null,
      "grid_template_areas": null,
      "grid_template_columns": null,
      "grid_template_rows": null,
      "height": null,
      "justify_content": null,
      "justify_items": null,
      "left": null,
      "margin": null,
      "max_height": null,
      "max_width": null,
      "min_height": null,
      "min_width": null,
      "object_fit": null,
      "object_position": null,
      "order": null,
      "overflow": null,
      "overflow_x": null,
      "overflow_y": null,
      "padding": null,
      "right": null,
      "top": null,
      "visibility": null,
      "width": null
     }
    },
    "97f206ef37ed4e5780e129d71aa31432": {
     "model_module": "@jupyter-widgets/base",
     "model_module_version": "1.2.0",
     "model_name": "LayoutModel",
     "state": {
      "_model_module": "@jupyter-widgets/base",
      "_model_module_version": "1.2.0",
      "_model_name": "LayoutModel",
      "_view_count": null,
      "_view_module": "@jupyter-widgets/base",
      "_view_module_version": "1.2.0",
      "_view_name": "LayoutView",
      "align_content": null,
      "align_items": null,
      "align_self": null,
      "border": null,
      "bottom": null,
      "display": null,
      "flex": null,
      "flex_flow": null,
      "grid_area": null,
      "grid_auto_columns": null,
      "grid_auto_flow": null,
      "grid_auto_rows": null,
      "grid_column": null,
      "grid_gap": null,
      "grid_row": null,
      "grid_template_areas": null,
      "grid_template_columns": null,
      "grid_template_rows": null,
      "height": null,
      "justify_content": null,
      "justify_items": null,
      "left": null,
      "margin": null,
      "max_height": null,
      "max_width": null,
      "min_height": null,
      "min_width": null,
      "object_fit": null,
      "object_position": null,
      "order": null,
      "overflow": null,
      "overflow_x": null,
      "overflow_y": null,
      "padding": null,
      "right": null,
      "top": null,
      "visibility": null,
      "width": null
     }
    },
    "d91e35c00a8444ce9522706289ff679d": {
     "model_module": "@jupyter-widgets/controls",
     "model_module_version": "1.5.0",
     "model_name": "FloatProgressModel",
     "state": {
      "_dom_classes": [],
      "_model_module": "@jupyter-widgets/controls",
      "_model_module_version": "1.5.0",
      "_model_name": "FloatProgressModel",
      "_view_count": null,
      "_view_module": "@jupyter-widgets/controls",
      "_view_module_version": "1.5.0",
      "_view_name": "ProgressView",
      "bar_style": "success",
      "description": "",
      "description_tooltip": null,
      "layout": "IPY_MODEL_75136739e78348318935f43906afd228",
      "max": 10,
      "min": 0,
      "orientation": "horizontal",
      "style": "IPY_MODEL_e2e617108a244e0faa5dd3a670b363a0",
      "value": 10
     }
    },
    "e2e617108a244e0faa5dd3a670b363a0": {
     "model_module": "@jupyter-widgets/controls",
     "model_module_version": "1.5.0",
     "model_name": "ProgressStyleModel",
     "state": {
      "_model_module": "@jupyter-widgets/controls",
      "_model_module_version": "1.5.0",
      "_model_name": "ProgressStyleModel",
      "_view_count": null,
      "_view_module": "@jupyter-widgets/base",
      "_view_module_version": "1.2.0",
      "_view_name": "StyleView",
      "bar_color": null,
      "description_width": ""
     }
    },
    "e7eab3d8423f4854a114048b44a3ca3e": {
     "model_module": "@jupyter-widgets/controls",
     "model_module_version": "1.5.0",
     "model_name": "HTMLModel",
     "state": {
      "_dom_classes": [],
      "_model_module": "@jupyter-widgets/controls",
      "_model_module_version": "1.5.0",
      "_model_name": "HTMLModel",
      "_view_count": null,
      "_view_module": "@jupyter-widgets/controls",
      "_view_module_version": "1.5.0",
      "_view_name": "HTMLView",
      "description": "",
      "description_tooltip": null,
      "layout": "IPY_MODEL_02e0d3b7e7c84567b55dd24b727b427c",
      "placeholder": "​",
      "style": "IPY_MODEL_436d1e449c88469fbac0bc379bb87d1c",
      "value": "100%"
     }
    },
    "ef63b4e7397c45c89ee49b312f2b83ce": {
     "model_module": "@jupyter-widgets/controls",
     "model_module_version": "1.5.0",
     "model_name": "HBoxModel",
     "state": {
      "_dom_classes": [],
      "_model_module": "@jupyter-widgets/controls",
      "_model_module_version": "1.5.0",
      "_model_name": "HBoxModel",
      "_view_count": null,
      "_view_module": "@jupyter-widgets/controls",
      "_view_module_version": "1.5.0",
      "_view_name": "HBoxView",
      "box_style": "",
      "children": [
       "IPY_MODEL_e7eab3d8423f4854a114048b44a3ca3e",
       "IPY_MODEL_d91e35c00a8444ce9522706289ff679d",
       "IPY_MODEL_0a38362633df40dea2149ddb8e83c62b"
      ],
      "layout": "IPY_MODEL_97f206ef37ed4e5780e129d71aa31432"
     }
    },
    "ff236c48be14449eac2c4eb21c9dcb00": {
     "model_module": "@jupyter-widgets/controls",
     "model_module_version": "1.5.0",
     "model_name": "DescriptionStyleModel",
     "state": {
      "_model_module": "@jupyter-widgets/controls",
      "_model_module_version": "1.5.0",
      "_model_name": "DescriptionStyleModel",
      "_view_count": null,
      "_view_module": "@jupyter-widgets/base",
      "_view_module_version": "1.2.0",
      "_view_name": "StyleView",
      "description_width": ""
     }
    }
   }
  }
 },
 "nbformat": 4,
 "nbformat_minor": 0
}
