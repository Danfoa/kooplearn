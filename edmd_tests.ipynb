{
 "cells": [
  {
   "cell_type": "code",
   "execution_count": null,
   "metadata": {},
   "outputs": [],
   "source": [
    "from scipy.stats import special_ortho_group\n",
    "import numpy as np\n",
    "from kooplearn import EDMD\n",
    "from kooplearn.data.datasets.stochastic import LinearModel\n",
    "from rich.progress import track"
   ]
  },
  {
   "cell_type": "code",
   "execution_count": null,
   "metadata": {},
   "outputs": [],
   "source": [
    "rng = np.random.default_rng(0)\n",
    "\n",
    "true_rank = 5\n",
    "dim = 20\n",
    "\n",
    "def make_linear_system(true_rank = 5, dim = 20, noise = 1e-3, rng_seed = 0):\n",
    "    eigs = 9*np.logspace(-8, -1, true_rank)\n",
    "    print(\"Eigenvalues:\")\n",
    "    for ev in eigs:\n",
    "        print(f\"{ev:.1e} \\t\", end='')\n",
    "    eigs = np.concatenate([eigs, np.zeros(dim-true_rank)])\n",
    "    Q = special_ortho_group(dim, 0).rvs(1)\n",
    "    A = np.linalg.multi_dot([Q, np.diag(eigs), Q.T])\n",
    "\n",
    "    #Consistency-check\n",
    "    assert np.allclose(np.sort(np.linalg.eigvalsh(A)), np.sort(eigs))\n",
    "    return LinearModel(A, noise, rng_seed)"
   ]
  },
  {
   "cell_type": "markdown",
   "metadata": {},
   "source": [
    "### Principal component regression:"
   ]
  },
  {
   "cell_type": "code",
   "execution_count": null,
   "metadata": {},
   "outputs": [
    {
     "name": "stdout",
     "output_type": "stream",
     "text": [
      "Eigenvalues:\n",
      "9.0e-08 \t5.1e-06 \t2.8e-04 \t1.6e-02 \t9.0e-01 \t"
     ]
    }
   ],
   "source": [
    "lin_sys = make_linear_system(true_rank, dim)"
   ]
  },
  {
   "cell_type": "code",
   "execution_count": null,
   "metadata": {},
   "outputs": [],
   "source": [
    "num_init_cond = 100\n",
    "evol_time = 100\n",
    "X0 = rng.normal(size=(num_init_cond, dim))\n",
    "lin_sys.generate(X0.T, evol_time).shape\n",
    "\n",
    "def eval_EDMD_on_lin_sys( lin_sys, evol_time = 100, num_init_cond = 100, EDMD_kwargs = {}):\n",
    "    X0 = rng.normal(size=(num_init_cond, dim))\n",
    "\n",
    "    train_trajectories = lin_sys.generate(X0.T, evol_time)\n",
    "    train_trajectories = np.transpose(train_trajectories, (2, 0, 1)) # (num_init_cond, evol_time, dim)\n",
    "    \n",
    "    estimators = []\n",
    "    fro_sq_errors = []\n",
    "\n",
    "    for traj in track(train_trajectories, description=\"Fitting EDMD\"):\n",
    "        edmd = EDMD(**EDMD_kwargs)\n",
    "        edmd.fit(traj[:-1], traj[1:])\n",
    "\n",
    "        A_estim = np.linalg.multi_dot([edmd.U, edmd.U.T, edmd.cov_XY])\n",
    "        A_true = lin_sys.A\n",
    "        fro_sq_errors.append((dim**-1.)*np.linalg.norm(A_estim - A_true, ord='fro')**2)\n",
    "        estimators.append(A_estim)\n",
    "        return estimators, fro_sq_errors\n",
    "    estimators = np.array(estimators)\n",
    "    fro_sq_errors = np.array(fro_sq_errors)\n",
    "    ensemble_estimator = np.mean(estimators, axis=0)\n",
    "    fro_sq_ensamble_error = (dim**-1.)*np.linalg.norm(lin_sys.A - ensemble_estimator, ord='fro')**2\n",
    "    fro_sq_error = np.mean(fro_sq_errors)\n",
    "    return fro_sq_error, fro_sq_ensamble_error"
   ]
  },
  {
   "cell_type": "code",
   "execution_count": 5,
   "metadata": {},
   "outputs": [
    {
     "data": {
      "application/vnd.jupyter.widget-view+json": {
       "model_id": "9952ec4ed89146ad9a70bde35eaf2cb9",
       "version_major": 2,
       "version_minor": 0
      },
      "text/plain": [
       "Output()"
      ]
     },
     "metadata": {},
     "output_type": "display_data"
    }
   ],
   "source": [
    "#PCR, Well Specified Rank, Least Squares\n",
    "EDMD_kwargs = {\n",
    "    'reduced_rank': False,\n",
    "    'rank': true_rank,\n",
    "    'tikhonov_reg': 0.,\n",
    "    'svd_solver': 'full',\n",
    "    'rng_seed': 0\n",
    "}\n",
    "fro_sq_error, fro_sq_ensamble_error = eval_EDMD_on_lin_sys(lin_sys, EDMD_kwargs=EDMD_kwargs, num_init_cond=2)"
   ]
  }
 ],
 "metadata": {
  "kernelspec": {
   "display_name": "kooplearn",
   "language": "python",
   "name": "python3"
  },
  "language_info": {
   "codemirror_mode": {
    "name": "ipython",
    "version": 3
   },
   "file_extension": ".py",
   "mimetype": "text/x-python",
   "name": "python",
   "nbconvert_exporter": "python",
   "pygments_lexer": "ipython3",
   "version": "3.11.4"
  },
  "orig_nbformat": 4
 },
 "nbformat": 4,
 "nbformat_minor": 2
}
