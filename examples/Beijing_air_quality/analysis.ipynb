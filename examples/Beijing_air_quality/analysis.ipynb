{
 "cells": [
  {
   "cell_type": "code",
   "execution_count": 1,
   "metadata": {},
   "outputs": [],
   "source": [
    "import pandas as pd\n",
    "import numpy as np\n",
    "import matplotlib.pyplot as plt\n",
    "plt.rcParams.update({\n",
    "    \"text.usetex\": False,\n",
    "    \"mathtext.fontset\": \"cm\",\n",
    "    \"font.family\": \"serif\",\n",
    "    \"font.serif\": [\"Computer Modern Roman\"]\n",
    "    #\"font.family\": \"sans-serif\",\n",
    "    #\"font.sans-serif\": [\"Computer Modern Serif\"]\n",
    "})\n",
    "import tqdm\n",
    "import sys\n",
    "sys.path.append(\"../../\")\n",
    "from DynamicalSystems.kernels import RBF, Quadratic, Linear, Matern\n",
    "from DynamicalSystems.reduced_rank_regression import KoopmanRegression\n",
    "from DynamicalSystems.utils import plot_eigs\n",
    "import seaborn as sns\n",
    "\n",
    "def print_timescale(eigenvalues, stride, timestep, units=''):\n",
    "    eps = 1e-12\n",
    "    data = []\n",
    "    for ev in eigenvalues:\n",
    "        decay_length = np.around((-np.log(np.abs(ev))**-1)*stride*timestep, decimals = 2)\n",
    "        if np.abs(np.imag(ev)) < eps:\n",
    "            #Real eigenvalue\n",
    "            freq = None\n",
    "            data.append((decay_length, freq))\n",
    "        else:\n",
    "            #Imaginary eigenvalue\n",
    "            freq = np.around(2*np.pi*(np.angle(ev)**-1)*stride*timestep, decimals=2)\n",
    "            if freq > 0:\n",
    "                data.append((decay_length, freq))\n",
    "        \n",
    "    col_width = max(len(str(_x[0]) + \" \" + units) for _x in data) + 2  # padding\n",
    "    for x in data:\n",
    "        if x[1] == None:\n",
    "            print(f\"Decay:{x[0]} {units}\")\n",
    "        else:\n",
    "            a = str(x[0]) + \" \" + units\n",
    "            print(\"Decay: \" + a.ljust(col_width) + f\"Frequency: {x[1]} {units}\")\n"
   ]
  },
  {
   "cell_type": "markdown",
   "metadata": {},
   "source": [
    "#### Standardizing dataset"
   ]
  },
  {
   "cell_type": "code",
   "execution_count": 2,
   "metadata": {},
   "outputs": [],
   "source": [
    "df_pd = pd.read_pickle(\"full_dataframe\").interpolate()\n",
    "#Get stations and measurements \n",
    "stations = set()\n",
    "measurements = set()\n",
    "for col in df_pd.columns:\n",
    "    meas, stat = col.split(\"_\")\n",
    "    measurements.add(meas)\n",
    "    stations.add(stat)\n",
    "\n",
    "standardizing_parameters = dict() # (std, mean)\n",
    "\n",
    "for m in measurements:\n",
    "    std = df_pd.filter(regex= m + \"_*\").std().mean()\n",
    "    mean = df_pd.filter(regex= m + \"_*\").mean().mean()\n",
    "    standardizing_parameters[m] = (std, mean)\n",
    "    df_pd[df_pd.filter(regex= m + \"_*\").columns] -= mean\n",
    "    df_pd[df_pd.filter(regex= m + \"_*\").columns] /= std\n",
    "df = df_pd.filter(regex= \"DEWP*\").to_numpy()\n",
    "#df = df_pd.to_numpy()"
   ]
  },
  {
   "cell_type": "markdown",
   "metadata": {},
   "source": [
    "#### Selecting timestep, kernel, desired rank & regularizer"
   ]
  },
  {
   "cell_type": "code",
   "execution_count": 3,
   "metadata": {},
   "outputs": [],
   "source": [
    "def subsample_data(df, n_timesteps, full_data=True, shift = 0):\n",
    "    \"\"\"Subsample the dataframe every timestep\n",
    "\n",
    "    Args:\n",
    "        df (np.ndarray): dataframe\n",
    "        n_timesteps (int): number of original timesteps to skip because of subsamplign\n",
    "        full_data (bool, optional): Retain full data or subsample only one of the possible n_timesteps subsequences. Defaults to True.\n",
    "    \"\"\"\n",
    "    nan_mask = np.isnan(df).any(axis=1)\n",
    "    dataset_indexes = []\n",
    "\n",
    "    if full_data:\n",
    "        for idx, val in enumerate(nan_mask[:-n_timesteps -shift]):\n",
    "            if val == False:\n",
    "                if nan_mask[idx + n_timesteps] == False:\n",
    "                    dataset_indexes.append((idx, idx+ n_timesteps))\n",
    "    else:\n",
    "        \n",
    "        for idx in range(int(df.shape[0]/n_timesteps)):\n",
    "            try:\n",
    "                _in = nan_mask[idx*n_timesteps] == False\n",
    "                _out = nan_mask[(idx + 1)*n_timesteps] == False\n",
    "                cond = _in and _out\n",
    "\n",
    "                if shift > 0:\n",
    "                    _in_shift = nan_mask[idx*n_timesteps + shift] == False\n",
    "                    _out_shift = nan_mask[(idx + 1)*n_timesteps + shift] == False\n",
    "                    cond_shift = _in_shift and _out_shift\n",
    "                else:\n",
    "                    cond_shift = True\n",
    "                if cond and cond_shift:\n",
    "                    dataset_indexes.append((idx*n_timesteps, (idx+1)*n_timesteps))\n",
    "            except:\n",
    "                pass                    \n",
    "\n",
    "    dataset_indexes = np.array(dataset_indexes)\n",
    "    if shift == 0:\n",
    "        inputs = df[dataset_indexes[:,0]]\n",
    "        evolved_inputs = df[dataset_indexes[:,1]]\n",
    "    else:\n",
    "        inputs = np.hstack([df[dataset_indexes[:,0] + i*shift] for i in range(2)])\n",
    "        evolved_inputs = np.hstack([df[dataset_indexes[:,1] + i*shift] for i in range(2)])\n",
    "    return inputs, evolved_inputs"
   ]
  },
  {
   "cell_type": "code",
   "execution_count": 4,
   "metadata": {},
   "outputs": [],
   "source": [
    "n_timesteps = 1 #In hours\n",
    "rank = 10\n",
    "regularizer = 1e-5\n",
    "l = np.float32(np.sqrt(df.shape[1]))\n",
    "X, Y = subsample_data(df, n_timesteps, full_data=False, shift=6)\n",
    "nu = 1.5\n",
    "kernel = RBF(length_scale=l)\n",
    "num_samples = 2000"
   ]
  },
  {
   "cell_type": "code",
   "execution_count": 9,
   "metadata": {},
   "outputs": [
    {
     "name": "stdout",
     "output_type": "stream",
     "text": [
      "INIT: Computing low-rank-projection\n"
     ]
    }
   ],
   "source": [
    "K = KoopmanRegression(X[:num_samples], Y[:num_samples], kernel, rank, regularizer, center_kernel=True, backend='cpu')"
   ]
  },
  {
   "cell_type": "code",
   "execution_count": 10,
   "metadata": {},
   "outputs": [
    {
     "data": {
      "text/plain": [
       "<matplotlib.lines.Line2D at 0x7feea5bff070>"
      ]
     },
     "execution_count": 10,
     "metadata": {},
     "output_type": "execute_result"
    },
    {
     "data": {
      "image/png": "[encoded data removed]",
      "text/plain": [
       "<Figure size 432x288 with 1 Axes>"
      ]
     },
     "metadata": {
      "needs_background": "light"
     },
     "output_type": "display_data"
    }
   ],
   "source": [
    "dim = K.X.shape[0]\n",
    "padding = 50\n",
    "e_X = (np.linalg.eigvalsh(K.K_X)*(dim**-1))[::-1][:rank + padding]\n",
    "e_Y = (np.linalg.eigvalsh(K.K_Y)*(dim**-1))[::-1][:rank + padding]\n",
    "e_YX = (np.linalg.eigvalsh(K.K_YX)*(dim**-1))[::-1][:rank + padding]\n",
    "plt.plot(np.log(e_X), 'k.-')\n",
    "plt.plot(np.log(e_Y), 'r.-')\n",
    "plt.plot(np.log(e_YX), 'g.-')\n",
    "plt.axhline(y=np.log(regularizer))"
   ]
  },
  {
   "cell_type": "code",
   "execution_count": 11,
   "metadata": {},
   "outputs": [],
   "source": [
    "eigs, lv, rv = K.eig()"
   ]
  },
  {
   "cell_type": "code",
   "execution_count": 12,
   "metadata": {},
   "outputs": [
    {
     "name": "stdout",
     "output_type": "stream",
     "text": [
      "Decay: 5.16 Hours   Frequency: 61.46 Hours\n",
      "Decay:4.89 Hours\n",
      "Decay:6.26 Hours\n",
      "Decay: 11.51 Hours  Frequency: 94.72 Hours\n",
      "Decay: 22.55 Hours  Frequency: 142.51 Hours\n",
      "Decay:76.63 Hours\n",
      "Decay:31.52 Hours\n"
     ]
    },
    {
     "data": {
      "image/png": "[encoded data removed]",
      "text/plain": [
       "<Figure size 576x576 with 1 Axes>"
      ]
     },
     "metadata": {
      "needs_background": "light"
     },
     "output_type": "display_data"
    },
    {
     "data": {
      "text/plain": [
       "<AxesSubplot:xlabel='Real part', ylabel='Imaginary part'>"
      ]
     },
     "execution_count": 12,
     "metadata": {},
     "output_type": "execute_result"
    }
   ],
   "source": [
    "print_timescale(eigs, n_timesteps, 1, 'Hours')\n",
    "plot_eigs(eigs)"
   ]
  },
  {
   "cell_type": "code",
   "execution_count": null,
   "metadata": {},
   "outputs": [],
   "source": [
    "import seaborn as sns\n",
    "ax = sns.displot(df_pd.filter(regex=\"PM2.5_*\"), kind='kde', fill=True)"
   ]
  },
  {
   "cell_type": "markdown",
   "metadata": {},
   "source": [
    "#### Sine wave"
   ]
  },
  {
   "cell_type": "code",
   "execution_count": null,
   "metadata": {},
   "outputs": [],
   "source": [
    "x = np.arange(0,10,0.01)\n",
    "f = 2\n",
    "y = np.sin(f*x)[:, np.newaxis]\n",
    "_y = np.sin(f*x)\n",
    "shift = 50\n",
    "y_shift = np.empty((x.shape[0] -shift,2), dtype = x.dtype)\n",
    "y_shift[:,0] = _y[:-shift]\n",
    "y_shift[:,1] = _y[shift:]\n",
    "kernel_RBF = RBF(length_scale=1)\n",
    "kernel_linear = Linear(coef0=0.)\n",
    "regularizer = 1e-6"
   ]
  },
  {
   "cell_type": "code",
   "execution_count": null,
   "metadata": {},
   "outputs": [],
   "source": [
    "K = kernel_RBF.to_numpy(y[:-1])\n",
    "K_shift = kernel_RBF.to_numpy(y_shift[:-1])"
   ]
  },
  {
   "cell_type": "code",
   "execution_count": null,
   "metadata": {},
   "outputs": [],
   "source": [
    "fig, ax = plt.subplots(ncols = 2, figsize=(7,3))\n",
    "ax[0].matshow(K, cmap='Greys')\n",
    "ax[1].matshow(K_shift, cmap='Greys')\n",
    "ax[0].set_title(\"Normal\")\n",
    "ax[1].set_title(\"Shifted\")"
   ]
  },
  {
   "cell_type": "code",
   "execution_count": null,
   "metadata": {},
   "outputs": [],
   "source": [
    "evals, evecs = reduced_rank_regression(y_shift[:-1], y_shift[1:], kernel_RBF, 8, regularizer)"
   ]
  },
  {
   "cell_type": "code",
   "execution_count": null,
   "metadata": {},
   "outputs": [],
   "source": [
    "plot_eigs(evals)\n",
    "print(np.imag(implied_timescale(evals,1,0.01)))"
   ]
  },
  {
   "cell_type": "code",
   "execution_count": null,
   "metadata": {},
   "outputs": [],
   "source": [
    "implied_timescale(evals,1,0.01)"
   ]
  },
  {
   "cell_type": "code",
   "execution_count": null,
   "metadata": {},
   "outputs": [],
   "source": [
    "K = kernel_RBF.to_numpy(y)\n",
    "K_L = kernel_linear.to_numpy(y)"
   ]
  },
  {
   "cell_type": "code",
   "execution_count": null,
   "metadata": {},
   "outputs": [],
   "source": [
    "plt.matshow(K)\n",
    "plt.colorbar()"
   ]
  },
  {
   "cell_type": "code",
   "execution_count": null,
   "metadata": {},
   "outputs": [],
   "source": []
  }
 ],
 "metadata": {
  "interpreter": {
   "hash": "237a184721ccde86ff8290b36768bdbffa305b80665e86389e41b56c4800747d"
  },
  "kernelspec": {
   "display_name": "Python 3",
   "language": "python",
   "name": "python3"
  },
  "language_info": {
   "codemirror_mode": {
    "name": "ipython",
    "version": 3
   },
   "file_extension": ".py",
   "mimetype": "text/x-python",
   "name": "python",
   "nbconvert_exporter": "python",
   "pygments_lexer": "ipython3",
   "version": "3.9.7"
  }
 },
 "nbformat": 4,
 "nbformat_minor": 2
}
