{
 "cells": [
  {
   "cell_type": "code",
   "execution_count": 1,
   "metadata": {},
   "outputs": [],
   "source": [
    "import numpy as np\n",
    "import matplotlib.pyplot as plt\n",
    "plt.rcParams.update({\n",
    "    \"text.usetex\": True,\n",
    "    \"mathtext.fontset\": \"cm\",\n",
    "    \"font.family\": \"serif\",\n",
    "    \"font.serif\": [\"Computer Modern Roman\"]\n",
    "})\n",
    "import tqdm\n",
    "import sys\n",
    "sys.path.append(\"../../\")\n",
    "from DynamicalSystems.koopman_regression import KernelRidgeRegression, PrincipalComponentRegression, ReducedRankRegression\n",
    "from DynamicalSystems.kernels import Matern\n",
    "from experiments.common_utils import *\n",
    "from sklearn.model_selection import TimeSeriesSplit"
   ]
  },
  {
   "cell_type": "markdown",
   "metadata": {},
   "source": [
    "#### Standardizing dataset"
   ]
  },
  {
   "cell_type": "code",
   "execution_count": 2,
   "metadata": {},
   "outputs": [],
   "source": [
    "#Run python get_dataset.py to download the dataset\n",
    "df_path = 'data/full_dataframe'\n",
    "df_pd = pd.read_pickle(df_path).interpolate().dropna()\n",
    "#Remove rain measurements\n",
    "RAIN_cols = df_pd.filter(regex=\"RAIN_*\").columns\n",
    "df_pd.drop(RAIN_cols, axis=1, inplace=True)\n",
    "#Convert wind direction to angle\n",
    "wd_subdf = df_pd.filter(regex=\"wd_*\")\n",
    "wd_cols = wd_subdf.columns\n",
    "wd_sin = np.sin(wd_subdf).add_prefix(\"sin\")\n",
    "wd_cos = np.cos(wd_subdf).add_prefix(\"cos\")\n",
    "df_pd.drop(wd_cols, axis=1, inplace=True)\n",
    "df_pd = pd.concat((df_pd, wd_sin, wd_cos), axis=1)\n",
    "#Split by season of the year\n",
    "months_split = df_pd.groupby(pd.Grouper(freq='M'))\n",
    "seasonal_dfs = {\n",
    "    'spring': [],\n",
    "    'summer': [],\n",
    "    'autumn': [],\n",
    "    'winter': []\n",
    "}\n",
    "\n",
    "for n, g in months_split:\n",
    "    if n.month in [3, 4, 5]:\n",
    "        seasonal_dfs['spring'].append(g)\n",
    "    elif n.month in [6, 7, 8]:\n",
    "        seasonal_dfs['summer'].append(g)\n",
    "    elif n.month in [9, 10, 11]:\n",
    "        seasonal_dfs['autumn'].append(g)\n",
    "    else:\n",
    "        seasonal_dfs['winter'].append(g)"
   ]
  },
  {
   "cell_type": "code",
   "execution_count": 3,
   "metadata": {},
   "outputs": [],
   "source": [
    "season = 'winter'\n",
    "df, standardizing_parameters = split_by_measurement_and_normalize(pd.concat(seasonal_dfs[season]))"
   ]
  },
  {
   "cell_type": "markdown",
   "metadata": {},
   "source": [
    "#### Selecting timestep, kernel, desired rank & regularizer"
   ]
  },
  {
   "cell_type": "code",
   "execution_count": 4,
   "metadata": {},
   "outputs": [],
   "source": [
    "n_timesteps = 1 #In hours\n",
    "history = 4 #In units of n_timesteps\n",
    "average = False\n",
    "X, Y, features_names = prepare_training_dataset(df, n_timesteps = n_timesteps, history = history, average = average, shift = 16)\n",
    "num_samples = 7000\n",
    "rank = 10\n",
    "length_scale = np.float32(np.sqrt(X.shape[1]))\n",
    "kernel = Matern(nu = 0.5, length_scale=length_scale)"
   ]
  },
  {
   "cell_type": "markdown",
   "metadata": {},
   "source": [
    "### Cross Validation"
   ]
  },
  {
   "cell_type": "code",
   "execution_count": 17,
   "metadata": {},
   "outputs": [],
   "source": [
    "tsCV = TimeSeriesSplit(n_splits=5, max_train_size=num_samples)\n",
    "tikhonov_regs = np.geomspace(1e-7, 1e-1, 20)\n",
    "estimators = [ReducedRankRegression]\n",
    "backend = 'keops'"
   ]
  },
  {
   "cell_type": "code",
   "execution_count": 18,
   "metadata": {},
   "outputs": [
    {
     "name": "stderr",
     "output_type": "stream",
     "text": [
      "ReducedRankRegression:   0%|          | 0/20 [00:00<?, ?it/s]"
     ]
    }
   ],
   "source": [
    "iterator = tikhonov_regs\n",
    "error = np.zeros((len(iterator), len(estimators), 2))\n",
    "for est_idx, estimator in enumerate(estimators):\n",
    "    for iter_idx, iterate in tqdm.tqdm(enumerate(iterator), desc = estimator.__name__, total=len(iterator)):      \n",
    "        _err = []\n",
    "        for train_index, test_index in tsCV.split(X):\n",
    "            X_train, Y_train = X[train_index], Y[train_index]\n",
    "            X_test, Y_test = X[test_index], Y[test_index]\n",
    "            if estimator == KernelRidgeRegression:\n",
    "                model = estimator(kernel, tikhonov_reg = iterate)\n",
    "            else:\n",
    "                model = estimator(kernel, rank = rank, tikhonov_reg = iterate)\n",
    "            model.fit(X_train, Y_train, backend = backend)\n",
    "            _err.append(model.risk(X_test, Y_test))\n",
    "        _err = np.array(_err)\n",
    "        error[iter_idx, est_idx, 0] = np.mean(_err)\n",
    "        error[iter_idx, est_idx, 1] = np.std(_err)"
   ]
  },
  {
   "cell_type": "code",
   "execution_count": 33,
   "metadata": {},
   "outputs": [
    {
     "data": {
      "image/png": "[encoded data removed]",
      "text/plain": [
       "<Figure size 432x288 with 1 Axes>"
      ]
     },
     "metadata": {
      "needs_background": "light"
     },
     "output_type": "display_data"
    }
   ],
   "source": [
    "fig, ax = plt.subplots()\n",
    "for idx, estimator in enumerate(estimators):       \n",
    "    mean = error[:, idx, 0]\n",
    "    std = error[:, idx, 1]\n",
    "    ax.fill_between(iterator, mean - std, mean + std, alpha = 0.1)\n",
    "    ax.plot(iterator, mean, '-', label = estimator.__name__)\n",
    "    ax.margins(0)\n",
    "    ax.legend(frameon=False)\n",
    "ax.set_xlabel(r\"Regularization strength $\\gamma$\")\n",
    "ax.set_ylabel(\"Test error\") \n",
    "ax.set_xscale('log')\n",
    "ax.set_yscale('log')"
   ]
  },
  {
   "cell_type": "markdown",
   "metadata": {},
   "source": [
    "### Forecasting"
   ]
  },
  {
   "cell_type": "code",
   "execution_count": 6,
   "metadata": {},
   "outputs": [
    {
     "name": "stdout",
     "output_type": "stream",
     "text": [
      "Fitting PrincipalComponentRegression\n",
      "Evaluating modes of PrincipalComponentRegression\n",
      "Fitting ReducedRankRegression\n",
      "Evaluating modes of ReducedRankRegression\n"
     ]
    }
   ],
   "source": [
    "X_train, Y_train = X[:num_samples], Y[:num_samples]\n",
    "tikhonov_reg = 1e-4 # From CV\n",
    "estimators = [PrincipalComponentRegression, ReducedRankRegression]\n",
    "backend = 'keops'\n",
    "\n",
    "time_offset = 25\n",
    "idx_0 = num_samples - time_offset\n",
    "n_steps = 100\n",
    "ground_truth = Y[idx_0:(idx_0 + n_steps + 1)]\n",
    "\n",
    "forecasts = []\n",
    "times = np.arange(1, 10)\n",
    "fitted_models = []\n",
    "for estimator in estimators:\n",
    "    print(\"Fitting \" + estimator.__name__)\n",
    "    if estimator == PrincipalComponentRegression:\n",
    "        model = estimator(kernel, rank = rank)\n",
    "    else:\n",
    "        model = estimator(kernel, rank = rank, tikhonov_reg = tikhonov_reg)\n",
    "    model.fit(X_train, Y_train, backend = backend)\n",
    "    print(f\"Evaluating modes of {estimator.__name__}\")\n",
    "    model.modes()\n",
    "    fitted_models.append(model)\n",
    "    forecasts.append(model.forecast(ground_truth[:-1], times))\n",
    "ground_truth = ground_truth[1:]"
   ]
  },
  {
   "cell_type": "code",
   "execution_count": 7,
   "metadata": {},
   "outputs": [
    {
     "name": "stdout",
     "output_type": "stream",
     "text": [
      "PrincipalComponentRegression:\n",
      " Train: 0.5809\n",
      " Test: 0.5923\n",
      "ReducedRankRegression:\n",
      " Train: 0.5780\n",
      " Test: 0.5899\n"
     ]
    }
   ],
   "source": [
    "for model in fitted_models:\n",
    "    name = type(model).__name__\n",
    "    print(f\"{name}:\")\n",
    "    print(\" Train: {:.4f}\".format(model.risk()))\n",
    "    print(\" Test: {:.4f}\".format(model.risk(X[num_samples:], Y[num_samples:])))"
   ]
  },
  {
   "cell_type": "code",
   "execution_count": 8,
   "metadata": {},
   "outputs": [
    {
     "name": "stdout",
     "output_type": "stream",
     "text": [
      "Available measuements:\n",
      " 1. DEWP\n",
      " 2. WSPM\n",
      " 3. TEMP\n",
      " 4. PM10\n",
      " 5. PM2.5\n",
      " 6. coswd\n",
      " 7. sinwd\n",
      " 8. O3\n",
      " 9. SO2\n",
      " 10. CO\n",
      " 11. NO2\n",
      " 12. PRES\n"
     ]
    }
   ],
   "source": [
    "def plot_forecast(ax, t, x, estimator_name, color, style = '-', alpha = 1):\n",
    "    parsed_data, _ = get_measurement(x, measurement, features_names, history, standardizing_parameters)\n",
    "    for j in range(parsed_data.shape[1]):\n",
    "        ax.plot(t, parsed_data[:,j], '.',color=color, alpha = alpha*0.01, lw=0.5)\n",
    "    ax.plot(t, parsed_data.mean(axis=1), style,color=color, alpha = alpha, label=estimator_name + ' ' + measurement)\n",
    "print(\"Available measuements:\")\n",
    "for m_idx, m in enumerate(list(standardizing_parameters.keys())):\n",
    "    print(f\" {m_idx + 1}. {m}\")"
   ]
  },
  {
   "cell_type": "code",
   "execution_count": 9,
   "metadata": {},
   "outputs": [],
   "source": [
    "measurement = 'PM2.5'\n",
    "cycle = plt.rcParams['axes.prop_cycle'].by_key()['color']\n",
    "hours = np.linspace(0, n_steps*n_timesteps, n_steps) - n_timesteps*time_offset"
   ]
  },
  {
   "cell_type": "markdown",
   "metadata": {},
   "source": [
    "#### 1-step forward forecast Plot"
   ]
  },
  {
   "cell_type": "code",
   "execution_count": 10,
   "metadata": {},
   "outputs": [
    {
     "data": {
      "text/plain": [
       "<matplotlib.legend.Legend at 0x7fa9ec9c5c70>"
      ]
     },
     "execution_count": 10,
     "metadata": {},
     "output_type": "execute_result"
    },
    {
     "data": {
      "image/png": "[encoded data removed]",
      "text/plain": [
       "<Figure size 432x288 with 1 Axes>"
      ]
     },
     "metadata": {
      "needs_background": "light"
     },
     "output_type": "display_data"
    }
   ],
   "source": [
    "fig, ax = plt.subplots()\n",
    "shift_idx = 0\n",
    "for i in range(len(forecasts)):\n",
    "    plot_forecast(ax, hours + shift_idx, forecasts[i][shift_idx], estimators[i].__name__, cycle[i], alpha = 1, style = '-')\n",
    "plot_forecast(ax, hours, ground_truth, 'Ground truth', 'k', style='--', alpha = 0.5)\n",
    "\n",
    "ax.axvline(x=0, color='k', linestyle='--', lw=1, alpha = 0.5)\n",
    "ax.set_ylabel(measurement)\n",
    "ax.set_xlabel('Hours')\n",
    "ax.set_xlim(hours[0], hours[-1])\n",
    "ax.margins(0)\n",
    "ax.legend(frameon=False)"
   ]
  },
  {
   "cell_type": "markdown",
   "metadata": {},
   "source": [
    "### Mode decomposition"
   ]
  },
  {
   "cell_type": "code",
   "execution_count": 11,
   "metadata": {},
   "outputs": [
    {
     "name": "stdout",
     "output_type": "stream",
     "text": [
      "Gucheng\n"
     ]
    }
   ],
   "source": [
    "estimator_idx = 1\n",
    "modes = fitted_models[estimator_idx]._modes\n",
    "evals = fitted_models[estimator_idx]._evals\n",
    "revecs = fitted_models[estimator_idx]._revecs\n",
    "obs_1 = \"PM2.5\"\n",
    "obs_2 = \"WSPM\"\n",
    "\n",
    "modes_1, fnames_1 = get_measurement(modes, obs_1, features_names, history, None)\n",
    "modes_2, fnames_2 = get_measurement(modes, obs_2, features_names, history, None)\n",
    "\n",
    "#Shunyi -2\n",
    "station_idx = 5\n",
    "station_name = fnames_1[station_idx].split(\"_\")[1]\n",
    "print(station_name)\n",
    "modes_1_avg = modes_1[:,station_idx]\n",
    "modes_2_avg = modes_2[:,station_idx]\n",
    "c_1 = 'tomato'\n",
    "c_2 = 'olivedrab'"
   ]
  },
  {
   "cell_type": "code",
   "execution_count": 12,
   "metadata": {},
   "outputs": [
    {
     "name": "stdout",
     "output_type": "stream",
     "text": [
      "Decay:63.12 Days\n",
      "Decay:2.74 Days\n",
      "Decay: 2.22 Days       Frequency: 28.44 Days\n",
      "Decay: 1.52 Days       Frequency: 13.59 Days\n",
      "Decay: 0.92 Days       Frequency: 6.59 Days\n",
      "Decay: 0.71 Days       Frequency: 1.95 Days\n"
     ]
    }
   ],
   "source": [
    "print_timescale(evals, 24**-1, n_timesteps, 'Days')"
   ]
  },
  {
   "cell_type": "code",
   "execution_count": 13,
   "metadata": {},
   "outputs": [
    {
     "data": {
      "text/plain": [
       "Text(0.5, 0, 'Mode index')"
      ]
     },
     "execution_count": 13,
     "metadata": {},
     "output_type": "execute_result"
    },
    {
     "data": {
      "image/png": "[encoded data removed]",
      "text/plain": [
       "<Figure size 432x288 with 1 Axes>"
      ]
     },
     "metadata": {
      "needs_background": "light"
     },
     "output_type": "display_data"
    }
   ],
   "source": [
    "#plt.plot(np.abs(modes_1),c_1+'o', alpha=0.06);\n",
    "#plt.plot(np.abs(modes_2),c_2+'o', alpha=0.06);\n",
    "plt.plot(np.abs(modes_1_avg),'.', color = c_1, label=obs_1);\n",
    "plt.plot(np.abs(modes_2_avg),'.', color= c_2, label=obs_2);\n",
    "plt.legend(frameon=False)\n",
    "plt.ylabel(\"Mode amplitude\")\n",
    "plt.xlabel(\"Mode index\")"
   ]
  },
  {
   "cell_type": "code",
   "execution_count": 14,
   "metadata": {},
   "outputs": [],
   "source": [
    "def causality_rel(idx, eigs, revecs, modes_1_avg, modes_2_avg, obs_1, obs_2, stride, n_timesteps, units, print_phi=True):\n",
    "    if np.abs(np.angle(eigs[idx])) < 1e-15:\n",
    "        if print_phi:\n",
    "            print(\"Eigenvalue is real, dynamical mode is not oscillating\")\n",
    "        dphi = 0\n",
    "    else:\n",
    "        modes_1_avg = np.squeeze(modes_1_avg)\n",
    "        modes_2_avg = np.squeeze(modes_2_avg)\n",
    "        dphi = np.mean((np.angle((modes_1_avg*revecs*eigs)/(modes_2_avg*revecs*eigs))[:, idx]))*np.sign(np.angle(eigs[idx])) # dphi = phi_1 - phi_2 (phi_2 is the reference)\n",
    "        if print_phi:\n",
    "            if np.abs(dphi) < 1e-12:\n",
    "                print(f\"{obs_1} and {obs_2} are in phase\")\n",
    "            elif np.abs(np.abs(dphi) - np.pi) < 1e-12:\n",
    "                print(f\"{obs_1} and {obs_2} are in anti-phase\")\n",
    "            elif dphi > 0: # obs_1 is ahead of obs_2\n",
    "                dt = np.around(stride*n_timesteps*dphi, decimals=2)\n",
    "                print(f\"{obs_1} comes first than {obs_2} by {dt} {units}\")\n",
    "            else: # obs_2 is ahead of obs_1\n",
    "                dt = np.around(stride*n_timesteps*dphi, decimals=2)\n",
    "                print(f\"{obs_2} comes first than {obs_1} by {-dt} {units}\")\n",
    "    return dphi"
   ]
  },
  {
   "cell_type": "code",
   "execution_count": 15,
   "metadata": {},
   "outputs": [
    {
     "name": "stdout",
     "output_type": "stream",
     "text": [
      "Guanyuan &  - &  - & 2.85 hrs. & 2.7 hrs. & 1.58 hrs. & 2.37 hrs. \\\\\n",
      "Aotizhongxin &  - &  - & 2.81 hrs. & 2.69 hrs. & 1.5 hrs. & 2.36 hrs. \\\\\n",
      "Wanshouxigong &  - &  - & 2.85 hrs. & 2.4 hrs. & 1.67 hrs. & 2.36 hrs. \\\\\n",
      "Tiantan &  - &  - & 2.98 hrs. & 2.74 hrs. & 1.63 hrs. & 2.32 hrs. \\\\\n",
      "Nongzhanguan &  - &  - & 3.0 hrs. & 2.76 hrs. & 1.56 hrs. & 2.44 hrs. \\\\\n",
      "Gucheng &  - &  - & 2.73 hrs. & 2.35 hrs. & 2.2 hrs. & 2.27 hrs. \\\\\n",
      "Wanliu &  - &  - & 3.07 hrs. & 3.14 hrs. & 1.59 hrs. & 2.31 hrs. \\\\\n",
      "Changping &  - &  - & 3.01 hrs. & 2.38 hrs. & 1.58 hrs. & 2.08 hrs. \\\\\n",
      "Dingling &  - &  - & 2.98 hrs. & 2.38 hrs. & 1.38 hrs. & 1.99 hrs. \\\\\n",
      "Huairou &  - &  - & 2.6 hrs. & 2.27 hrs. & 0.41 hrs. & 1.99 hrs. \\\\\n",
      "Shunyi &  - &  - & 2.88 hrs. & 2.63 hrs. & 1.22 hrs. & 2.01 hrs. \\\\\n",
      "Dongsi &  - &  - & 2.94 hrs. & 2.72 hrs. & 1.58 hrs. & 2.42 hrs. \\\\\n"
     ]
    }
   ],
   "source": [
    "for station_idx in range(len(fnames_1)):\n",
    "    station_name = fnames_1[station_idx].split(\"_\")[1]\n",
    "    modes_1_avg = modes_1[:,station_idx]\n",
    "    modes_2_avg = modes_2[:,station_idx]\n",
    "    phase_diffs = []\n",
    "    for idx in range(rank):\n",
    "        dphi = causality_rel(idx, evals, revecs, modes_1_avg, modes_2_avg, obs_1, obs_2, 1, n_timesteps, 'Hours', print_phi=False)\n",
    "        #print_timescale([evals[idx]], 1, n_timesteps, 'Hours') \n",
    "        if idx in [2,4,6]:\n",
    "            phase_diffs.append(str(np.around(n_timesteps*dphi, decimals=2)) + \" hrs. &\")\n",
    "        if idx in [0, 1]:\n",
    "            phase_diffs.append(\" - &\")\n",
    "        if idx in [8]:\n",
    "            phase_diffs.append(str(np.around(n_timesteps*dphi, decimals=2)) + \" hrs. \\\\\\\\\")\n",
    "    string = station_name + \" & \" + \" \".join(phase_diffs)\n",
    "    print(string)"
   ]
  },
  {
   "cell_type": "code",
   "execution_count": 16,
   "metadata": {},
   "outputs": [
    {
     "data": {
      "image/png": "[encoded data removed]",
      "text/plain": [
       "<Figure size 432x288 with 1 Axes>"
      ]
     },
     "metadata": {
      "needs_background": "light"
     },
     "output_type": "display_data"
    }
   ],
   "source": [
    "data_1, feat_1 = get_measurement(Y_train, obs_1, features_names, history, standardizing_parameters)\n",
    "data_2, feat_2 = get_measurement(Y_train, obs_2, features_names, history, standardizing_parameters)\n",
    "\n",
    "start = 3520\n",
    "delta = 60\n",
    "\n",
    "plt.plot(data_2[start:start + delta][:,station_idx]*20, c_2, label=obs_2);\n",
    "plt.plot(data_1[start:start + delta][:,station_idx], c_1, label=obs_1);\n",
    "\n",
    "peaks_idxs = [\n",
    "    [11, 14],\n",
    "    [38,39],\n",
    "    [47,50]\n",
    "]\n",
    "for peak_low, peak_high in peaks_idxs:\n",
    "    plt.axvline(x=peak_low, color='gold', lw=0.75, alpha=0.75)\n",
    "    plt.axvline(x=peak_high, color='gold', lw=0.75, alpha=0.75)\n",
    "    plt.axvspan(peak_low, peak_high, alpha=0.2, color='gold')\n",
    "    plt.text(peak_low - 2, 58, fr\"$\\Delta t = {-peak_low + peak_high}$ hrs.\", fontsize=11, rotation = 90)\n",
    "plt.legend(frameon=False)\n",
    "plt.xlim(0, delta)\n",
    "plt.xlabel(\"Hours\")\n",
    "frame1 = plt.gca()\n",
    "frame1.axes.yaxis.set_ticklabels([])\n",
    "plt.ylabel(\"Arbitrary units\")\n",
    "plt.savefig(\"figs/example_mode_delay.pdf\", bbox_inches='tight')"
   ]
  }
 ],
 "metadata": {
  "kernelspec": {
   "display_name": "Python 3.9.7 ('base')",
   "language": "python",
   "name": "python3"
  },
  "language_info": {
   "codemirror_mode": {
    "name": "ipython",
    "version": 3
   },
   "file_extension": ".py",
   "mimetype": "text/x-python",
   "name": "python",
   "nbconvert_exporter": "python",
   "pygments_lexer": "ipython3",
   "version": "3.9.7"
  },
  "vscode": {
   "interpreter": {
    "hash": "237a184721ccde86ff8290b36768bdbffa305b80665e86389e41b56c4800747d"
   }
  }
 },
 "nbformat": 4,
 "nbformat_minor": 2
}
