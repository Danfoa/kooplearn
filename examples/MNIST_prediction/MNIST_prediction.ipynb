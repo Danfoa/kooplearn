{
 "cells": [
  {
   "cell_type": "code",
   "execution_count": 1,
   "metadata": {},
   "outputs": [
    {
     "name": "stderr",
     "output_type": "stream",
     "text": [
      "/usr/local/lib/python3.9/site-packages/tqdm/auto.py:22: TqdmWarning: IProgress not found. Please update jupyter and ipywidgets. See https://ipywidgets.readthedocs.io/en/stable/user_install.html\n",
      "  from .autonotebook import tqdm as notebook_tqdm\n"
     ]
    },
    {
     "name": "stdout",
     "output_type": "stream",
     "text": [
      "[KeOps] Warning : Cuda libraries were not detected on the system ; using cpu only mode\n"
     ]
    }
   ],
   "source": [
    "#Misc\n",
    "import signal\n",
    "import sys\n",
    "sys.path.append(\"../../\")\n",
    "from utils import *\n",
    "import utils\n",
    "#Torch\n",
    "import torch\n",
    "from torch.utils.data import DataLoader, TensorDataset\n",
    "device = torch.device('cuda' if torch.cuda.is_available() else 'cpu')\n",
    "from torch.autograd import Variable\n",
    "#Numpy-Matplotlib-tqdm-sklearn\n",
    "import numpy as np\n",
    "import matplotlib.pyplot as plt\n",
    "from tqdm import tqdm\n",
    "from sklearn.model_selection import TimeSeriesSplit, ParameterGrid\n",
    "#DynamicalSystems\n",
    "from kooplearn.kernels import Linear, RBF\n",
    "from kooplearn.estimators import KernelRidgeRegression, ReducedRankRegression"
   ]
  },
  {
   "cell_type": "code",
   "execution_count": 2,
   "metadata": {},
   "outputs": [],
   "source": [
    "num_classes = 10\n",
    "perm_data = build_sequential_data(num_classes=num_classes)"
   ]
  },
  {
   "cell_type": "code",
   "execution_count": 3,
   "metadata": {},
   "outputs": [],
   "source": [
    "num_train_samples = 1000\n",
    "torch_dataset = torch.from_numpy(data[perm_data])\n",
    "dataset = data[perm_data]\n",
    "X = dataset[:-1].reshape(-1, 28 * 28)\n",
    "Y = dataset[1:].reshape(-1, 28*28)\n",
    "CV = False"
   ]
  },
  {
   "cell_type": "markdown",
   "metadata": {},
   "source": [
    "#### Optimizing Linear Hyperparameters"
   ]
  },
  {
   "cell_type": "code",
   "execution_count": 4,
   "metadata": {},
   "outputs": [],
   "source": [
    "tsCV = TimeSeriesSplit(n_splits=2, max_train_size=num_train_samples)\n",
    "d = X.shape[1]\n",
    "tikhonov_regs = np.geomspace(1e0, 1e2, 20)\n",
    "tikhonov_reg_linear = 48.3293 #CV\n",
    "gamma_linear = d**-1 #CV\n",
    "gammas = np.geomspace((d**-1)*1e-3, d**-1*(1e1), 20)\n",
    "params = list(\n",
    "    ParameterGrid(\n",
    "        { \n",
    "            'tikhonov_reg': tikhonov_regs, \n",
    "            #'gamma': gammas,\n",
    "        }\n",
    "    )\n",
    ")\n",
    "backend = 'cpu'"
   ]
  },
  {
   "cell_type": "code",
   "execution_count": 5,
   "metadata": {},
   "outputs": [],
   "source": [
    "if CV:\n",
    "    error = np.empty((len(params), 2))\n",
    "    for iter_idx, iterate in tqdm(enumerate(params), total=len(params)):      \n",
    "        _err = []\n",
    "        for train_index, test_index in tsCV.split(X):\n",
    "            X_train, Y_train = X[train_index], Y[train_index]\n",
    "            X_test, Y_test = X[test_index], Y[test_index]\n",
    "            kernel = Linear(gamma=gamma_linear)\n",
    "            model = KernelRidgeRegression(kernel, tikhonov_reg = tikhonov_reg_linear)\n",
    "                \n",
    "            model.fit(X_train, Y_train, backend = backend)\n",
    "            _err.append(model.risk(X_test, Y_test))\n",
    "        _err = np.array(_err)\n",
    "        error[iter_idx, 0] = np.mean(_err)\n",
    "        error[iter_idx, 1] = np.std(_err)"
   ]
  },
  {
   "cell_type": "code",
   "execution_count": 6,
   "metadata": {},
   "outputs": [],
   "source": [
    "if CV:\n",
    "    fig, ax = plt.subplots()     \n",
    "    mean = error[:,0]\n",
    "    std = error[:,1]\n",
    "    ax.fill_between(coef0, mean - std, mean + std, alpha = 0.5)\n",
    "    ax.plot(coef0, mean, '.-')\n",
    "    ax.margins(0)\n",
    "    ax.set_ylabel(\"Test error\")\n",
    "    ax.set_xscale('log')\n",
    "    ax.set_yscale('log')"
   ]
  },
  {
   "cell_type": "markdown",
   "metadata": {},
   "source": [
    "#### Optimizing RBF's hyperparameters"
   ]
  },
  {
   "cell_type": "code",
   "execution_count": 7,
   "metadata": {},
   "outputs": [],
   "source": [
    "tsCV = TimeSeriesSplit(n_splits=2, max_train_size=num_train_samples)\n",
    "d = X.shape[1]\n",
    "tikhonov_regs = np.geomspace(1e-8, 1e-1, 20)\n",
    "tikhonov_reg_RBF = 0.00785 #CV\n",
    "length_scales = np.geomspace(d*1e-8, d*1e3, 20)\n",
    "params = list(\n",
    "    ParameterGrid(\n",
    "        { \n",
    "            'tikhonov_reg': tikhonov_regs, \n",
    "            #'length_scale': length_scales,\n",
    "        }\n",
    "    )\n",
    ")\n",
    "backend = 'cpu'"
   ]
  },
  {
   "cell_type": "code",
   "execution_count": 8,
   "metadata": {},
   "outputs": [],
   "source": [
    "if CV:\n",
    "    error = np.empty((len(params), 2))\n",
    "    for iter_idx, iterate in tqdm(enumerate(params), total=len(params)):      \n",
    "        _err = []\n",
    "        for train_index, test_index in tsCV.split(X):\n",
    "            X_train, Y_train = X[train_index], Y[train_index]\n",
    "            X_test, Y_test = X[test_index], Y[test_index]\n",
    "            kernel = RBF(length_scale=d)\n",
    "            model = KernelRidgeRegression(kernel, tikhonov_reg = iterate['tikhonov_reg'])\n",
    "            model.fit(X_train, Y_train, backend = backend)\n",
    "            _err.append(model.risk(X_test, Y_test))\n",
    "        _err = np.array(_err)\n",
    "        error[iter_idx, 0] = np.mean(_err)\n",
    "        error[iter_idx, 1] = np.std(_err)"
   ]
  },
  {
   "cell_type": "code",
   "execution_count": 9,
   "metadata": {},
   "outputs": [],
   "source": [
    "if CV:\n",
    "    fig, ax = plt.subplots()     \n",
    "    mean = error[:,0]\n",
    "    std = error[:,1]\n",
    "    ax.fill_between(tikhonov_regs, mean - std, mean + std, alpha = 0.5)\n",
    "    ax.plot(tikhonov_regs, mean, '.-')\n",
    "    ax.margins(0)\n",
    "    ax.set_ylabel(\"Test error\")\n",
    "    ax.set_xscale('log')\n",
    "    ax.set_yscale('log')"
   ]
  },
  {
   "cell_type": "markdown",
   "metadata": {},
   "source": [
    "#### Train CNN-Kernel"
   ]
  },
  {
   "cell_type": "code",
   "execution_count": 10,
   "metadata": {},
   "outputs": [],
   "source": [
    "class CNN(nn.Module):\n",
    "    def __init__(self):\n",
    "        super(CNN, self).__init__()\n",
    "        self.conv1 = nn.Sequential(         \n",
    "            nn.Conv2d(\n",
    "                in_channels=1,              \n",
    "                out_channels=16,            \n",
    "                kernel_size=5,              \n",
    "                stride=1,                   \n",
    "                padding=2,                  \n",
    "            ),                              \n",
    "            nn.ReLU(),                      \n",
    "            nn.MaxPool2d(kernel_size=2),    \n",
    "        )\n",
    "        self.conv2 = nn.Sequential(         \n",
    "            nn.Conv2d(16, 32, 5, 1, 2),     \n",
    "            nn.ReLU(),                      \n",
    "            nn.MaxPool2d(2),                \n",
    "        )\n",
    "        # fully connected layer, output 10 classes\n",
    "        self.out = nn.Sequential(\n",
    "            nn.Linear(32 * 7 * 7, 10)\n",
    "        )\n",
    "        \n",
    "    def forward(self, x):\n",
    "        x = self.conv1(x)\n",
    "        x = self.conv2(x)\n",
    "        # flatten the output of conv2 to (batch_size, 32 * 7 * 7)\n",
    "        x = x.view(x.size(0), -1)       \n",
    "        output = self.out(x)\n",
    "        return output    # return x for visualization\n",
    "\n",
    "def classifier_train(num_epochs, cnn, loader):\n",
    "    \n",
    "    cnn.train()\n",
    "        \n",
    "    # Train the model\n",
    "    total_step = len(loader)\n",
    "        \n",
    "    for epoch in range(num_epochs):\n",
    "        for i, (images, labels) in enumerate(loader):\n",
    "            \n",
    "            # gives batch data, normalize x when iterate train_loader\n",
    "            b_x = Variable(images)   # batch x\n",
    "            b_y = Variable(labels)   # batch y\n",
    "            output = cnn(b_x)               \n",
    "            loss = loss_func(output, b_y)\n",
    "            \n",
    "            # clear gradients for this training step   \n",
    "            optimizer.zero_grad()           \n",
    "            \n",
    "            # backpropagation, compute gradients \n",
    "            loss.backward()    \n",
    "            # apply gradients             \n",
    "            optimizer.step()                  \n",
    "        print ('Epoch [{}/{}], Loss: {:.4f}'.format(epoch + 1, num_epochs,loss.item()))"
   ]
  },
  {
   "cell_type": "code",
   "execution_count": 11,
   "metadata": {},
   "outputs": [],
   "source": [
    "cnn_train_samples = num_train_samples\n",
    "images = (torch_dataset[:(cnn_train_samples + 1)])[:,None,...]\n",
    "targets = utils._train_data.targets[perm_data][:cnn_train_samples + 1]\n",
    "dataset = TensorDataset(images, targets)\n",
    "loader = torch.utils.data.DataLoader(dataset, batch_size=100, shuffle=True, num_workers=1)\n",
    "cnn = CNN()\n",
    "loss_func = nn.CrossEntropyLoss()\n",
    "optimizer = torch.optim.Adam(cnn.parameters(), lr = 0.001)  "
   ]
  },
  {
   "cell_type": "code",
   "execution_count": 12,
   "metadata": {},
   "outputs": [
    {
     "name": "stdout",
     "output_type": "stream",
     "text": [
      "Epoch [1/20], Loss: 2.6268\n",
      "Epoch [2/20], Loss: 0.2506\n",
      "Epoch [3/20], Loss: 0.1007\n",
      "Epoch [4/20], Loss: 0.0013\n",
      "Epoch [5/20], Loss: 0.0001\n",
      "Epoch [6/20], Loss: 0.0000\n",
      "Epoch [7/20], Loss: 0.0008\n",
      "Epoch [8/20], Loss: 0.0000\n",
      "Epoch [9/20], Loss: 0.0001\n",
      "Epoch [10/20], Loss: 0.0001\n",
      "Epoch [11/20], Loss: 0.0000\n",
      "Epoch [12/20], Loss: 0.0091\n",
      "Epoch [13/20], Loss: 0.0006\n",
      "Epoch [14/20], Loss: 0.0091\n",
      "Epoch [15/20], Loss: 0.0016\n",
      "Epoch [16/20], Loss: 0.0000\n",
      "Epoch [17/20], Loss: 0.0000\n",
      "Epoch [18/20], Loss: 0.0003\n",
      "Epoch [19/20], Loss: 0.0000\n",
      "Epoch [20/20], Loss: 0.0000\n"
     ]
    }
   ],
   "source": [
    "classifier_train(20, cnn, loader)"
   ]
  },
  {
   "cell_type": "markdown",
   "metadata": {},
   "source": [
    "### Learning with Linear, RBF and DeepKernel"
   ]
  },
  {
   "cell_type": "code",
   "execution_count": 13,
   "metadata": {},
   "outputs": [],
   "source": [
    "cnn_kernel = DeepKernel(cnn, softmax=True)\n",
    "kernels = [Linear(gamma=gamma_linear), RBF(length_scale = 28*28), cnn_kernel]\n",
    "tikhonov_regs = [tikhonov_reg_linear, tikhonov_reg_RBF, 1e-4]\n",
    "trained_estimators = []\n",
    "for k_idx, kernel in enumerate(kernels):\n",
    "    K = ReducedRankRegression(kernel=kernel, rank=10, tikhonov_reg=tikhonov_regs[k_idx])\n",
    "    X_train = X[:num_train_samples]\n",
    "    Y_train = Y[:num_train_samples] \n",
    "    K.fit(X_train, Y_train, backend=\"cpu\")\n",
    "    trained_estimators.append(K)"
   ]
  },
  {
   "cell_type": "code",
   "execution_count": 14,
   "metadata": {},
   "outputs": [
    {
     "data": {
      "image/png": "[encoded data removed]",
      "text/plain": [
       "<Figure size 396x144 with 30 Axes>"
      ]
     },
     "metadata": {
      "needs_background": "light"
     },
     "output_type": "display_data"
    }
   ],
   "source": [
    "seed = 0 # int between 0 and 9\n",
    "X_0 = X[num_train_samples + 0*num_classes + seed + 1][None, :].reshape(28,28)\n",
    "_img_data = []\n",
    "for row in range(len(trained_estimators)):\n",
    "    estimator = trained_estimators[row]\n",
    "    _kernel_name = estimator.kernel.__class__.__name__\n",
    "    _imgs = [X_0]\n",
    "    for col in range(num_classes):\n",
    "        X_val = _imgs[-1].reshape(1, 28*28)\n",
    "        Y_val = estimator.predict(X_val)\n",
    "        Y_val = np.squeeze(Y_val).reshape(28,28)\n",
    "        _imgs.append(Y_val)\n",
    "    _img_data.append(_imgs)\n",
    "data = np.array(_img_data)\n",
    "num_classes = data.shape[1] - 1\n",
    "labels = ['Linear Kernel', 'Gaussian Kernel', 'CNN Kernel']\n",
    "\n",
    "fig_width = 5.5 #Inches\n",
    "fig_height = 2 #Inches\n",
    "fig, axes = plt.subplots(nrows = data.shape[0], ncols=num_classes, figsize=(fig_width, fig_height))\n",
    "plt.subplots_adjust(wspace=0, hspace=0)\n",
    "for row in range(data.shape[0]):\n",
    "    for col in range(num_classes):\n",
    "        ax = axes[row, col]\n",
    "        ax.axis('off')\n",
    "        Y_val = data[row, col]\n",
    "        ax.imshow(Y_val, cmap=\"gray\")\n",
    "        if col == 0:\n",
    "            ax.text(-2, 14, labels[row], ha='right')\n",
    "        if row == 0:\n",
    "            if col == 0:\n",
    "                ax.text(14, -4, \"Seed\", ha='center')\n",
    "            elif 0 < col < num_classes:\n",
    "                ax.text(14, -4, r\"$t = {}$\".format(col), ha='center')\n",
    "#plt.savefig(f\"figs/{seed}_prediction.pdf\", bbox_inches='tight')"
   ]
  }
 ],
 "metadata": {
  "kernelspec": {
   "display_name": "Python 3.9.7 ('base')",
   "language": "python",
   "name": "python3"
  },
  "language_info": {
   "codemirror_mode": {
    "name": "ipython",
    "version": 3
   },
   "file_extension": ".py",
   "mimetype": "text/x-python",
   "name": "python",
   "nbconvert_exporter": "python",
   "pygments_lexer": "ipython3",
   "version": "3.9.7"
  },
  "vscode": {
   "interpreter": {
    "hash": "237a184721ccde86ff8290b36768bdbffa305b80665e86389e41b56c4800747d"
   }
  }
 },
 "nbformat": 4,
 "nbformat_minor": 4
}
