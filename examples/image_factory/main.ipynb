{
 "cells": [
  {
   "cell_type": "code",
   "execution_count": null,
   "metadata": {},
   "outputs": [],
   "source": [
    "import numpy as np\n",
    "import dill as pickle\n",
    "import matplotlib.pyplot as plt\n",
    "import matplotlib.patches as patches\n",
    "import sys\n",
    "sys.path.append(\"../Beijing_air_quality/experiments\")\n",
    "from common_utils import get_measurement\n",
    "plt.rcParams.update({\n",
    "    \"text.usetex\": True,\n",
    "    \"font.family\": \"serif\",\n",
    "    \"font.serif\": [\"Times\"],\n",
    "    \"font.size\": 9\n",
    "})"
   ]
  },
  {
   "cell_type": "code",
   "execution_count": null,
   "metadata": {},
   "outputs": [],
   "source": [
    "#Loading AIQ data\n",
    "history = 4\n",
    "features_names = pickle.load(open(\"../Beijing_air_quality/features_names\", \"rb\"))\n",
    "signal = pickle.load(open(\"../Beijing_air_quality/signal\", \"rb\"))\n",
    "forecasts = pickle.load(open(\"../Beijing_air_quality/forecasts\", \"rb\"))\n",
    "standardizing_parameters = pickle.load(open(\"../Beijing_air_quality/standardizing_parameters\", \"rb\"))\n",
    "\n",
    "data = dict()\n",
    "true_data = dict()\n",
    "for m in standardizing_parameters.keys():\n",
    "    _d = []\n",
    "    for i in range(2):\n",
    "        _d_i = get_measurement(forecasts[i], m, features_names, history, standardizing_parameters)[0]\n",
    "        _d.append(np.swapaxes(_d_i, 0, 1))\n",
    "    true_data[m] = get_measurement(signal, m, features_names, history, standardizing_parameters)[0]\n",
    "    data[m] = np.array(_d)\n",
    "\n",
    "num_samples = 10000\n",
    "time_offset = 10\n",
    "idx_0 = num_samples - time_offset\n",
    "n_steps = 100\n",
    "n_timesteps = 3\n",
    "hours = np.linspace(0, n_steps*n_timesteps, n_steps) - n_timesteps*time_offset\n",
    "measurements = ['NO2', 'O3']\n",
    "units = r\"[\\mu g/m^3]$\"\n",
    "measurements_label = [r\"$\\rm{NO}_2~\" + units, r\"$\\rm{O}_3~\" + units]\n",
    "step_forward = 1\n",
    "AIQ_data = [data[m][:,step_forward - 1,...] for m in measurements]\n",
    "hours = np.linspace(0, n_steps*n_timesteps, n_steps) +  (- n_timesteps + step_forward -1)*time_offset\n",
    "\n",
    "# Loading Logistic Map Data\n",
    "tikhonov_reg, noiseless = pickle.load(open(\"../synthetic_systems/zero_noise\", \"rb\"))\n",
    "_, noisy = pickle.load(open(\"../synthetic_systems/noisy\", \"rb\"))\n",
    "tikhonov_data = [noiseless, noisy]\n",
    "regressors_names = [\"Principal Component Regression\", \"Reduced Rank\", \"Kernel Ridge\"]\n",
    "noise_info = [r\"$\\xi = 0$\", r\"$\\xi \\sim \\rm{N}(0,0.1)$\"]"
   ]
  },
  {
   "cell_type": "markdown",
   "metadata": {},
   "source": [
    "### Main text figure"
   ]
  },
  {
   "cell_type": "code",
   "execution_count": null,
   "metadata": {},
   "outputs": [],
   "source": [
    "variables_idx_dict = {\n",
    "    'tikhonov_regs': None\n",
    "}\n",
    "fig_width = 5.5 #Inches\n",
    "fig_height =fig_width/2 #Inches\n",
    "fig, axes = plt.subplots(nrows=2, ncols=2, figsize=(fig_width, fig_height), sharex='col')\n",
    "cycle = plt.rcParams['axes.prop_cycle'].by_key()['color']\n",
    "\n",
    "def plot_reg_path(ax, data, regularizations, color, label):\n",
    "    mean = data[0]\n",
    "    std = data[1]\n",
    "    ax.fill_between(regularizations, mean - std, mean + std, color=color, alpha = 0.1)\n",
    "    ax.plot(regularizations, mean, color=color, label=label)\n",
    "\n",
    "def plot_forecast(ax, data, time, color, style='-', alpha = 1, label = None):\n",
    "    ax.plot(time, data, style, alpha = alpha, color=color, label = label)\n",
    "\n",
    "for col_idx in range(2):\n",
    "    for row_idx in range(2):\n",
    "        ax = axes[row_idx, col_idx]\n",
    "        if col_idx == 0:\n",
    "            for regressor_idx in range(3):\n",
    "                color = cycle[regressor_idx]\n",
    "                plot_reg_path(ax, tikhonov_data[row_idx][:,regressor_idx,0,0,:], tikhonov_reg, color, label = regressors_names[regressor_idx])\n",
    "            ax.margins(0)\n",
    "            ax.set_xscale('log')\n",
    "            \n",
    "            if row_idx == 1:\n",
    "                ax.set_xlabel('Regularization $\\gamma$')                \n",
    "            else:\n",
    "                ax.legend(bbox_to_anchor=(0,1.02,2.4,0.2), loc=\"lower left\",\n",
    "                mode=\"expand\", borderaxespad=0, ncol=3, frameon=False)\n",
    "                ax.set_ylim([0, 0.3])\n",
    "            ylims = ax.get_ylim()\n",
    "            y_pos = ylims[0] + (ylims[1] - ylims[0])*0.85\n",
    "            ax.text(tikhonov_reg[1], y_pos, noise_info[row_idx], fontsize=8)\n",
    "        if col_idx == 1:\n",
    "            num = 48\n",
    "            time = hours[:num]/24\n",
    "            ax.axvline(x=0, color='k', linestyle='-', lw=0.5, alpha = 0.5)\n",
    "            for regressor_idx in range(2):\n",
    "                color = cycle[regressor_idx]\n",
    "                plot_forecast(ax, AIQ_data[row_idx][regressor_idx].mean(axis=1)[:num],time, color)\n",
    "                \n",
    "            ground_truth = true_data[measurements[row_idx]][idx_0 + step_forward:(idx_0 + n_steps + step_forward)].mean(axis=1)[:num]\n",
    "            plot_forecast(ax, ground_truth,time, 'k', alpha = 0.4, style = '--', label='Ground Truth')\n",
    "            ax.margins(0)\n",
    "            ax.set_ylabel(measurements_label[row_idx])\n",
    "            if row_idx == 1:\n",
    "                ax.set_xlabel('Days')\n",
    "            else:\n",
    "                ax.legend(bbox_to_anchor=(1.05,-0.1,0,0), frameon=False, loc='lower right')\n",
    "fig.supylabel('Test error')\n",
    "plt.tight_layout()\n",
    "fig.subplots_adjust(hspace=0)\n",
    "fig.savefig(\"main_text_experiment.pdf\")"
   ]
  },
  {
   "cell_type": "markdown",
   "metadata": {},
   "source": [
    "### Deep Learning + Dynamical systems"
   ]
  },
  {
   "cell_type": "code",
   "execution_count": null,
   "metadata": {},
   "outputs": [],
   "source": [
    "data = np.load(\"../MNIST_prediction/_img_data.npy\")\n",
    "num_classes = data.shape[1] - 1\n",
    "labels = ['Linear Kernel', 'Gaussian Kernel', 'CNN Kernel']"
   ]
  },
  {
   "cell_type": "code",
   "execution_count": null,
   "metadata": {},
   "outputs": [],
   "source": [
    "fig_width = 5.5 #Inches\n",
    "fig_height = 2 #Inches\n",
    "fig, axes = plt.subplots(nrows = data.shape[0], ncols=num_classes, figsize=(fig_width, fig_height))\n",
    "plt.subplots_adjust(wspace=0, hspace=0)\n",
    "style = \"Simple, tail_width=0.5, head_width=4, head_length=5\"\n",
    "kw = dict(arrowstyle=style, color=\"k\")\n",
    "for row in range(data.shape[0]):\n",
    "    for col in range(num_classes):\n",
    "        ax = axes[row, col]\n",
    "        ax.axis('off')\n",
    "        Y_val = data[row, col]\n",
    "        ax.imshow(Y_val, cmap=\"gray\")\n",
    "        if col == 0:\n",
    "            ax.text(-2, 14, labels[row], ha='right')\n",
    "        if row == 0:\n",
    "            if col == 0:\n",
    "                ax.text(14, -4, \"Seed\", ha='center')\n",
    "            elif 0 < col < num_classes:\n",
    "                ax.text(14, -4, r\"$t = {}$\".format(col), ha='center')\n",
    "                #arrow = patches.FancyArrowPatch((14, -1), (42, -1), connectionstyle=\"arc3,rad=-.5\", clip_on=False, **kw)\n",
    "                #ax.add_patch(arrow)\n",
    "            \n",
    "plt.savefig(\"CNN_kernel.pdf\", bbox_inches='tight')"
   ]
  },
  {
   "cell_type": "markdown",
   "metadata": {},
   "source": [
    "### Uniform bounds, emprical tests."
   ]
  },
  {
   "cell_type": "code",
   "execution_count": null,
   "metadata": {},
   "outputs": [],
   "source": [
    "sample_sizes, Lorenz63 = pickle.load(open(\"../synthetic_systems/data/lorenz63_results.pkl\", \"rb\"))\n",
    "sample_sizes, Logistic = pickle.load(open(\"../synthetic_systems/data/logistic_map_results.pkl\", \"rb\"))"
   ]
  },
  {
   "cell_type": "code",
   "execution_count": null,
   "metadata": {},
   "outputs": [],
   "source": [
    "fig_width = 5.5 #Inches\n",
    "fig_height =fig_width/2 #Inches\n",
    "fig, axes = plt.subplots(ncols=2, figsize=(fig_width, fig_height), sharex='col')\n",
    "cycle = plt.rcParams['axes.prop_cycle'].by_key()['color']\n",
    "titles = ['Noisy Logistic Map', 'Lorenz 63']\n",
    "data_dicts = [Logistic, Lorenz63]\n",
    "\n",
    "def plot_train_vs_num_samples(ax, data_dict):\n",
    "    for est_idx, estimator in enumerate(['PCR', 'RRR']):\n",
    "        train = np.zeros((2, len(sample_sizes)))\n",
    "        test = np.zeros((2, len(sample_sizes)))\n",
    "        excess = np.zeros((2, len(sample_sizes)))\n",
    "        for idx, sample_size in enumerate(sample_sizes):\n",
    "            tr = data_dict[idx][estimator]['train']\n",
    "            ts = data_dict[idx][estimator]['test']\n",
    "            exc = np.abs(tr - ts)\n",
    "            train[0, idx] =tr.mean()\n",
    "            train[1, idx] =tr.std()\n",
    "            test[0, idx] = ts.mean()\n",
    "            test[1, idx] = ts.std()\n",
    "            excess[0, idx] = exc.mean()\n",
    "            excess[1, idx] = exc.std()\n",
    "        ax.set_xticks(sample_sizes)\n",
    "        ax.set_xscale('log')    \n",
    "        ax.plot(sample_sizes,train[0], '.-', color = cycle[est_idx], label=f'{estimator} Train')\n",
    "        ax.fill_between(sample_sizes,train[0] - train[1],train[0] + train[1], color = cycle[est_idx], alpha=0.2)\n",
    "\n",
    "        ax.plot(sample_sizes,test[0], '-.', color = cycle[est_idx], label=f'{estimator} Test')\n",
    "        ax.fill_between(sample_sizes,test[0] - test[1],test[0] + test[1], color = cycle[est_idx], alpha=0.2)\n",
    "            \n",
    "    ax.set_xlabel(\"Number of samples\")\n",
    "    \n",
    "    ax.legend(frameon=False)\n",
    "    ax.margins(0)\n",
    "    return ax\n",
    "\n",
    "for ax_idx, ax in enumerate(axes):\n",
    "    ax.set_title(titles[ax_idx])\n",
    "    plot_train_vs_num_samples(ax, data_dicts[ax_idx])\n",
    "plt.tight_layout()\n",
    "fig.savefig(\"errors_vs_num_samples.pdf\")"
   ]
  }
 ],
 "metadata": {
  "interpreter": {
   "hash": "237a184721ccde86ff8290b36768bdbffa305b80665e86389e41b56c4800747d"
  },
  "kernelspec": {
   "display_name": "Python 3 (ipykernel)",
   "language": "python",
   "name": "python3"
  },
  "language_info": {
   "codemirror_mode": {
    "name": "ipython",
    "version": 3
   },
   "file_extension": ".py",
   "mimetype": "text/x-python",
   "name": "python",
   "nbconvert_exporter": "python",
   "pygments_lexer": "ipython3",
   "version": "3.9.7"
  }
 },
 "nbformat": 4,
 "nbformat_minor": 4
}
