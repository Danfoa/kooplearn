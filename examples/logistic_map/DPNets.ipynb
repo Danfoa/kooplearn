{
 "cells": [
  {
   "cell_type": "markdown",
   "metadata": {},
   "source": [
    "# Training a DPNets-MLP on the logistic map data.\n",
    "\n",
    "The main training problem is that the feature map gets stuck in a low-rank subspace and is unable to exit from it:\n",
    "Strategies:\n",
    "1. Studying & changing initializations\n",
    "2. Changing the model\n",
    "3. Gradient magnitudes\n",
    "4. **Covariance of the intermediate activations**\n",
    "\n",
    "I will implement the training loop in plain `torch` to study the problem."
   ]
  },
  {
   "cell_type": "code",
   "execution_count": 113,
   "metadata": {},
   "outputs": [],
   "source": [
    "import torch\n",
    "from torch.utils.data import DataLoader\n",
    "from kooplearn.nn.data import TrajToContextsDataset\n",
    "from kooplearn.nn.functional import VAMP_score, relaxed_projection_score, log_fro_metric_deformation_loss\n",
    "\n",
    "#Plotting\n",
    "import matplotlib.pyplot as plt\n",
    "import scienceplots\n",
    "plt.style.use(['nature', 'retro'])\n",
    "plt.rcParams['figure.dpi'] = 100\n",
    "plt.rcParams['font.size'] = 10\n",
    "plt.rcParams['axes.labelsize'] = 10\n",
    "plt.rcParams['xtick.labelsize'] = 9\n",
    "plt.rcParams['ytick.labelsize'] = 9"
   ]
  },
  {
   "cell_type": "markdown",
   "metadata": {},
   "source": [
    "#### Load Configs"
   ]
  },
  {
   "cell_type": "code",
   "execution_count": 112,
   "metadata": {},
   "outputs": [],
   "source": [
    "import ml_confs as mlcfg\n",
    "configs = mlcfg.from_file('dev_cfg.yaml', register_jax_pytree=False)"
   ]
  },
  {
   "cell_type": "markdown",
   "metadata": {},
   "source": [
    "#### Unit-testing and convenience functions"
   ]
  },
  {
   "cell_type": "code",
   "execution_count": 104,
   "metadata": {},
   "outputs": [],
   "source": [
    "def tensor_info(batch: torch.Tensor):\n",
    "    print(\"------------------------------------\")\n",
    "    print(f\"Shape: {tuple(batch.shape)}\")\n",
    "    print(f\"Data limits : [{batch.min().item():.2e}, {batch.max().item():.2e}]\")\n",
    "    print(f\"Variance: {batch.flatten().var().item():.2e}\")\n",
    "\n",
    "def plot_distribution_dict(distribution_dict):\n",
    "    fig, ax = plt.subplots(1, 1, figsize=(9, 2.5))\n",
    "    for key, value in distribution_dict.items():\n",
    "        hy, hx = torch.histogram(value, density=True)\n",
    "        ax.plot(hx[1:], hy, label=key)\n",
    "    ax.legend(frameon=False)\n",
    "    ax.set_xmargin(0)\n",
    "    return fig"
   ]
  },
  {
   "cell_type": "markdown",
   "metadata": {},
   "source": [
    "#### Data preparation"
   ]
  },
  {
   "cell_type": "code",
   "execution_count": 82,
   "metadata": {},
   "outputs": [
    {
     "name": "stdout",
     "output_type": "stream",
     "text": [
      "Shape: (2048, 2, 1)\n",
      "Data limits : [1.70e-04, 1.00e+00]\n",
      "Variance: 0.10\n"
     ]
    }
   ],
   "source": [
    "from kooplearn.datasets import LogisticMap\n",
    "logistic = LogisticMap(N = configs.N)\n",
    "\n",
    "sample_traj = logistic.sample(0.5, configs.num_train+configs.num_val+configs.num_test)\n",
    "dataset = {\n",
    "    'train': sample_traj[:configs.num_train],\n",
    "    'validation': sample_traj[configs.num_train:configs.num_train+configs.num_val],\n",
    "    'test': sample_traj[configs.num_train+configs.num_val:]\n",
    "}\n",
    "\n",
    "#Preparing the data\n",
    "train_data = torch.from_numpy(dataset['train']).float()\n",
    "val_data = torch.from_numpy(dataset['validation']).float()\n",
    "\n",
    "train_ds = TrajToContextsDataset(train_data)\n",
    "val_ds = TrajToContextsDataset(val_data)\n",
    "\n",
    "train_dl = DataLoader(train_ds, batch_size=configs.batch_size, shuffle=True)\n",
    "val_dl = DataLoader(val_ds, batch_size=len(val_ds), shuffle=False)\n",
    "\n",
    "#Test shape of data\n",
    "for batch in train_dl:\n",
    "    tensor_info(batch)\n",
    "    break"
   ]
  },
  {
   "cell_type": "markdown",
   "metadata": {},
   "source": [
    "#### Defining the model"
   ]
  },
  {
   "cell_type": "code",
   "execution_count": 91,
   "metadata": {},
   "outputs": [],
   "source": [
    "class SinusoidalEmbedding(torch.nn.Module):\n",
    "    def __init__(self):\n",
    "        super().__init__()\n",
    "    def forward(self, x):\n",
    "        #Assuming x is in [0, 1]\n",
    "        x = 2*torch.pi*x\n",
    "        return torch.cat([torch.sin(x), torch.cos(x)], dim=-1)\n",
    "\n",
    "class SimpleMLP(torch.nn.Module):\n",
    "    def __init__(self, feature_dim: int, layer_dims: list[int], activation = torch.nn.Tanh):\n",
    "        super().__init__()\n",
    "        _layers_sizes = [2] + layer_dims + [feature_dim] #The 2 is for the sinusoidal embedding\n",
    "        self.linear_layers = torch.nn.ModuleList([torch.nn.Linear(_layers_sizes[i], _layers_sizes[i+1], bias=False) for i in range(len(_layers_sizes) - 1)])\n",
    "        self.activation = activation()\n",
    "        self.sin_embedding = SinusoidalEmbedding()\n",
    "    \n",
    "    def forward(self, x):\n",
    "        #Sinusoidal embedding\n",
    "        x = self.sin_embedding(x)\n",
    "        for layer in self.linear_layers[:-1]:\n",
    "            x = self.activation(layer(x))\n",
    "        return self.linear_layers[-1](x)\n",
    "\n",
    "def kaiming_init(model):\n",
    "    for p in model.parameters():\n",
    "        out_shape, in_shape = p.shape\n",
    "        if in_shape == 2:\n",
    "            #Initial layer\n",
    "            torch.nn.init.uniform_(p, -1, 1)\n",
    "        else:\n",
    "            torch.nn.init.kaiming_uniform_(p, a= 1, nonlinearity=model.activation.__class__.__name__.lower())"
   ]
  },
  {
   "cell_type": "markdown",
   "metadata": {},
   "source": [
    "##### Activation shapes"
   ]
  },
  {
   "cell_type": "code",
   "execution_count": 105,
   "metadata": {},
   "outputs": [
    {
     "name": "stdout",
     "output_type": "stream",
     "text": [
      "SinusoidalEmbedding\n",
      "------------------------------------\n",
      "Shape: (2048, 2)\n",
      "Data limits : [-1.00e+00, 1.00e+00]\n",
      "Variance: 4.95e-01\n",
      "\n",
      "Layer 0 - Activations\n",
      "------------------------------------\n",
      "Shape: (2048, 512)\n",
      "Data limits : [-8.77e-01, 8.77e-01]\n",
      "Variance: 2.16e-01\n",
      "\n",
      "Layer 1 - Activations\n",
      "------------------------------------\n",
      "Shape: (2048, 512)\n",
      "Data limits : [-9.90e-01, 9.90e-01]\n",
      "Variance: 3.19e-01\n",
      "\n",
      "Layer 2 - Activations\n",
      "------------------------------------\n",
      "Shape: (2048, 4)\n",
      "Data limits : [-1.42e+00, 1.42e+00]\n",
      "Variance: 4.60e-01\n"
     ]
    },
    {
     "data": {
      "image/png": "[encoded data removed]",
      "text/plain": [
       "<Figure size 900x250 with 1 Axes>"
      ]
     },
     "metadata": {},
     "output_type": "display_data"
    }
   ],
   "source": [
    "torch.manual_seed(configs.rng_seed)\n",
    "mlp = SimpleMLP(configs.feature_dim, configs.layer_dims)\n",
    "kaiming_init(mlp)\n",
    "activations = {}\n",
    "#Replicating the forward pass on a small batch\n",
    "for batch in train_dl:\n",
    "    x = batch[:, 0, :]\n",
    "    print(\"SinusoidalEmbedding\")\n",
    "    x = mlp.sin_embedding(x)\n",
    "    activations['SinusoidalEmbedding'] = x.detach().flatten()\n",
    "    tensor_info(x)\n",
    "    for i, layer in enumerate(mlp.linear_layers[:-1]):\n",
    "        print(f\"\\nLayer {i} - Activations\")\n",
    "        x = mlp.activation(layer(x))\n",
    "        activations[f\"Layer {i}\"] = x.detach().flatten()\n",
    "        tensor_info(x)\n",
    "    print(f\"\\nLayer {len(mlp.linear_layers)-1} - Activations\")\n",
    "    x = mlp.linear_layers[-1](x)\n",
    "    activations[f\"Layer {len(mlp.linear_layers)-1}\"] = x.detach().flatten()\n",
    "    tensor_info(x) \n",
    "    break  \n",
    "plot_distribution_dict(activations);   "
   ]
  },
  {
   "cell_type": "markdown",
   "metadata": {},
   "source": [
    "#### Setting up the training loop"
   ]
  },
  {
   "cell_type": "code",
   "execution_count": 127,
   "metadata": {},
   "outputs": [
    {
     "name": "stdout",
     "output_type": "stream",
     "text": [
      "265k parameters in each MLP\n"
     ]
    }
   ],
   "source": [
    "#Fast-changing configs\n",
    "lr = 1e-4\n",
    "use_relaxed_loss = False\n",
    "metric_deformation_loss_coefficient = 0.0\n",
    "\n",
    "#Opt\n",
    "torch.manual_seed(configs.rng_seed)\n",
    "optimizer = torch.optim.Adam(mlp.parameters(), lr=lr)\n",
    "#Model init\n",
    "torch.manual_seed(configs.rng_seed)\n",
    "mlp = SimpleMLP(configs.feature_dim, configs.layer_dims)\n",
    "kaiming_init(mlp)\n",
    "\n",
    "torch.manual_seed(configs.rng_seed)\n",
    "mlp_lagged = SimpleMLP(configs.feature_dim, configs.layer_dims)\n",
    "kaiming_init(mlp_lagged)\n",
    "\n",
    "#The two modules should have the same initial weights\n",
    "for p1, p2 in zip(mlp.parameters(), mlp_lagged.parameters()):\n",
    "    assert torch.allclose(p1, p2)\n",
    "#Print the number of parameters\n",
    "print(f\"{int(sum(p.numel() for p in mlp.parameters())/1000.0)}k parameters in each MLP\")"
   ]
  },
  {
   "cell_type": "code",
   "execution_count": 130,
   "metadata": {},
   "outputs": [
    {
     "name": "stdout",
     "output_type": "stream",
     "text": [
      "------------------------------------\n",
      "Shape: (512, 2)\n",
      "Data limits : [-2.96e+02, 2.41e+02]\n",
      "Variance: 3.69e+03\n",
      "------------------------------------\n",
      "Shape: (512, 512)\n",
      "Data limits : [-2.27e+02, 2.26e+02]\n",
      "Variance: 7.75e+02\n",
      "------------------------------------\n",
      "Shape: (4, 512)\n",
      "Data limits : [-1.67e+03, 9.14e+02]\n",
      "Variance: 4.30e+04\n"
     ]
    },
    {
     "data": {
      "image/png": "[encoded data removed]",
      "text/plain": [
       "<Figure size 900x250 with 1 Axes>"
      ]
     },
     "metadata": {},
     "output_type": "display_data"
    }
   ],
   "source": [
    "score = []\n",
    "md = []\n",
    "grads = {}\n",
    "global_step = 0\n",
    "break_point = 1000\n",
    "#Training Loop\n",
    "for epoch in range(configs.num_epochs):\n",
    "    print(f\"Epoch {epoch + 1}\", end='\\r')\n",
    "    for batch in train_dl:\n",
    "        global_step += 1\n",
    "        X, Y = batch[:, 0, ...], batch[:, 1, ...]\n",
    "        #Encoding\n",
    "        encoded_X, encoded_Y = mlp.forward(X), mlp_lagged.forward(Y)\n",
    "        _norm = torch.rsqrt(torch.tensor(encoded_X.shape[0]))\n",
    "        encoded_X *= _norm\n",
    "        encoded_Y *= _norm\n",
    "        #Compute the covariances\n",
    "        cov_X = torch.mm(encoded_X.T, encoded_X)\n",
    "        cov_Y = torch.mm(encoded_Y.T, encoded_Y)\n",
    "        cov_XY = torch.mm(encoded_X.T, encoded_Y)\n",
    "        #Compute the losses\n",
    "        if use_relaxed_loss:\n",
    "            loss = -1*relaxed_projection_score(cov_X, cov_Y, cov_XY)\n",
    "            score.append(-1.0*loss.item())\n",
    "        else:\n",
    "            loss = -1*VAMP_score(cov_X, cov_Y, cov_XY, schatten_norm=2)\n",
    "            score.append(-1.0*loss.item())\n",
    "\n",
    "        if metric_deformation_loss_coefficient > 0.0:\n",
    "            metric_deformation_loss = 0.5*(log_fro_metric_deformation_loss(cov_X) + log_fro_metric_deformation_loss(cov_Y))\n",
    "            metric_deformation_loss = metric_deformation_loss*metric_deformation_loss_coefficient\n",
    "            md.append(metric_deformation_loss.item())\n",
    "            loss += metric_deformation_loss\n",
    "        \n",
    "        #Optimization step\n",
    "        optimizer.zero_grad()\n",
    "        loss.backward()\n",
    "        if global_step == break_point:    \n",
    "            #Inspect gradients\n",
    "            for p in mlp.parameters():\n",
    "                tensor_info(p.grad)\n",
    "                grads[f'layer_{p.shape[0]}_{p.shape[1]}'] = p.grad.flatten().detach()\n",
    "            break\n",
    "        optimizer.step()\n",
    "    if global_step == break_point:\n",
    "        break\n",
    "plot_distribution_dict(grads);"
   ]
  },
  {
   "cell_type": "code",
   "execution_count": null,
   "metadata": {},
   "outputs": [],
   "source": []
  }
 ],
 "metadata": {
  "kernelspec": {
   "display_name": "kooplearn",
   "language": "python",
   "name": "python3"
  },
  "language_info": {
   "codemirror_mode": {
    "name": "ipython",
    "version": 3
   },
   "file_extension": ".py",
   "mimetype": "text/x-python",
   "name": "python",
   "nbconvert_exporter": "python",
   "pygments_lexer": "ipython3",
   "version": "3.11.5"
  },
  "orig_nbformat": 4
 },
 "nbformat": 4,
 "nbformat_minor": 2
}
