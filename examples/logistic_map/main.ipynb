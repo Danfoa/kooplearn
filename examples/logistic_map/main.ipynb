{
 "cells": [
  {
   "cell_type": "markdown",
   "metadata": {},
   "source": [
    "# A comprehensive study of DPNets on the logistic map"
   ]
  },
  {
   "cell_type": "code",
   "execution_count": 133,
   "metadata": {},
   "outputs": [
    {
     "name": "stdout",
     "output_type": "stream",
     "text": [
      "The autoreload extension is already loaded. To reload it, use:\n",
      "  %reload_ext autoreload\n"
     ]
    }
   ],
   "source": [
    "%load_ext autoreload\n",
    "#Configs\n",
    "import ml_confs as mlcfg\n",
    "configs = mlcfg.from_file('configs.yaml', register_jax_pytree=False)"
   ]
  },
  {
   "cell_type": "code",
   "execution_count": 134,
   "metadata": {},
   "outputs": [],
   "source": [
    "%autoreload 2\n",
    "from functools import partial\n",
    "import numpy as np\n",
    "import matplotlib.pyplot as plt\n",
    "import scipy.special\n",
    "import scipy.linalg\n",
    "from scipy.integrate import romb\n",
    "from rich.console import Console\n",
    "from rich.table import Table\n",
    "#Set plotting styles\n",
    "import scienceplots\n",
    "plt.style.use(['nature', 'retro'])\n",
    "plt.rcParams['figure.dpi'] = 120\n",
    "plt.rcParams['font.size'] = 10\n",
    "plt.rcParams['axes.labelsize'] = 10\n",
    "plt.rcParams['xtick.labelsize'] = 9\n",
    "plt.rcParams['ytick.labelsize'] = 9\n",
    "\n",
    "#Torch imports\n",
    "import lightning\n",
    "import torch\n",
    "from torch.utils.data import DataLoader\n",
    "from lightning.pytorch.callbacks import LearningRateFinder\n",
    "\n",
    "#Kooplearn imports\n",
    "from kooplearn.abc import FeatureMap\n",
    "from kooplearn.models.feature_maps import ConcatenateFeatureMaps\n",
    "from kooplearn.datasets import LogisticMap\n",
    "from kooplearn._src.metrics import directed_hausdorff_distance\n",
    "from kooplearn.nn.data import TrajToContextsDataset"
   ]
  },
  {
   "cell_type": "markdown",
   "metadata": {},
   "source": [
    "# Noisy Logistic map\n",
    "We initialize the `kooplearn.dataset` corresponding to the noisy logistic map and plot the true singular values and eigenvalues, showing the non-normality of the dynamical system"
   ]
  },
  {
   "cell_type": "code",
   "execution_count": 135,
   "metadata": {},
   "outputs": [],
   "source": [
    "logistic = LogisticMap(N = configs.N)"
   ]
  },
  {
   "cell_type": "code",
   "execution_count": 136,
   "metadata": {},
   "outputs": [],
   "source": [
    "num_train = 50000\n",
    "num_val = 10000\n",
    "num_test = 10000\n",
    "sample_traj = logistic.sample(0.5, num_train+num_val+num_test)\n",
    "dataset = {\n",
    "    'train': sample_traj[:num_train],\n",
    "    'validation': sample_traj[num_train:num_train+num_val],\n",
    "    'test': sample_traj[num_train+num_val:]\n",
    "}"
   ]
  },
  {
   "cell_type": "markdown",
   "metadata": {},
   "source": [
    "The logistic map is a non-normal dynamical system. This can be visualized by comparing the eigenvalues against the singular values of the transfer operator:"
   ]
  },
  {
   "cell_type": "code",
   "execution_count": 137,
   "metadata": {},
   "outputs": [
    {
     "data": {
      "text/plain": [
       "<matplotlib.legend.Legend at 0x7fefcad55ed0>"
      ]
     },
     "execution_count": 137,
     "metadata": {},
     "output_type": "execute_result"
    },
    {
     "data": {
      "image/png": "[encoded data removed]",
      "text/plain": [
       "<Figure size 396x300 with 1 Axes>"
      ]
     },
     "metadata": {},
     "output_type": "display_data"
    }
   ],
   "source": [
    "plt.plot(logistic.svals(), 'x-', label= 'Singular Values')\n",
    "plt.plot(np.abs(logistic.eig()), 'x-', label = 'Eigenvalues (abs)')\n",
    "plt.margins(x=0)\n",
    "plt.yscale('log')\n",
    "plt.xlabel(\"Eigenvalue/Singular value index\")\n",
    "plt.legend(frameon=False, loc='lower center', bbox_to_anchor=(0, 1., 1, 0), ncol=2, fontsize=8)"
   ]
  },
  {
   "cell_type": "markdown",
   "metadata": {},
   "source": [
    "# Setting up an evaluation scheme.\n",
    "\n",
    "## Population estimators\n",
    "As we are able to compute everything for this system, we evaluate the performance of `DPNets` in two stages. In the first stage we take three different feature maps:\n",
    "1. Chebyshev polynomials up to order $\\ell$\n",
    "2. `VAMPNets` with latent dimension $\\ell$ (MLP architecture tbd)\n",
    "3. `DPNets` with latend dimension $\\ell$ (MLP architecture tbd)\n",
    "\n",
    "Given $\\phi \\colon [0, 1]\\to \\mathbb{R}^{\\ell}$, we evaluate $C_{ij} := \\int_{0}^{1} \\phi_{i}(x)\\phi_{j}(x) \\pi(dx)$, where $\\pi$ is the invariant distribution. And the cross covariance $C_{ij}^{\\times} := \\int_{0}^{1} \\phi_{i}(x)\\phi_{j}(y) \\pi(dx)p(x, dy) = \\sum_{n = 0}^{N}\\left(\\int_{0}^{1} \\phi_{i}(x)\\alpha_{n}(x)\\pi(dx)\\right)\\left(\\int_{0}^{1} \\phi_{j}(y)\\beta_{n}(y)dy\\right)$. As the kernel is separable, I just need to compute $2(N + 1)$ single integrals. \n",
    "\n",
    "Now, the OLS Transfer operator estimator is $G_{{\\rm OLS}} = C^{\\dagger}C^{\\times}$, from which I can compute:\n",
    "1. Directed Hausdorff spectral distance\n",
    "2. Approximation error $\\Vert [I - P_{\\mathcal{H}}]\\mathcal{T}|_{\\mathcal{H}}\\Vert$, for which $\\mathcal{P}$ and $\\mathcal{S}$ are proxies.\n",
    "3. VAMP-score $\\mathcal{P}$ + something related to metric distortion. An example could be $\\mathcal{P}/\\kappa (C)$\n",
    "\n",
    "## Empirical estimators\n",
    "In the second stage we pull into the ring every Koopman estimator we have and we compute, from data:\n",
    "\n",
    "- Directed Hausdorff distance as a metric for the spectral estimation.\n",
    "- MAE on 1-step ahead conditional expectation. Even if the system is stochastic, since it is of the form $X_{t + 1} = F(X_t) + \\xi_{t}$ where $\\xi_{t}$ is zero-mean, the expected value conditioned on $X_t = x$ is just $F(x)$."
   ]
  },
  {
   "cell_type": "markdown",
   "metadata": {},
   "source": [
    "# Population validators"
   ]
  },
  {
   "cell_type": "code",
   "execution_count": 138,
   "metadata": {},
   "outputs": [],
   "source": [
    "def population_covs(feature_map: FeatureMap, pow_of_two_k: int = 12):\n",
    "    \"\"\"Computes the population covariance and cross-covariance\"\"\"\n",
    "    x = np.linspace(0, 1, 2**pow_of_two_k + 1)[:, None]\n",
    "    vals, lv = logistic.eig(eval_left_on=x)\n",
    "    perron_eig_idx = np.argmax(np.abs(vals))\n",
    "    pi = lv[:, perron_eig_idx]\n",
    "    assert np.isreal(pi).all()\n",
    "    pi = pi.real\n",
    "    pi = pi/romb(pi, dx = 1/2**pow_of_two_k) #Normalization of \\pi\n",
    "    #Evaluating the feature map\n",
    "    phi = feature_map(x) # [2**pow_of_two_k + 1, d]\n",
    "    #Covariance\n",
    "    cov_unfolded = phi.reshape(2**pow_of_two_k + 1, -1, 1)*phi.reshape(2**pow_of_two_k + 1, 1, -1)*pi.reshape(-1, 1, 1)\n",
    "    cov = romb(cov_unfolded, dx = 1/2**pow_of_two_k, axis=0)\n",
    "    #Cross-covariance\n",
    "    alphas = np.stack([logistic.noise_feature_composed_map(x, n) for n in range(logistic.N + 1)], axis = 1)\n",
    "    betas = np.stack([logistic.noise_feature(x, n) for n in range(logistic.N + 1)], axis = 1)\n",
    "\n",
    "    cov_alpha_unfolded = phi.reshape(2**pow_of_two_k + 1, -1, 1)*alphas.reshape(2**pow_of_two_k + 1, 1, -1)*pi.reshape(-1, 1, 1)\n",
    "    cov_beta_unfolded = phi.reshape(2**pow_of_two_k + 1, -1, 1)*betas.reshape(2**pow_of_two_k + 1, 1, -1)\n",
    "\n",
    "    cov_alpha = romb(cov_alpha_unfolded, dx = 1/2**pow_of_two_k, axis=0)\n",
    "    cov_beta = romb(cov_beta_unfolded, dx = 1/2**pow_of_two_k, axis=0)\n",
    "    \n",
    "    cross_cov = cov_alpha@(cov_beta.T)\n",
    "    return cov, cross_cov\n",
    "\n",
    "def evaluate_representation(feature_map: FeatureMap):\n",
    "    report = {}\n",
    "    #Compute OLS estimator\n",
    "    cov, cross_cov = population_covs(feature_map)\n",
    "    OLS_estimator = np.linalg.solve(cov, cross_cov)\n",
    "    #Eigenvalue estimation\n",
    "    OLS_eigs = np.linalg.eigvals(OLS_estimator)\n",
    "    report['hausdorff-dist'] = directed_hausdorff_distance(OLS_eigs, logistic.eig())\n",
    "    #VAMP2-score\n",
    "    M = np.linalg.multi_dot([np.linalg.pinv(cov, hermitian=True), cross_cov, np.linalg.pinv(cov, hermitian=True), cross_cov.T])\n",
    "    report['SVD-error'] = np.sum(logistic.svals()**2) - np.trace(M)\n",
    "    #Metric distortion\n",
    "    cov_eigs = np.linalg.eigvalsh(cov)\n",
    "    report['fro-Id-cov'] = np.mean((cov_eigs - np.ones_like(cov_eigs))**2)\n",
    "    report['feature-map'] = feature_map\n",
    "    return report\n",
    "\n",
    "def tabulate_reports(reports):\n",
    "    console = Console()\n",
    "    table = Table(show_header=True, header_style=\"bold\")\n",
    "    table.add_column(\"Representation\", justify='right')\n",
    "    table.add_column(\"Hausdorff dist\",justify='center')\n",
    "    table.add_column(\"SVD Error\",justify='center')\n",
    "    table.add_column(\"||Id - cov||^2\",justify='center')\n",
    "    for model_name, model_report in reports.items():\n",
    "        hausdorff = f\"{model_report['hausdorff-dist']:.3f}\"\n",
    "        SVD_err = f\"{model_report['SVD-error']:.3f}\"\n",
    "        fro_dist = f\"{model_report['fro-Id-cov']:.3f}\"\n",
    "        table.add_row(model_name, hausdorff, SVD_err, fro_dist)\n",
    "    console.print(table)\n",
    "\n",
    "def flatten_reports(reports):\n",
    "    #Reports must all be of depth 1 and with the same shape. No checks are performed \n",
    "    flattened = {}\n",
    "    for model_name, model_report in reports.items():\n",
    "        for report_stub, value in model_report.items():\n",
    "            if report_stub in flattened:\n",
    "                flattened[report_stub].append(value)\n",
    "            else:\n",
    "                flattened[report_stub] = [value]\n",
    "    return flattened"
   ]
  },
  {
   "cell_type": "markdown",
   "metadata": {},
   "source": [
    "# Chebyshev polynomials of the first kind"
   ]
  },
  {
   "cell_type": "code",
   "execution_count": 139,
   "metadata": {},
   "outputs": [],
   "source": [
    "def ChebyT(order: int = 3):\n",
    "    def scaled_chebyt(n, x):\n",
    "        return scipy.special.eval_chebyt(n, 2*x - 1)\n",
    "    fn_list = [partial(scaled_chebyt, n) for n in range(order + 1)]\n",
    "    return ConcatenateFeatureMaps(fn_list)   "
   ]
  },
  {
   "cell_type": "code",
   "execution_count": 140,
   "metadata": {},
   "outputs": [
    {
     "data": {
      "text/html": [
       "<pre style=\"white-space:pre;overflow-x:auto;line-height:normal;font-family:Menlo,'DejaVu Sans Mono',consolas,'Courier New',monospace\">┏━━━━━━━━━━━━━━━━┳━━━━━━━━━━━━━━━━┳━━━━━━━━━━━┳━━━━━━━━━━━━━━━━┓\n",
       "┃<span style=\"font-weight: bold\"> Representation </span>┃<span style=\"font-weight: bold\"> Hausdorff dist </span>┃<span style=\"font-weight: bold\"> SVD Error </span>┃<span style=\"font-weight: bold\"> ||Id - cov||^2 </span>┃\n",
       "┡━━━━━━━━━━━━━━━━╇━━━━━━━━━━━━━━━━╇━━━━━━━━━━━╇━━━━━━━━━━━━━━━━┩\n",
       "│       ChebyT-1 │     0.007      │   3.037   │     0.172      │\n",
       "│       ChebyT-2 │     0.235      │   2.669   │     0.239      │\n",
       "│       ChebyT-3 │     0.253      │   2.555   │     0.263      │\n",
       "│       ChebyT-4 │     0.196      │   1.775   │     0.277      │\n",
       "│       ChebyT-5 │     0.201      │   1.763   │     0.282      │\n",
       "│       ChebyT-6 │     0.202      │   1.327   │     0.284      │\n",
       "│       ChebyT-7 │     0.204      │   1.325   │     0.285      │\n",
       "│       ChebyT-8 │     0.095      │   0.948   │     0.285      │\n",
       "│       ChebyT-9 │     0.097      │   0.945   │     0.285      │\n",
       "│      ChebyT-10 │     0.090      │   0.640   │     0.285      │\n",
       "│      ChebyT-11 │     0.093      │   0.638   │     0.285      │\n",
       "│      ChebyT-12 │     0.061      │   0.441   │     0.284      │\n",
       "│      ChebyT-13 │     0.062      │   0.441   │     0.284      │\n",
       "│      ChebyT-14 │     0.058      │   0.295   │     0.284      │\n",
       "│      ChebyT-15 │     0.060      │   0.295   │     0.284      │\n",
       "│      ChebyT-16 │     0.036      │   0.193   │     0.283      │\n",
       "│      ChebyT-17 │     0.037      │   0.193   │     0.283      │\n",
       "│      ChebyT-18 │     0.033      │   0.128   │     0.283      │\n",
       "│      ChebyT-19 │     0.034      │   0.128   │     0.283      │\n",
       "│      ChebyT-20 │     0.018      │   0.087   │     0.283      │\n",
       "│      ChebyT-21 │     0.018      │   0.087   │     0.283      │\n",
       "│      ChebyT-22 │     0.016      │   0.061   │     0.282      │\n",
       "│      ChebyT-23 │     0.017      │   0.061   │     0.282      │\n",
       "│      ChebyT-24 │     0.009      │   0.046   │     0.282      │\n",
       "│      ChebyT-25 │     0.009      │   0.046   │     0.282      │\n",
       "│      ChebyT-26 │     0.008      │   0.037   │     0.282      │\n",
       "│      ChebyT-27 │     0.008      │   0.037   │     0.282      │\n",
       "│      ChebyT-28 │     0.003      │   0.033   │     0.282      │\n",
       "│      ChebyT-29 │     0.003      │   0.033   │     0.282      │\n",
       "│      ChebyT-30 │     0.003      │   0.030   │     0.281      │\n",
       "│      ChebyT-31 │     0.003      │   0.030   │     0.281      │\n",
       "│      ChebyT-32 │     0.001      │   0.029   │     0.281      │\n",
       "│      ChebyT-33 │     0.001      │   0.029   │     0.281      │\n",
       "│      ChebyT-34 │     0.001      │   0.028   │     0.281      │\n",
       "│      ChebyT-35 │     0.001      │   0.028   │     0.281      │\n",
       "│      ChebyT-36 │     0.000      │   0.028   │     0.281      │\n",
       "│      ChebyT-37 │     0.000      │   0.028   │     0.281      │\n",
       "│      ChebyT-38 │     0.000      │   0.028   │     0.281      │\n",
       "│      ChebyT-39 │     0.000      │   0.028   │     0.281      │\n",
       "│      ChebyT-40 │     0.000      │   0.028   │     0.281      │\n",
       "└────────────────┴────────────────┴───────────┴────────────────┘\n",
       "</pre>\n"
      ],
      "text/plain": [
       "┏━━━━━━━━━━━━━━━━┳━━━━━━━━━━━━━━━━┳━━━━━━━━━━━┳━━━━━━━━━━━━━━━━┓\n",
       "┃\u001b[1m \u001b[0m\u001b[1mRepresentation\u001b[0m\u001b[1m \u001b[0m┃\u001b[1m \u001b[0m\u001b[1mHausdorff dist\u001b[0m\u001b[1m \u001b[0m┃\u001b[1m \u001b[0m\u001b[1mSVD Error\u001b[0m\u001b[1m \u001b[0m┃\u001b[1m \u001b[0m\u001b[1m||Id - cov||^2\u001b[0m\u001b[1m \u001b[0m┃\n",
       "┡━━━━━━━━━━━━━━━━╇━━━━━━━━━━━━━━━━╇━━━━━━━━━━━╇━━━━━━━━━━━━━━━━┩\n",
       "│       ChebyT-1 │     0.007      │   3.037   │     0.172      │\n",
       "│       ChebyT-2 │     0.235      │   2.669   │     0.239      │\n",
       "│       ChebyT-3 │     0.253      │   2.555   │     0.263      │\n",
       "│       ChebyT-4 │     0.196      │   1.775   │     0.277      │\n",
       "│       ChebyT-5 │     0.201      │   1.763   │     0.282      │\n",
       "│       ChebyT-6 │     0.202      │   1.327   │     0.284      │\n",
       "│       ChebyT-7 │     0.204      │   1.325   │     0.285      │\n",
       "│       ChebyT-8 │     0.095      │   0.948   │     0.285      │\n",
       "│       ChebyT-9 │     0.097      │   0.945   │     0.285      │\n",
       "│      ChebyT-10 │     0.090      │   0.640   │     0.285      │\n",
       "│      ChebyT-11 │     0.093      │   0.638   │     0.285      │\n",
       "│      ChebyT-12 │     0.061      │   0.441   │     0.284      │\n",
       "│      ChebyT-13 │     0.062      │   0.441   │     0.284      │\n",
       "│      ChebyT-14 │     0.058      │   0.295   │     0.284      │\n",
       "│      ChebyT-15 │     0.060      │   0.295   │     0.284      │\n",
       "│      ChebyT-16 │     0.036      │   0.193   │     0.283      │\n",
       "│      ChebyT-17 │     0.037      │   0.193   │     0.283      │\n",
       "│      ChebyT-18 │     0.033      │   0.128   │     0.283      │\n",
       "│      ChebyT-19 │     0.034      │   0.128   │     0.283      │\n",
       "│      ChebyT-20 │     0.018      │   0.087   │     0.283      │\n",
       "│      ChebyT-21 │     0.018      │   0.087   │     0.283      │\n",
       "│      ChebyT-22 │     0.016      │   0.061   │     0.282      │\n",
       "│      ChebyT-23 │     0.017      │   0.061   │     0.282      │\n",
       "│      ChebyT-24 │     0.009      │   0.046   │     0.282      │\n",
       "│      ChebyT-25 │     0.009      │   0.046   │     0.282      │\n",
       "│      ChebyT-26 │     0.008      │   0.037   │     0.282      │\n",
       "│      ChebyT-27 │     0.008      │   0.037   │     0.282      │\n",
       "│      ChebyT-28 │     0.003      │   0.033   │     0.282      │\n",
       "│      ChebyT-29 │     0.003      │   0.033   │     0.282      │\n",
       "│      ChebyT-30 │     0.003      │   0.030   │     0.281      │\n",
       "│      ChebyT-31 │     0.003      │   0.030   │     0.281      │\n",
       "│      ChebyT-32 │     0.001      │   0.029   │     0.281      │\n",
       "│      ChebyT-33 │     0.001      │   0.029   │     0.281      │\n",
       "│      ChebyT-34 │     0.001      │   0.028   │     0.281      │\n",
       "│      ChebyT-35 │     0.001      │   0.028   │     0.281      │\n",
       "│      ChebyT-36 │     0.000      │   0.028   │     0.281      │\n",
       "│      ChebyT-37 │     0.000      │   0.028   │     0.281      │\n",
       "│      ChebyT-38 │     0.000      │   0.028   │     0.281      │\n",
       "│      ChebyT-39 │     0.000      │   0.028   │     0.281      │\n",
       "│      ChebyT-40 │     0.000      │   0.028   │     0.281      │\n",
       "└────────────────┴────────────────┴───────────┴────────────────┘\n"
      ]
     },
     "metadata": {},
     "output_type": "display_data"
    }
   ],
   "source": [
    "reports = {}\n",
    "for i in range(1, 41):\n",
    "    model_name = f\"ChebyT-{i}\"\n",
    "    reports[model_name] = evaluate_representation(ChebyT(i))\n",
    "flattened = flatten_reports(reports)\n",
    "tabulate_reports(reports)"
   ]
  },
  {
   "cell_type": "code",
   "execution_count": 141,
   "metadata": {},
   "outputs": [
    {
     "data": {
      "text/plain": [
       "<matplotlib.legend.Legend at 0x7fefb12c9c10>"
      ]
     },
     "execution_count": 141,
     "metadata": {},
     "output_type": "execute_result"
    },
    {
     "data": {
      "image/png": "[encoded data removed]",
      "text/plain": [
       "<Figure size 720x300 with 2 Axes>"
      ]
     },
     "metadata": {},
     "output_type": "display_data"
    }
   ],
   "source": [
    "fig, axes = plt.subplots(1, 2, figsize=(6, 2.5))\n",
    "#SVD error\n",
    "ax = axes[0]\n",
    "ax.axvline(x=logistic.N + 1, linestyle='--', color='k', alpha=0.5, lw=0.75, label ='True rank of $\\\\mathcal{T}$')\n",
    "poly_order = len(flattened['SVD-error'])\n",
    "ax.plot(np.arange(1, poly_order + 1), flattened['SVD-error'], label = r\"$\\mathcal{P} - \\sum_{i} \\sigma_{i}^{2}(\\mathcal{T})$\")\n",
    "\n",
    "ax.set_xlabel('Order of the Cheby-T polynomials')\n",
    "ax.set_yscale('log')\n",
    "ax.set_xmargin(0)\n",
    "ax.legend(frameon=False, loc='lower center', bbox_to_anchor=(0, 0.95, 1, 0), ncol=2, fontsize=8)\n",
    "\n",
    "ax = axes[1]\n",
    "#Hausdorff distance\n",
    "ax.axvline(x=logistic.N + 1, linestyle='--', color='k', alpha=0.5, lw=0.75)\n",
    "ax.plot(np.arange(1, poly_order + 1), flattened['hausdorff-dist'], label = r\"Hausforff distance $d_{H}(\\mathcal{P}, \\mathcal{T})$\")\n",
    "ax.set_xlabel('Order of the Cheby-T polynomials')\n",
    "ax.set_yscale('log')\n",
    "ax.set_xmargin(0)\n",
    "ax.legend(frameon=False, loc='lower center', bbox_to_anchor=(0, 1, 1, 0), ncol=1, fontsize=8)"
   ]
  },
  {
   "cell_type": "markdown",
   "metadata": {},
   "source": [
    "### Defining a standard MLP architecture"
   ]
  },
  {
   "cell_type": "code",
   "execution_count": 142,
   "metadata": {},
   "outputs": [],
   "source": [
    "from collections import OrderedDict\n",
    "from copy import deepcopy\n",
    "class SimpleMLP(torch.nn.Module):\n",
    "    def __init__(self, hidden_dim: int, layer_dims: list[int]):\n",
    "        super().__init__()\n",
    "        self.layer_dims = deepcopy(layer_dims)\n",
    "        self.layer_dims.append(hidden_dim)\n",
    "        self.layer_dims.insert(0, 1)\n",
    "        #Create an MLP from the layer dimensions\n",
    "        module_dict = OrderedDict()\n",
    "        for i in range(len(self.layer_dims) - 2):\n",
    "            module_dict[f\"linear_{i}\"] = torch.nn.Linear(self.layer_dims[i], self.layer_dims[i+1], bias=False)\n",
    "            module_dict[f\"activation_{i}\"] = torch.nn.Tanh()\n",
    "        module_dict[f\"linear_{len(self.layer_dims) - 2}\"] = torch.nn.Linear(self.layer_dims[-2], self.layer_dims[-1], bias=False)\n",
    "        self.mlp = torch.nn.Sequential(module_dict)\n",
    "    \n",
    "    def forward(self, x):\n",
    "        x = 2*x - 1 #Rescale logistic map data to [-1, 1]\n",
    "        return self.mlp(x)"
   ]
  },
  {
   "cell_type": "code",
   "execution_count": 143,
   "metadata": {},
   "outputs": [],
   "source": [
    "#Credits to https://lightning.ai/docs/pytorch/stable/notebooks/course_UvA-DL/03-initialization-and-optimization.html#Initialization\n",
    "import seaborn as sns\n",
    "##############################################################\n",
    "def plot_dists(val_dict, color=\"C0\", xlabel=None, stat=\"count\", use_kde=True):\n",
    "    columns = len(val_dict)\n",
    "    fig, ax = plt.subplots(1, columns, figsize=(columns * 3, 2.5))\n",
    "    fig_index = 0\n",
    "    for key in sorted(val_dict.keys()):\n",
    "        key_ax = ax[fig_index % columns]\n",
    "        sns.histplot(\n",
    "            val_dict[key],\n",
    "            ax=key_ax,\n",
    "            color=color,\n",
    "            bins=50,\n",
    "            stat=stat,\n",
    "            kde=use_kde and ((val_dict[key].max() - val_dict[key].min()) > 1e-8),\n",
    "        )  # Only plot kde if there is variance\n",
    "        hidden_dim_str = (\n",
    "            r\"(%i $\\to$ %i)\" % (val_dict[key].shape[1], val_dict[key].shape[0]) if len(val_dict[key].shape) > 1 else \"\"\n",
    "        )\n",
    "        key_ax.set_title(f\"{key} {hidden_dim_str}\")\n",
    "        if xlabel is not None:\n",
    "            key_ax.set_xlabel(xlabel)\n",
    "        fig_index += 1\n",
    "    fig.subplots_adjust(wspace=0.4)\n",
    "    return fig\n",
    "##############################################################\n",
    "def visualize_weight_distribution(model, color=\"C0\"):\n",
    "    weights = {}\n",
    "    for name, param in model.named_parameters():\n",
    "        if name.endswith(\".bias\"):\n",
    "            continue\n",
    "        key_name = f\"Layer {name.split('.')[1]}\"\n",
    "        weights[key_name] = param.detach().view(-1).cpu().numpy()\n",
    "\n",
    "    # Plotting\n",
    "    fig = plot_dists(weights, color=color, xlabel=\"Weight vals\")\n",
    "    fig.suptitle(\"Weight distribution\", fontsize=14, y=1.05)\n",
    "    plt.show()\n",
    "    plt.close()\n",
    "##############################################################\n",
    "def visualize_activations(model, train_dl, device, color=\"C0\", print_variance=False):\n",
    "    model.eval()\n",
    "    batch = next(iter(train_dl))\n",
    "    feats = (batch[:, :1, ...]).to(device)\n",
    "    activations = {}\n",
    "    with torch.no_grad():\n",
    "        for layer_index, layer in enumerate(model.mlp):\n",
    "            feats = layer(feats)\n",
    "            if isinstance(layer, torch.nn.Linear):\n",
    "                activations[f\"Layer {layer_index}\"] = feats.view(-1).detach().cpu().numpy()\n",
    "    # Plotting\n",
    "    fig = plot_dists(activations, color=color, stat=\"density\", xlabel=\"Activation vals\")\n",
    "    fig.suptitle(\"Activation distribution\", fontsize=14, y=1.05)\n",
    "    plt.show()\n",
    "    plt.close()\n",
    "\n",
    "    if print_variance:\n",
    "        for key in sorted(activations.keys()):\n",
    "            print(f\"{key} - Variance: {np.var(activations[key])}\")\n",
    "##############################################################\n",
    "import math\n",
    "def xavier_init(model):\n",
    "    for name, param in model.named_parameters():\n",
    "        if name.endswith(\".bias\"):\n",
    "            param.data.fill_(0)\n",
    "        else:\n",
    "            bound = math.sqrt(6) / math.sqrt(param.shape[0] + param.shape[1])\n",
    "            param.data.uniform_(-bound, bound)\n",
    "\n",
    "def kaiming_init(model):\n",
    "    for name, param in model.named_parameters():\n",
    "        if name.endswith(\".bias\"):\n",
    "            param.data.fill_(0)\n",
    "        elif name.startswith(\"linear_0\"):  # The first layer does not have ReLU applied on its input\n",
    "            param.data.normal_(0, 1 / math.sqrt(param.shape[1]))\n",
    "        else:\n",
    "            param.data.normal_(0, 5.0 / (3*math.sqrt(param.shape[1])))"
   ]
  },
  {
   "cell_type": "markdown",
   "metadata": {},
   "source": [
    "## VAMPNets"
   ]
  },
  {
   "cell_type": "code",
   "execution_count": 144,
   "metadata": {},
   "outputs": [],
   "source": [
    "dl_reports = {}"
   ]
  },
  {
   "cell_type": "code",
   "execution_count": 145,
   "metadata": {},
   "outputs": [],
   "source": [
    "#Preparing the data\n",
    "train_data = torch.from_numpy(dataset['train']).float()\n",
    "val_data = torch.from_numpy(dataset['validation']).float()\n",
    "\n",
    "train_ds = TrajToContextsDataset(train_data)\n",
    "val_ds = TrajToContextsDataset(val_data)\n",
    "\n",
    "train_dl = DataLoader(train_ds, batch_size=configs.batch_size, shuffle=True)\n",
    "val_dl = DataLoader(val_ds, batch_size=len(val_ds), shuffle=False)"
   ]
  },
  {
   "cell_type": "code",
   "execution_count": 146,
   "metadata": {},
   "outputs": [
    {
     "name": "stderr",
     "output_type": "stream",
     "text": [
      "GPU available: True (cuda), used: False\n",
      "TPU available: False, using: 0 TPU cores\n",
      "IPU available: False, using: 0 IPUs\n",
      "HPU available: False, using: 0 HPUs\n",
      "Global seed set to 0\n"
     ]
    }
   ],
   "source": [
    "%autoreload 2\n",
    "from kooplearn.models.feature_maps import VAMPNet\n",
    "lr_finder = LearningRateFinder(min_lr=1e-4, max_lr=1e-2, early_stop_threshold=None)\n",
    "trainer_kwargs = {\n",
    "    'accelerator': 'cpu',\n",
    "    'devices': 1,\n",
    "    'max_epochs': 200,  \n",
    "    'log_every_n_steps': 3,\n",
    "    'callbacks': [lr_finder],\n",
    "}\n",
    "trainer = lightning.Trainer(**trainer_kwargs)\n",
    "\n",
    "lobe_kwargs = {\n",
    "    'hidden_dim': configs.latent_dim,\n",
    "    'layer_dims': configs.mlp_layer_dims\n",
    "}\n",
    "\n",
    "#Defining the model\n",
    "feature_map = VAMPNet(\n",
    "    SimpleMLP,\n",
    "    torch.optim.Adam,\n",
    "    {'lr': 1e-6},\n",
    "    trainer,\n",
    "    lobe_kwargs,\n",
    "    lobe_timelagged=SimpleMLP,\n",
    "    lobe_timelagged_kwargs=lobe_kwargs,\n",
    "    center_covariances=False,\n",
    "    seed=configs.rng_seed\n",
    ")\n",
    "\n",
    "#Init\n",
    "kaiming_init(feature_map.lightning_module.lobe)\n",
    "kaiming_init(feature_map.lightning_module.lobe_timelagged)"
   ]
  },
  {
   "cell_type": "code",
   "execution_count": 147,
   "metadata": {},
   "outputs": [],
   "source": [
    "#visualize_activations(feature_map.lightning_module.lobe, train_dl, feature_map.lightning_module.device, print_variance=True)"
   ]
  },
  {
   "cell_type": "code",
   "execution_count": 148,
   "metadata": {},
   "outputs": [
    {
     "name": "stdout",
     "output_type": "stream",
     "text": [
      "Fitting VAMPNet. Lookback window length set to 1\n"
     ]
    },
    {
     "data": {
      "application/vnd.jupyter.widget-view+json": {
       "model_id": "be0f11a4d66744cdb2d18f494f96d191",
       "version_major": 2,
       "version_minor": 0
      },
      "text/plain": [
       "Finding best initial lr:   0%|          | 0/100 [00:00<?, ?it/s]"
      ]
     },
     "metadata": {},
     "output_type": "display_data"
    },
    {
     "name": "stderr",
     "output_type": "stream",
     "text": [
      "`Trainer.fit` stopped: `max_steps=100` reached.\n",
      "Learning rate set to 0.0002754228703338166\n",
      "Restoring states from the checkpoint path at /home/novelli/kooplearn/examples/logistic_map/.lr_find_d865554f-1320-40ac-a6c8-1d6ab554ee40.ckpt\n",
      "Restored all states from the checkpoint at /home/novelli/kooplearn/examples/logistic_map/.lr_find_d865554f-1320-40ac-a6c8-1d6ab554ee40.ckpt\n",
      "\n",
      "  | Name            | Type      | Params\n",
      "----------------------------------------------\n",
      "0 | lobe            | SimpleMLP | 5.2 K \n",
      "1 | lobe_timelagged | SimpleMLP | 5.2 K \n",
      "----------------------------------------------\n",
      "10.4 K    Trainable params\n",
      "0         Non-trainable params\n",
      "10.4 K    Total params\n",
      "0.041     Total estimated model params size (MB)\n",
      "Restored all states from the checkpoint at /home/novelli/kooplearn/examples/logistic_map/.lr_find_d865554f-1320-40ac-a6c8-1d6ab554ee40.ckpt\n"
     ]
    },
    {
     "data": {
      "application/vnd.jupyter.widget-view+json": {
       "model_id": "665152ea95124d6598024da94bd0712e",
       "version_major": 2,
       "version_minor": 0
      },
      "text/plain": [
       "Training: 0it [00:00, ?it/s]"
      ]
     },
     "metadata": {},
     "output_type": "display_data"
    },
    {
     "name": "stderr",
     "output_type": "stream",
     "text": [
      "`Trainer.fit` stopped: `max_epochs=200` reached.\n"
     ]
    }
   ],
   "source": [
    "feature_map.fit(train_dl)\n",
    "dl_reports['VAMPNet'] = evaluate_representation(feature_map)"
   ]
  },
  {
   "cell_type": "markdown",
   "metadata": {},
   "source": [
    "Training VAMPNets is hard: no learning rate in the range $(10^{-8}, 10^{-2})$ give a good result, and the $\\mathcal{P}$ gets stuck at a local minima $\\mathcal{P} = 1$. We now turn on to DPNets, adding metric regularization first, and later studying the effect of loss relaxation."
   ]
  },
  {
   "cell_type": "code",
   "execution_count": 149,
   "metadata": {},
   "outputs": [
    {
     "data": {
      "image/png": "[encoded data removed]",
      "text/plain": [
       "<Figure size 396x300 with 1 Axes>"
      ]
     },
     "metadata": {},
     "output_type": "display_data"
    }
   ],
   "source": [
    "fig = lr_finder.optimal_lr.plot()\n",
    "#Add the optimal learning rate to the plot\n",
    "ax = fig.axes[0]\n",
    "ax.axvline(x=lr_finder.optimal_lr.suggestion(), linestyle='--', color='k', alpha=0.5, lw=0.75, label ='Optimal learning rate')\n",
    "ax.margins(x=0)"
   ]
  },
  {
   "cell_type": "markdown",
   "metadata": {},
   "source": [
    "## DPNets"
   ]
  },
  {
   "cell_type": "code",
   "execution_count": 150,
   "metadata": {},
   "outputs": [
    {
     "name": "stderr",
     "output_type": "stream",
     "text": [
      "GPU available: True (cuda), used: False\n",
      "TPU available: False, using: 0 TPU cores\n",
      "IPU available: False, using: 0 IPUs\n",
      "HPU available: False, using: 0 HPUs\n",
      "/home/novelli/anaconda3/envs/kooplearn/lib/python3.11/site-packages/lightning/pytorch/trainer/setup.py:176: PossibleUserWarning: GPU available but not used. Set `accelerator` and `devices` using `Trainer(accelerator='gpu', devices=2)`.\n",
      "  rank_zero_warn(\n",
      "Global seed set to 0\n"
     ]
    }
   ],
   "source": [
    "%autoreload 2\n",
    "from kooplearn.models.feature_maps import DPNet\n",
    "lr_finder = LearningRateFinder(min_lr=1e-4, max_lr=1e-2, early_stop_threshold=None)\n",
    "trainer_kwargs = {\n",
    "    'accelerator': 'cpu',\n",
    "    'devices': 1,\n",
    "    'max_epochs': 200,  \n",
    "    'log_every_n_steps': 3,\n",
    "    'callbacks': [lr_finder],\n",
    "}\n",
    "trainer = lightning.Trainer(**trainer_kwargs)\n",
    "\n",
    "encoder_kwargs = {\n",
    "    'hidden_dim': configs.latent_dim,\n",
    "    'layer_dims': configs.mlp_layer_dims\n",
    "}\n",
    "\n",
    "#Defining the model\n",
    "feature_map = DPNet(\n",
    "    SimpleMLP,\n",
    "    torch.optim.Adam,\n",
    "    {'lr': 1e-6},\n",
    "    trainer,\n",
    "    use_relaxed_loss=False,\n",
    "    metric_deformation_loss_coefficient=0.5,\n",
    "    encoder_kwargs=encoder_kwargs,\n",
    "    encoder_timelagged=SimpleMLP,\n",
    "    encoder_timelagged_kwargs=encoder_kwargs,\n",
    "    center_covariances=True,\n",
    "    seed=configs.rng_seed\n",
    ")\n",
    "\n",
    "#Init\n",
    "kaiming_init(feature_map.lightning_module.encoder)\n",
    "kaiming_init(feature_map.lightning_module.encoder_timelagged)"
   ]
  },
  {
   "cell_type": "code",
   "execution_count": 151,
   "metadata": {},
   "outputs": [
    {
     "name": "stdout",
     "output_type": "stream",
     "text": [
      "Fitting DPNet. Lookback window length set to 1\n"
     ]
    },
    {
     "name": "stderr",
     "output_type": "stream",
     "text": [
      "/home/novelli/anaconda3/envs/kooplearn/lib/python3.11/site-packages/lightning/pytorch/trainer/connectors/data_connector.py:442: PossibleUserWarning: The dataloader, train_dataloader, does not have many workers which may be a bottleneck. Consider increasing the value of the `num_workers` argument` (try 20 which is the number of cpus on this machine) in the `DataLoader` init to improve performance.\n",
      "  rank_zero_warn(\n"
     ]
    },
    {
     "data": {
      "application/vnd.jupyter.widget-view+json": {
       "model_id": "45b60c253e4d45049a3723636d6751d7",
       "version_major": 2,
       "version_minor": 0
      },
      "text/plain": [
       "Finding best initial lr:   0%|          | 0/100 [00:00<?, ?it/s]"
      ]
     },
     "metadata": {},
     "output_type": "display_data"
    },
    {
     "name": "stderr",
     "output_type": "stream",
     "text": [
      "`Trainer.fit` stopped: `max_steps=100` reached.\n",
      "Learning rate set to 0.0005248074602497726\n",
      "Restoring states from the checkpoint path at /home/novelli/kooplearn/examples/logistic_map/.lr_find_b4a3dedc-4b16-4bd4-a626-042f9733fda7.ckpt\n",
      "Restored all states from the checkpoint at /home/novelli/kooplearn/examples/logistic_map/.lr_find_b4a3dedc-4b16-4bd4-a626-042f9733fda7.ckpt\n",
      "\n",
      "  | Name               | Type      | Params\n",
      "-------------------------------------------------\n",
      "0 | encoder            | SimpleMLP | 5.2 K \n",
      "1 | encoder_timelagged | SimpleMLP | 5.2 K \n",
      "-------------------------------------------------\n",
      "10.4 K    Trainable params\n",
      "0         Non-trainable params\n",
      "10.4 K    Total params\n",
      "0.041     Total estimated model params size (MB)\n",
      "Restored all states from the checkpoint at /home/novelli/kooplearn/examples/logistic_map/.lr_find_b4a3dedc-4b16-4bd4-a626-042f9733fda7.ckpt\n"
     ]
    },
    {
     "data": {
      "application/vnd.jupyter.widget-view+json": {
       "model_id": "e75564d2b1164165b2e0a6c7a190a393",
       "version_major": 2,
       "version_minor": 0
      },
      "text/plain": [
       "Training: 0it [00:00, ?it/s]"
      ]
     },
     "metadata": {},
     "output_type": "display_data"
    },
    {
     "name": "stderr",
     "output_type": "stream",
     "text": [
      "`Trainer.fit` stopped: `max_epochs=200` reached.\n"
     ]
    }
   ],
   "source": [
    "feature_map.fit(train_dl)\n",
    "dl_reports['DPNet'] = evaluate_representation(feature_map)"
   ]
  },
  {
   "cell_type": "code",
   "execution_count": 152,
   "metadata": {},
   "outputs": [
    {
     "data": {
      "image/png": "[encoded data removed]",
      "text/plain": [
       "<Figure size 396x300 with 1 Axes>"
      ]
     },
     "metadata": {},
     "output_type": "display_data"
    }
   ],
   "source": [
    "fig = lr_finder.optimal_lr.plot()\n",
    "#Add the optimal learning rate to the plot\n",
    "ax = fig.axes[0]\n",
    "ax.axvline(x=lr_finder.optimal_lr.suggestion(), linestyle='--', color='k', alpha=0.5, lw=0.75, label ='Optimal learning rate')\n",
    "ax.margins(x=0)"
   ]
  },
  {
   "cell_type": "code",
   "execution_count": 153,
   "metadata": {},
   "outputs": [],
   "source": [
    "model_name = f\"ChebyT-{3}\"\n",
    "dl_reports[model_name] = evaluate_representation(ChebyT(3))"
   ]
  },
  {
   "cell_type": "code",
   "execution_count": 154,
   "metadata": {},
   "outputs": [
    {
     "data": {
      "text/html": [
       "<pre style=\"white-space:pre;overflow-x:auto;line-height:normal;font-family:Menlo,'DejaVu Sans Mono',consolas,'Courier New',monospace\">┏━━━━━━━━━━━━━━━━┳━━━━━━━━━━━━━━━━┳━━━━━━━━━━━┳━━━━━━━━━━━━━━━━┓\n",
       "┃<span style=\"font-weight: bold\"> Representation </span>┃<span style=\"font-weight: bold\"> Hausdorff dist </span>┃<span style=\"font-weight: bold\"> SVD Error </span>┃<span style=\"font-weight: bold\"> ||Id - cov||^2 </span>┃\n",
       "┡━━━━━━━━━━━━━━━━╇━━━━━━━━━━━━━━━━╇━━━━━━━━━━━╇━━━━━━━━━━━━━━━━┩\n",
       "│        VAMPNet │     0.006      │   4.035   │     0.636      │\n",
       "│          DPNet │     0.008      │   4.035   │     0.497      │\n",
       "│       ChebyT-3 │     0.253      │   2.555   │     0.263      │\n",
       "└────────────────┴────────────────┴───────────┴────────────────┘\n",
       "</pre>\n"
      ],
      "text/plain": [
       "┏━━━━━━━━━━━━━━━━┳━━━━━━━━━━━━━━━━┳━━━━━━━━━━━┳━━━━━━━━━━━━━━━━┓\n",
       "┃\u001b[1m \u001b[0m\u001b[1mRepresentation\u001b[0m\u001b[1m \u001b[0m┃\u001b[1m \u001b[0m\u001b[1mHausdorff dist\u001b[0m\u001b[1m \u001b[0m┃\u001b[1m \u001b[0m\u001b[1mSVD Error\u001b[0m\u001b[1m \u001b[0m┃\u001b[1m \u001b[0m\u001b[1m||Id - cov||^2\u001b[0m\u001b[1m \u001b[0m┃\n",
       "┡━━━━━━━━━━━━━━━━╇━━━━━━━━━━━━━━━━╇━━━━━━━━━━━╇━━━━━━━━━━━━━━━━┩\n",
       "│        VAMPNet │     0.006      │   4.035   │     0.636      │\n",
       "│          DPNet │     0.008      │   4.035   │     0.497      │\n",
       "│       ChebyT-3 │     0.253      │   2.555   │     0.263      │\n",
       "└────────────────┴────────────────┴───────────┴────────────────┘\n"
      ]
     },
     "metadata": {},
     "output_type": "display_data"
    }
   ],
   "source": [
    "tabulate_reports(dl_reports)"
   ]
  },
  {
   "cell_type": "code",
   "execution_count": 155,
   "metadata": {},
   "outputs": [],
   "source": [
    "cov, cross_cov = population_covs(feature_map)"
   ]
  },
  {
   "cell_type": "code",
   "execution_count": 156,
   "metadata": {},
   "outputs": [
    {
     "data": {
      "text/plain": [
       "array([ 0.00818633, -0.00880887, -0.00025039])"
      ]
     },
     "execution_count": 156,
     "metadata": {},
     "output_type": "execute_result"
    }
   ],
   "source": [
    "np.linalg.eigvals(np.linalg.solve(cov, cross_cov))"
   ]
  }
 ],
 "metadata": {
  "kernelspec": {
   "display_name": "kooplearn",
   "language": "python",
   "name": "python3"
  },
  "language_info": {
   "codemirror_mode": {
    "name": "ipython",
    "version": 3
   },
   "file_extension": ".py",
   "mimetype": "text/x-python",
   "name": "python",
   "nbconvert_exporter": "python",
   "pygments_lexer": "ipython3",
   "version": "3.11.5"
  },
  "orig_nbformat": 4
 },
 "nbformat": 4,
 "nbformat_minor": 2
}
