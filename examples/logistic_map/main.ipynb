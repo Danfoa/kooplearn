{
 "cells": [
  {
   "cell_type": "markdown",
   "metadata": {},
   "source": [
    "# A comprehensive study of DPNets on the logistic map"
   ]
  },
  {
   "cell_type": "code",
   "execution_count": 1,
   "metadata": {},
   "outputs": [],
   "source": [
    "%load_ext autoreload\n",
    "#Configs\n",
    "import ml_confs as mlcfg\n",
    "configs = mlcfg.from_file('configs.yaml', register_jax_pytree=False)"
   ]
  },
  {
   "cell_type": "code",
   "execution_count": 125,
   "metadata": {},
   "outputs": [],
   "source": [
    "%autoreload 2\n",
    "from functools import partial\n",
    "import numpy as np\n",
    "import matplotlib.pyplot as plt\n",
    "import scipy.special\n",
    "from scipy.integrate import romb\n",
    "#Set plotting styles\n",
    "import scienceplots\n",
    "plt.style.use(['nature', 'retro'])\n",
    "plt.rcParams['figure.dpi'] = 120\n",
    "plt.rcParams['font.size'] = 10\n",
    "plt.rcParams['axes.labelsize'] = 10\n",
    "plt.rcParams['xtick.labelsize'] = 9\n",
    "plt.rcParams['ytick.labelsize'] = 9\n",
    "\n",
    "#Kooplearn imports\n",
    "from kooplearn.abc import BaseModel, FeatureMap\n",
    "from kooplearn.models.feature_maps import ConcatenateFeatureMaps\n",
    "from kooplearn.datasets import LogisticMap"
   ]
  },
  {
   "cell_type": "markdown",
   "metadata": {},
   "source": [
    "## Creating the standard dataset"
   ]
  },
  {
   "cell_type": "code",
   "execution_count": 60,
   "metadata": {},
   "outputs": [],
   "source": [
    "logistic = LogisticMap(N = configs.N)"
   ]
  },
  {
   "cell_type": "markdown",
   "metadata": {},
   "source": [
    "## Setting up an evaluation scheme.\n",
    "\n",
    "### Population estimators\n",
    "As we are able to compute everything for this system, we evaluate the performance of `DPNets` in two stages. In the first stage we take three different feature maps:\n",
    "1. Hermite polynomials up to order $\\ell$\n",
    "2. `VAMPNets` with latent dimension $\\ell$ (MLP architecture tbd)\n",
    "3. `DPNets` with latend dimension $\\ell$ (MLP architecture tbd)\n",
    "\n",
    "Given $\\phi \\colon [0, 1]\\to \\mathbb{R}^{\\ell}$, we evaluate $C_{ij} := \\int_{0}^{1} \\phi_{i}(x)\\phi_{j}(x) \\pi(dx)$, where $\\pi$ is the invariant distribution. And the cross covariance $C_{ij}^{\\times} := \\int_{0}^{1} \\phi_{i}(x)\\phi_{j}(y) \\pi(dx)p(x, dy) = \\sum_{n = 0}^{N}\\left(\\int_{0}^{1} \\phi_{i}(x)\\alpha_{n}(x)\\pi(dx)\\right)\\left(\\int_{0}^{1} \\phi_{j}(y)\\beta_{n}(y)dy\\right)$. As the kernel is separable, I just need to compute $2(N + 1)$ single integrals. \n",
    "\n",
    "Now, the OLS Transfer operator estimator is $G_{{\\rm OLS}} = C^{\\dagger}C^{\\times}$, from which I can compute:\n",
    "1. Directed Hausdorff spectral distance\n",
    "2. Approximation error $\\Vert [I - P_{\\mathcal{H}}]\\mathcal{T}|_{\\mathcal{H}}\\Vert$, for which $\\mathcal{P}$ and $\\mathcal{S}$ are proxies.\n",
    "3. VAMP-score $\\mathcal{P}$ + something related to metric distortion. An example could be $\\mathcal{P}/\\kappa (C)$\n",
    "\n",
    "### Empirical estimators\n",
    "In the second stage we pull into the ring every Koopman estimator we have and we compute, from data:\n",
    "\n",
    "- Directed Hausdorff distance as a metric for the spectral estimation.\n",
    "- MAE on 1-step ahead conditional expectation. Even if the system is stochastic, since it is of the form $X_{t + 1} = F(X_t) + \\xi_{t}$ where $\\xi_{t}$ is zero-mean, the expected value conditioned on $X_t = x$ is just $F(x)$."
   ]
  },
  {
   "cell_type": "markdown",
   "metadata": {},
   "source": [
    "# Population validators"
   ]
  },
  {
   "cell_type": "code",
   "execution_count": 85,
   "metadata": {},
   "outputs": [],
   "source": [
    "def population_cov(feature_map: FeatureMap, logistic_map: LogisticMap, pow_of_two_k: int = 12):\n",
    "    x = np.linspace(0, 1, 2**pow_of_two_k + 1)\n",
    "    vals, lv = logistic_map.eig(eval_left_on=x)\n",
    "    perron_eig_idx = np.argmax(np.abs(vals))\n",
    "    pi = lv[:, perron_eig_idx]\n",
    "    assert np.isreal(pi).all()\n",
    "    pi = pi.real\n",
    "    pi_mass = romb(pi, dx = 1/2**pow_of_two_k)\n",
    "    pi = pi/pi_mass\n",
    "    assert np.isclose(romb(pi, dx = 1/2**pow_of_two_k), 1)\n",
    "    phi = feature_map(x)\n",
    "    C_unfolded = phi.reshape(2**pow_of_two_k + 1, -1, 1)*phi.reshape(2**pow_of_two_k + 1, 1, -1)*pi.reshape(-1, 1, 1)\n",
    "    return romb(C_unfolded, dx = 1/2**pow_of_two_k, axis=0)\n",
    "\n",
    "def population_cross_cov(feature_map: FeatureMap, logistic_map: LogisticMap, pow_of_two_k: int = 12):\n",
    "    x = np.linspace(0, 1, 2**pow_of_two_k + 1)\n",
    "    vals, lv = logistic_map.eig(eval_left_on=x)\n",
    "    perron_eig_idx = np.argmax(np.abs(vals))\n",
    "    pi = lv[:, perron_eig_idx]\n",
    "    assert np.isreal(pi).all()\n",
    "    pi = pi.real\n",
    "    pi_mass = romb(pi, dx = 1/2**pow_of_two_k)\n",
    "    pi = pi/pi_mass\n",
    "    assert np.isclose(romb(pi, dx = 1/2**pow_of_two_k), 1)\n",
    "    phi = feature_map(x)\n",
    "\n",
    "    alphas = np.stack([logistic_map.noise_feature_composed_map(x, n) for n in range(logistic_map.N + 1)], axis = 1)\n",
    "    betas = np.stack([logistic_map.noise_feature(x, n) for n in range(logistic_map.N + 1)], axis = 1)\n",
    "\n",
    "    C_alpha_unfolded = phi.reshape(2**pow_of_two_k + 1, -1, 1)*alphas.reshape(2**pow_of_two_k + 1, 1, -1)*pi.reshape(-1, 1, 1)\n",
    "    C_beta_unfolded = phi.reshape(2**pow_of_two_k + 1, -1, 1)*betas.reshape(2**pow_of_two_k + 1, 1, -1)\n",
    "\n",
    "    C_alpha = romb(C_alpha_unfolded, dx = 1/2**pow_of_two_k, axis=0)\n",
    "    C_beta = romb(C_beta_unfolded, dx = 1/2**pow_of_two_k, axis=0)\n",
    "    \n",
    "    return C_alpha@(C_beta.T)"
   ]
  },
  {
   "cell_type": "code",
   "execution_count": 86,
   "metadata": {},
   "outputs": [],
   "source": [
    "def init_ChebyT(max_order: int = 3):\n",
    "    def scaled_chebyt(n, x):\n",
    "        return scipy.special.eval_chebyt(n, 2*x - 1)\n",
    "    fn_list = [partial(scaled_chebyt, n) for n in range(max_order + 1)]\n",
    "    return ConcatenateFeatureMaps(fn_list)    "
   ]
  },
  {
   "cell_type": "code",
   "execution_count": 74,
   "metadata": {},
   "outputs": [],
   "source": [
    "cheby_T = init_ChebyT(max_order=3)\n"
   ]
  },
  {
   "cell_type": "code",
   "execution_count": 100,
   "metadata": {},
   "outputs": [],
   "source": [
    "cov = population_cov(cheby_T, logistic)\n",
    "cross_cov = population_cross_cov(cheby_T, logistic)\n",
    "\n",
    "OLS_estimator = np.linalg.solve(cov, cross_cov)\n",
    "eigs_OLS = np.linalg.eigvals(OLS_estimator)\n",
    "\n",
    "eigs = logistic.eig()"
   ]
  },
  {
   "cell_type": "code",
   "execution_count": 130,
   "metadata": {},
   "outputs": [],
   "source": [
    "def directed_hausdorff_distance(pred: np.ndarray, reference: np.ndarray, return_spectral_distances: bool = False):\n",
    "    \"\"\"One-sided hausdorff distance between sets.\n",
    "    \"\"\"\n",
    "    pred = np.asanyarray(pred)\n",
    "    reference = np.asanyarray(reference)\n",
    "    assert pred.ndim == 1\n",
    "    assert reference.ndim == 1\n",
    "\n",
    "    distances = np.zeros((pred.shape[0], reference.shape[0]), dtype=np.float64)\n",
    "    for pred_idx, pred_pt in enumerate(pred):\n",
    "        for reference_idx, reference_pt in enumerate(reference):\n",
    "            distances[pred_idx, reference_idx] = np.abs(pred_pt - reference_pt)\n",
    "    hausdorff_dist =  np.max(np.min(distances, axis=1))\n",
    "    if return_spectral_distances:\n",
    "        return hausdorff_dist, np.min(distances, axis=1)\n",
    "    else:\n",
    "        return hausdorff_dist"
   ]
  },
  {
   "cell_type": "code",
   "execution_count": 131,
   "metadata": {},
   "outputs": [
    {
     "name": "stdout",
     "output_type": "stream",
     "text": [
      "Directed Hausdorff distance: 0.253\n"
     ]
    },
    {
     "data": {
      "image/png": "[encoded data removed]",
      "text/plain": [
       "<Figure size 396x300 with 1 Axes>"
      ]
     },
     "metadata": {},
     "output_type": "display_data"
    }
   ],
   "source": [
    "fig, ax = plt.subplots(1, 1)\n",
    "#Draw unit circle\n",
    "ax.plot(np.cos(np.linspace(0, 2*np.pi, 100)), np.sin(np.linspace(0, 2*np.pi, 100)), c='k', linestyle='--', lw=0.5)\n",
    "ax.scatter(eigs.real, eigs.imag, c='k', label='True')\n",
    "ax.scatter(eigs_OLS.real, eigs_OLS.imag, marker='x', c='r', label='ChebyT-3')\n",
    "\n",
    "lim = 1.1\n",
    "ax.set_xlim(-lim, lim)\n",
    "ax.set_ylim(-lim, lim)\n",
    "\n",
    "ax.legend(loc='lower center', bbox_to_anchor=(0, 1, 1, 0), ncol=2, frameon=False)\n",
    "\n",
    "ax.set_xlabel(r'$\\Re(\\lambda)$')\n",
    "ax.set_ylabel(r'$\\Im(\\lambda)$')\n",
    "ax.set_aspect('equal')\n",
    "\n",
    "print(f\"Directed Hausdorff distance: {directed_hausdorff_distance(eigs, eigs_OLS):.3f}\")"
   ]
  }
 ],
 "metadata": {
  "kernelspec": {
   "display_name": "kooplearn",
   "language": "python",
   "name": "python3"
  },
  "language_info": {
   "codemirror_mode": {
    "name": "ipython",
    "version": 3
   },
   "file_extension": ".py",
   "mimetype": "text/x-python",
   "name": "python",
   "nbconvert_exporter": "python",
   "pygments_lexer": "ipython3",
   "version": "3.11.4"
  },
  "orig_nbformat": 4
 },
 "nbformat": 4,
 "nbformat_minor": 2
}
