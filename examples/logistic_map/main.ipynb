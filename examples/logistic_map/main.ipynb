{
 "cells": [
  {
   "cell_type": "markdown",
   "metadata": {},
   "source": [
    "# A comprehensive study of DPNets on the logistic map"
   ]
  },
  {
   "cell_type": "code",
   "execution_count": 323,
   "metadata": {},
   "outputs": [
    {
     "name": "stdout",
     "output_type": "stream",
     "text": [
      "The autoreload extension is already loaded. To reload it, use:\n",
      "  %reload_ext autoreload\n"
     ]
    }
   ],
   "source": [
    "%load_ext autoreload\n",
    "#Configs\n",
    "import ml_confs as mlcfg\n",
    "configs = mlcfg.from_file('configs.yaml', register_jax_pytree=False)"
   ]
  },
  {
   "cell_type": "code",
   "execution_count": 294,
   "metadata": {},
   "outputs": [],
   "source": [
    "%autoreload 2\n",
    "from functools import partial\n",
    "import numpy as np\n",
    "import matplotlib.pyplot as plt\n",
    "import scipy.special\n",
    "import scipy.linalg\n",
    "from scipy.integrate import romb\n",
    "from rich.console import Console\n",
    "from rich.table import Table\n",
    "#Set plotting styles\n",
    "import scienceplots\n",
    "plt.style.use(['nature', 'retro'])\n",
    "plt.rcParams['figure.dpi'] = 120\n",
    "plt.rcParams['font.size'] = 10\n",
    "plt.rcParams['axes.labelsize'] = 10\n",
    "plt.rcParams['xtick.labelsize'] = 9\n",
    "plt.rcParams['ytick.labelsize'] = 9\n",
    "\n",
    "#Torch imports\n",
    "import lightning\n",
    "import torch\n",
    "from torch.utils.data import DataLoader\n",
    "\n",
    "#Kooplearn imports\n",
    "from kooplearn.abc import FeatureMap\n",
    "from kooplearn.models.feature_maps import ConcatenateFeatureMaps\n",
    "from kooplearn.datasets import LogisticMap\n",
    "from kooplearn._src.metrics import directed_hausdorff_distance\n",
    "from kooplearn.nn.data import TrajToContextsDataset"
   ]
  },
  {
   "cell_type": "markdown",
   "metadata": {},
   "source": [
    "## Creating the standard dataset"
   ]
  },
  {
   "cell_type": "code",
   "execution_count": 266,
   "metadata": {},
   "outputs": [],
   "source": [
    "logistic = LogisticMap(N = configs.N)"
   ]
  },
  {
   "cell_type": "code",
   "execution_count": 288,
   "metadata": {},
   "outputs": [],
   "source": [
    "sample_traj = logistic.sample(0.5, 15000)\n",
    "dataset = {\n",
    "    'train': sample_traj[:8000],\n",
    "    'validation': sample_traj[8000:10000],\n",
    "    'test': sample_traj[10000:]\n",
    "}"
   ]
  },
  {
   "cell_type": "markdown",
   "metadata": {},
   "source": [
    "The logistic map is a non-normal dynamical system. This can be visualized by comparing the eigenvalues against the singular values of the transfer operator:"
   ]
  },
  {
   "cell_type": "code",
   "execution_count": 285,
   "metadata": {},
   "outputs": [
    {
     "data": {
      "text/plain": [
       "<matplotlib.legend.Legend at 0x2913efc10>"
      ]
     },
     "execution_count": 285,
     "metadata": {},
     "output_type": "execute_result"
    },
    {
     "data": {
      "image/png": "[encoded data removed]",
      "text/plain": [
       "<Figure size 396x300 with 1 Axes>"
      ]
     },
     "metadata": {},
     "output_type": "display_data"
    }
   ],
   "source": [
    "plt.plot(logistic.svals(), 'x-', label= 'Singular Values')\n",
    "plt.plot(np.abs(logistic.eig()), 'x-', label = 'Eigenvalues')\n",
    "plt.margins(x=0)\n",
    "plt.yscale('log')\n",
    "plt.xlabel(\"Eigenvalue/Singular value index\")\n",
    "plt.legend(frameon=False, loc='lower center', bbox_to_anchor=(0, 1., 1, 0), ncol=2, fontsize=8)"
   ]
  },
  {
   "cell_type": "markdown",
   "metadata": {},
   "source": [
    "## Setting up an evaluation scheme.\n",
    "\n",
    "### Population estimators\n",
    "As we are able to compute everything for this system, we evaluate the performance of `DPNets` in two stages. In the first stage we take three different feature maps:\n",
    "1. Chebyshev polynomials up to order $\\ell$\n",
    "2. `VAMPNets` with latent dimension $\\ell$ (MLP architecture tbd)\n",
    "3. `DPNets` with latend dimension $\\ell$ (MLP architecture tbd)\n",
    "\n",
    "Given $\\phi \\colon [0, 1]\\to \\mathbb{R}^{\\ell}$, we evaluate $C_{ij} := \\int_{0}^{1} \\phi_{i}(x)\\phi_{j}(x) \\pi(dx)$, where $\\pi$ is the invariant distribution. And the cross covariance $C_{ij}^{\\times} := \\int_{0}^{1} \\phi_{i}(x)\\phi_{j}(y) \\pi(dx)p(x, dy) = \\sum_{n = 0}^{N}\\left(\\int_{0}^{1} \\phi_{i}(x)\\alpha_{n}(x)\\pi(dx)\\right)\\left(\\int_{0}^{1} \\phi_{j}(y)\\beta_{n}(y)dy\\right)$. As the kernel is separable, I just need to compute $2(N + 1)$ single integrals. \n",
    "\n",
    "Now, the OLS Transfer operator estimator is $G_{{\\rm OLS}} = C^{\\dagger}C^{\\times}$, from which I can compute:\n",
    "1. Directed Hausdorff spectral distance\n",
    "2. Approximation error $\\Vert [I - P_{\\mathcal{H}}]\\mathcal{T}|_{\\mathcal{H}}\\Vert$, for which $\\mathcal{P}$ and $\\mathcal{S}$ are proxies.\n",
    "3. VAMP-score $\\mathcal{P}$ + something related to metric distortion. An example could be $\\mathcal{P}/\\kappa (C)$\n",
    "\n",
    "### Empirical estimators\n",
    "In the second stage we pull into the ring every Koopman estimator we have and we compute, from data:\n",
    "\n",
    "- Directed Hausdorff distance as a metric for the spectral estimation.\n",
    "- MAE on 1-step ahead conditional expectation. Even if the system is stochastic, since it is of the form $X_{t + 1} = F(X_t) + \\xi_{t}$ where $\\xi_{t}$ is zero-mean, the expected value conditioned on $X_t = x$ is just $F(x)$."
   ]
  },
  {
   "cell_type": "markdown",
   "metadata": {},
   "source": [
    "# Population validators"
   ]
  },
  {
   "cell_type": "code",
   "execution_count": 268,
   "metadata": {},
   "outputs": [],
   "source": [
    "def population_covs(feature_map: FeatureMap, pow_of_two_k: int = 12):\n",
    "    \"\"\"Computes the population covariance and cross-covariance\"\"\"\n",
    "    x = np.linspace(0, 1, 2**pow_of_two_k + 1)\n",
    "    vals, lv = logistic.eig(eval_left_on=x)\n",
    "    perron_eig_idx = np.argmax(np.abs(vals))\n",
    "    pi = lv[:, perron_eig_idx]\n",
    "    assert np.isreal(pi).all()\n",
    "    pi = pi.real\n",
    "    pi = pi/romb(pi, dx = 1/2**pow_of_two_k) #Normalization of \\pi\n",
    "    #Evaluating the feature map\n",
    "    phi = feature_map(x) # [2**pow_of_two_k + 1, d]\n",
    "    #Covariance\n",
    "    cov_unfolded = phi.reshape(2**pow_of_two_k + 1, -1, 1)*phi.reshape(2**pow_of_two_k + 1, 1, -1)*pi.reshape(-1, 1, 1)\n",
    "    cov = romb(cov_unfolded, dx = 1/2**pow_of_two_k, axis=0)\n",
    "    #Cross-covariance\n",
    "    alphas = np.stack([logistic.noise_feature_composed_map(x, n) for n in range(logistic.N + 1)], axis = 1)\n",
    "    betas = np.stack([logistic.noise_feature(x, n) for n in range(logistic.N + 1)], axis = 1)\n",
    "\n",
    "    cov_alpha_unfolded = phi.reshape(2**pow_of_two_k + 1, -1, 1)*alphas.reshape(2**pow_of_two_k + 1, 1, -1)*pi.reshape(-1, 1, 1)\n",
    "    cov_beta_unfolded = phi.reshape(2**pow_of_two_k + 1, -1, 1)*betas.reshape(2**pow_of_two_k + 1, 1, -1)\n",
    "\n",
    "    cov_alpha = romb(cov_alpha_unfolded, dx = 1/2**pow_of_two_k, axis=0)\n",
    "    cov_beta = romb(cov_beta_unfolded, dx = 1/2**pow_of_two_k, axis=0)\n",
    "    \n",
    "    cross_cov = cov_alpha@(cov_beta.T)\n",
    "    return cov, cross_cov\n",
    "\n",
    "def evaluate_representation(feature_map: FeatureMap):\n",
    "    report = {}\n",
    "    #Compute OLS estimator\n",
    "    cov, cross_cov = population_covs(feature_map)\n",
    "    OLS_estimator = np.linalg.solve(cov, cross_cov)\n",
    "    #Eigenvalue estimation\n",
    "    OLS_eigs = np.linalg.eigvals(OLS_estimator)\n",
    "    report['hausdorff-dist'] = directed_hausdorff_distance(OLS_eigs, logistic.eig())\n",
    "    #VAMP2-score\n",
    "    M = np.linalg.multi_dot([np.linalg.pinv(cov, hermitian=True), cross_cov, np.linalg.pinv(cov, hermitian=True), cross_cov.T])\n",
    "    report['VAMP2-score'] = np.trace(M)\n",
    "    #Metric distortion\n",
    "    cov_eigs = np.linalg.eigvalsh(cov)\n",
    "    report['fro-Id-cov'] = np.mean((cov_eigs - np.ones_like(cov_eigs))**2)\n",
    "    report['feature-map'] = feature_map\n",
    "    return report\n",
    "\n",
    "def tabulate_reports(reports):\n",
    "    console = Console()\n",
    "    table = Table(show_header=True, header_style=\"bold\")\n",
    "    table.add_column(\"Representation\", justify='right')\n",
    "    table.add_column(\"Hausdorff dist\",justify='center')\n",
    "    table.add_column(\"VAMP2\",justify='center')\n",
    "    table.add_column(\"||Id - cov||^2\",justify='center')\n",
    "    for model_name, model_report in reports.items():\n",
    "        hausdorff = f\"{model_report['hausdorff-dist']:.3f}\"\n",
    "        SVD_err = f\"{model_report['VAMP2-score']:.3f}\"\n",
    "        fro_dist = f\"{model_report['fro-Id-cov']:.3f}\"\n",
    "        table.add_row(model_name, hausdorff, SVD_err, fro_dist)\n",
    "    console.print(table)\n",
    "\n",
    "def flatten_reports(reports):\n",
    "    #Reports must all be of depth 1 and with the same shape. No checks are performed \n",
    "    flattened = {}\n",
    "    for model_name, model_report in reports.items():\n",
    "        for report_stub, value in model_report.items():\n",
    "            if report_stub in flattened:\n",
    "                flattened[report_stub].append(value)\n",
    "            else:\n",
    "                flattened[report_stub] = [value]\n",
    "    return flattened"
   ]
  },
  {
   "cell_type": "code",
   "execution_count": 269,
   "metadata": {},
   "outputs": [],
   "source": [
    "def ChebyT(order: int = 3):\n",
    "    def scaled_chebyt(n, x):\n",
    "        return scipy.special.eval_chebyt(n, 2*x - 1)\n",
    "    fn_list = [partial(scaled_chebyt, n) for n in range(order + 1)]\n",
    "    return ConcatenateFeatureMaps(fn_list)   \n",
    "\n",
    "def ChebyU(order: int = 3):\n",
    "    def scaled_chebyu(n, x):\n",
    "        return scipy.special.eval_chebyu(n, 2*x - 1)\n",
    "    fn_list = [partial(scaled_chebyu, n) for n in range(order + 1)]\n",
    "    return ConcatenateFeatureMaps(fn_list)    "
   ]
  },
  {
   "cell_type": "code",
   "execution_count": 271,
   "metadata": {},
   "outputs": [],
   "source": [
    "reports = {}\n",
    "for i in range(1, 41):\n",
    "    model_name = f\"ChebyT-{i}\"\n",
    "    reports[model_name] = evaluate_representation(ChebyT(i))\n",
    "flattened = flatten_reports(reports)"
   ]
  },
  {
   "cell_type": "code",
   "execution_count": 287,
   "metadata": {},
   "outputs": [
    {
     "data": {
      "text/plain": [
       "<matplotlib.legend.Legend at 0x2916d66d0>"
      ]
     },
     "execution_count": 287,
     "metadata": {},
     "output_type": "execute_result"
    },
    {
     "data": {
      "image/png": "[encoded data removed]",
      "text/plain": [
       "<Figure size 396x300 with 1 Axes>"
      ]
     },
     "metadata": {},
     "output_type": "display_data"
    }
   ],
   "source": [
    "fig, ax = plt.subplots()\n",
    "svd_error = np.sum(logistic.svals()**2) - flattened['VAMP2-score']\n",
    "num_orders = len(svd_error)\n",
    "ax.axvline(x=logistic.N + 1, linestyle='--', color='k', alpha=0.5, lw=0.75, label ='True rank of $\\\\mathcal{T}$')\n",
    "ax.plot(np.arange(1, num_orders + 1), svd_error, label = r\"$\\mathcal{P} - \\sum_{i} \\sigma_{i}^{2}(\\mathcal{T})$\")\n",
    "\n",
    "ax.set_xlabel('Order of the Cheby-T polynomials')\n",
    "ax.set_yscale('log')\n",
    "ax.set_xmargin(0)\n",
    "ax.legend(frameon=False, loc='lower center', bbox_to_anchor=(0, 0.95, 1, 0), ncol=2, fontsize=8)\n"
   ]
  },
  {
   "cell_type": "markdown",
   "metadata": {},
   "source": [
    "### Defining a standard MLP architecture"
   ]
  },
  {
   "cell_type": "code",
   "execution_count": 318,
   "metadata": {},
   "outputs": [],
   "source": [
    "from collections import OrderedDict\n",
    "from copy import deepcopy\n",
    "class SimpleMLP(torch.nn.Module):\n",
    "    def __init__(self, hidden_dim: int, layer_dims: list[int], activation = torch.nn.SiLU):\n",
    "        super().__init__()\n",
    "        self.layer_dims = deepcopy(layer_dims)\n",
    "        self.layer_dims.append(hidden_dim)\n",
    "        self.layer_dims.insert(0, 1)\n",
    "        #Create an MLP from the layer dimensions\n",
    "        module_dict = OrderedDict()\n",
    "        for i in range(len(self.layer_dims) - 2):\n",
    "            module_dict[f\"linear_{i}\"] = torch.nn.Linear(self.layer_dims[i], self.layer_dims[i+1])\n",
    "            module_dict[f\"activation_{i}\"] = activation()\n",
    "        module_dict[f\"linear_{len(self.layer_dims) - 2}\"] = torch.nn.Linear(self.layer_dims[-2], self.layer_dims[-1])\n",
    "        self.mlp = torch.nn.Sequential(module_dict)\n",
    "    \n",
    "    def forward(self, x):\n",
    "        return self.mlp(x)"
   ]
  },
  {
   "cell_type": "markdown",
   "metadata": {},
   "source": [
    "### Tranining VAMPNets"
   ]
  },
  {
   "cell_type": "code",
   "execution_count": 346,
   "metadata": {},
   "outputs": [],
   "source": [
    "#Preparing the data\n",
    "train_ds = TrajToContextsDataset(torch.from_numpy(dataset['train']).float())\n",
    "val_ds = TrajToContextsDataset(torch.from_numpy(dataset['validation']).float())\n",
    "\n",
    "train_dl = DataLoader(train_ds, batch_size=configs.batch_size, shuffle=True)\n",
    "val_dl = DataLoader(val_ds, batch_size=len(val_ds), shuffle=False)"
   ]
  },
  {
   "cell_type": "code",
   "execution_count": 332,
   "metadata": {},
   "outputs": [
    {
     "name": "stderr",
     "output_type": "stream",
     "text": [
      "GPU available: True (mps), used: False\n",
      "TPU available: False, using: 0 TPU cores\n",
      "IPU available: False, using: 0 IPUs\n",
      "HPU available: False, using: 0 HPUs\n",
      "/Users/pietronovelli/anaconda3/envs/kooplearn/lib/python3.11/site-packages/lightning/pytorch/trainer/setup.py:201: UserWarning: MPS available but not used. Set `accelerator` and `devices` using `Trainer(accelerator='mps', devices=1)`.\n",
      "  rank_zero_warn(\n",
      "Global seed set to 0\n"
     ]
    }
   ],
   "source": [
    "from kooplearn.models.feature_maps import VAMPNet\n",
    "\n",
    "trainer_kwargs = {\n",
    "    'accelerator': 'cpu',\n",
    "    'devices': 1,\n",
    "    'max_epochs': configs.max_epochs,  \n",
    "    'log_every_n_steps': 3,\n",
    "}\n",
    "trainer = lightning.Trainer(**trainer_kwargs)\n",
    "\n",
    "lobe_kwargs = {\n",
    "    'hidden_dim': 5,\n",
    "    'layer_dims': configs.mlp_layer_dims\n",
    "}\n",
    "#Defining the model\n",
    "feature_map = VAMPNet(\n",
    "    SimpleMLP,\n",
    "    torch.optim.Adam,\n",
    "    {'lr': 1e-6},\n",
    "    trainer,\n",
    "    lobe_kwargs,\n",
    "    lobe_timelagged=SimpleMLP,\n",
    "    lobe_timelagged_kwargs=lobe_kwargs,\n",
    "    center_covariances=False,\n",
    "    seed=configs.rng_seed\n",
    ")"
   ]
  },
  {
   "cell_type": "code",
   "execution_count": 333,
   "metadata": {},
   "outputs": [
    {
     "name": "stderr",
     "output_type": "stream",
     "text": [
      "\n",
      "  | Name            | Type      | Params\n",
      "----------------------------------------------\n",
      "0 | lobe            | SimpleMLP | 19.1 K\n",
      "1 | lobe_timelagged | SimpleMLP | 19.1 K\n",
      "----------------------------------------------\n",
      "38.2 K    Trainable params\n",
      "0         Non-trainable params\n",
      "38.2 K    Total params\n",
      "0.153     Total estimated model params size (MB)\n"
     ]
    },
    {
     "name": "stdout",
     "output_type": "stream",
     "text": [
      "Fitting VAMPNet. Lookback window length set to 1\n"
     ]
    },
    {
     "name": "stderr",
     "output_type": "stream",
     "text": [
      "/Users/pietronovelli/anaconda3/envs/kooplearn/lib/python3.11/site-packages/lightning/pytorch/trainer/connectors/data_connector.py:432: PossibleUserWarning: The dataloader, train_dataloader, does not have many workers which may be a bottleneck. Consider increasing the value of the `num_workers` argument` (try 8 which is the number of cpus on this machine) in the `DataLoader` init to improve performance.\n",
      "  rank_zero_warn(\n"
     ]
    },
    {
     "data": {
      "application/vnd.jupyter.widget-view+json": {
       "model_id": "c2c8a7468ece489084aa8d9d0b3fbccf",
       "version_major": 2,
       "version_minor": 0
      },
      "text/plain": [
       "Training: 0it [00:00, ?it/s]"
      ]
     },
     "metadata": {},
     "output_type": "display_data"
    },
    {
     "name": "stderr",
     "output_type": "stream",
     "text": [
      "`Trainer.fit` stopped: `max_epochs=200` reached.\n"
     ]
    }
   ],
   "source": [
    "feature_map.fit(train_dl)"
   ]
  },
  {
   "cell_type": "code",
   "execution_count": 351,
   "metadata": {},
   "outputs": [
    {
     "name": "stderr",
     "output_type": "stream",
     "text": [
      "/Users/pietronovelli/anaconda3/envs/kooplearn/lib/python3.11/site-packages/lightning/pytorch/trainer/setup.py:201: UserWarning: MPS available but not used. Set `accelerator` and `devices` using `Trainer(accelerator='mps', devices=1)`.\n",
      "  rank_zero_warn(\n",
      "Global seed set to 0\n",
      "/Users/pietronovelli/anaconda3/envs/kooplearn/lib/python3.11/site-packages/lightning/pytorch/trainer/connectors/data_connector.py:432: PossibleUserWarning: The dataloader, train_dataloader, does not have many workers which may be a bottleneck. Consider increasing the value of the `num_workers` argument` (try 8 which is the number of cpus on this machine) in the `DataLoader` init to improve performance.\n",
      "  rank_zero_warn(\n",
      "Global seed set to 0\n",
      "Global seed set to 0\n",
      "Global seed set to 0\n",
      "Global seed set to 0\n",
      "Global seed set to 0\n",
      "Global seed set to 0\n",
      "Global seed set to 0\n",
      "Global seed set to 0\n",
      "Global seed set to 0\n",
      "Global seed set to 0\n",
      "Global seed set to 0\n",
      "Global seed set to 0\n",
      "Global seed set to 0\n",
      "Global seed set to 0\n",
      "Global seed set to 0\n",
      "Global seed set to 0\n",
      "Global seed set to 0\n",
      "Global seed set to 0\n",
      "Global seed set to 0\n",
      "Global seed set to 0\n",
      "Global seed set to 0\n",
      "Global seed set to 0\n",
      "Global seed set to 0\n",
      "Global seed set to 0\n",
      "Global seed set to 0\n",
      "Global seed set to 0\n",
      "Global seed set to 0\n",
      "Global seed set to 0\n",
      "Global seed set to 0\n",
      "Global seed set to 0\n",
      "Global seed set to 0\n",
      "Global seed set to 0\n",
      "Global seed set to 0\n",
      "Global seed set to 0\n",
      "Global seed set to 0\n",
      "Global seed set to 0\n",
      "Global seed set to 0\n",
      "Global seed set to 0\n",
      "Global seed set to 0\n",
      "Global seed set to 0\n",
      "Global seed set to 0\n",
      "Global seed set to 0\n",
      "Global seed set to 0\n",
      "Global seed set to 0\n",
      "Global seed set to 0\n",
      "Global seed set to 0\n",
      "Global seed set to 0\n",
      "Global seed set to 0\n",
      "Global seed set to 0\n",
      "Global seed set to 0\n",
      "Global seed set to 0\n",
      "Global seed set to 0\n",
      "Global seed set to 0\n",
      "Global seed set to 0\n",
      "Global seed set to 0\n",
      "Global seed set to 0\n",
      "Global seed set to 0\n",
      "Global seed set to 0\n",
      "Global seed set to 0\n",
      "Global seed set to 0\n",
      "Global seed set to 0\n",
      "Global seed set to 0\n",
      "Global seed set to 0\n",
      "Global seed set to 0\n",
      "Global seed set to 0\n",
      "Global seed set to 0\n",
      "Global seed set to 0\n",
      "Global seed set to 0\n",
      "Global seed set to 0\n",
      "Global seed set to 0\n",
      "Global seed set to 0\n",
      "Global seed set to 0\n",
      "Global seed set to 0\n",
      "Global seed set to 0\n",
      "Global seed set to 0\n",
      "Global seed set to 0\n",
      "Global seed set to 0\n",
      "Global seed set to 0\n",
      "Global seed set to 0\n",
      "Global seed set to 0\n",
      "Global seed set to 0\n",
      "Global seed set to 0\n",
      "Global seed set to 0\n",
      "Global seed set to 0\n",
      "Global seed set to 0\n",
      "Global seed set to 0\n",
      "Global seed set to 0\n",
      "Global seed set to 0\n",
      "Global seed set to 0\n",
      "Global seed set to 0\n",
      "Global seed set to 0\n",
      "Global seed set to 0\n",
      "Global seed set to 0\n",
      "Global seed set to 0\n",
      "Global seed set to 0\n",
      "Global seed set to 0\n",
      "Global seed set to 0\n",
      "Global seed set to 0\n",
      "Global seed set to 0\n"
     ]
    }
   ],
   "source": [
    "import logging\n",
    "logging.getLogger(\"lightning.pytorch.utilities.rank_zero\").setLevel(logging.WARNING) #Remove annoying logging\n",
    "#LR behaviour after 1 epoch\n",
    "lrs = torch.logspace(-7, -4, 100)\n",
    "scores = []\n",
    "for lr in lrs:\n",
    "    trainer_kwargs = {\n",
    "        'accelerator': 'cpu',\n",
    "        'devices': 1,\n",
    "        'max_epochs': 2,  \n",
    "        'log_every_n_steps': 3,\n",
    "        'enable_progress_bar': False,\n",
    "        'enable_model_summary': False\n",
    "    }\n",
    "    trainer = lightning.Trainer(**trainer_kwargs)\n",
    "\n",
    "    lobe_kwargs = {\n",
    "        'hidden_dim': 5,\n",
    "        'layer_dims': configs.mlp_layer_dims\n",
    "    }\n",
    "\n",
    "    #Defining the model\n",
    "    feature_map = VAMPNet(\n",
    "        SimpleMLP,\n",
    "        torch.optim.Adam,\n",
    "        {'lr': lr.item()},\n",
    "        trainer,\n",
    "        lobe_kwargs,\n",
    "        lobe_timelagged=SimpleMLP,\n",
    "        lobe_timelagged_kwargs=lobe_kwargs,\n",
    "        center_covariances=False,\n",
    "        seed=configs.rng_seed\n",
    "    )\n",
    "    feature_map.fit(train_dl, verbose = False)\n",
    "    scores.append(feature_map.lightning_trainer.logged_metrics['train/VAMP_score'].item())"
   ]
  },
  {
   "cell_type": "markdown",
   "metadata": {},
   "source": [
    "### Training DPNets seems hard: no learning rate give a whatsoever update after 2 epochs"
   ]
  },
  {
   "cell_type": "code",
   "execution_count": 352,
   "metadata": {},
   "outputs": [
    {
     "data": {
      "text/plain": [
       "Text(0.5, 0, 'Learning rate')"
      ]
     },
     "execution_count": 352,
     "metadata": {},
     "output_type": "execute_result"
    },
    {
     "data": {
      "image/png": "[encoded data removed]",
      "text/plain": [
       "<Figure size 396x300 with 1 Axes>"
      ]
     },
     "metadata": {},
     "output_type": "display_data"
    }
   ],
   "source": [
    "plt.plot(lrs, scores)\n",
    "plt.xscale('log')\n",
    "plt.xlabel('Learning rate')"
   ]
  },
  {
   "cell_type": "code",
   "execution_count": null,
   "metadata": {},
   "outputs": [],
   "source": []
  }
 ],
 "metadata": {
  "kernelspec": {
   "display_name": "kooplearn",
   "language": "python",
   "name": "python3"
  },
  "language_info": {
   "codemirror_mode": {
    "name": "ipython",
    "version": 3
   },
   "file_extension": ".py",
   "mimetype": "text/x-python",
   "name": "python",
   "nbconvert_exporter": "python",
   "pygments_lexer": "ipython3",
   "version": "3.11.4"
  },
  "orig_nbformat": 4
 },
 "nbformat": 4,
 "nbformat_minor": 2
}
