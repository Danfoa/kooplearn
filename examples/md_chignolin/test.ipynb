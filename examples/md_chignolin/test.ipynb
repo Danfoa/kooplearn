{
 "cells": [
  {
   "cell_type": "code",
   "execution_count": 1,
   "metadata": {},
   "outputs": [],
   "source": [
    "import h5py\n",
    "import numpy as np\n",
    "from minimum_image_kernels import RBF\n",
    "from scipy.sparse.linalg import aslinearoperator\n",
    "import sys\n",
    "sys.path.append(\"../../\")\n",
    "from DynamicalSystems.reduced_rank_regression import reduced_rank_regression\n",
    "import matplotlib.pyplot as plt"
   ]
  },
  {
   "cell_type": "code",
   "execution_count": 53,
   "metadata": {},
   "outputs": [],
   "source": [
    "def print_attrs(name, obj):\n",
    "    print(name)\n",
    "    for key, val in obj.attrs.items():\n",
    "        print (f\"    {key}: {val}\")\n",
    "chignolin_path = '../../../data/md_datasets/chignolin-unbiased/CLN025-0-protein-ALL.h5'\n",
    "f = h5py.File(chignolin_path, 'r')"
   ]
  },
  {
   "cell_type": "code",
   "execution_count": 54,
   "metadata": {},
   "outputs": [],
   "source": [
    "dists = f['coordinates'][::20, :,:]\n",
    "timesteps, n_atoms, dims = dists.shape\n",
    "dists = dists.reshape(timesteps, n_atoms*dims)\n",
    "unit_cell_length = f['cell_lengths'][0,0]"
   ]
  },
  {
   "cell_type": "code",
   "execution_count": 81,
   "metadata": {},
   "outputs": [],
   "source": [
    "kernel = RBF(length_scale=15, unit_cell_length=unit_cell_length)"
   ]
  },
  {
   "cell_type": "code",
   "execution_count": 82,
   "metadata": {},
   "outputs": [],
   "source": [
    "inputs = dists[:-1]\n",
    "evolved_inputs = dists[1:]"
   ]
  },
  {
   "cell_type": "code",
   "execution_count": 83,
   "metadata": {},
   "outputs": [
    {
     "data": {
      "text/plain": [
       "(26237, 498)"
      ]
     },
     "execution_count": 83,
     "metadata": {},
     "output_type": "execute_result"
    }
   ],
   "source": [
    "inputs.shape"
   ]
  },
  {
   "cell_type": "code",
   "execution_count": 84,
   "metadata": {},
   "outputs": [
    {
     "name": "stdout",
     "output_type": "stream",
     "text": [
      "[pyKeOps] Compiling libKeOpsnumpy4df14ee0f4 in /home/novelli/.cache/pykeops-1.5-cpython-38:\n",
      "       formula: Sum_Reduction(((Exp((Minus(Square(Sqrt(Sum(Square(((Var(0,498,0) - Var(1,498,1)) - (Var(3,1,2) * Round(((Var(0,498,0) - Var(1,498,1)) / Var(2,1,2)),0)))))))) / IntCst(450))) / IntCst(26237)) * Var(4,1,1)),0)\n",
      "       aliases: Var(0,498,0); Var(1,498,1); Var(2,1,2); Var(3,1,2); Var(4,1,1); \n",
      "       dtype  : float32\n",
      "... \n",
      "Done.\n",
      "[pyKeOps] Compiling libKeOpsnumpy97778f5aef in /home/novelli/.cache/pykeops-1.5-cpython-38:\n",
      "       formula: Sum_Reduction((Exp((Minus(Square(Sqrt(Sum(Square(((Var(0,498,0) - Var(1,498,1)) - (Var(3,1,2) * Round(((Var(0,498,0) - Var(1,498,1)) / Var(2,1,2)),0)))))))) / IntCst(450))) * Var(4,1,1)),0)\n",
      "       aliases: Var(0,498,0); Var(1,498,1); Var(2,1,2); Var(3,1,2); Var(4,1,1); \n",
      "       dtype  : float32\n",
      "... \n",
      "Done.\n",
      "[pyKeOps] Compiling libKeOpsnumpya0430f3cdc in /home/novelli/.cache/pykeops-1.5-cpython-38:\n",
      "       formula: Sum_Reduction(ComplexScal(Real2Complex((Exp((Minus(Square(Sqrt(Sum(Square(((Var(0,498,0) - Var(1,498,1)) - (Var(3,1,2) * Round(((Var(0,498,0) - Var(1,498,1)) / Var(2,1,2)),0)))))))) / IntCst(450))) / IntCst(26237))), Var(4,2,1)),0)\n",
      "       aliases: Var(0,498,0); Var(1,498,1); Var(2,1,2); Var(3,1,2); Var(4,2,1); \n",
      "       dtype  : float32\n",
      "... \n",
      "Done.\n",
      "[pyKeOps] Compiling libKeOpsnumpy8b9900fb75 in /home/novelli/.cache/pykeops-1.5-cpython-38:\n",
      "       formula: Sum_Reduction(ComplexScal(Real2Complex(Exp((Minus(Square(Sqrt(Sum(Square(((Var(0,498,0) - Var(1,498,1)) - (Var(3,1,2) * Round(((Var(0,498,0) - Var(1,498,1)) / Var(2,1,2)),0)))))))) / IntCst(450)))), Var(4,2,1)),0)\n",
      "       aliases: Var(0,498,0); Var(1,498,1); Var(2,1,2); Var(3,1,2); Var(4,2,1); \n",
      "       dtype  : float32\n",
      "... \n",
      "Done.\n"
     ]
    }
   ],
   "source": [
    "evals, evecs = reduced_rank_regression(inputs, evolved_inputs, kernel, 5, regularizer=5e-2, backend='keops')"
   ]
  },
  {
   "cell_type": "code",
   "execution_count": 85,
   "metadata": {},
   "outputs": [
    {
     "data": {
      "text/plain": [
       "(-0.05544700752943754,\n",
       " 0.8860741695389152,\n",
       " -0.01837434759363532,\n",
       " 0.023535351734608412)"
      ]
     },
     "execution_count": 85,
     "metadata": {},
     "output_type": "execute_result"
    },
    {
     "data": {
      "image/png": "[encoded data removed]",
      "text/plain": [
       "<Figure size 432x288 with 1 Axes>"
      ]
     },
     "metadata": {
      "needs_background": "light"
     },
     "output_type": "display_data"
    }
   ],
   "source": [
    "plt.plot(np.real(evals), np.imag(evals), 'k.')\n",
    "plt.axis(\"equal\")"
   ]
  },
  {
   "cell_type": "code",
   "execution_count": 78,
   "metadata": {},
   "outputs": [],
   "source": [
    "CVs = aslinearoperator(kernel(inputs, backend='keops'))@evecs\n",
    "CVs = np.abs(CVs)"
   ]
  },
  {
   "cell_type": "code",
   "execution_count": 86,
   "metadata": {},
   "outputs": [
    {
     "data": {
      "image/png": "[encoded data removed]",
      "text/plain": [
       "<Figure size 432x288 with 1 Axes>"
      ]
     },
     "metadata": {
      "needs_background": "light"
     },
     "output_type": "display_data"
    }
   ],
   "source": [
    "from stateinterpreter.utils.numerical_utils import gaussian_kde\n",
    "def f(x):\n",
    "    kde = gaussian_kde(CVs[:,x][:,np.newaxis], bandwidth=0.001)\n",
    "    bounds = (CVs[:,x].min(),CVs[:,x].max())\n",
    "    padding = 0\n",
    "    cv_sample = np.linspace(bounds[0] - padding, bounds[1] + padding, 1000)[:,np.newaxis]\n",
    "    fes = -kde.logpdf(cv_sample)\n",
    "    fes = fes - fes.min()\n",
    "    plt.plot(cv_sample, fes, 'k-')\n",
    "    plt.margins(0)\n",
    "    plt.xlabel(f\"Kernel_DMD_{x}\")\n",
    "    plt.ylabel(r\"Fes $[K_{\\rm{B}}T]$\")\n",
    "    full_fes = -kde.logpdf(CVs[:,x][:,np.newaxis])\n",
    "    return full_fes - full_fes.min()\n",
    "fes = f(0)"
   ]
  },
  {
   "cell_type": "code",
   "execution_count": 90,
   "metadata": {},
   "outputs": [],
   "source": [
    "folded_state_mask = fes < 0.5\n",
    "folded_inputs = inputs[folded_state_mask]\n",
    "folded_evolved_inputs = evolved_inputs[folded_state_mask]\n",
    "folded_kernel = RBF(length_scale=5, unit_cell_length=unit_cell_length)"
   ]
  },
  {
   "cell_type": "code",
   "execution_count": 91,
   "metadata": {},
   "outputs": [
    {
     "name": "stdout",
     "output_type": "stream",
     "text": [
      "[pyKeOps] Compiling libKeOpsnumpy9dfb9da917 in /home/novelli/.cache/pykeops-1.5-cpython-38:\n",
      "       formula: Sum_Reduction(((Exp((Minus(Square(Sqrt(Sum(Square(((Var(0,498,0) - Var(1,498,1)) - (Var(3,1,2) * Round(((Var(0,498,0) - Var(1,498,1)) / Var(2,1,2)),0)))))))) / IntCst(50))) / IntCst(15543)) * Var(4,1,1)),0)\n",
      "       aliases: Var(0,498,0); Var(1,498,1); Var(2,1,2); Var(3,1,2); Var(4,1,1); \n",
      "       dtype  : float32\n",
      "... \n",
      "Done.\n",
      "[pyKeOps] Compiling libKeOpsnumpy503a637d19 in /home/novelli/.cache/pykeops-1.5-cpython-38:\n",
      "       formula: Sum_Reduction((Exp((Minus(Square(Sqrt(Sum(Square(((Var(0,498,0) - Var(1,498,1)) - (Var(3,1,2) * Round(((Var(0,498,0) - Var(1,498,1)) / Var(2,1,2)),0)))))))) / IntCst(50))) * Var(4,1,1)),0)\n",
      "       aliases: Var(0,498,0); Var(1,498,1); Var(2,1,2); Var(3,1,2); Var(4,1,1); \n",
      "       dtype  : float32\n",
      "... \n",
      "Done.\n",
      "[pyKeOps] Compiling libKeOpsnumpyb3b5e022aa in /home/novelli/.cache/pykeops-1.5-cpython-38:\n",
      "       formula: Sum_Reduction(ComplexScal(Real2Complex((Exp((Minus(Square(Sqrt(Sum(Square(((Var(0,498,0) - Var(1,498,1)) - (Var(3,1,2) * Round(((Var(0,498,0) - Var(1,498,1)) / Var(2,1,2)),0)))))))) / IntCst(50))) / IntCst(15543))), Var(4,2,1)),0)\n",
      "       aliases: Var(0,498,0); Var(1,498,1); Var(2,1,2); Var(3,1,2); Var(4,2,1); \n",
      "       dtype  : float32\n",
      "... \n",
      "Done.\n",
      "[pyKeOps] Compiling libKeOpsnumpyca174b20e0 in /home/novelli/.cache/pykeops-1.5-cpython-38:\n",
      "       formula: Sum_Reduction(ComplexScal(Real2Complex(Exp((Minus(Square(Sqrt(Sum(Square(((Var(0,498,0) - Var(1,498,1)) - (Var(3,1,2) * Round(((Var(0,498,0) - Var(1,498,1)) / Var(2,1,2)),0)))))))) / IntCst(50)))), Var(4,2,1)),0)\n",
      "       aliases: Var(0,498,0); Var(1,498,1); Var(2,1,2); Var(3,1,2); Var(4,2,1); \n",
      "       dtype  : float32\n",
      "... \n",
      "Done.\n"
     ]
    }
   ],
   "source": [
    "folded_evals, folded_evecs = reduced_rank_regression(folded_inputs, folded_evolved_inputs, folded_kernel, 10, regularizer=1e-2, backend='keops')"
   ]
  },
  {
   "cell_type": "code",
   "execution_count": 92,
   "metadata": {},
   "outputs": [
    {
     "data": {
      "text/plain": [
       "(-0.021178915165364742,\n",
       " 0.1778509197756648,\n",
       " -0.008116474049165845,\n",
       " 0.008138010883703828)"
      ]
     },
     "execution_count": 92,
     "metadata": {},
     "output_type": "execute_result"
    },
    {
     "data": {
      "image/png": "[encoded data removed]",
      "text/plain": [
       "<Figure size 432x288 with 1 Axes>"
      ]
     },
     "metadata": {
      "needs_background": "light"
     },
     "output_type": "display_data"
    }
   ],
   "source": [
    "plt.plot(np.real(folded_evals), np.imag(folded_evals), 'k.')\n",
    "plt.axis(\"equal\")"
   ]
  },
  {
   "cell_type": "code",
   "execution_count": 93,
   "metadata": {},
   "outputs": [
    {
     "data": {
      "text/plain": [
       "array([ 1.68804109e-01+9.4063580e-08j, -1.21321045e-02-1.5522353e-05j,\n",
       "        8.25649220e-03+6.0105533e-03j,  8.27604812e-03-6.0263043e-03j,\n",
       "        1.13984477e-03+7.3991707e-03j,  7.21149053e-03+5.3596261e-05j,\n",
       "        1.24128524e-03-7.3776338e-03j, -4.63351840e-03+7.9005782e-05j,\n",
       "       -1.00566394e-04+4.0946244e-03j, -1.50503867e-04-4.1269767e-03j],\n",
       "      dtype=complex64)"
      ]
     },
     "execution_count": 93,
     "metadata": {},
     "output_type": "execute_result"
    }
   ],
   "source": [
    "folded_evals"
   ]
  },
  {
   "cell_type": "code",
   "execution_count": 94,
   "metadata": {},
   "outputs": [],
   "source": [
    "folded_CVs = aslinearoperator(folded_kernel(folded_inputs, backend='keops'))@folded_evecs\n",
    "folded_CVs = np.real((folded_CVs - np.mean(folded_CVs, axis=0))/np.std(folded_CVs, axis = 0))\n",
    "folded_CVs = np.abs(folded_CVs)"
   ]
  },
  {
   "cell_type": "code",
   "execution_count": 99,
   "metadata": {},
   "outputs": [
    {
     "data": {
      "image/png": "[encoded data removed]",
      "text/plain": [
       "<Figure size 432x288 with 1 Axes>"
      ]
     },
     "metadata": {
      "needs_background": "light"
     },
     "output_type": "display_data"
    }
   ],
   "source": [
    "def f(x):\n",
    "    kde = gaussian_kde(folded_CVs[:,x][:,np.newaxis], bandwidth=0.05)\n",
    "    bounds = (folded_CVs[:,x].min(),folded_CVs[:,x].max())\n",
    "    padding = 0\n",
    "    cv_sample = np.linspace(bounds[0] - padding, bounds[1] + padding, 5000)[:,np.newaxis]\n",
    "    fes = -kde.logpdf(cv_sample)\n",
    "    fes = fes - fes.min()\n",
    "    plt.plot(cv_sample, fes, 'k-')\n",
    "    plt.margins(0)\n",
    "    plt.xlabel(f\"Kernel_DMD_{x}\")\n",
    "    plt.ylabel(r\"Fes $[K_{\\rm{B}}T]$\")\n",
    "    full_fes = -kde.logpdf(folded_CVs[:,x][:,np.newaxis])\n",
    "    return full_fes - full_fes.min()\n",
    "fes = f(0)"
   ]
  },
  {
   "cell_type": "code",
   "execution_count": 105,
   "metadata": {},
   "outputs": [
    {
     "name": "stdout",
     "output_type": "stream",
     "text": [
      "Computing Hydrogen bonds distances\n",
      "Donors: [0, 15, 23, 36, 44, 70, 85, 91, 99, 106, 112, 120, 130, 147, 160]\n",
      "Acceptors: [  0  15  22  23  36  43  44  52  53  55  56  69  70  81  82  84  85  91\n",
      "  98  99 105 106 112 119 120 130 143 145 146 147 160]\n",
      "Descriptors: (26238, 318)\n"
     ]
    }
   ],
   "source": [
    "import pandas as pd\n",
    "from stateinterpreter.metastable import identify_metastable_states\n",
    "from stateinterpreter.ml import Classifier, prepare_training_dataset\n",
    "\n",
    "from stateinterpreter.descriptors import compute_descriptors\n",
    "from stateinterpreter.utils.io import load_trajectory\n",
    "chignolin_data_path = '../../../data/md_datasets/chignolin-unbiased/'\n",
    "traj_dict = {\n",
    "        'trajectory' : chignolin_data_path+'CLN025-0-protein-ALL.dcd',\n",
    "        'topology' : chignolin_data_path+'CLN025-0-protein.pdb'\n",
    "    }\n",
    "traj = load_trajectory(traj_dict)\n",
    "\n",
    "col_names = [f\"Kernel_DMD_{idx}\" for idx in range(CVs.shape[1])]\n",
    "colvars = pd.DataFrame(CVs, columns=col_names)\n",
    "\n",
    "descriptors, feats_info = compute_descriptors(traj[::20], descriptors=['hbonds_distances'])"
   ]
  },
  {
   "cell_type": "code",
   "execution_count": 106,
   "metadata": {},
   "outputs": [
    {
     "name": "stdout",
     "output_type": "stream",
     "text": [
      "DEV >>> Finding Local Minima\n",
      "DEV >>> Basin Assignment\n",
      "Found 2 local minima with selected populations:\n",
      "\tBasin 0 -> 2381 configurations.\n",
      "\tBasin 1 -> 8694 configurations.\n"
     ]
    }
   ],
   "source": [
    "cv_list = [\"Kernel_DMD_0\"]\n",
    "kBT = 2.8\n",
    "bandwidth=0.0015\n",
    "states_labels = identify_metastable_states(colvars, cv_list, kBT, bandwidth, fes_cutoff=0.1*kBT, optimizer_kwargs={'num_init' : 50})"
   ]
  },
  {
   "cell_type": "code",
   "execution_count": 102,
   "metadata": {},
   "outputs": [
    {
     "data": {
      "text/plain": [
       "(26237, 2)"
      ]
     },
     "execution_count": 102,
     "metadata": {},
     "output_type": "execute_result"
    }
   ],
   "source": [
    "states_labels.shape"
   ]
  },
  {
   "cell_type": "code",
   "execution_count": 104,
   "metadata": {},
   "outputs": [
    {
     "name": "stderr",
     "output_type": "stream",
     "text": [
      "/home/novelli/md-stateinterpreter/stateinterpreter/ml.py:54: FutureWarning: elementwise comparison failed; returning scalar instead, but in the future will perform elementwise comparison\n",
      "  states_subset = states_subset[states_subset != 'undefined' ]\n"
     ]
    },
    {
     "ename": "ValueError",
     "evalue": "('Lengths must match to compare', (26237,), (2,))",
     "output_type": "error",
     "traceback": [
      "\u001b[0;31m---------------------------------------------------------------------------\u001b[0m",
      "\u001b[0;31mValueError\u001b[0m                                Traceback (most recent call last)",
      "\u001b[0;32m<ipython-input-104-dec1ca59a8c6>\u001b[0m in \u001b[0;36m<module>\u001b[0;34m\u001b[0m\n\u001b[0;32m----> 1\u001b[0;31m \u001b[0msample_obj\u001b[0m\u001b[0;34m,\u001b[0m \u001b[0mfeatures_names\u001b[0m\u001b[0;34m,\u001b[0m \u001b[0mclasses_names\u001b[0m \u001b[0;34m=\u001b[0m \u001b[0mprepare_training_dataset\u001b[0m\u001b[0;34m(\u001b[0m\u001b[0mdescriptors\u001b[0m\u001b[0;34m[\u001b[0m\u001b[0;34m:\u001b[0m\u001b[0;34m-\u001b[0m\u001b[0;36m1\u001b[0m\u001b[0;34m]\u001b[0m\u001b[0;34m,\u001b[0m \u001b[0mstates_labels\u001b[0m\u001b[0;34m,\u001b[0m \u001b[0;36m1000\u001b[0m\u001b[0;34m)\u001b[0m\u001b[0;34m\u001b[0m\u001b[0;34m\u001b[0m\u001b[0m\n\u001b[0m\u001b[1;32m      2\u001b[0m \u001b[0mregularizers\u001b[0m \u001b[0;34m=\u001b[0m \u001b[0mnp\u001b[0m\u001b[0;34m.\u001b[0m\u001b[0mgeomspace\u001b[0m\u001b[0;34m(\u001b[0m\u001b[0;36m0.01\u001b[0m\u001b[0;34m,\u001b[0m \u001b[0;36m1\u001b[0m\u001b[0;34m,\u001b[0m \u001b[0;36m50\u001b[0m\u001b[0;34m)\u001b[0m\u001b[0;34m\u001b[0m\u001b[0;34m\u001b[0m\u001b[0m\n\u001b[1;32m      3\u001b[0m \u001b[0mclassifier\u001b[0m \u001b[0;34m=\u001b[0m \u001b[0mClassifier\u001b[0m\u001b[0;34m(\u001b[0m\u001b[0msample_obj\u001b[0m\u001b[0;34m,\u001b[0m \u001b[0mfeatures_names\u001b[0m\u001b[0;34m,\u001b[0m \u001b[0mclasses_names\u001b[0m\u001b[0;34m)\u001b[0m\u001b[0;34m\u001b[0m\u001b[0;34m\u001b[0m\u001b[0m\n\u001b[1;32m      4\u001b[0m \u001b[0mclassifier\u001b[0m\u001b[0;34m.\u001b[0m\u001b[0mcompute\u001b[0m\u001b[0;34m(\u001b[0m\u001b[0mregularizers\u001b[0m\u001b[0;34m,\u001b[0m \u001b[0mmax_iter\u001b[0m\u001b[0;34m=\u001b[0m \u001b[0;36m10000\u001b[0m\u001b[0;34m,\u001b[0m \u001b[0mquadratic_kernel\u001b[0m\u001b[0;34m=\u001b[0m\u001b[0;32mFalse\u001b[0m\u001b[0;34m)\u001b[0m\u001b[0;34m\u001b[0m\u001b[0;34m\u001b[0m\u001b[0m\n\u001b[1;32m      5\u001b[0m \u001b[0mclassifier\u001b[0m\u001b[0;34m.\u001b[0m\u001b[0mplot\u001b[0m\u001b[0;34m(\u001b[0m\u001b[0;34m)\u001b[0m\u001b[0;34m;\u001b[0m\u001b[0;34m\u001b[0m\u001b[0;34m\u001b[0m\u001b[0m\n",
      "\u001b[0;32m~/md-stateinterpreter/stateinterpreter/ml.py\u001b[0m in \u001b[0;36mprepare_training_dataset\u001b[0;34m(descriptors, states_labels, n_configs, regex_filter, states_subset)\u001b[0m\n\u001b[1;32m     56\u001b[0m     \u001b[0;32mfor\u001b[0m \u001b[0mlabel\u001b[0m \u001b[0;32min\u001b[0m \u001b[0mstates_subset\u001b[0m\u001b[0;34m:\u001b[0m\u001b[0;34m\u001b[0m\u001b[0;34m\u001b[0m\u001b[0m\n\u001b[1;32m     57\u001b[0m         \u001b[0;31m#select label\u001b[0m\u001b[0;34m\u001b[0m\u001b[0;34m\u001b[0m\u001b[0;34m\u001b[0m\u001b[0m\n\u001b[0;32m---> 58\u001b[0;31m         \u001b[0mdf\u001b[0m \u001b[0;34m=\u001b[0m \u001b[0mdescriptors\u001b[0m\u001b[0;34m.\u001b[0m\u001b[0mloc\u001b[0m\u001b[0;34m[\u001b[0m \u001b[0;34m(\u001b[0m\u001b[0mstates_labels\u001b[0m\u001b[0;34m[\u001b[0m\u001b[0;34m'labels'\u001b[0m\u001b[0;34m]\u001b[0m \u001b[0;34m==\u001b[0m \u001b[0mlabel\u001b[0m\u001b[0;34m)\u001b[0m \u001b[0;34m&\u001b[0m \u001b[0;34m(\u001b[0m\u001b[0mstates_labels\u001b[0m\u001b[0;34m[\u001b[0m\u001b[0;34m'selection'\u001b[0m\u001b[0;34m]\u001b[0m \u001b[0;34m==\u001b[0m \u001b[0;32mTrue\u001b[0m\u001b[0;34m)\u001b[0m\u001b[0;34m]\u001b[0m\u001b[0;34m\u001b[0m\u001b[0;34m\u001b[0m\u001b[0m\n\u001b[0m\u001b[1;32m     59\u001b[0m         \u001b[0;31m#select descriptors and sample\u001b[0m\u001b[0;34m\u001b[0m\u001b[0;34m\u001b[0m\u001b[0;34m\u001b[0m\u001b[0m\n\u001b[1;32m     60\u001b[0m         \u001b[0mreplace\u001b[0m \u001b[0;34m=\u001b[0m \u001b[0;32mFalse\u001b[0m\u001b[0;34m\u001b[0m\u001b[0;34m\u001b[0m\u001b[0m\n",
      "\u001b[0;32m~/anaconda3/lib/python3.8/site-packages/pandas/core/ops/common.py\u001b[0m in \u001b[0;36mnew_method\u001b[0;34m(self, other)\u001b[0m\n\u001b[1;32m     63\u001b[0m         \u001b[0mother\u001b[0m \u001b[0;34m=\u001b[0m \u001b[0mitem_from_zerodim\u001b[0m\u001b[0;34m(\u001b[0m\u001b[0mother\u001b[0m\u001b[0;34m)\u001b[0m\u001b[0;34m\u001b[0m\u001b[0;34m\u001b[0m\u001b[0m\n\u001b[1;32m     64\u001b[0m \u001b[0;34m\u001b[0m\u001b[0m\n\u001b[0;32m---> 65\u001b[0;31m         \u001b[0;32mreturn\u001b[0m \u001b[0mmethod\u001b[0m\u001b[0;34m(\u001b[0m\u001b[0mself\u001b[0m\u001b[0;34m,\u001b[0m \u001b[0mother\u001b[0m\u001b[0;34m)\u001b[0m\u001b[0;34m\u001b[0m\u001b[0;34m\u001b[0m\u001b[0m\n\u001b[0m\u001b[1;32m     66\u001b[0m \u001b[0;34m\u001b[0m\u001b[0m\n\u001b[1;32m     67\u001b[0m     \u001b[0;32mreturn\u001b[0m \u001b[0mnew_method\u001b[0m\u001b[0;34m\u001b[0m\u001b[0;34m\u001b[0m\u001b[0m\n",
      "\u001b[0;32m~/anaconda3/lib/python3.8/site-packages/pandas/core/arraylike.py\u001b[0m in \u001b[0;36m__eq__\u001b[0;34m(self, other)\u001b[0m\n\u001b[1;32m     27\u001b[0m     \u001b[0;34m@\u001b[0m\u001b[0munpack_zerodim_and_defer\u001b[0m\u001b[0;34m(\u001b[0m\u001b[0;34m\"__eq__\"\u001b[0m\u001b[0;34m)\u001b[0m\u001b[0;34m\u001b[0m\u001b[0;34m\u001b[0m\u001b[0m\n\u001b[1;32m     28\u001b[0m     \u001b[0;32mdef\u001b[0m \u001b[0m__eq__\u001b[0m\u001b[0;34m(\u001b[0m\u001b[0mself\u001b[0m\u001b[0;34m,\u001b[0m \u001b[0mother\u001b[0m\u001b[0;34m)\u001b[0m\u001b[0;34m:\u001b[0m\u001b[0;34m\u001b[0m\u001b[0;34m\u001b[0m\u001b[0m\n\u001b[0;32m---> 29\u001b[0;31m         \u001b[0;32mreturn\u001b[0m \u001b[0mself\u001b[0m\u001b[0;34m.\u001b[0m\u001b[0m_cmp_method\u001b[0m\u001b[0;34m(\u001b[0m\u001b[0mother\u001b[0m\u001b[0;34m,\u001b[0m \u001b[0moperator\u001b[0m\u001b[0;34m.\u001b[0m\u001b[0meq\u001b[0m\u001b[0;34m)\u001b[0m\u001b[0;34m\u001b[0m\u001b[0;34m\u001b[0m\u001b[0m\n\u001b[0m\u001b[1;32m     30\u001b[0m \u001b[0;34m\u001b[0m\u001b[0m\n\u001b[1;32m     31\u001b[0m     \u001b[0;34m@\u001b[0m\u001b[0munpack_zerodim_and_defer\u001b[0m\u001b[0;34m(\u001b[0m\u001b[0;34m\"__ne__\"\u001b[0m\u001b[0;34m)\u001b[0m\u001b[0;34m\u001b[0m\u001b[0;34m\u001b[0m\u001b[0m\n",
      "\u001b[0;32m~/anaconda3/lib/python3.8/site-packages/pandas/core/series.py\u001b[0m in \u001b[0;36m_cmp_method\u001b[0;34m(self, other, op)\u001b[0m\n\u001b[1;32m   4976\u001b[0m         \u001b[0mrvalues\u001b[0m \u001b[0;34m=\u001b[0m \u001b[0mextract_array\u001b[0m\u001b[0;34m(\u001b[0m\u001b[0mother\u001b[0m\u001b[0;34m,\u001b[0m \u001b[0mextract_numpy\u001b[0m\u001b[0;34m=\u001b[0m\u001b[0;32mTrue\u001b[0m\u001b[0;34m)\u001b[0m\u001b[0;34m\u001b[0m\u001b[0;34m\u001b[0m\u001b[0m\n\u001b[1;32m   4977\u001b[0m \u001b[0;34m\u001b[0m\u001b[0m\n\u001b[0;32m-> 4978\u001b[0;31m         \u001b[0mres_values\u001b[0m \u001b[0;34m=\u001b[0m \u001b[0mops\u001b[0m\u001b[0;34m.\u001b[0m\u001b[0mcomparison_op\u001b[0m\u001b[0;34m(\u001b[0m\u001b[0mlvalues\u001b[0m\u001b[0;34m,\u001b[0m \u001b[0mrvalues\u001b[0m\u001b[0;34m,\u001b[0m \u001b[0mop\u001b[0m\u001b[0;34m)\u001b[0m\u001b[0;34m\u001b[0m\u001b[0;34m\u001b[0m\u001b[0m\n\u001b[0m\u001b[1;32m   4979\u001b[0m \u001b[0;34m\u001b[0m\u001b[0m\n\u001b[1;32m   4980\u001b[0m         \u001b[0;32mreturn\u001b[0m \u001b[0mself\u001b[0m\u001b[0;34m.\u001b[0m\u001b[0m_construct_result\u001b[0m\u001b[0;34m(\u001b[0m\u001b[0mres_values\u001b[0m\u001b[0;34m,\u001b[0m \u001b[0mname\u001b[0m\u001b[0;34m=\u001b[0m\u001b[0mres_name\u001b[0m\u001b[0;34m)\u001b[0m\u001b[0;34m\u001b[0m\u001b[0;34m\u001b[0m\u001b[0m\n",
      "\u001b[0;32m~/anaconda3/lib/python3.8/site-packages/pandas/core/ops/array_ops.py\u001b[0m in \u001b[0;36mcomparison_op\u001b[0;34m(left, right, op)\u001b[0m\n\u001b[1;32m    221\u001b[0m         \u001b[0;31m#  The ambiguous case is object-dtype.  See GH#27803\u001b[0m\u001b[0;34m\u001b[0m\u001b[0;34m\u001b[0m\u001b[0;34m\u001b[0m\u001b[0m\n\u001b[1;32m    222\u001b[0m         \u001b[0;32mif\u001b[0m \u001b[0mlen\u001b[0m\u001b[0;34m(\u001b[0m\u001b[0mlvalues\u001b[0m\u001b[0;34m)\u001b[0m \u001b[0;34m!=\u001b[0m \u001b[0mlen\u001b[0m\u001b[0;34m(\u001b[0m\u001b[0mrvalues\u001b[0m\u001b[0;34m)\u001b[0m\u001b[0;34m:\u001b[0m\u001b[0;34m\u001b[0m\u001b[0;34m\u001b[0m\u001b[0m\n\u001b[0;32m--> 223\u001b[0;31m             raise ValueError(\n\u001b[0m\u001b[1;32m    224\u001b[0m                 \u001b[0;34m\"Lengths must match to compare\"\u001b[0m\u001b[0;34m,\u001b[0m \u001b[0mlvalues\u001b[0m\u001b[0;34m.\u001b[0m\u001b[0mshape\u001b[0m\u001b[0;34m,\u001b[0m \u001b[0mrvalues\u001b[0m\u001b[0;34m.\u001b[0m\u001b[0mshape\u001b[0m\u001b[0;34m\u001b[0m\u001b[0;34m\u001b[0m\u001b[0m\n\u001b[1;32m    225\u001b[0m             )\n",
      "\u001b[0;31mValueError\u001b[0m: ('Lengths must match to compare', (26237,), (2,))"
     ]
    }
   ],
   "source": [
    "sample_obj, features_names, classes_names = prepare_training_dataset(descriptors[:-1], states_labels, 1000)\n",
    "regularizers = np.geomspace(0.01, 1, 50)\n",
    "classifier = Classifier(sample_obj, features_names, classes_names)\n",
    "classifier.compute(regularizers, max_iter= 10000, quadratic_kernel=False)\n",
    "classifier.plot();\n",
    "reg = 10**(-0.5)\n",
    "classifier.print_selected(reg)"
   ]
  },
  {
   "cell_type": "code",
   "execution_count": 92,
   "metadata": {},
   "outputs": [
    {
     "data": {
      "text/plain": [
       "174      0.162944\n",
       "176      0.156107\n",
       "177      0.158152\n",
       "178      0.156655\n",
       "179      0.161578\n",
       "           ...   \n",
       "25858    0.156546\n",
       "25859    0.164586\n",
       "26232    0.163533\n",
       "26234    0.162196\n",
       "26235    0.156511\n",
       "Name: Kernel_DMD_0, Length: 2381, dtype: float32"
      ]
     },
     "execution_count": 92,
     "metadata": {},
     "output_type": "execute_result"
    }
   ],
   "source": [
    "colvars['Kernel_DMD_0'][states_labels['selection'] & (states_labels['labels'] == 0)]"
   ]
  },
  {
   "cell_type": "code",
   "execution_count": 75,
   "metadata": {},
   "outputs": [
    {
     "data": {
      "text/plain": [
       "array([0.17887408, 0.1782192 , 0.17653395, ..., 0.16219567, 0.15651083,\n",
       "       0.17019448], dtype=float32)"
      ]
     },
     "execution_count": 75,
     "metadata": {},
     "output_type": "execute_result"
    }
   ],
   "source": [
    "CVs[:,0]"
   ]
  },
  {
   "cell_type": "code",
   "execution_count": null,
   "metadata": {},
   "outputs": [],
   "source": []
  }
 ],
 "metadata": {
  "interpreter": {
   "hash": "237a184721ccde86ff8290b36768bdbffa305b80665e86389e41b56c4800747d"
  },
  "kernelspec": {
   "display_name": "Python 3.8.8 ('base')",
   "language": "python",
   "name": "python3"
  },
  "language_info": {
   "codemirror_mode": {
    "name": "ipython",
    "version": 3
   },
   "file_extension": ".py",
   "mimetype": "text/x-python",
   "name": "python",
   "nbconvert_exporter": "python",
   "pygments_lexer": "ipython3",
   "version": "3.8.8"
  },
  "orig_nbformat": 4
 },
 "nbformat": 4,
 "nbformat_minor": 2
}
