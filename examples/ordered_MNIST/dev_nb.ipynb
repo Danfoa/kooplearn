{
 "cells": [
  {
   "cell_type": "markdown",
   "metadata": {},
   "source": [
    "# Ordered MNIST digits examample from Kostic et al. NeurIPS 2022\n",
    "\n",
    "## Data pipeline"
   ]
  },
  {
   "cell_type": "code",
   "execution_count": 1,
   "metadata": {},
   "outputs": [],
   "source": [
    "#Configs\n",
    "import ml_confs as mlcfg\n",
    "configs = mlcfg.from_file('configs.yaml', register_jax_pytree=False)"
   ]
  },
  {
   "cell_type": "code",
   "execution_count": 2,
   "metadata": {},
   "outputs": [],
   "source": [
    "#Data pipeline\n",
    "from datasets import load_from_disk\n",
    "ordered_MNIST = load_from_disk('__data__')\n",
    "#Creating a copy of the dataset in numpy format\n",
    "np_ordered_MNIST = ordered_MNIST.with_format(type='numpy', columns=['image', 'label'])"
   ]
  },
  {
   "cell_type": "code",
   "execution_count": 3,
   "metadata": {},
   "outputs": [
    {
     "name": "stdout",
     "output_type": "stream",
     "text": [
      "train (800) example: tensor([0, 1, 2, 3, 4])\n",
      "test (1001) example: tensor([0, 1, 2, 3, 4])\n",
      "validation (201) example: tensor([0, 1, 2, 3, 4])\n"
     ]
    },
    {
     "data": {
      "image/png": "[encoded data removed]",
      "text/plain": [
       "<Figure size 360x216 with 15 Axes>"
      ]
     },
     "metadata": {},
     "output_type": "display_data"
    }
   ],
   "source": [
    "#Checking the data\n",
    "import matplotlib.pyplot as plt\n",
    "import scienceplots #Nicer styles\n",
    "plt.style.use(['science', 'retro'])\n",
    "plt.rcParams['figure.dpi'] = 72\n",
    "\n",
    "fig, ax = plt.subplots(3, configs.classes, figsize=(configs.classes, 3))\n",
    "for j, split in enumerate(['train', 'test', 'validation']):\n",
    "    print(f'{split} ({len(ordered_MNIST[split])}) example: {ordered_MNIST[split][\"label\"][:configs.classes]}')\n",
    "    for i in range(configs.classes):\n",
    "        data = ordered_MNIST['train'][configs.classes*j + i]\n",
    "        ax[j, i].imshow(data['image'], cmap='gray')\n",
    "        ax[j, i].set_title(data['label'].item())\n",
    "        ax[j, i].axis('off')\n",
    "fig.tight_layout()"
   ]
  },
  {
   "cell_type": "markdown",
   "metadata": {},
   "source": [
    "## Setting up a validation scheme\n",
    "The validation of each model will be performed as follows: starting from a test image of the digit $c$, we will predict the next image by calling `model.predict`. The prediction should be an MNIST-alike image of the digit $c+1$ (modulo `configs.classes`). We will feed this prediction to a very strong MNIST classifier, and evaluate how its accuracy degrades over time.\n",
    "\n",
    "### Defining the _oracle_ classifier"
   ]
  },
  {
   "cell_type": "code",
   "execution_count": 4,
   "metadata": {},
   "outputs": [],
   "source": [
    "import torch.nn as nn\n",
    "import torch\n",
    "\n",
    "#Setting up the architecture\n",
    "class CNNEncoder(nn.Module):\n",
    "    def __init__(self, num_classes):\n",
    "        super(CNNEncoder, self).__init__()\n",
    "        self.conv1 = nn.Sequential(         \n",
    "            nn.Conv2d(\n",
    "                in_channels=1,              \n",
    "                out_channels=16,            \n",
    "                kernel_size=5,              \n",
    "                stride=1,                   \n",
    "                padding=2,                  \n",
    "            ),                              \n",
    "            nn.ReLU(),                      \n",
    "            nn.MaxPool2d(kernel_size=2),    \n",
    "        )\n",
    "        self.conv2 = nn.Sequential(         \n",
    "            nn.Conv2d(16, 32, 5, 1, 2),     \n",
    "            nn.ReLU(),                      \n",
    "            nn.MaxPool2d(2),                \n",
    "        )\n",
    "        # fully connected layer, output num_classes classes\n",
    "        self.out = nn.Sequential(\n",
    "            nn.Linear(32 * 7 * 7, num_classes)\n",
    "        )  \n",
    "        torch.nn.init.orthogonal_(self.out[0].weight)      \n",
    "    def forward(self, x):\n",
    "        if x.dim() == 3:\n",
    "            x = x.unsqueeze(1) # add channel dimension if needed\n",
    "            \n",
    "        x = self.conv1(x)\n",
    "        x = self.conv2(x)\n",
    "        # flatten the output of conv2 to (batch_size, 32 * 7 * 7)\n",
    "        x = x.view(x.size(0), -1)       \n",
    "        output = self.out(x)\n",
    "        return output"
   ]
  },
  {
   "cell_type": "markdown",
   "metadata": {},
   "source": [
    "We wrap the oracle classifier around a `kooplearn.abc.TrainableFeatureMap`. This will allow us to easily replicate the setting of Kostic et al. 2022, and it is pedagogical to show how `kooplearn` can be extended."
   ]
  },
  {
   "cell_type": "code",
   "execution_count": 5,
   "metadata": {},
   "outputs": [],
   "source": [
    "import logging\n",
    "import os\n",
    "import lightning\n",
    "import numpy as np\n",
    "from pathlib import Path\n",
    "import pickle\n",
    "from kooplearn.abc import TrainableFeatureMap\n",
    "from typing import Optional\n",
    "\n",
    "#Following kooplearn implementations, we define a Pytorch Lightning module\n",
    "class ClassifierModule(lightning.LightningModule):\n",
    "    def __init__(self, num_classes: int, learning_rate: float):\n",
    "        super().__init__()\n",
    "        self.num_classes = num_classes\n",
    "        self.encoder = CNNEncoder(num_classes=num_classes)\n",
    "        self.learning_rate = learning_rate\n",
    "        self.loss_fn = torch.nn.CrossEntropyLoss()\n",
    "\n",
    "    def configure_optimizers(self):\n",
    "        optimizer = torch.optim.Adam(self.parameters(), lr = self.learning_rate)\n",
    "        return optimizer\n",
    "    \n",
    "    def training_step(self, batch, batch_idx):\n",
    "        images, labels = batch['image'], batch['label']\n",
    "        output = self.encoder(images)               \n",
    "        loss = self.loss_fn(output, labels)\n",
    "        with torch.no_grad():\n",
    "            pred_labels = output.argmax(dim=1)\n",
    "            accuracy = (pred_labels == labels).float().mean()\n",
    "        return {'loss': loss, 'accuracy': accuracy}\n",
    "    \n",
    "    def validation_step(self, batch, batch_idx):\n",
    "        images, labels = batch['image'], batch['label']\n",
    "        output = self.encoder(images)  \n",
    "        pred_labels = output.argmax(dim=1)\n",
    "        accuracy = (pred_labels == labels).float().mean() # Scalar\n",
    "        return {'accuracy': accuracy}\n",
    "    \n",
    "class ClassifierFeatureMap(TrainableFeatureMap):\n",
    "    def __init__(\n",
    "                self, \n",
    "                num_classes: int,\n",
    "                learning_rate: float,\n",
    "                trainer_kwargs: dict,\n",
    "                seed: Optional[int] = None  \n",
    "                ):\n",
    "        #Set rng seed\n",
    "        lightning.seed_everything(seed)\n",
    "        self.seed = seed\n",
    "        self._lightning_module = ClassifierModule(num_classes, learning_rate)\n",
    "        \n",
    "        #Init trainer\n",
    "        self.trainer = lightning.Trainer(**trainer_kwargs)\n",
    "        \n",
    "        self._storage = {\n",
    "            'num_classes': num_classes,\n",
    "            'learning_rate': learning_rate,\n",
    "            'trainer_kwargs': trainer_kwargs,\n",
    "            'seed': seed\n",
    "        }\n",
    "        self._trainer_kwargs = trainer_kwargs\n",
    "        self._is_fitted = False\n",
    "        \n",
    "    @property\n",
    "    def is_fitted(self) -> bool:\n",
    "        return self._is_fitted\n",
    "    \n",
    "    @property\n",
    "    def lookback_len(self) -> int:\n",
    "        return 1 #Hardcoding it here, as we are not using lookback windows\n",
    "    \n",
    "    def save(self, path: os.PathLike):\n",
    "        path = Path(path)\n",
    "        path.mkdir(parents=True, exist_ok=True)\n",
    "        ckpt = path / 'weights.ckpt'\n",
    "        params = path / 'params.pkl'\n",
    "        self.trainer.save_checkpoint(str(ckpt))\n",
    "        self._storage['is_fitted'] = self._is_fitted\n",
    "        with open(params, 'wb') as f:\n",
    "            pickle.dump(self._storage, f)\n",
    "\n",
    "    @classmethod\n",
    "    def load(cls, path: os.PathLike):\n",
    "        with open(Path(path) / 'params.pkl', 'rb') as f:\n",
    "            storage = pickle.load(f)\n",
    "        _is_fitted = storage.pop('is_fitted')\n",
    "        feature_map = cls(**storage)\n",
    "        feature_map._is_fitted = _is_fitted\n",
    "        ckpt = Path(path) / 'weights.ckpt'\n",
    "        feature_map._lightning_module = ClassifierModule.load_from_checkpoint(str(ckpt))\n",
    "        return feature_map\n",
    "\n",
    "    def fit(self, **trainer_fit_kwargs: dict):\n",
    "        if 'model' in trainer_fit_kwargs:\n",
    "            logging.warn(\"The 'model' keyword should not be specified in trainer_fit_kwargs. The model is automatically set to the DPNet feature map, and the provided model is ignored.\")\n",
    "            trainer_fit_kwargs = trainer_fit_kwargs.copy()\n",
    "            del trainer_fit_kwargs['model']\n",
    "        self.trainer.fit(model=self._lightning_module, **trainer_fit_kwargs)\n",
    "        self._is_fitted = True\n",
    "\n",
    "    def __call__(self, X: np.ndarray) -> np.ndarray:\n",
    "        X = torch.from_numpy(X).float()\n",
    "        X.to(self._lightning_module.device)\n",
    "        self._lightning_module.eval()\n",
    "        with torch.no_grad():\n",
    "            embedded_X = self._lightning_module.encoder(X)\n",
    "            embedded_X = embedded_X.detach().numpy()\n",
    "        return embedded_X"
   ]
  },
  {
   "cell_type": "markdown",
   "metadata": {},
   "source": [
    "Let's train `ClassifierFeatureMap` on our `ordered_MNIST` dataset"
   ]
  },
  {
   "cell_type": "code",
   "execution_count": 6,
   "metadata": {},
   "outputs": [
    {
     "name": "stderr",
     "output_type": "stream",
     "text": [
      "Global seed set to 0\n",
      "GPU available: True (cuda), used: True\n",
      "TPU available: False, using: 0 TPU cores\n",
      "IPU available: False, using: 0 IPUs\n",
      "HPU available: False, using: 0 HPUs\n",
      "/home/novelli/anaconda3/envs/kooplearn/lib/python3.11/site-packages/lightning/pytorch/trainer/connectors/logger_connector/logger_connector.py:67: UserWarning: Starting from v1.9.0, `tensorboardX` has been removed as a dependency of the `lightning.pytorch` package, due to potential conflicts with other packages in the ML ecosystem. For this reason, `logger=True` will use `CSVLogger` as the default logger, unless the `tensorboard` or `tensorboardX` packages are found. Please `pip install lightning[extra]` or one of them to enable TensorBoard support by default\n",
      "  warning_cache.warn(\n",
      "LOCAL_RANK: 0 - CUDA_VISIBLE_DEVICES: [0,1]\n",
      "\n",
      "  | Name    | Type             | Params\n",
      "---------------------------------------------\n",
      "0 | encoder | CNNEncoder       | 21.1 K\n",
      "1 | loss_fn | CrossEntropyLoss | 0     \n",
      "---------------------------------------------\n",
      "21.1 K    Trainable params\n",
      "0         Non-trainable params\n",
      "21.1 K    Total params\n",
      "0.084     Total estimated model params size (MB)\n"
     ]
    },
    {
     "data": {
      "application/vnd.jupyter.widget-view+json": {
       "model_id": "e8a683c8d15446dd974109dd85cbee8b",
       "version_major": 2,
       "version_minor": 0
      },
      "text/plain": [
       "Sanity Checking: 0it [00:00, ?it/s]"
      ]
     },
     "metadata": {},
     "output_type": "display_data"
    },
    {
     "name": "stderr",
     "output_type": "stream",
     "text": [
      "/home/novelli/anaconda3/envs/kooplearn/lib/python3.11/site-packages/lightning/pytorch/loops/fit_loop.py:281: PossibleUserWarning: The number of training batches (7) is smaller than the logging interval Trainer(log_every_n_steps=50). Set a lower value for log_every_n_steps if you want to see logs for the training epoch.\n",
      "  rank_zero_warn(\n"
     ]
    },
    {
     "data": {
      "application/vnd.jupyter.widget-view+json": {
       "model_id": "3b70d13a966e45b68e88aa7d98c1ea81",
       "version_major": 2,
       "version_minor": 0
      },
      "text/plain": [
       "Training: 0it [00:00, ?it/s]"
      ]
     },
     "metadata": {},
     "output_type": "display_data"
    },
    {
     "data": {
      "application/vnd.jupyter.widget-view+json": {
       "model_id": "7c9f62017cf14472a744b87ccf8032a6",
       "version_major": 2,
       "version_minor": 0
      },
      "text/plain": [
       "Validation: 0it [00:00, ?it/s]"
      ]
     },
     "metadata": {},
     "output_type": "display_data"
    },
    {
     "data": {
      "application/vnd.jupyter.widget-view+json": {
       "model_id": "59a7387d185f484c9476db98f93134d4",
       "version_major": 2,
       "version_minor": 0
      },
      "text/plain": [
       "Validation: 0it [00:00, ?it/s]"
      ]
     },
     "metadata": {},
     "output_type": "display_data"
    },
    {
     "data": {
      "application/vnd.jupyter.widget-view+json": {
       "model_id": "648ec086d11247f98f67f668169c5785",
       "version_major": 2,
       "version_minor": 0
      },
      "text/plain": [
       "Validation: 0it [00:00, ?it/s]"
      ]
     },
     "metadata": {},
     "output_type": "display_data"
    },
    {
     "data": {
      "application/vnd.jupyter.widget-view+json": {
       "model_id": "eb95ba39ab6b450997c807e8228381bf",
       "version_major": 2,
       "version_minor": 0
      },
      "text/plain": [
       "Validation: 0it [00:00, ?it/s]"
      ]
     },
     "metadata": {},
     "output_type": "display_data"
    },
    {
     "data": {
      "application/vnd.jupyter.widget-view+json": {
       "model_id": "271bc4b6508344118e232e502615bd86",
       "version_major": 2,
       "version_minor": 0
      },
      "text/plain": [
       "Validation: 0it [00:00, ?it/s]"
      ]
     },
     "metadata": {},
     "output_type": "display_data"
    },
    {
     "data": {
      "application/vnd.jupyter.widget-view+json": {
       "model_id": "af5b17fafac44d718fedd74cdaabaefe",
       "version_major": 2,
       "version_minor": 0
      },
      "text/plain": [
       "Validation: 0it [00:00, ?it/s]"
      ]
     },
     "metadata": {},
     "output_type": "display_data"
    },
    {
     "data": {
      "application/vnd.jupyter.widget-view+json": {
       "model_id": "0b782d8a963948b99ab19932bc0dfb18",
       "version_major": 2,
       "version_minor": 0
      },
      "text/plain": [
       "Validation: 0it [00:00, ?it/s]"
      ]
     },
     "metadata": {},
     "output_type": "display_data"
    },
    {
     "data": {
      "application/vnd.jupyter.widget-view+json": {
       "model_id": "46890879b2854cf59da51bc56872f50b",
       "version_major": 2,
       "version_minor": 0
      },
      "text/plain": [
       "Validation: 0it [00:00, ?it/s]"
      ]
     },
     "metadata": {},
     "output_type": "display_data"
    },
    {
     "data": {
      "application/vnd.jupyter.widget-view+json": {
       "model_id": "b142dcc427ba49308448a651463b0246",
       "version_major": 2,
       "version_minor": 0
      },
      "text/plain": [
       "Validation: 0it [00:00, ?it/s]"
      ]
     },
     "metadata": {},
     "output_type": "display_data"
    },
    {
     "data": {
      "application/vnd.jupyter.widget-view+json": {
       "model_id": "f52ee28ab14949bab1bde10d269b745f",
       "version_major": 2,
       "version_minor": 0
      },
      "text/plain": [
       "Validation: 0it [00:00, ?it/s]"
      ]
     },
     "metadata": {},
     "output_type": "display_data"
    },
    {
     "data": {
      "application/vnd.jupyter.widget-view+json": {
       "model_id": "b7a92ca35ca744fe95a32242d84c37c9",
       "version_major": 2,
       "version_minor": 0
      },
      "text/plain": [
       "Validation: 0it [00:00, ?it/s]"
      ]
     },
     "metadata": {},
     "output_type": "display_data"
    },
    {
     "data": {
      "application/vnd.jupyter.widget-view+json": {
       "model_id": "a728c3c2d468493897e447a1d78f5ac3",
       "version_major": 2,
       "version_minor": 0
      },
      "text/plain": [
       "Validation: 0it [00:00, ?it/s]"
      ]
     },
     "metadata": {},
     "output_type": "display_data"
    },
    {
     "data": {
      "application/vnd.jupyter.widget-view+json": {
       "model_id": "7a10b7bb8700416896512a7486cfa740",
       "version_major": 2,
       "version_minor": 0
      },
      "text/plain": [
       "Validation: 0it [00:00, ?it/s]"
      ]
     },
     "metadata": {},
     "output_type": "display_data"
    },
    {
     "data": {
      "application/vnd.jupyter.widget-view+json": {
       "model_id": "b71f6e53e51d48a8973d12e604522f71",
       "version_major": 2,
       "version_minor": 0
      },
      "text/plain": [
       "Validation: 0it [00:00, ?it/s]"
      ]
     },
     "metadata": {},
     "output_type": "display_data"
    },
    {
     "data": {
      "application/vnd.jupyter.widget-view+json": {
       "model_id": "61cdceb7fe3f4050ae8b178ecec4429a",
       "version_major": 2,
       "version_minor": 0
      },
      "text/plain": [
       "Validation: 0it [00:00, ?it/s]"
      ]
     },
     "metadata": {},
     "output_type": "display_data"
    },
    {
     "data": {
      "application/vnd.jupyter.widget-view+json": {
       "model_id": "4efef9a1fefa469282ba30065db55c7f",
       "version_major": 2,
       "version_minor": 0
      },
      "text/plain": [
       "Validation: 0it [00:00, ?it/s]"
      ]
     },
     "metadata": {},
     "output_type": "display_data"
    },
    {
     "data": {
      "application/vnd.jupyter.widget-view+json": {
       "model_id": "ffe2171ca20a4b0987072b607a6dedaa",
       "version_major": 2,
       "version_minor": 0
      },
      "text/plain": [
       "Validation: 0it [00:00, ?it/s]"
      ]
     },
     "metadata": {},
     "output_type": "display_data"
    },
    {
     "data": {
      "application/vnd.jupyter.widget-view+json": {
       "model_id": "05cd45537100447299e4751662197bf3",
       "version_major": 2,
       "version_minor": 0
      },
      "text/plain": [
       "Validation: 0it [00:00, ?it/s]"
      ]
     },
     "metadata": {},
     "output_type": "display_data"
    },
    {
     "data": {
      "application/vnd.jupyter.widget-view+json": {
       "model_id": "0b714ba76cde4fc29f94a310d214b7cf",
       "version_major": 2,
       "version_minor": 0
      },
      "text/plain": [
       "Validation: 0it [00:00, ?it/s]"
      ]
     },
     "metadata": {},
     "output_type": "display_data"
    },
    {
     "data": {
      "application/vnd.jupyter.widget-view+json": {
       "model_id": "71160add074f4fdf9b5fc96ca2b435d4",
       "version_major": 2,
       "version_minor": 0
      },
      "text/plain": [
       "Validation: 0it [00:00, ?it/s]"
      ]
     },
     "metadata": {},
     "output_type": "display_data"
    },
    {
     "name": "stderr",
     "output_type": "stream",
     "text": [
      "`Trainer.fit` stopped: `max_epochs=20` reached.\n"
     ]
    }
   ],
   "source": [
    "from torch.utils.data import DataLoader\n",
    "train_dl = DataLoader(ordered_MNIST['train'], batch_size=configs.batch_size, shuffle=True)\n",
    "val_dl = DataLoader(ordered_MNIST['validation'], batch_size=len(ordered_MNIST['validation']), shuffle=False)\n",
    "\n",
    "#Metrics Logging\n",
    "from lightning.pytorch.callbacks import Callback\n",
    "class MetricsCallback(Callback):\n",
    "    def __init__(self):\n",
    "        super().__init__()\n",
    "        self.train_acc = []\n",
    "        self.train_steps = []\n",
    "        self.val_acc = []\n",
    "        self.val_steps = []\n",
    "\n",
    "    def on_train_batch_end(self, trainer, pl_module, outputs, batch, batch_idx):\n",
    "        # Get the metrics from the last training step\n",
    "        self.train_acc.append(outputs['accuracy'].item())\n",
    "        self.train_steps.append(trainer.global_step)\n",
    "    def on_validation_batch_end(self, trainer, pl_module, outputs, batch, batch_idx, dataloader_idx = 0):\n",
    "        # Get the metrics from the last validation step\n",
    "        self.val_acc.append(outputs['accuracy'].item())\n",
    "        self.val_steps.append(trainer.global_step)\n",
    "        \n",
    "metrics = MetricsCallback()\n",
    "trainer_kwargs = {\n",
    "    'accelerator': 'gpu',\n",
    "    'max_epochs': 20,\n",
    "    'log_every_n_steps': None,\n",
    "    'callbacks': [metrics],\n",
    "    'enable_progress_bar': True,\n",
    "    'devices': 1\n",
    "}\n",
    "\n",
    "oracle = ClassifierFeatureMap(\n",
    "    configs.classes,\n",
    "    1e-2,\n",
    "    trainer_kwargs, \n",
    "    seed=configs.rng_seed\n",
    ")\n",
    "\n",
    "import warnings\n",
    "warnings.filterwarnings(\"ignore\", \".*does not have many workers.*\") #Ignore warnings about num_workers\n",
    "\n",
    "oracle.fit(train_dataloaders=train_dl, val_dataloaders=val_dl)"
   ]
  },
  {
   "cell_type": "code",
   "execution_count": 7,
   "metadata": {},
   "outputs": [
    {
     "data": {
      "image/png": "[encoded data removed]",
      "text/plain": [
       "<Figure size 288x216 with 1 Axes>"
      ]
     },
     "metadata": {},
     "output_type": "display_data"
    }
   ],
   "source": [
    "fig, ax = plt.subplots(1, 1, figsize=(4, 3))\n",
    "ax.plot(metrics.train_steps, metrics.train_acc, label='Train')\n",
    "ax.plot(metrics.val_steps, metrics.val_acc, label='Validation')\n",
    "ax.set_xlabel('Global step')\n",
    "ax.set_ylabel('Accuracy')\n",
    "ax.legend(frameon=False)\n",
    "ax.margins(x=0)"
   ]
  },
  {
   "cell_type": "code",
   "execution_count": 8,
   "metadata": {},
   "outputs": [],
   "source": [
    "import kooplearn.abc\n",
    "def evaluate_model(model: kooplearn.abc.BaseModel, test_data):\n",
    "    assert model.is_fitted\n",
    "    test_labels = test_data['label']\n",
    "    test_images = test_data['image']\n",
    "    test_images = np.expand_dims(test_images, 1)\n",
    "    report = {\n",
    "        'accuracy': [],\n",
    "        'label': [],\n",
    "        'image': [],\n",
    "        'times': []\n",
    "    }\n",
    "    for t in range(1, configs.eval_up_to_t + 1):\n",
    "        pred = model.predict(test_images, t=t).reshape(-1, 28 ,28)\n",
    "        pred_labels = oracle(pred)\n",
    "        pred_labels = pred_labels.argmax(axis=1)\n",
    "        accuracy = (pred_labels == (test_labels + t)%configs.classes ).mean()\n",
    "        report['accuracy'].append(accuracy)\n",
    "        report['image'].append(pred)\n",
    "        report['label'].append(pred_labels)\n",
    "        report['times'].append(t)\n",
    "    return report"
   ]
  },
  {
   "cell_type": "markdown",
   "metadata": {},
   "source": [
    "## Fitting some models with `kooplearn`"
   ]
  },
  {
   "cell_type": "code",
   "execution_count": 9,
   "metadata": {},
   "outputs": [],
   "source": [
    "from kooplearn.models import DMD, KernelDMD, DeepEDMD\n",
    "from kooplearn._src.context_window_utils import trajectory_to_contexts\n",
    "\n",
    "context_len = 2\n",
    "train_data = trajectory_to_contexts(np_ordered_MNIST['train']['image'], context_len)\n",
    "val_data = trajectory_to_contexts(np_ordered_MNIST['validation']['image'], context_len)\n",
    "transfer_operator_models = {}"
   ]
  },
  {
   "cell_type": "code",
   "execution_count": 10,
   "metadata": {},
   "outputs": [
    {
     "data": {
      "image/png": "[encoded data removed]",
      "text/plain": [
       "<Figure size 144x432 with 12 Axes>"
      ]
     },
     "metadata": {},
     "output_type": "display_data"
    }
   ],
   "source": [
    "n_examples = 6\n",
    "fig, ax = plt.subplots(n_examples, 2, figsize=(2, n_examples))\n",
    "for j in range(n_examples):\n",
    "    for i in range(2):\n",
    "        ax[j, i].imshow(val_data[j, i], cmap='gray')\n",
    "        ax[j, i].axis('off')\n",
    "fig.tight_layout()"
   ]
  },
  {
   "cell_type": "markdown",
   "metadata": {},
   "source": [
    "#### Dynamic Mode Decomposition (DMD)"
   ]
  },
  {
   "cell_type": "code",
   "execution_count": 11,
   "metadata": {},
   "outputs": [
    {
     "name": "stdout",
     "output_type": "stream",
     "text": [
      "Train risk: 51.510\n",
      "Validation risk: 49.081\n"
     ]
    }
   ],
   "source": [
    "dmd_model = DMD(reduced_rank = configs.reduced_rank, rank=configs.classes).fit(train_data)\n",
    "print(f\"Train risk: {dmd_model.risk():.3f}\\nValidation risk: {dmd_model.risk(val_data):.3f}\")\n",
    "transfer_operator_models['DMD'] = dmd_model"
   ]
  },
  {
   "cell_type": "markdown",
   "metadata": {},
   "source": [
    "#### Classifier features (as in Sec. 6 of Kostic et al. 2022)"
   ]
  },
  {
   "cell_type": "code",
   "execution_count": 12,
   "metadata": {},
   "outputs": [
    {
     "name": "stdout",
     "output_type": "stream",
     "text": [
      "Train risk: 177.048\n",
      "Validation risk: 182.161\n"
     ]
    },
    {
     "name": "stderr",
     "output_type": "stream",
     "text": [
      "/tmp/ipykernel_1788135/2461557194.py:102: UserWarning: The given NumPy array is not writable, and PyTorch does not support non-writable tensors. This means writing to this tensor will result in undefined behavior. You may want to copy the array to protect its data or make it writable before converting it to a tensor. This type of warning will be suppressed for the rest of this program. (Triggered internally at ../torch/csrc/utils/tensor_numpy.cpp:206.)\n",
      "  X = torch.from_numpy(X).float()\n"
     ]
    }
   ],
   "source": [
    "classifier_model = DeepEDMD(oracle, reduced_rank=False, rank=configs.classes).fit(train_data)\n",
    "print(f\"Train risk: {classifier_model.risk():.3f}\\nValidation risk: {classifier_model.risk(val_data):.3f}\")\n",
    "transfer_operator_models['Classifier-DeepEDMD'] = classifier_model"
   ]
  },
  {
   "cell_type": "markdown",
   "metadata": {},
   "source": [
    "### Gaussian KernelDMD"
   ]
  },
  {
   "cell_type": "code",
   "execution_count": 15,
   "metadata": {},
   "outputs": [
    {
     "data": {
      "application/vnd.jupyter.widget-view+json": {
       "model_id": "66e4d8b4638b4855801a8ebd8878618a",
       "version_major": 2,
       "version_minor": 0
      },
      "text/plain": [
       "Lengthscale search:   0%|          | 0/51 [00:00<?, ?it/s]"
      ]
     },
     "metadata": {},
     "output_type": "display_data"
    },
    {
     "name": "stdout",
     "output_type": "stream",
     "text": [
      "Median heuristic: 10.484\n",
      "Best lengthscale: 6.300 - Score 0.2918739635157546\n"
     ]
    }
   ],
   "source": [
    "#Optimization of the kernel lengthscale:\n",
    "from sklearn.gaussian_process.kernels import RBF\n",
    "from tqdm.notebook import tqdm\n",
    "#The median heuristic is a good starting point\n",
    "from scipy.spatial.distance import pdist\n",
    "pairwise_distances = pdist(np_ordered_MNIST['train']['image'].reshape(np_ordered_MNIST['train']['image'].shape[0], -1))\n",
    "ls0 = np.median(pairwise_distances)\n",
    "#Average deviation from the median\n",
    "d_ls = np.sqrt(np.mean((pairwise_distances - ls0)**2))\n",
    "num_std = 5\n",
    "length_scales = np.linspace(ls0 - num_std*d_ls, ls0 + num_std*d_ls, 51) #Search in a 2-sigma interval around the median heuristic\n",
    "val_accuracies = []\n",
    "for ls in tqdm(length_scales, desc='Lengthscale search'):\n",
    "    _kernel_model = KernelDMD(kernel=RBF(ls), reduced_rank = configs.reduced_rank, rank=configs.classes).fit(train_data)\n",
    "    acc = evaluate_model(_kernel_model, np_ordered_MNIST['validation'])['accuracy']\n",
    "    val_accuracies.append(acc)\n",
    "val_accuracies = np.array(val_accuracies)\n",
    "best_ls = length_scales[np.argmax(val_accuracies.mean(axis=1))]\n",
    "print(f\"Median heuristic: {ls0:.3f}\")\n",
    "print(f\"Best lengthscale: {best_ls:.3f} - Score {np.max(val_accuracies.mean(axis=1))}\")"
   ]
  },
  {
   "cell_type": "code",
   "execution_count": 19,
   "metadata": {},
   "outputs": [
    {
     "data": {
      "text/plain": [
       "<matplotlib.legend.Legend at 0x7f8fe843a7d0>"
      ]
     },
     "execution_count": 19,
     "metadata": {},
     "output_type": "execute_result"
    },
    {
     "data": {
      "image/png": "[encoded data removed]",
      "text/plain": [
       "<Figure size 324x216 with 1 Axes>"
      ]
     },
     "metadata": {},
     "output_type": "display_data"
    }
   ],
   "source": [
    "fig, ax = plt.subplots(1, 1, figsize=(4.5, 3))\n",
    "ax.hist(pairwise_distances, bins=100, density=True, label='Pairwise distances', alpha = 0.5)\n",
    "ax.axvline(ls0, color='k', label='Median heuristic')\n",
    "ax.axvline(best_ls, color='r', label='Best lengthscale')\n",
    "ax.axvline(ls0 + num_std*d_ls, color='k', linestyle='--', label=f'{num_std}-sigma interval')\n",
    "ax.axvline(ls0 - num_std*d_ls, color='k', linestyle='--')\n",
    "ax.set_xlabel('Pairwise distance')\n",
    "ax.set_ylabel('Density')\n",
    "ax.legend(loc='lower left', bbox_to_anchor=(0, 1.05, 1, 1.05), ncol=2)"
   ]
  },
  {
   "cell_type": "code",
   "execution_count": 20,
   "metadata": {},
   "outputs": [
    {
     "name": "stdout",
     "output_type": "stream",
     "text": [
      "Train risk: 0.670\n",
      "Validation risk: 0.662\n"
     ]
    }
   ],
   "source": [
    "kernel_model = KernelDMD(kernel=RBF(best_ls), reduced_rank = configs.reduced_rank, rank=configs.classes, svd_solver='arnoldi').fit(train_data)\n",
    "print(f\"Train risk: {kernel_model.risk():.3f}\\nValidation risk: {kernel_model.risk(val_data):.3f}\")\n",
    "transfer_operator_models['RBF-KernelDMD'] = kernel_model"
   ]
  },
  {
   "cell_type": "markdown",
   "metadata": {},
   "source": [
    "### DPNets"
   ]
  },
  {
   "cell_type": "markdown",
   "metadata": {},
   "source": [
    "We begin by defining a Context-Window dataset out of our `train_data` and `val_data` to train the DPNet "
   ]
  },
  {
   "cell_type": "code",
   "execution_count": 13,
   "metadata": {},
   "outputs": [],
   "source": [
    "#Preparing data loaders\n",
    "from torch.utils.data import Dataset\n",
    "\n",
    "class ContextWindowDataset(Dataset):\n",
    "    #Minimal Torch dataset to handle context windows. TODO: Add to kooplearn\n",
    "    def __init__(self, contexts):\n",
    "        self.contexts = contexts\n",
    "    def __len__(self):\n",
    "        return len(self.contexts)\n",
    "    def __getitem__(self, idx):\n",
    "        return self.contexts[idx]\n",
    "\n",
    "train_ds = ContextWindowDataset(torch.from_numpy(train_data))\n",
    "val_ds = ContextWindowDataset(torch.from_numpy(val_data))\n",
    "\n",
    "train_dl = DataLoader(train_ds, batch_size=configs.batch_size, shuffle=True)\n",
    "val_dl = DataLoader(val_ds, batch_size=len(val_ds), shuffle=False)"
   ]
  },
  {
   "cell_type": "markdown",
   "metadata": {},
   "source": [
    "##### Tuning DPNets parameters with `optuna`"
   ]
  },
  {
   "cell_type": "code",
   "execution_count": 17,
   "metadata": {},
   "outputs": [],
   "source": [
    "import optuna\n",
    "from kooplearn.models.feature_maps import DPNet\n",
    "\n",
    "def optimize_dpnet(metric_reg: float, lr: float, epoch_budget: int, use_relaxed_loss: bool, metric_reg_type: str):\n",
    "    trainer_kwargs = {\n",
    "        'accelerator': 'gpu',\n",
    "        'max_epochs': epoch_budget,\n",
    "        'log_every_n_steps': None,\n",
    "    }\n",
    "\n",
    "    feature_map = DPNet(\n",
    "        CNNEncoder,\n",
    "        {'num_classes': configs.classes},\n",
    "        metric_reg,\n",
    "        torch.optim.Adam,\n",
    "        {'lr': lr},\n",
    "        trainer_kwargs,\n",
    "        use_relaxed_loss=use_relaxed_loss,\n",
    "        metric_reg_type=metric_reg_type\n",
    "    )\n",
    "\n",
    "    feature_map.fit(\n",
    "        train_dataloaders=train_dl,     \n",
    "    )\n",
    "    return feature_map\n",
    "\n",
    "def objective(trial: optuna.Trial):\n",
    "    metric_reg = trial.suggest_float('metric_reg', 0.0, 10) #TODO: define a heuristic to get at least the order of magnitude\n",
    "    lr = trial.suggest_float('lr', 1e-4, 1e-1, log=True)\n",
    "    \n",
    "    epoch_budget = 200\n",
    "    feature_map = optimize_dpnet(metric_reg, lr, epoch_budget, use_relaxed_loss=True, metric_reg_type='log_fro')\n",
    "    \n",
    "    dpnet_model = DeepEDMD(feature_map, reduced_rank=False, rank=configs.classes).fit(train_data)\n",
    "    acc = evaluate_model(dpnet_model, np_ordered_MNIST['validation'])['accuracy']\n",
    "    return np.mean(acc)\n"
   ]
  },
  {
   "cell_type": "code",
   "execution_count": 18,
   "metadata": {},
   "outputs": [
    {
     "name": "stderr",
     "output_type": "stream",
     "text": [
      "[I 2023-09-15 07:22:37,329] A new study created in memory with name: no-name-9645a8a8-6236-47d7-a74f-50362e1a905d\n",
      "Global seed set to 0\n",
      "GPU available: True (cuda), used: True\n",
      "TPU available: False, using: 0 TPU cores\n",
      "IPU available: False, using: 0 IPUs\n",
      "HPU available: False, using: 0 HPUs\n",
      "[W 2023-09-15 07:22:37,360] Trial 0 failed with parameters: {'metric_reg': 1.3287086133212778, 'lr': 0.014307505807651342} because of the following error: RuntimeError(\"Lightning can't create new processes if CUDA is already initialized. Did you manually call `torch.cuda.*` functions, have moved the model to the device, or allocated memory on the GPU any other way? Please remove any such calls, or change the selected strategy. You will have to restart the Python kernel.\").\n",
      "Traceback (most recent call last):\n",
      "  File \"/home/novelli/anaconda3/envs/kooplearn/lib/python3.11/site-packages/optuna/study/_optimize.py\", line 200, in _run_trial\n",
      "    value_or_values = func(trial)\n",
      "                      ^^^^^^^^^^^\n",
      "  File \"/tmp/ipykernel_1788135/2622806637.py\", line 32, in objective\n",
      "    feature_map = optimize_dpnet(metric_reg, lr, epoch_budget, use_relaxed_loss=True, metric_reg_type='log_fro')\n",
      "                  ^^^^^^^^^^^^^^^^^^^^^^^^^^^^^^^^^^^^^^^^^^^^^^^^^^^^^^^^^^^^^^^^^^^^^^^^^^^^^^^^^^^^^^^^^^^^^^\n",
      "  File \"/tmp/ipykernel_1788135/2622806637.py\", line 22, in optimize_dpnet\n",
      "    feature_map.fit(\n",
      "  File \"/home/novelli/kooplearn/kooplearn/models/feature_maps/DPNets/feature_map.py\", line 144, in fit\n",
      "    self.trainer.fit(model=self._lightning_module, **trainer_fit_kwargs)\n",
      "  File \"/home/novelli/anaconda3/envs/kooplearn/lib/python3.11/site-packages/lightning/pytorch/trainer/trainer.py\", line 532, in fit\n",
      "    call._call_and_handle_interrupt(\n",
      "  File \"/home/novelli/anaconda3/envs/kooplearn/lib/python3.11/site-packages/lightning/pytorch/trainer/call.py\", line 42, in _call_and_handle_interrupt\n",
      "    return trainer.strategy.launcher.launch(trainer_fn, *args, trainer=trainer, **kwargs)\n",
      "           ^^^^^^^^^^^^^^^^^^^^^^^^^^^^^^^^^^^^^^^^^^^^^^^^^^^^^^^^^^^^^^^^^^^^^^^^^^^^^^\n",
      "  File \"/home/novelli/anaconda3/envs/kooplearn/lib/python3.11/site-packages/lightning/pytorch/strategies/launchers/multiprocessing.py\", line 102, in launch\n",
      "    _check_bad_cuda_fork()\n",
      "  File \"/home/novelli/anaconda3/envs/kooplearn/lib/python3.11/site-packages/lightning/fabric/strategies/launchers/multiprocessing.py\", line 200, in _check_bad_cuda_fork\n",
      "    raise RuntimeError(message)\n",
      "RuntimeError: Lightning can't create new processes if CUDA is already initialized. Did you manually call `torch.cuda.*` functions, have moved the model to the device, or allocated memory on the GPU any other way? Please remove any such calls, or change the selected strategy. You will have to restart the Python kernel.\n",
      "[W 2023-09-15 07:22:37,362] Trial 0 failed with value None.\n"
     ]
    },
    {
     "ename": "RuntimeError",
     "evalue": "Lightning can't create new processes if CUDA is already initialized. Did you manually call `torch.cuda.*` functions, have moved the model to the device, or allocated memory on the GPU any other way? Please remove any such calls, or change the selected strategy. You will have to restart the Python kernel.",
     "output_type": "error",
     "traceback": [
      "\u001b[0;31m---------------------------------------------------------------------------\u001b[0m",
      "\u001b[0;31mRuntimeError\u001b[0m                              Traceback (most recent call last)",
      "\u001b[1;32m/home/novelli/kooplearn/examples/ordered_MNIST/dev_nb.ipynb Cell 29\u001b[0m line \u001b[0;36m2\n\u001b[1;32m      <a href='vscode-notebook-cell://ssh-remote%2B7b22686f73744e616d65223a22416c69656e77617265227d/home/novelli/kooplearn/examples/ordered_MNIST/dev_nb.ipynb#X41sdnNjb2RlLXJlbW90ZQ%3D%3D?line=0'>1</a>\u001b[0m study \u001b[39m=\u001b[39m optuna\u001b[39m.\u001b[39mcreate_study(direction\u001b[39m=\u001b[39m\u001b[39m'\u001b[39m\u001b[39mmaximize\u001b[39m\u001b[39m'\u001b[39m)\n\u001b[0;32m----> <a href='vscode-notebook-cell://ssh-remote%2B7b22686f73744e616d65223a22416c69656e77617265227d/home/novelli/kooplearn/examples/ordered_MNIST/dev_nb.ipynb#X41sdnNjb2RlLXJlbW90ZQ%3D%3D?line=1'>2</a>\u001b[0m study\u001b[39m.\u001b[39;49moptimize(objective, n_trials\u001b[39m=\u001b[39;49m\u001b[39m10\u001b[39;49m)\n",
      "File \u001b[0;32m~/anaconda3/envs/kooplearn/lib/python3.11/site-packages/optuna/study/study.py:442\u001b[0m, in \u001b[0;36mStudy.optimize\u001b[0;34m(self, func, n_trials, timeout, n_jobs, catch, callbacks, gc_after_trial, show_progress_bar)\u001b[0m\n\u001b[1;32m    339\u001b[0m \u001b[39mdef\u001b[39;00m \u001b[39moptimize\u001b[39m(\n\u001b[1;32m    340\u001b[0m     \u001b[39mself\u001b[39m,\n\u001b[1;32m    341\u001b[0m     func: ObjectiveFuncType,\n\u001b[0;32m   (...)\u001b[0m\n\u001b[1;32m    348\u001b[0m     show_progress_bar: \u001b[39mbool\u001b[39m \u001b[39m=\u001b[39m \u001b[39mFalse\u001b[39;00m,\n\u001b[1;32m    349\u001b[0m ) \u001b[39m-\u001b[39m\u001b[39m>\u001b[39m \u001b[39mNone\u001b[39;00m:\n\u001b[1;32m    350\u001b[0m \u001b[39m    \u001b[39m\u001b[39m\"\"\"Optimize an objective function.\u001b[39;00m\n\u001b[1;32m    351\u001b[0m \n\u001b[1;32m    352\u001b[0m \u001b[39m    Optimization is done by choosing a suitable set of hyperparameter values from a given\u001b[39;00m\n\u001b[0;32m   (...)\u001b[0m\n\u001b[1;32m    440\u001b[0m \u001b[39m            If nested invocation of this method occurs.\u001b[39;00m\n\u001b[1;32m    441\u001b[0m \u001b[39m    \"\"\"\u001b[39;00m\n\u001b[0;32m--> 442\u001b[0m     _optimize(\n\u001b[1;32m    443\u001b[0m         study\u001b[39m=\u001b[39;49m\u001b[39mself\u001b[39;49m,\n\u001b[1;32m    444\u001b[0m         func\u001b[39m=\u001b[39;49mfunc,\n\u001b[1;32m    445\u001b[0m         n_trials\u001b[39m=\u001b[39;49mn_trials,\n\u001b[1;32m    446\u001b[0m         timeout\u001b[39m=\u001b[39;49mtimeout,\n\u001b[1;32m    447\u001b[0m         n_jobs\u001b[39m=\u001b[39;49mn_jobs,\n\u001b[1;32m    448\u001b[0m         catch\u001b[39m=\u001b[39;49m\u001b[39mtuple\u001b[39;49m(catch) \u001b[39mif\u001b[39;49;00m \u001b[39misinstance\u001b[39;49m(catch, Iterable) \u001b[39melse\u001b[39;49;00m (catch,),\n\u001b[1;32m    449\u001b[0m         callbacks\u001b[39m=\u001b[39;49mcallbacks,\n\u001b[1;32m    450\u001b[0m         gc_after_trial\u001b[39m=\u001b[39;49mgc_after_trial,\n\u001b[1;32m    451\u001b[0m         show_progress_bar\u001b[39m=\u001b[39;49mshow_progress_bar,\n\u001b[1;32m    452\u001b[0m     )\n",
      "File \u001b[0;32m~/anaconda3/envs/kooplearn/lib/python3.11/site-packages/optuna/study/_optimize.py:66\u001b[0m, in \u001b[0;36m_optimize\u001b[0;34m(study, func, n_trials, timeout, n_jobs, catch, callbacks, gc_after_trial, show_progress_bar)\u001b[0m\n\u001b[1;32m     64\u001b[0m \u001b[39mtry\u001b[39;00m:\n\u001b[1;32m     65\u001b[0m     \u001b[39mif\u001b[39;00m n_jobs \u001b[39m==\u001b[39m \u001b[39m1\u001b[39m:\n\u001b[0;32m---> 66\u001b[0m         _optimize_sequential(\n\u001b[1;32m     67\u001b[0m             study,\n\u001b[1;32m     68\u001b[0m             func,\n\u001b[1;32m     69\u001b[0m             n_trials,\n\u001b[1;32m     70\u001b[0m             timeout,\n\u001b[1;32m     71\u001b[0m             catch,\n\u001b[1;32m     72\u001b[0m             callbacks,\n\u001b[1;32m     73\u001b[0m             gc_after_trial,\n\u001b[1;32m     74\u001b[0m             reseed_sampler_rng\u001b[39m=\u001b[39;49m\u001b[39mFalse\u001b[39;49;00m,\n\u001b[1;32m     75\u001b[0m             time_start\u001b[39m=\u001b[39;49m\u001b[39mNone\u001b[39;49;00m,\n\u001b[1;32m     76\u001b[0m             progress_bar\u001b[39m=\u001b[39;49mprogress_bar,\n\u001b[1;32m     77\u001b[0m         )\n\u001b[1;32m     78\u001b[0m     \u001b[39melse\u001b[39;00m:\n\u001b[1;32m     79\u001b[0m         \u001b[39mif\u001b[39;00m n_jobs \u001b[39m==\u001b[39m \u001b[39m-\u001b[39m\u001b[39m1\u001b[39m:\n",
      "File \u001b[0;32m~/anaconda3/envs/kooplearn/lib/python3.11/site-packages/optuna/study/_optimize.py:163\u001b[0m, in \u001b[0;36m_optimize_sequential\u001b[0;34m(study, func, n_trials, timeout, catch, callbacks, gc_after_trial, reseed_sampler_rng, time_start, progress_bar)\u001b[0m\n\u001b[1;32m    160\u001b[0m         \u001b[39mbreak\u001b[39;00m\n\u001b[1;32m    162\u001b[0m \u001b[39mtry\u001b[39;00m:\n\u001b[0;32m--> 163\u001b[0m     frozen_trial \u001b[39m=\u001b[39m _run_trial(study, func, catch)\n\u001b[1;32m    164\u001b[0m \u001b[39mfinally\u001b[39;00m:\n\u001b[1;32m    165\u001b[0m     \u001b[39m# The following line mitigates memory problems that can be occurred in some\u001b[39;00m\n\u001b[1;32m    166\u001b[0m     \u001b[39m# environments (e.g., services that use computing containers such as GitHub Actions).\u001b[39;00m\n\u001b[1;32m    167\u001b[0m     \u001b[39m# Please refer to the following PR for further details:\u001b[39;00m\n\u001b[1;32m    168\u001b[0m     \u001b[39m# https://github.com/optuna/optuna/pull/325.\u001b[39;00m\n\u001b[1;32m    169\u001b[0m     \u001b[39mif\u001b[39;00m gc_after_trial:\n",
      "File \u001b[0;32m~/anaconda3/envs/kooplearn/lib/python3.11/site-packages/optuna/study/_optimize.py:251\u001b[0m, in \u001b[0;36m_run_trial\u001b[0;34m(study, func, catch)\u001b[0m\n\u001b[1;32m    244\u001b[0m         \u001b[39massert\u001b[39;00m \u001b[39mFalse\u001b[39;00m, \u001b[39m\"\u001b[39m\u001b[39mShould not reach.\u001b[39m\u001b[39m\"\u001b[39m\n\u001b[1;32m    246\u001b[0m \u001b[39mif\u001b[39;00m (\n\u001b[1;32m    247\u001b[0m     frozen_trial\u001b[39m.\u001b[39mstate \u001b[39m==\u001b[39m TrialState\u001b[39m.\u001b[39mFAIL\n\u001b[1;32m    248\u001b[0m     \u001b[39mand\u001b[39;00m func_err \u001b[39mis\u001b[39;00m \u001b[39mnot\u001b[39;00m \u001b[39mNone\u001b[39;00m\n\u001b[1;32m    249\u001b[0m     \u001b[39mand\u001b[39;00m \u001b[39mnot\u001b[39;00m \u001b[39misinstance\u001b[39m(func_err, catch)\n\u001b[1;32m    250\u001b[0m ):\n\u001b[0;32m--> 251\u001b[0m     \u001b[39mraise\u001b[39;00m func_err\n\u001b[1;32m    252\u001b[0m \u001b[39mreturn\u001b[39;00m frozen_trial\n",
      "File \u001b[0;32m~/anaconda3/envs/kooplearn/lib/python3.11/site-packages/optuna/study/_optimize.py:200\u001b[0m, in \u001b[0;36m_run_trial\u001b[0;34m(study, func, catch)\u001b[0m\n\u001b[1;32m    198\u001b[0m \u001b[39mwith\u001b[39;00m get_heartbeat_thread(trial\u001b[39m.\u001b[39m_trial_id, study\u001b[39m.\u001b[39m_storage):\n\u001b[1;32m    199\u001b[0m     \u001b[39mtry\u001b[39;00m:\n\u001b[0;32m--> 200\u001b[0m         value_or_values \u001b[39m=\u001b[39m func(trial)\n\u001b[1;32m    201\u001b[0m     \u001b[39mexcept\u001b[39;00m exceptions\u001b[39m.\u001b[39mTrialPruned \u001b[39mas\u001b[39;00m e:\n\u001b[1;32m    202\u001b[0m         \u001b[39m# TODO(mamu): Handle multi-objective cases.\u001b[39;00m\n\u001b[1;32m    203\u001b[0m         state \u001b[39m=\u001b[39m TrialState\u001b[39m.\u001b[39mPRUNED\n",
      "\u001b[1;32m/home/novelli/kooplearn/examples/ordered_MNIST/dev_nb.ipynb Cell 29\u001b[0m line \u001b[0;36m3\n\u001b[1;32m     <a href='vscode-notebook-cell://ssh-remote%2B7b22686f73744e616d65223a22416c69656e77617265227d/home/novelli/kooplearn/examples/ordered_MNIST/dev_nb.ipynb#X41sdnNjb2RlLXJlbW90ZQ%3D%3D?line=28'>29</a>\u001b[0m lr \u001b[39m=\u001b[39m trial\u001b[39m.\u001b[39msuggest_float(\u001b[39m'\u001b[39m\u001b[39mlr\u001b[39m\u001b[39m'\u001b[39m, \u001b[39m1e-4\u001b[39m, \u001b[39m1e-1\u001b[39m, log\u001b[39m=\u001b[39m\u001b[39mTrue\u001b[39;00m)\n\u001b[1;32m     <a href='vscode-notebook-cell://ssh-remote%2B7b22686f73744e616d65223a22416c69656e77617265227d/home/novelli/kooplearn/examples/ordered_MNIST/dev_nb.ipynb#X41sdnNjb2RlLXJlbW90ZQ%3D%3D?line=30'>31</a>\u001b[0m epoch_budget \u001b[39m=\u001b[39m \u001b[39m200\u001b[39m\n\u001b[0;32m---> <a href='vscode-notebook-cell://ssh-remote%2B7b22686f73744e616d65223a22416c69656e77617265227d/home/novelli/kooplearn/examples/ordered_MNIST/dev_nb.ipynb#X41sdnNjb2RlLXJlbW90ZQ%3D%3D?line=31'>32</a>\u001b[0m feature_map \u001b[39m=\u001b[39m optimize_dpnet(metric_reg, lr, epoch_budget, use_relaxed_loss\u001b[39m=\u001b[39;49m\u001b[39mTrue\u001b[39;49;00m, metric_reg_type\u001b[39m=\u001b[39;49m\u001b[39m'\u001b[39;49m\u001b[39mlog_fro\u001b[39;49m\u001b[39m'\u001b[39;49m)\n\u001b[1;32m     <a href='vscode-notebook-cell://ssh-remote%2B7b22686f73744e616d65223a22416c69656e77617265227d/home/novelli/kooplearn/examples/ordered_MNIST/dev_nb.ipynb#X41sdnNjb2RlLXJlbW90ZQ%3D%3D?line=33'>34</a>\u001b[0m dpnet_model \u001b[39m=\u001b[39m DeepEDMD(feature_map, reduced_rank\u001b[39m=\u001b[39m\u001b[39mFalse\u001b[39;00m, rank\u001b[39m=\u001b[39mconfigs\u001b[39m.\u001b[39mclasses)\u001b[39m.\u001b[39mfit(train_data)\n\u001b[1;32m     <a href='vscode-notebook-cell://ssh-remote%2B7b22686f73744e616d65223a22416c69656e77617265227d/home/novelli/kooplearn/examples/ordered_MNIST/dev_nb.ipynb#X41sdnNjb2RlLXJlbW90ZQ%3D%3D?line=34'>35</a>\u001b[0m acc \u001b[39m=\u001b[39m evaluate_model(dpnet_model, np_ordered_MNIST[\u001b[39m'\u001b[39m\u001b[39mvalidation\u001b[39m\u001b[39m'\u001b[39m])[\u001b[39m'\u001b[39m\u001b[39maccuracy\u001b[39m\u001b[39m'\u001b[39m]\n",
      "\u001b[1;32m/home/novelli/kooplearn/examples/ordered_MNIST/dev_nb.ipynb Cell 29\u001b[0m line \u001b[0;36m2\n\u001b[1;32m      <a href='vscode-notebook-cell://ssh-remote%2B7b22686f73744e616d65223a22416c69656e77617265227d/home/novelli/kooplearn/examples/ordered_MNIST/dev_nb.ipynb#X41sdnNjb2RlLXJlbW90ZQ%3D%3D?line=4'>5</a>\u001b[0m trainer_kwargs \u001b[39m=\u001b[39m {\n\u001b[1;32m      <a href='vscode-notebook-cell://ssh-remote%2B7b22686f73744e616d65223a22416c69656e77617265227d/home/novelli/kooplearn/examples/ordered_MNIST/dev_nb.ipynb#X41sdnNjb2RlLXJlbW90ZQ%3D%3D?line=5'>6</a>\u001b[0m     \u001b[39m'\u001b[39m\u001b[39maccelerator\u001b[39m\u001b[39m'\u001b[39m: \u001b[39m'\u001b[39m\u001b[39mgpu\u001b[39m\u001b[39m'\u001b[39m,\n\u001b[1;32m      <a href='vscode-notebook-cell://ssh-remote%2B7b22686f73744e616d65223a22416c69656e77617265227d/home/novelli/kooplearn/examples/ordered_MNIST/dev_nb.ipynb#X41sdnNjb2RlLXJlbW90ZQ%3D%3D?line=6'>7</a>\u001b[0m     \u001b[39m'\u001b[39m\u001b[39mmax_epochs\u001b[39m\u001b[39m'\u001b[39m: epoch_budget,\n\u001b[1;32m      <a href='vscode-notebook-cell://ssh-remote%2B7b22686f73744e616d65223a22416c69656e77617265227d/home/novelli/kooplearn/examples/ordered_MNIST/dev_nb.ipynb#X41sdnNjb2RlLXJlbW90ZQ%3D%3D?line=7'>8</a>\u001b[0m     \u001b[39m'\u001b[39m\u001b[39mlog_every_n_steps\u001b[39m\u001b[39m'\u001b[39m: \u001b[39mNone\u001b[39;00m,\n\u001b[1;32m      <a href='vscode-notebook-cell://ssh-remote%2B7b22686f73744e616d65223a22416c69656e77617265227d/home/novelli/kooplearn/examples/ordered_MNIST/dev_nb.ipynb#X41sdnNjb2RlLXJlbW90ZQ%3D%3D?line=8'>9</a>\u001b[0m }\n\u001b[1;32m     <a href='vscode-notebook-cell://ssh-remote%2B7b22686f73744e616d65223a22416c69656e77617265227d/home/novelli/kooplearn/examples/ordered_MNIST/dev_nb.ipynb#X41sdnNjb2RlLXJlbW90ZQ%3D%3D?line=10'>11</a>\u001b[0m feature_map \u001b[39m=\u001b[39m DPNet(\n\u001b[1;32m     <a href='vscode-notebook-cell://ssh-remote%2B7b22686f73744e616d65223a22416c69656e77617265227d/home/novelli/kooplearn/examples/ordered_MNIST/dev_nb.ipynb#X41sdnNjb2RlLXJlbW90ZQ%3D%3D?line=11'>12</a>\u001b[0m     CNNEncoder,\n\u001b[1;32m     <a href='vscode-notebook-cell://ssh-remote%2B7b22686f73744e616d65223a22416c69656e77617265227d/home/novelli/kooplearn/examples/ordered_MNIST/dev_nb.ipynb#X41sdnNjb2RlLXJlbW90ZQ%3D%3D?line=12'>13</a>\u001b[0m     {\u001b[39m'\u001b[39m\u001b[39mnum_classes\u001b[39m\u001b[39m'\u001b[39m: configs\u001b[39m.\u001b[39mclasses},\n\u001b[0;32m   (...)\u001b[0m\n\u001b[1;32m     <a href='vscode-notebook-cell://ssh-remote%2B7b22686f73744e616d65223a22416c69656e77617265227d/home/novelli/kooplearn/examples/ordered_MNIST/dev_nb.ipynb#X41sdnNjb2RlLXJlbW90ZQ%3D%3D?line=18'>19</a>\u001b[0m     metric_reg_type\u001b[39m=\u001b[39mmetric_reg_type\n\u001b[1;32m     <a href='vscode-notebook-cell://ssh-remote%2B7b22686f73744e616d65223a22416c69656e77617265227d/home/novelli/kooplearn/examples/ordered_MNIST/dev_nb.ipynb#X41sdnNjb2RlLXJlbW90ZQ%3D%3D?line=19'>20</a>\u001b[0m )\n\u001b[0;32m---> <a href='vscode-notebook-cell://ssh-remote%2B7b22686f73744e616d65223a22416c69656e77617265227d/home/novelli/kooplearn/examples/ordered_MNIST/dev_nb.ipynb#X41sdnNjb2RlLXJlbW90ZQ%3D%3D?line=21'>22</a>\u001b[0m feature_map\u001b[39m.\u001b[39;49mfit(\n\u001b[1;32m     <a href='vscode-notebook-cell://ssh-remote%2B7b22686f73744e616d65223a22416c69656e77617265227d/home/novelli/kooplearn/examples/ordered_MNIST/dev_nb.ipynb#X41sdnNjb2RlLXJlbW90ZQ%3D%3D?line=22'>23</a>\u001b[0m     train_dataloaders\u001b[39m=\u001b[39;49mtrain_dl,     \n\u001b[1;32m     <a href='vscode-notebook-cell://ssh-remote%2B7b22686f73744e616d65223a22416c69656e77617265227d/home/novelli/kooplearn/examples/ordered_MNIST/dev_nb.ipynb#X41sdnNjb2RlLXJlbW90ZQ%3D%3D?line=23'>24</a>\u001b[0m )\n\u001b[1;32m     <a href='vscode-notebook-cell://ssh-remote%2B7b22686f73744e616d65223a22416c69656e77617265227d/home/novelli/kooplearn/examples/ordered_MNIST/dev_nb.ipynb#X41sdnNjb2RlLXJlbW90ZQ%3D%3D?line=24'>25</a>\u001b[0m \u001b[39mreturn\u001b[39;00m feature_map\n",
      "File \u001b[0;32m~/kooplearn/kooplearn/models/feature_maps/DPNets/feature_map.py:144\u001b[0m, in \u001b[0;36mDPNet.fit\u001b[0;34m(self, **trainer_fit_kwargs)\u001b[0m\n\u001b[1;32m    142\u001b[0m     trainer_fit_kwargs \u001b[39m=\u001b[39m trainer_fit_kwargs\u001b[39m.\u001b[39mcopy()\n\u001b[1;32m    143\u001b[0m     \u001b[39mdel\u001b[39;00m trainer_fit_kwargs[\u001b[39m'\u001b[39m\u001b[39mmodel\u001b[39m\u001b[39m'\u001b[39m]\n\u001b[0;32m--> 144\u001b[0m \u001b[39mself\u001b[39;49m\u001b[39m.\u001b[39;49mtrainer\u001b[39m.\u001b[39;49mfit(model\u001b[39m=\u001b[39;49m\u001b[39mself\u001b[39;49m\u001b[39m.\u001b[39;49m_lightning_module, \u001b[39m*\u001b[39;49m\u001b[39m*\u001b[39;49mtrainer_fit_kwargs)\n\u001b[1;32m    145\u001b[0m \u001b[39mself\u001b[39m\u001b[39m.\u001b[39m_is_fitted \u001b[39m=\u001b[39m \u001b[39mTrue\u001b[39;00m\n",
      "File \u001b[0;32m~/anaconda3/envs/kooplearn/lib/python3.11/site-packages/lightning/pytorch/trainer/trainer.py:532\u001b[0m, in \u001b[0;36mTrainer.fit\u001b[0;34m(self, model, train_dataloaders, val_dataloaders, datamodule, ckpt_path)\u001b[0m\n\u001b[1;32m    530\u001b[0m \u001b[39mself\u001b[39m\u001b[39m.\u001b[39mstrategy\u001b[39m.\u001b[39m_lightning_module \u001b[39m=\u001b[39m model\n\u001b[1;32m    531\u001b[0m _verify_strategy_supports_compile(model, \u001b[39mself\u001b[39m\u001b[39m.\u001b[39mstrategy)\n\u001b[0;32m--> 532\u001b[0m call\u001b[39m.\u001b[39;49m_call_and_handle_interrupt(\n\u001b[1;32m    533\u001b[0m     \u001b[39mself\u001b[39;49m, \u001b[39mself\u001b[39;49m\u001b[39m.\u001b[39;49m_fit_impl, model, train_dataloaders, val_dataloaders, datamodule, ckpt_path\n\u001b[1;32m    534\u001b[0m )\n",
      "File \u001b[0;32m~/anaconda3/envs/kooplearn/lib/python3.11/site-packages/lightning/pytorch/trainer/call.py:42\u001b[0m, in \u001b[0;36m_call_and_handle_interrupt\u001b[0;34m(trainer, trainer_fn, *args, **kwargs)\u001b[0m\n\u001b[1;32m     40\u001b[0m \u001b[39mtry\u001b[39;00m:\n\u001b[1;32m     41\u001b[0m     \u001b[39mif\u001b[39;00m trainer\u001b[39m.\u001b[39mstrategy\u001b[39m.\u001b[39mlauncher \u001b[39mis\u001b[39;00m \u001b[39mnot\u001b[39;00m \u001b[39mNone\u001b[39;00m:\n\u001b[0;32m---> 42\u001b[0m         \u001b[39mreturn\u001b[39;00m trainer\u001b[39m.\u001b[39;49mstrategy\u001b[39m.\u001b[39;49mlauncher\u001b[39m.\u001b[39;49mlaunch(trainer_fn, \u001b[39m*\u001b[39;49margs, trainer\u001b[39m=\u001b[39;49mtrainer, \u001b[39m*\u001b[39;49m\u001b[39m*\u001b[39;49mkwargs)\n\u001b[1;32m     43\u001b[0m     \u001b[39mreturn\u001b[39;00m trainer_fn(\u001b[39m*\u001b[39margs, \u001b[39m*\u001b[39m\u001b[39m*\u001b[39mkwargs)\n\u001b[1;32m     45\u001b[0m \u001b[39mexcept\u001b[39;00m _TunerExitException:\n",
      "File \u001b[0;32m~/anaconda3/envs/kooplearn/lib/python3.11/site-packages/lightning/pytorch/strategies/launchers/multiprocessing.py:102\u001b[0m, in \u001b[0;36m_MultiProcessingLauncher.launch\u001b[0;34m(self, function, trainer, *args, **kwargs)\u001b[0m\n\u001b[1;32m    100\u001b[0m \u001b[39mself\u001b[39m\u001b[39m.\u001b[39m_check_torchdistx_support()\n\u001b[1;32m    101\u001b[0m \u001b[39mif\u001b[39;00m \u001b[39mself\u001b[39m\u001b[39m.\u001b[39m_start_method \u001b[39min\u001b[39;00m (\u001b[39m\"\u001b[39m\u001b[39mfork\u001b[39m\u001b[39m\"\u001b[39m, \u001b[39m\"\u001b[39m\u001b[39mforkserver\u001b[39m\u001b[39m\"\u001b[39m):\n\u001b[0;32m--> 102\u001b[0m     _check_bad_cuda_fork()\n\u001b[1;32m    104\u001b[0m \u001b[39m# The default cluster environment in Lightning chooses a random free port number\u001b[39;00m\n\u001b[1;32m    105\u001b[0m \u001b[39m# This needs to be done in the main process here before starting processes to ensure each rank will connect\u001b[39;00m\n\u001b[1;32m    106\u001b[0m \u001b[39m# through the same port\u001b[39;00m\n\u001b[1;32m    107\u001b[0m \u001b[39massert\u001b[39;00m \u001b[39mself\u001b[39m\u001b[39m.\u001b[39m_strategy\u001b[39m.\u001b[39mcluster_environment \u001b[39mis\u001b[39;00m \u001b[39mnot\u001b[39;00m \u001b[39mNone\u001b[39;00m\n",
      "File \u001b[0;32m~/anaconda3/envs/kooplearn/lib/python3.11/site-packages/lightning/fabric/strategies/launchers/multiprocessing.py:200\u001b[0m, in \u001b[0;36m_check_bad_cuda_fork\u001b[0;34m()\u001b[0m\n\u001b[1;32m    198\u001b[0m \u001b[39mif\u001b[39;00m _IS_INTERACTIVE:\n\u001b[1;32m    199\u001b[0m     message \u001b[39m+\u001b[39m\u001b[39m=\u001b[39m \u001b[39m\"\u001b[39m\u001b[39m You will have to restart the Python kernel.\u001b[39m\u001b[39m\"\u001b[39m\n\u001b[0;32m--> 200\u001b[0m \u001b[39mraise\u001b[39;00m \u001b[39mRuntimeError\u001b[39;00m(message)\n",
      "\u001b[0;31mRuntimeError\u001b[0m: Lightning can't create new processes if CUDA is already initialized. Did you manually call `torch.cuda.*` functions, have moved the model to the device, or allocated memory on the GPU any other way? Please remove any such calls, or change the selected strategy. You will have to restart the Python kernel."
     ]
    }
   ],
   "source": [
    "study = optuna.create_study(direction='maximize')\n",
    "study.optimize(objective, n_trials=10)"
   ]
  },
  {
   "cell_type": "markdown",
   "metadata": {},
   "source": [
    "##### Tuning with `optuna`"
   ]
  },
  {
   "cell_type": "code",
   "execution_count": null,
   "metadata": {},
   "outputs": [],
   "source": [
    "dpnet_model = DeepEDMD(feature_map, reduced_rank=False, rank=configs.classes).fit(train_data)\n",
    "print(f\"Train risk: {dpnet_model.risk():.3f}\\nValidation risk: {dpnet_model.risk(val_data):.3f}\")\n",
    "transfer_operator_models['DPNet'] = dpnet_model"
   ]
  },
  {
   "cell_type": "markdown",
   "metadata": {},
   "source": [
    "## Examining the results"
   ]
  },
  {
   "cell_type": "code",
   "execution_count": null,
   "metadata": {},
   "outputs": [],
   "source": [
    "report = {}\n",
    "for model_name, model in transfer_operator_models.items():\n",
    "    print(f\"Evaluating {model_name}\")\n",
    "    report[model_name] = evaluate_model(model, np_ordered_MNIST['test'])"
   ]
  },
  {
   "cell_type": "code",
   "execution_count": null,
   "metadata": {},
   "outputs": [],
   "source": [
    "fig, ax = plt.subplots()\n",
    "for model_name in report.keys():\n",
    "    t = report[model_name]['times']\n",
    "    acc = report[model_name]['accuracy']\n",
    "    ax.plot(t, acc, label=model_name)\n",
    "\n",
    "ax.axhline(1/configs.classes, color='black', linestyle='--', label='Random')\n",
    "\n",
    "ax.legend(frameon=False)\n",
    "ax.margins(x=0)\n",
    "ax.set_ylim(0, 1.1)\n",
    "ax.set_xlabel('Time steps')\n",
    "ax.set_ylabel('Accuracy')\n",
    "ax.set_title('Classifier accuracy')"
   ]
  },
  {
   "cell_type": "code",
   "execution_count": null,
   "metadata": {},
   "outputs": [],
   "source": [
    "n_models = len(report.keys())\n",
    "num_cols = configs.eval_up_to_t + 1\n",
    "fig, axes = plt.subplots(n_models, num_cols, figsize=(num_cols, n_models), sharex=True, sharey=True)\n",
    "\n",
    "test_seed_idx = 0\n",
    "# Remove margins between columns\n",
    "plt.subplots_adjust(wspace=0)\n",
    "\n",
    "for model_idx, model_name in enumerate(report.keys()):\n",
    "    ax = axes[model_idx, 0]\n",
    "    ax.imshow(np_ordered_MNIST['test']['image'][test_seed_idx], cmap='gray')\n",
    "    # Remove axes and ticks\n",
    "    ax.set_xticks([])\n",
    "    ax.set_yticks([])\n",
    "    ax.axis('off')\n",
    "    model_eval = report[model_name]\n",
    "\n",
    "    for t_idx in range(num_cols - 1):\n",
    "        pred_label = model_eval['label'][t_idx][test_seed_idx]\n",
    "        true_label = (np_ordered_MNIST['test']['label'][test_seed_idx] + model_eval['times'][t_idx])%configs.classes\n",
    "        img = model_eval['image'][t_idx][test_seed_idx]\n",
    "        \n",
    "        # Set subplot for the current class\n",
    "        ax = axes[model_idx, t_idx + 1]\n",
    "        \n",
    "        # Plot the MNIST image\n",
    "        ax.imshow(img, cmap='gray')\n",
    "        \n",
    "        # Remove axes and ticks\n",
    "        ax.set_xticks([])\n",
    "        ax.set_yticks([])\n",
    "        ax.axis('off')\n",
    "\n",
    "        # Add a white background for the subplot\n",
    "        ax.set_facecolor('white')\n",
    "        \n",
    "        # Add an inset for the predicted label in the upper right corner\n",
    "        if pred_label == true_label:\n",
    "            color = 'green'\n",
    "        else:\n",
    "            color = 'red'\n",
    "        inset_ax = ax.inset_axes([0.75, 0.75, 0.25, 0.25])\n",
    "        inset_ax.set_xlim(0, 1)\n",
    "        inset_ax.set_ylim(0, 1)\n",
    "        inset_ax.text(0.5, 0.4, f\"{pred_label}\" , color=color, fontsize=9, ha='center', va='center')\n",
    "        inset_ax.set_xticks([])\n",
    "        inset_ax.set_yticks([])\n",
    "        #inset_ax.axis('off')\n",
    "        inset_ax.set_facecolor('white')\n",
    "        \n",
    "\n",
    "# Display the model names on the left of each row\n",
    "for model_idx, model_name in enumerate(report.keys()):\n",
    "    axes[model_idx, 0].text(-0.1, 0.5, model_name, fontsize=14, ha='right', va='center', transform=axes[model_idx, 0].transAxes)\n",
    "\n",
    "for class_idx in range(num_cols):\n",
    "    title = (np_ordered_MNIST['test']['label'][test_seed_idx] + class_idx)%configs.classes\n",
    "    if class_idx == 0:\n",
    "        axes[0, class_idx].set_title(f\"Seed: {title}\", fontsize=14)\n",
    "    else:\n",
    "        axes[0, class_idx].set_title(f\"{title}\", fontsize=14)\n",
    "\n",
    "plt.show()"
   ]
  }
 ],
 "metadata": {
  "kernelspec": {
   "display_name": "kooplearn",
   "language": "python",
   "name": "python3"
  },
  "language_info": {
   "codemirror_mode": {
    "name": "ipython",
    "version": 3
   },
   "file_extension": ".py",
   "mimetype": "text/x-python",
   "name": "python",
   "nbconvert_exporter": "python",
   "pygments_lexer": "ipython3",
   "version": "3.11.5"
  },
  "orig_nbformat": 4
 },
 "nbformat": 4,
 "nbformat_minor": 2
}
