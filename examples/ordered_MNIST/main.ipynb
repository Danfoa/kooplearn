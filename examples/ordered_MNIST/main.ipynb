{
 "cells": [
  {
   "cell_type": "code",
   "execution_count": 1,
   "metadata": {},
   "outputs": [],
   "source": [
    "%load_ext autoreload\n",
    "%autoreload 2"
   ]
  },
  {
   "cell_type": "code",
   "execution_count": 2,
   "metadata": {},
   "outputs": [
    {
     "name": "stdout",
     "output_type": "stream",
     "text": [
      "Note: you may need to restart the kernel to use updated packages.\n"
     ]
    }
   ],
   "source": [
    "import importlib\n",
    "\n",
    "for module in ['kooplearn', 'datasets', 'matplotlib', 'ml-confs']: # !! Add here any additional module that you need to install on top of kooplearn\n",
    "    try:\n",
    "        importlib.import_module(module)\n",
    "    except ImportError:\n",
    "        if module == 'kooplearn':\n",
    "            module = 'kooplearn[full]'\n",
    "        %pip install -q {module}"
   ]
  },
  {
   "cell_type": "code",
   "execution_count": 1,
   "metadata": {},
   "outputs": [
    {
     "name": "stdout",
     "output_type": "stream",
     "text": [
      "Configs changed, preprocessing data.\n"
     ]
    },
    {
     "data": {
      "application/vnd.jupyter.widget-view+json": {
       "model_id": "4553f1ca435b425eaa3fcbfed5500c04",
       "version_major": 2,
       "version_minor": 0
      },
      "text/plain": [
       "Filter (num_proc=8):   0%|          | 0/60000 [00:00<?, ? examples/s]"
      ]
     },
     "metadata": {},
     "output_type": "display_data"
    },
    {
     "data": {
      "application/vnd.jupyter.widget-view+json": {
       "model_id": "aa63c4cb26cd4911b3a9338d9f12b0a0",
       "version_major": 2,
       "version_minor": 0
      },
      "text/plain": [
       "Filter (num_proc=8):   0%|          | 0/10000 [00:00<?, ? examples/s]"
      ]
     },
     "metadata": {},
     "output_type": "display_data"
    },
    {
     "data": {
      "application/vnd.jupyter.widget-view+json": {
       "model_id": "478ac674a74940f6a25f799c2d5d49de",
       "version_major": 2,
       "version_minor": 0
      },
      "text/plain": [
       "Filter (num_proc=8):   0%|          | 0/60000 [00:00<?, ? examples/s]"
      ]
     },
     "metadata": {},
     "output_type": "display_data"
    },
    {
     "data": {
      "application/vnd.jupyter.widget-view+json": {
       "model_id": "e216c1e8fe9444a09dcdff68713ce14e",
       "version_major": 2,
       "version_minor": 0
      },
      "text/plain": [
       "Filter (num_proc=8):   0%|          | 0/10000 [00:00<?, ? examples/s]"
      ]
     },
     "metadata": {},
     "output_type": "display_data"
    },
    {
     "data": {
      "application/vnd.jupyter.widget-view+json": {
       "model_id": "5f6f9faf720c412f8a7665b04b706924",
       "version_major": 2,
       "version_minor": 0
      },
      "text/plain": [
       "Filter (num_proc=8):   0%|          | 0/60000 [00:00<?, ? examples/s]"
      ]
     },
     "metadata": {},
     "output_type": "display_data"
    },
    {
     "data": {
      "application/vnd.jupyter.widget-view+json": {
       "model_id": "ade75c77c3574a35b25d7bc2772b3261",
       "version_major": 2,
       "version_minor": 0
      },
      "text/plain": [
       "Filter (num_proc=8):   0%|          | 0/10000 [00:00<?, ? examples/s]"
      ]
     },
     "metadata": {},
     "output_type": "display_data"
    },
    {
     "data": {
      "application/vnd.jupyter.widget-view+json": {
       "model_id": "20bcf051b1a74c7d8c329aba81627d14",
       "version_major": 2,
       "version_minor": 0
      },
      "text/plain": [
       "Filter (num_proc=8):   0%|          | 0/60000 [00:00<?, ? examples/s]"
      ]
     },
     "metadata": {},
     "output_type": "display_data"
    },
    {
     "data": {
      "application/vnd.jupyter.widget-view+json": {
       "model_id": "d41b09ccf9514a30be8a58f8456089b4",
       "version_major": 2,
       "version_minor": 0
      },
      "text/plain": [
       "Filter (num_proc=8):   0%|          | 0/10000 [00:00<?, ? examples/s]"
      ]
     },
     "metadata": {},
     "output_type": "display_data"
    },
    {
     "data": {
      "application/vnd.jupyter.widget-view+json": {
       "model_id": "4a76c6474dae473595b223014c577441",
       "version_major": 2,
       "version_minor": 0
      },
      "text/plain": [
       "Filter (num_proc=8):   0%|          | 0/60000 [00:00<?, ? examples/s]"
      ]
     },
     "metadata": {},
     "output_type": "display_data"
    },
    {
     "data": {
      "application/vnd.jupyter.widget-view+json": {
       "model_id": "d21b38fb4e5942f8b2938dd190a2e373",
       "version_major": 2,
       "version_minor": 0
      },
      "text/plain": [
       "Filter (num_proc=8):   0%|          | 0/10000 [00:00<?, ? examples/s]"
      ]
     },
     "metadata": {},
     "output_type": "display_data"
    },
    {
     "data": {
      "application/vnd.jupyter.widget-view+json": {
       "model_id": "f7276967b29e4d6d9c31c5e354d2a361",
       "version_major": 2,
       "version_minor": 0
      },
      "text/plain": [
       "Map (num_proc=2):   0%|          | 0/800 [00:00<?, ? examples/s]"
      ]
     },
     "metadata": {},
     "output_type": "display_data"
    },
    {
     "data": {
      "application/vnd.jupyter.widget-view+json": {
       "model_id": "9c04c0e90955469ea6247f4e90eeadf1",
       "version_major": 2,
       "version_minor": 0
      },
      "text/plain": [
       "Map (num_proc=2):   0%|          | 0/1001 [00:00<?, ? examples/s]"
      ]
     },
     "metadata": {},
     "output_type": "display_data"
    },
    {
     "data": {
      "application/vnd.jupyter.widget-view+json": {
       "model_id": "f06fc6f757ce451dbb97d08d6c8bca63",
       "version_major": 2,
       "version_minor": 0
      },
      "text/plain": [
       "Map (num_proc=2):   0%|          | 0/201 [00:00<?, ? examples/s]"
      ]
     },
     "metadata": {},
     "output_type": "display_data"
    },
    {
     "data": {
      "application/vnd.jupyter.widget-view+json": {
       "model_id": "d003a5e95d574b708ed23df00e646855",
       "version_major": 2,
       "version_minor": 0
      },
      "text/plain": [
       "Saving the dataset (0/1 shards):   0%|          | 0/800 [00:00<?, ? examples/s]"
      ]
     },
     "metadata": {},
     "output_type": "display_data"
    },
    {
     "data": {
      "application/vnd.jupyter.widget-view+json": {
       "model_id": "11e1a854846845cfa8462c4871737f74",
       "version_major": 2,
       "version_minor": 0
      },
      "text/plain": [
       "Saving the dataset (0/1 shards):   0%|          | 0/1001 [00:00<?, ? examples/s]"
      ]
     },
     "metadata": {},
     "output_type": "display_data"
    },
    {
     "data": {
      "application/vnd.jupyter.widget-view+json": {
       "model_id": "385eca5562734af8bfbd6343cc776f7a",
       "version_major": 2,
       "version_minor": 0
      },
      "text/plain": [
       "Saving the dataset (0/1 shards):   0%|          | 0/201 [00:00<?, ? examples/s]"
      ]
     },
     "metadata": {},
     "output_type": "display_data"
    },
    {
     "name": "stdout",
     "output_type": "stream",
     "text": [
      "train (800) example: tensor([0, 1, 2, 3, 4])\n",
      "test (1001) example: tensor([0, 1, 2, 3, 4])\n",
      "validation (201) example: tensor([0, 1, 2, 3, 4])\n"
     ]
    },
    {
     "data": {
      "image/png": "[encoded data removed]",
      "text/plain": [
       "<Figure size 500x300 with 15 Axes>"
      ]
     },
     "metadata": {},
     "output_type": "display_data"
    }
   ],
   "source": [
    "import data_pipeline\n",
    "import ml_confs\n",
    "from datasets import load_from_disk\n",
    "import matplotlib.pyplot as plt\n",
    "\n",
    "data_pipeline.main() # Run data download and preprocessing\n",
    "configs = ml_confs.from_file('configs.yaml') # Load configs\n",
    "ordered_MNIST = load_from_disk('__data__') # Load dataset (torch)\n",
    "np_ordered_MNIST = ordered_MNIST.with_format(type='numpy', columns=['image', 'label']) # Copy of the dataset in numpy format\n",
    "\n",
    "fig, ax = plt.subplots(3, configs.classes, figsize=(configs.classes, 3))\n",
    "for j, split in enumerate(['train', 'test', 'validation']):\n",
    "    print(f'{split} ({len(ordered_MNIST[split])}) example: {ordered_MNIST[split][\"label\"][:configs.classes]}')\n",
    "    for i in range(configs.classes):\n",
    "        data = ordered_MNIST['train'][configs.classes*j + i]\n",
    "        ax[j, i].imshow(data['image'], cmap='gray')\n",
    "        ax[j, i].set_title(data['label'].item())\n",
    "        ax[j, i].axis('off')\n",
    "fig.tight_layout()"
   ]
  },
  {
   "cell_type": "markdown",
   "metadata": {},
   "source": [
    "## Setting up a validation scheme\n",
    "The validation of each model will be performed as follows: starting from a test image of the digit $c$, we will predict the next image by calling `model.predict`. The prediction should be an MNIST-alike image of the digit $c+1$ (modulo `configs.classes`). We will feed this prediction to a very strong MNIST classifier, and evaluate how its accuracy degrades over time.\n",
    "\n",
    "### Defining the _oracle_ classifier"
   ]
  },
  {
   "cell_type": "code",
   "execution_count": 2,
   "metadata": {},
   "outputs": [],
   "source": [
    "import torch.nn as nn\n",
    "import torch\n",
    "\n",
    "#Setting up the architecture\n",
    "class CNNEncoder(nn.Module):\n",
    "    def __init__(self, num_classes):\n",
    "        super(CNNEncoder, self).__init__()\n",
    "        self.conv1 = nn.Sequential(         \n",
    "            nn.Conv2d(\n",
    "                in_channels=1,              \n",
    "                out_channels=16,            \n",
    "                kernel_size=5,              \n",
    "                stride=1,                   \n",
    "                padding=2,                  \n",
    "            ),                              \n",
    "            nn.ReLU(),                      \n",
    "            nn.MaxPool2d(kernel_size=2),    \n",
    "        )\n",
    "        self.conv2 = nn.Sequential(         \n",
    "            nn.Conv2d(16, 32, 5, 1, 2),     \n",
    "            nn.ReLU(),                      \n",
    "            nn.MaxPool2d(2),                \n",
    "        )\n",
    "        # Fully connected layer, output num_classes classes\n",
    "        self.out = nn.Sequential(\n",
    "            nn.Linear(32 * 7 * 7, num_classes)\n",
    "        )  \n",
    "        torch.nn.init.orthogonal_(self.out[0].weight)      \n",
    "    \n",
    "    def forward(self, X):\n",
    "        if X.dim() == 3:\n",
    "            X = X.unsqueeze(1) # Add a channel dimension if needed\n",
    "        X = self.conv1(X)\n",
    "        X = self.conv2(X)\n",
    "        # Flatten the output of conv2\n",
    "        X = X.view(X.size(0), -1)       \n",
    "        output = self.out(X)\n",
    "        return output"
   ]
  },
  {
   "cell_type": "markdown",
   "metadata": {},
   "source": [
    "We wrap the oracle classifier around a `kooplearn.abc.TrainableFeatureMap`. This will allow us to easily replicate the setting of Kostic et al. 2022, and it is pedagogical to show how `kooplearn` can be extended."
   ]
  },
  {
   "cell_type": "code",
   "execution_count": 3,
   "metadata": {},
   "outputs": [],
   "source": [
    "from kooplearn.abc import TrainableFeatureMap\n",
    "\n",
    "import os\n",
    "from typing import Optional, NamedTuple\n",
    "import logging\n",
    "\n",
    "import lightning\n",
    "import numpy as np\n",
    "\n",
    "class Metrics(NamedTuple):\n",
    "    train_acc: list[float]\n",
    "    train_steps: list[float]\n",
    "    val_acc: list[float]\n",
    "    val_steps: list[float]\n",
    "\n",
    "\n",
    "#Following kooplearn implementations, we define a Pytorch Lightning module and then wrap it in a TrainableFeatureMap\n",
    "class ClassifierModule(lightning.LightningModule):\n",
    "    def __init__(self, num_classes: int, learning_rate: float):\n",
    "        super().__init__()\n",
    "        self.num_classes = num_classes\n",
    "        self.encoder = CNNEncoder(num_classes=num_classes)\n",
    "        self.learning_rate = learning_rate\n",
    "        self.loss_fn = torch.nn.CrossEntropyLoss()\n",
    "    \n",
    "    def on_fit_start(self):\n",
    "        self.metrics = Metrics([], [], [], [])\n",
    "\n",
    "    def configure_optimizers(self):\n",
    "        optimizer = torch.optim.Adam(self.parameters(), lr = self.learning_rate)\n",
    "        return optimizer\n",
    "    \n",
    "    def training_step(self, batch, batch_idx):\n",
    "        images, labels = batch['image'], batch['label']\n",
    "        output = self.encoder(images)               \n",
    "        loss = self.loss_fn(output, labels)\n",
    "        with torch.no_grad():\n",
    "            pred_labels = output.argmax(dim=1)\n",
    "            accuracy = (pred_labels == labels).float().mean()\n",
    "        \n",
    "        #Log metrics\n",
    "        self.metrics.train_acc.append(accuracy.item())\n",
    "        self.metrics.train_steps.append(self.global_step)\n",
    "        \n",
    "        return {'loss': loss, 'train/accuracy': accuracy}\n",
    "    \n",
    "    def validation_step(self, batch, batch_idx):\n",
    "        images, labels = batch['image'], batch['label']\n",
    "        output = self.encoder(images)  \n",
    "        pred_labels = output.argmax(dim=1)\n",
    "        accuracy = (pred_labels == labels).float().mean() # Scalar\n",
    "\n",
    "        self.metrics.val_acc.append(accuracy.item())\n",
    "        self.metrics.val_steps.append(self.global_step)\n",
    "\n",
    "        return {'val/accuracy': accuracy}\n",
    "    \n",
    "class ClassifierFeatureMap(TrainableFeatureMap):\n",
    "    def __init__(\n",
    "                self, \n",
    "                num_classes: int,\n",
    "                learning_rate: float,\n",
    "                trainer: lightning.Trainer,\n",
    "                seed: Optional[int] = None  \n",
    "                ):\n",
    "        #Set rng seed\n",
    "        lightning.seed_everything(seed)\n",
    "        self.seed = seed\n",
    "        self.lightning_module = ClassifierModule(num_classes, learning_rate)\n",
    "        \n",
    "        #Init trainer\n",
    "        self.lightning_trainer = trainer\n",
    "        self._is_fitted = False\n",
    "        \n",
    "    @property\n",
    "    def is_fitted(self) -> bool:\n",
    "        return self._is_fitted\n",
    "    \n",
    "    @property\n",
    "    def lookback_len(self) -> int:\n",
    "        return 1 #Hardcoding it here, as we are not using lookback windows\n",
    "    \n",
    "    #Not tested\n",
    "    def save(self, path: os.PathLike):\n",
    "        raise NotImplementedError\n",
    "    \n",
    "    #Not tested\n",
    "    @classmethod\n",
    "    def load(cls, path: os.PathLike):\n",
    "       raise NotImplementedError\n",
    "\n",
    "    def fit(self, **trainer_fit_kwargs: dict):\n",
    "        if 'model' in trainer_fit_kwargs:\n",
    "            logging.warn(f\"The 'model' keyword should not be specified in trainer_fit_kwargs. The provided model '{trainer_fit_kwargs['model']}' is ignored.\")\n",
    "            trainer_fit_kwargs = trainer_fit_kwargs.copy()\n",
    "            del trainer_fit_kwargs['model']\n",
    "        self.lightning_trainer.fit(model=self.lightning_module, **trainer_fit_kwargs)\n",
    "        self._is_fitted = True\n",
    "\n",
    "    def __call__(self, X: np.ndarray) -> np.ndarray:\n",
    "        X = torch.from_numpy(X.copy(order=\"C\")).float()\n",
    "        self.lightning_module.eval()\n",
    "        with torch.no_grad():\n",
    "            embedded_X = self.lightning_module.encoder(\n",
    "                X.to(self.lightning_module.device)\n",
    "            )\n",
    "            embedded_X = embedded_X.detach().cpu().numpy()\n",
    "        return embedded_X"
   ]
  },
  {
   "cell_type": "markdown",
   "metadata": {},
   "source": [
    "Let's train `ClassifierFeatureMap` on our `ordered_MNIST` dataset"
   ]
  },
  {
   "cell_type": "code",
   "execution_count": 4,
   "metadata": {},
   "outputs": [
    {
     "name": "stderr",
     "output_type": "stream",
     "text": [
      "GPU available: True (cuda), used: True\n",
      "TPU available: False, using: 0 TPU cores\n",
      "IPU available: False, using: 0 IPUs\n",
      "HPU available: False, using: 0 HPUs\n",
      "Global seed set to 0\n"
     ]
    },
    {
     "name": "stderr",
     "output_type": "stream",
     "text": [
      "LOCAL_RANK: 0 - CUDA_VISIBLE_DEVICES: [0,1]\n",
      "\n",
      "  | Name    | Type             | Params\n",
      "---------------------------------------------\n",
      "0 | encoder | CNNEncoder       | 21.1 K\n",
      "1 | loss_fn | CrossEntropyLoss | 0     \n",
      "---------------------------------------------\n",
      "21.1 K    Trainable params\n",
      "0         Non-trainable params\n",
      "21.1 K    Total params\n",
      "0.084     Total estimated model params size (MB)\n",
      "/home/novelli/anaconda3/envs/kooplearn/lib/python3.11/site-packages/lightning/pytorch/trainer/connectors/data_connector.py:442: PossibleUserWarning: The dataloader, val_dataloader, does not have many workers which may be a bottleneck. Consider increasing the value of the `num_workers` argument` (try 20 which is the number of cpus on this machine) in the `DataLoader` init to improve performance.\n",
      "  rank_zero_warn(\n",
      "/home/novelli/anaconda3/envs/kooplearn/lib/python3.11/site-packages/lightning/pytorch/trainer/connectors/data_connector.py:442: PossibleUserWarning: The dataloader, train_dataloader, does not have many workers which may be a bottleneck. Consider increasing the value of the `num_workers` argument` (try 20 which is the number of cpus on this machine) in the `DataLoader` init to improve performance.\n",
      "  rank_zero_warn(\n",
      "`Trainer.fit` stopped: `max_epochs=20` reached.\n"
     ]
    }
   ],
   "source": [
    "from torch.utils.data import DataLoader\n",
    "oracle_train_dl = DataLoader(ordered_MNIST['train'], batch_size=configs.batch_size, shuffle=True)\n",
    "oracle_val_dl = DataLoader(ordered_MNIST['validation'], batch_size=len(ordered_MNIST['validation']), shuffle=False)\n",
    "        \n",
    "trainer_kwargs = {\n",
    "    'accelerator': 'gpu',\n",
    "    'max_epochs': 20,\n",
    "    'log_every_n_steps': 2,\n",
    "    'enable_progress_bar': False,\n",
    "    'devices': 1\n",
    "}\n",
    "\n",
    "trainer = lightning.Trainer(**trainer_kwargs)\n",
    "\n",
    "oracle = ClassifierFeatureMap(\n",
    "    configs.classes,\n",
    "    1e-2,\n",
    "    trainer, \n",
    "    seed=configs.rng_seed\n",
    ")\n",
    "\n",
    "oracle.fit(train_dataloaders=oracle_train_dl, val_dataloaders=oracle_val_dl)"
   ]
  },
  {
   "cell_type": "code",
   "execution_count": 5,
   "metadata": {},
   "outputs": [
    {
     "data": {
      "image/png": "[encoded data removed]",
      "text/plain": [
       "<Figure size 640x480 with 1 Axes>"
      ]
     },
     "metadata": {},
     "output_type": "display_data"
    }
   ],
   "source": [
    "fig, ax = plt.subplots(1, 1)\n",
    "ax.plot(oracle.lightning_module.metrics.train_steps, oracle.lightning_module.metrics.train_acc, label='Train')\n",
    "ax.plot(oracle.lightning_module.metrics.val_steps, oracle.lightning_module.metrics.val_acc, label='Validation')\n",
    "ax.set_xlabel('Global step')\n",
    "ax.set_ylabel('Accuracy')\n",
    "ax.legend(frameon=False, loc='lower right')\n",
    "ax.margins(x=0)"
   ]
  },
  {
   "cell_type": "markdown",
   "metadata": {},
   "source": [
    "# Model fitting"
   ]
  },
  {
   "cell_type": "code",
   "execution_count": 6,
   "metadata": {},
   "outputs": [],
   "source": [
    "from kooplearn.models import DMD, DeepEDMD\n",
    "from kooplearn.models.feature_maps.nn import NNFeatureMap\n",
    "from kooplearn.data import traj_to_contexts\n",
    "\n",
    "train_data = traj_to_contexts(ordered_MNIST['train']['image'], backend='numpy')\n",
    "val_data = traj_to_contexts(ordered_MNIST['validation']['image'], backend='numpy')\n",
    "test_data = traj_to_contexts(ordered_MNIST['test']['image'], backend='numpy')\n",
    "test_labels = np.take(ordered_MNIST['test']['label'], np.squeeze(test_data.idx_map.lookback(1))).detach().cpu().numpy()\n",
    "transfer_operator_models = {}"
   ]
  },
  {
   "cell_type": "markdown",
   "metadata": {},
   "source": [
    "### Linear Ridge Regression"
   ]
  },
  {
   "cell_type": "code",
   "execution_count": 7,
   "metadata": {},
   "outputs": [],
   "source": [
    "linear_model = DMD(reduced_rank = configs.reduced_rank, rank=configs.classes).fit(train_data)\n",
    "transfer_operator_models['linear'] = linear_model"
   ]
  },
  {
   "cell_type": "markdown",
   "metadata": {},
   "source": [
    "### Classifier features (as in Sec. 6 of Kostic et al. 2022)"
   ]
  },
  {
   "cell_type": "code",
   "execution_count": 8,
   "metadata": {},
   "outputs": [],
   "source": [
    "classifier_model = DeepEDMD(oracle, reduced_rank=False, rank=configs.classes).fit(train_data)\n",
    "transfer_operator_models['classifier_baseline'] = classifier_model"
   ]
  },
  {
   "cell_type": "markdown",
   "metadata": {},
   "source": [
    "## Dataloader for `kooplearn`"
   ]
  },
  {
   "cell_type": "code",
   "execution_count": 9,
   "metadata": {},
   "outputs": [],
   "source": [
    "from kooplearn.nn.data import collate_context_dataset\n",
    "\n",
    "train_dl = DataLoader(train_data, batch_size = configs.batch_size, shuffle=True, collate_fn=collate_context_dataset)"
   ]
  },
  {
   "cell_type": "markdown",
   "metadata": {},
   "source": [
    "### DPNets"
   ]
  },
  {
   "cell_type": "code",
   "execution_count": 10,
   "metadata": {},
   "outputs": [
    {
     "name": "stdout",
     "output_type": "stream",
     "text": [
      "Fitting Dpnets Relaxed\n"
     ]
    },
    {
     "name": "stderr",
     "output_type": "stream",
     "text": [
      "GPU available: True (cuda), used: True\n",
      "TPU available: False, using: 0 TPU cores\n",
      "IPU available: False, using: 0 IPUs\n",
      "HPU available: False, using: 0 HPUs\n",
      "Global seed set to 0\n",
      "LOCAL_RANK: 0 - CUDA_VISIBLE_DEVICES: [0,1]\n"
     ]
    },
    {
     "name": "stdout",
     "output_type": "stream",
     "text": [
      "Fitting NNFeatureMap. Lookback window length set to 1\n"
     ]
    },
    {
     "data": {
      "application/vnd.jupyter.widget-view+json": {
       "model_id": "864d4d148e48498da15faddc0bdd18e5",
       "version_major": 2,
       "version_minor": 0
      },
      "text/plain": [
       "Training: 0it [00:00, ?it/s]"
      ]
     },
     "metadata": {},
     "output_type": "display_data"
    },
    {
     "name": "stderr",
     "output_type": "stream",
     "text": [
      "`Trainer.fit` stopped: `max_epochs=10` reached.\n",
      "GPU available: True (cuda), used: True\n",
      "TPU available: False, using: 0 TPU cores\n",
      "IPU available: False, using: 0 IPUs\n",
      "HPU available: False, using: 0 HPUs\n",
      "Global seed set to 0\n",
      "LOCAL_RANK: 0 - CUDA_VISIBLE_DEVICES: [0,1]\n"
     ]
    },
    {
     "name": "stdout",
     "output_type": "stream",
     "text": [
      "Fitting Dpnets\n",
      "Fitting NNFeatureMap. Lookback window length set to 1\n"
     ]
    },
    {
     "data": {
      "application/vnd.jupyter.widget-view+json": {
       "model_id": "b983d0be9d9d49219aabb58f1f72871c",
       "version_major": 2,
       "version_minor": 0
      },
      "text/plain": [
       "Training: 0it [00:00, ?it/s]"
      ]
     },
     "metadata": {},
     "output_type": "display_data"
    },
    {
     "name": "stderr",
     "output_type": "stream",
     "text": [
      "`Trainer.fit` stopped: `max_epochs=10` reached.\n",
      "GPU available: True (cuda), used: True\n",
      "TPU available: False, using: 0 TPU cores\n",
      "IPU available: False, using: 0 IPUs\n",
      "HPU available: False, using: 0 HPUs\n",
      "Global seed set to 0\n",
      "LOCAL_RANK: 0 - CUDA_VISIBLE_DEVICES: [0,1]\n"
     ]
    },
    {
     "name": "stdout",
     "output_type": "stream",
     "text": [
      "Fitting Vampnets\n",
      "Fitting NNFeatureMap. Lookback window length set to 1\n"
     ]
    },
    {
     "data": {
      "application/vnd.jupyter.widget-view+json": {
       "model_id": "5462fd9650fb4e459c34fea1e92c1ecc",
       "version_major": 2,
       "version_minor": 0
      },
      "text/plain": [
       "Training: 0it [00:00, ?it/s]"
      ]
     },
     "metadata": {},
     "output_type": "display_data"
    },
    {
     "name": "stderr",
     "output_type": "stream",
     "text": [
      "`Trainer.fit` stopped: `max_epochs=10` reached.\n"
     ]
    }
   ],
   "source": [
    "from kooplearn.nn import DPLoss, VAMPLoss\n",
    "trainer_kwargs = {\n",
    "    'accelerator': 'gpu',\n",
    "    'devices': 1,\n",
    "    'max_epochs': configs.max_epochs,  \n",
    "    'log_every_n_steps': 3,\n",
    "    'enable_model_summary': False\n",
    "}\n",
    "\n",
    "\n",
    "feature_maps = {\n",
    "    'dpnets_relaxed': {\n",
    "        'loss_fn': DPLoss,\n",
    "        'loss_kwargs': {'relaxed': True, 'metric_deformation': 1, 'center_covariances': False}\n",
    "    },\n",
    "    'dpnets': {\n",
    "        'loss_fn': DPLoss,\n",
    "        'loss_kwargs': {'relaxed': False, 'metric_deformation': 1, 'center_covariances': False}\n",
    "    },\n",
    "    'vampnets': {\n",
    "        'loss_fn': VAMPLoss,\n",
    "        'loss_kwargs': {'schatten_norm': 2, 'center_covariances': False}\n",
    "    },\n",
    "}\n",
    "\n",
    "for fname, fdict in feature_maps.items():\n",
    "    print(f\"Fitting {fname.replace('_', ' ').title()}\")\n",
    "    trainer = lightning.Trainer(**trainer_kwargs)\n",
    "    #Defining the model\n",
    "    feature_map = NNFeatureMap(\n",
    "        CNNEncoder,\n",
    "        fdict['loss_fn'],\n",
    "        torch.optim.Adam,\n",
    "        trainer,\n",
    "        encoder_kwargs={'num_classes': configs.classes},\n",
    "        loss_kwargs=fdict['loss_kwargs'],\n",
    "        optimizer_kwargs={'lr': 9e-4},\n",
    "        seed=configs.rng_seed\n",
    "    )\n",
    "    feature_map.fit(train_dl)\n",
    "    nn_model = DeepEDMD(feature_map, reduced_rank = configs.reduced_rank, rank=configs.classes).fit(train_data)\n",
    "    transfer_operator_models[fname] = nn_model"
   ]
  },
  {
   "cell_type": "markdown",
   "metadata": {},
   "source": [
    "# Final comparison\n",
    "## Model evaluation function"
   ]
  },
  {
   "cell_type": "code",
   "execution_count": 11,
   "metadata": {},
   "outputs": [],
   "source": [
    "from kooplearn.abc import BaseModel\n",
    "from kooplearn.models.ae.consistent import ConsistentAE\n",
    "\n",
    "def evaluate_model(model: BaseModel, test_data):\n",
    "    assert model.is_fitted\n",
    "    if isinstance(model, ConsistentAE):\n",
    "        print(\"Triggered padding\")   \n",
    "        raise NotImplementedError     \n",
    "        #Pad with zeros\n",
    "        # padding = np.zeros_like(test_images)\n",
    "        # test_images = np.concatenate([padding]*(model.lookback_len - 1)+ [test_images], axis=1)    \n",
    "    print(f\"Model {model.__class__.__name__}'s lookback len is {model.lookback_len}\")\n",
    "    print(f\"Test-data {test_data.shape}\")\n",
    "    report = {\n",
    "        'accuracy': [],\n",
    "        'label': [],\n",
    "        'image': [],\n",
    "        'times': []\n",
    "    }\n",
    "    for t in range(1, configs.eval_up_to_t + 1):\n",
    "        pred = model.predict(test_data, t=t) # Shape of the lookforward window\n",
    "        pred_labels = oracle(pred.reshape(-1, 28,28)).argmax(axis=1)\n",
    "        accuracy = (pred_labels == (test_labels + t)%configs.classes ).mean()\n",
    "        report['accuracy'].append(accuracy)\n",
    "        report['image'].append(pred)\n",
    "        report['label'].append(pred_labels)\n",
    "        report['times'].append(t)\n",
    "    return report"
   ]
  },
  {
   "cell_type": "code",
   "execution_count": 12,
   "metadata": {},
   "outputs": [
    {
     "name": "stdout",
     "output_type": "stream",
     "text": [
      "Evaluating linear\n",
      "Model DMD's lookback len is 1\n",
      "Test-data (1000, 2, 28, 28)\n",
      "Evaluating classifier_baseline\n",
      "Model DeepEDMD's lookback len is 1\n",
      "Test-data (1000, 2, 28, 28)\n",
      "Evaluating dpnets_relaxed\n",
      "Model DeepEDMD's lookback len is 1\n",
      "Test-data (1000, 2, 28, 28)\n",
      "Evaluating dpnets\n",
      "Model DeepEDMD's lookback len is 1\n",
      "Test-data (1000, 2, 28, 28)\n",
      "Evaluating vampnets\n",
      "Model DeepEDMD's lookback len is 1\n",
      "Test-data (1000, 2, 28, 28)\n"
     ]
    }
   ],
   "source": [
    "report = {}\n",
    "for model_name, model in transfer_operator_models.items():\n",
    "    print(f\"Evaluating {model_name}\")\n",
    "    report[model_name] = evaluate_model(model, test_data)"
   ]
  },
  {
   "cell_type": "code",
   "execution_count": 13,
   "metadata": {},
   "outputs": [
    {
     "data": {
      "text/plain": [
       "Text(0.5, 1.0, 'Multistep Accuracy')"
      ]
     },
     "execution_count": 13,
     "metadata": {},
     "output_type": "execute_result"
    },
    {
     "data": {
      "image/png": "[encoded data removed]",
      "text/plain": [
       "<Figure size 640x480 with 1 Axes>"
      ]
     },
     "metadata": {},
     "output_type": "display_data"
    }
   ],
   "source": [
    "fig, ax = plt.subplots()\n",
    "for model_name in report.keys():\n",
    "    t = report[model_name]['times']\n",
    "    acc = report[model_name]['accuracy']\n",
    "    \n",
    "    ax.plot(t, acc, label=model_name.replace('_', ' ').title())\n",
    "\n",
    "ax.axhline(1/configs.classes, color='black', linestyle='--', label='Random')\n",
    "\n",
    "ax.legend(frameon=False)\n",
    "ax.margins(x=0)\n",
    "ax.set_ylim(0, 1.1)\n",
    "ax.set_xlabel('Time steps')\n",
    "ax.set_ylabel('Accuracy')\n",
    "ax.set_title('Multistep Accuracy')"
   ]
  }
 ],
 "metadata": {
  "kernelspec": {
   "display_name": "kooplearn",
   "language": "python",
   "name": "python3"
  },
  "language_info": {
   "codemirror_mode": {
    "name": "ipython",
    "version": 3
   },
   "file_extension": ".py",
   "mimetype": "text/x-python",
   "name": "python",
   "nbconvert_exporter": "python",
   "pygments_lexer": "ipython3",
   "version": "3.11.5"
  }
 },
 "nbformat": 4,
 "nbformat_minor": 2
}
