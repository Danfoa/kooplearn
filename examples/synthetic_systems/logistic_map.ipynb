{
 "cells": [
  {
   "cell_type": "markdown",
   "metadata": {},
   "source": [
    "### The logistic map\n",
    "Is defined as $x_{i + 1} = \\alpha x_{i}(1 - x_{i})$. For $\\alpha = 4$ it maps $[0,1]$ onto itself. For $\\alpha = 4$ the invariant density is $$ \\pi(dx) := \\frac{1}{\\pi\\sqrt{x(1 - x)}}dx,$$\n",
    "which is a beta distribution with parameters $a = b = 0.5$."
   ]
  },
  {
   "cell_type": "code",
   "execution_count": 1,
   "metadata": {},
   "outputs": [],
   "source": [
    "import numpy as np\n",
    "import matplotlib.pyplot as plt\n",
    "from tqdm import tqdm\n",
    "from scipy.stats import beta\n",
    "import sys\n",
    "sys.path.append(\"../../\")\n",
    "from DynamicalSystems.koopman_regression import KernelRidgeRegression, ReducedRankRegression, PrincipalComponentRegression, RandomizedReducedRankRegression\n",
    "from DynamicalSystems.kernels import Linear, Quadratic, RBF, Matern, Poly\n",
    "from warnings import warn\n",
    "#from DynamicalSystems.utils import plot_eigs"
   ]
  },
  {
   "cell_type": "code",
   "execution_count": 2,
   "metadata": {},
   "outputs": [],
   "source": [
    "\"\"\"\n",
    "statistics = {\n",
    "    'num_test_samples' :    #Numer of test samples,\n",
    "    'test_repetitions' :    #(Optional) Number of repetitions of the test,\n",
    "    'train_repetitions' :   #(Optional) Number of repetitions of the training,\n",
    "}\n",
    "\n",
    "parameters = {\n",
    "    'num_train_samples' :   #Number of training samples or array of training samples,\n",
    "    'ranks' :               #Rank of the reduced rank approximation or array of ranks,\n",
    "    'tikhonov_regs':        #Tikhonov regularization parameter or array of regularization parameters,\n",
    "    'estimators' :          #Estimator or array of estimators,\n",
    "}\n",
    "\"\"\"\n",
    "class LogisticMapSimulation:\n",
    "    def __init__(self, kernel, parameters, statistics, r = 4, sigma = None, iid=True):\n",
    "        self.kernel = kernel\n",
    "        self.parameters = parameters\n",
    "        self.a = 0.5\n",
    "        self.b = 0.5\n",
    "        self.r = r\n",
    "        self.sigma = sigma\n",
    "        self.iid = iid\n",
    "        self.test_repetitions = statistics.get('test_repetitions', 1)\n",
    "        self.train_repetitions = statistics.get('train_repetitions', 1)\n",
    "        test_size = (statistics['num_test_samples'], self.test_repetitions)\n",
    "        self.test_set = self._generate_pts(test_size)\n",
    "        self._parameter_values = ['estimators', 'num_train_samples', 'ranks', 'tikhonov_regs']\n",
    "        self._is_computed = False\n",
    "    \n",
    "    def _unpack_parameters(self):\n",
    "        iterators = []\n",
    "        for p_name in self._parameter_values:\n",
    "            p = self.parameters[p_name]\n",
    "            if np.ndim(p) == 0:\n",
    "                p = np.array([p])\n",
    "            iterators.append(np.array(p))\n",
    "        return iterators\n",
    "\n",
    "    def run(self, backend = 'auto'):\n",
    "        iterators = self._unpack_parameters()\n",
    "        estimators, num_train_samples, ranks, tikhonov_regs = iterators\n",
    "        size_err = (2,) #Mean, std    \n",
    "        for i in iterators:\n",
    "            size_err += i.shape\n",
    "        errors = np.zeros(size_err)\n",
    "        test_X, test_Y = self.test_set\n",
    "        #Iterate over possible estimators\n",
    "        for est_i, estimator in enumerate(estimators):\n",
    "            _first_iter_found = False\n",
    "            #Iterate over possible training sizes\n",
    "            _train_iter, _first_iter_found = self._dress_iterator(num_train_samples, estimator.__name__, _first_iter_found)  \n",
    "            for train_i, num_train in _train_iter:\n",
    "                X_train, Y_train = self._generate_pts((num_train, self.train_repetitions))\n",
    "                #Iterate over possible ranks\n",
    "                _rank_iter, _first_iter_found = self._dress_iterator(ranks, estimator.__name__, _first_iter_found)\n",
    "                for rank_i, rank in _rank_iter:\n",
    "                    #Iterate over possible regularization parameters\n",
    "                    _reg_iter, _first_iter_found = self._dress_iterator(tikhonov_regs, estimator.__name__, _first_iter_found)\n",
    "                    for reg_i, reg in _reg_iter:\n",
    "                        _err = np.zeros((self.train_repetitions, self.test_repetitions))\n",
    "                        #Iterate over train repetitions\n",
    "                        for train_rep in range(self.train_repetitions):\n",
    "                            X, Y = X_train[:,train_rep][:,None], Y_train[:,train_rep][:,None]\n",
    "                            if estimator == KernelRidgeRegression:\n",
    "                                model = estimator(kernel = self.kernel, tikhonov_reg = reg)\n",
    "                            else:\n",
    "                                model = estimator(kernel = self.kernel, rank = rank, tikhonov_reg = reg)\n",
    "                            model.fit(X, Y, backend = backend)\n",
    "                            _err[train_rep] = np.array([model.risk(test_X[:,k][:, None], test_Y[:,k][:, None]) for k in range(test_X.shape[1])])\n",
    "                        errors[0, est_i, train_i, rank_i, reg_i] = np.mean(_err)\n",
    "                        errors[1, est_i, train_i, rank_i, reg_i] = np.std(_err)\n",
    "        self._is_computed = True\n",
    "        self._errors = errors\n",
    "        return iterators, errors\n",
    "    \n",
    "    def _dress_iterator(self, iterator, desc, found):\n",
    "        _iter = enumerate(iterator)\n",
    "        if (not found) and (iterator.shape[0] > 1):\n",
    "                found = True\n",
    "                _iter = tqdm(_iter, desc = desc, total = iterator.shape[0]) \n",
    "        return _iter, found\n",
    "\n",
    "    def logistic_map(self, x):\n",
    "        return self.r * x * (1 - x)\n",
    "\n",
    "    def _generate_pts(self, size):\n",
    "        if np.isscalar(size):\n",
    "            size = (size, 1)\n",
    "        if self.iid:\n",
    "            X = beta.rvs(self.a, self.b, size = size)\n",
    "            Y = self.logistic_map(X)\n",
    "            if self.sigma is not None:\n",
    "                Y += np.random.normal(scale = self.sigma, size=size)\n",
    "        else:\n",
    "            _raw = np.zeros((size[0] + 1, size[1]))\n",
    "            _raw[0] = beta.rvs(self.a, self.b, size = size[1])\n",
    "            for i in range(1, size[0] + 1):\n",
    "                _raw[i] = self.logistic_map(_raw[i - 1])\n",
    "                if self.sigma is not None:\n",
    "                    _raw[i] += np.random.normal(scale = self.sigma, size=size[1])\n",
    "            X = _raw[:-1]\n",
    "            Y = _raw[1:]\n",
    "        return X, Y\n",
    "\n",
    "    def plot1D(self, variables_idx_dict, style= '-' ):\n",
    "        if not self._is_computed:\n",
    "            self.run()\n",
    "        \n",
    "        for var in self._parameter_values[1:]:\n",
    "            variables_idx_dict[var] = variables_idx_dict.get(var, 0)\n",
    "            if variables_idx_dict[var] == None:\n",
    "                variables_idx_dict[var] = slice(None)\n",
    "                _var_name = var     \n",
    "        errors = self._errors[:,:,variables_idx_dict['num_train_samples'], variables_idx_dict['ranks'], variables_idx_dict['tikhonov_regs']]\n",
    "        iterators = self._unpack_parameters()\n",
    "        fig, ax = plt.subplots()\n",
    "        for idx, estimator in enumerate(iterators[0]):       \n",
    "            mean = errors[0,idx]\n",
    "            std = errors[1,idx]\n",
    "            ax.fill_between(self.parameters[_var_name], mean - std, mean + std, alpha = 0.1)\n",
    "            ax.plot(self.parameters[_var_name], mean, style, label = estimator.__name__)\n",
    "            ax.margins(0)\n",
    "            ax.legend(frameon=False)\n",
    "            ax.set_ylabel(\"Test error\")        \n",
    "        return fig, ax"
   ]
  },
  {
   "cell_type": "code",
   "execution_count": 7,
   "metadata": {},
   "outputs": [],
   "source": [
    "kernel = Matern(nu=0.5, length_scale=0.5)\n",
    "#kernel = RBF(length_scale=0.5)\n",
    "#kernel = Linear(coef0 = 0.25)\n",
    "\n",
    "statistics = {\n",
    "    'num_test_samples' : 100,\n",
    "    'test_repetitions' : 10,\n",
    "    'train_repetitions' : 10\n",
    "}\n",
    "sigma = 0.1"
   ]
  },
  {
   "cell_type": "markdown",
   "metadata": {},
   "source": [
    "### Regularization strength"
   ]
  },
  {
   "cell_type": "code",
   "execution_count": 8,
   "metadata": {},
   "outputs": [
    {
     "name": "stderr",
     "output_type": "stream",
     "text": [
      "PrincipalComponentRegression: 100%|██████████| 50/50 [00:08<00:00,  6.06it/s]\n",
      "ReducedRankRegression: 100%|██████████| 50/50 [00:10<00:00,  4.98it/s]\n",
      "KernelRidgeRegression: 100%|██████████| 50/50 [00:09<00:00,  5.55it/s]\n"
     ]
    }
   ],
   "source": [
    "regularization_size = 50\n",
    "tikhonov_regs = np.geomspace(1e-7, 1e-1, num=regularization_size)\n",
    "\n",
    "parameters = {\n",
    "    'num_train_samples' :   100,\n",
    "    'ranks' :               5,\n",
    "    'tikhonov_regs':        tikhonov_regs,\n",
    "    'estimators' :          [PrincipalComponentRegression, ReducedRankRegression, KernelRidgeRegression],\n",
    "}\n",
    "simulation = LogisticMapSimulation(kernel, parameters, statistics, sigma = sigma)\n",
    "iterators, errors = simulation.run(backend = 'cpu')"
   ]
  },
  {
   "cell_type": "code",
   "execution_count": 9,
   "metadata": {},
   "outputs": [
    {
     "data": {
      "text/plain": [
       "Text(0.5, 0, 'Tikhonov regularization $\\\\eta$')"
      ]
     },
     "execution_count": 9,
     "metadata": {},
     "output_type": "execute_result"
    },
    {
     "data": {
      "image/png": "[encoded data removed]",
      "text/plain": [
       "<Figure size 198x122.373 with 1 Axes>"
      ]
     },
     "metadata": {
      "needs_background": "light"
     },
     "output_type": "display_data"
    }
   ],
   "source": [
    "variables_idx_dict = {\n",
    "    'tikhonov_regs': None\n",
    "}\n",
    "fig_width = 5.5/2.0 #Inches\n",
    "fig_height =fig_width/1.618 #Inches\n",
    "fig, ax = simulation.plot1D(variables_idx_dict)\n",
    "fig.set_figheight(fig_height)\n",
    "fig.set_figwidth(fig_width)\n",
    "ax.set_xscale('log')\n",
    "ax.set_yscale('log')\n",
    "ax.set_xlabel(r\"Tikhonov regularization $\\eta$\")\n",
    "#fig.savefig(\"figs/tikhovov_regs.pdf\", bbox_inches='tight')"
   ]
  },
  {
   "cell_type": "code",
   "execution_count": 10,
   "metadata": {},
   "outputs": [],
   "source": [
    "import dill as pickle\n",
    "picklefile = open('noisy', 'wb')\n",
    "#pickle the dictionary and write it to file\n",
    "pickle.dump((tikhonov_regs, errors), picklefile)\n",
    "#close the file\n",
    "picklefile.close()"
   ]
  },
  {
   "cell_type": "code",
   "execution_count": 18,
   "metadata": {},
   "outputs": [],
   "source": [
    "__useTeX__ = True\n",
    "if __useTeX__:\n",
    "    plt.rcParams.update({\n",
    "        \"text.usetex\": True,\n",
    "        #\"mathtext.fontset\": \"ptm\",\n",
    "        \"font.family\": \"serif\",\n",
    "        \"font.serif\": [\"Times\"],\n",
    "        \"font.size\": 11\n",
    "    })"
   ]
  },
  {
   "cell_type": "markdown",
   "metadata": {},
   "source": [
    "### Rank"
   ]
  },
  {
   "cell_type": "code",
   "execution_count": 48,
   "metadata": {},
   "outputs": [
    {
     "name": "stderr",
     "output_type": "stream",
     "text": [
      "PrincipalComponentRegression: 100%|██████████| 10/10 [00:06<00:00,  1.45it/s]\n",
      "ReducedRankRegression: 100%|██████████| 10/10 [00:07<00:00,  1.40it/s]\n"
     ]
    }
   ],
   "source": [
    "ranks = np.arange(2, 11 + 1)\n",
    "parameters = {\n",
    "    'num_train_samples' :   100,\n",
    "    'ranks' :               ranks,\n",
    "    'tikhonov_regs':        3e-3,\n",
    "    'estimators' :          [PrincipalComponentRegression, ReducedRankRegression],\n",
    "}\n",
    "\n",
    "simulation = LogisticMapSimulation(kernel, parameters, statistics, sigma = sigma)\n",
    "iterators, errors = simulation.run(backend = 'cpu')"
   ]
  },
  {
   "cell_type": "code",
   "execution_count": 49,
   "metadata": {},
   "outputs": [
    {
     "data": {
      "text/plain": [
       "Text(0.5, 0, 'Rank r')"
      ]
     },
     "execution_count": 49,
     "metadata": {},
     "output_type": "execute_result"
    },
    {
     "data": {
      "image/png": "[encoded data removed]",
      "text/plain": [
       "<Figure size 432x288 with 1 Axes>"
      ]
     },
     "metadata": {
      "needs_background": "light"
     },
     "output_type": "display_data"
    }
   ],
   "source": [
    "variables_idx_dict = {\n",
    "    'ranks': None\n",
    "}\n",
    "fig, ax = simulation.plot1D(variables_idx_dict, style='.-')\n",
    "ax.set_yscale('log')\n",
    "ax.set_xlabel(r\"Rank r\")"
   ]
  },
  {
   "cell_type": "markdown",
   "metadata": {},
   "source": [
    "### Num Samples"
   ]
  },
  {
   "cell_type": "code",
   "execution_count": 50,
   "metadata": {},
   "outputs": [
    {
     "name": "stderr",
     "output_type": "stream",
     "text": [
      "PrincipalComponentRegression: 100%|██████████| 19/19 [00:12<00:00,  1.52it/s]\n",
      "ReducedRankRegression: 100%|██████████| 19/19 [00:12<00:00,  1.50it/s]\n",
      "KernelRidgeRegression: 100%|██████████| 19/19 [00:12<00:00,  1.49it/s]\n"
     ]
    }
   ],
   "source": [
    "num_train_samples = np.arange(5, 100,5)\n",
    "parameters = {\n",
    "    'num_train_samples' :   num_train_samples,\n",
    "    'ranks' :               12,\n",
    "    'tikhonov_regs':        3e-3,\n",
    "    'estimators' :          [PrincipalComponentRegression, ReducedRankRegression, KernelRidgeRegression],\n",
    "}\n",
    "\n",
    "simulation = LogisticMapSimulation(kernel, parameters, statistics, sigma = sigma)\n",
    "iterators, errors = simulation.run(backend = 'cpu')"
   ]
  },
  {
   "cell_type": "code",
   "execution_count": 51,
   "metadata": {},
   "outputs": [
    {
     "data": {
      "text/plain": [
       "Text(0.5, 0, 'Training samples')"
      ]
     },
     "execution_count": 51,
     "metadata": {},
     "output_type": "execute_result"
    },
    {
     "data": {
      "image/png": "[encoded data removed]",
      "text/plain": [
       "<Figure size 432x288 with 1 Axes>"
      ]
     },
     "metadata": {
      "needs_background": "light"
     },
     "output_type": "display_data"
    }
   ],
   "source": [
    "variables_idx_dict = {\n",
    "    'num_train_samples': None\n",
    "}\n",
    "fig, ax = simulation.plot1D(variables_idx_dict, style='.-')\n",
    "ax.set_yscale('log')\n",
    "ax.set_xlabel(r\"Training samples\")"
   ]
  }
 ],
 "metadata": {
  "interpreter": {
   "hash": "237a184721ccde86ff8290b36768bdbffa305b80665e86389e41b56c4800747d"
  },
  "kernelspec": {
   "display_name": "Python 3.9.7 ('base')",
   "language": "python",
   "name": "python3"
  },
  "language_info": {
   "codemirror_mode": {
    "name": "ipython",
    "version": 3
   },
   "file_extension": ".py",
   "mimetype": "text/x-python",
   "name": "python",
   "nbconvert_exporter": "python",
   "pygments_lexer": "ipython3",
   "version": "3.9.7"
  },
  "orig_nbformat": 4
 },
 "nbformat": 4,
 "nbformat_minor": 2
}
