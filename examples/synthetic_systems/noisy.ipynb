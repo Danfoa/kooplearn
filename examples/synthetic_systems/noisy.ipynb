{
 "cells": [
  {
   "cell_type": "code",
   "execution_count": 1,
   "metadata": {},
   "outputs": [],
   "source": [
    "import numpy as np\n",
    "import matplotlib.pyplot as plt\n",
    "import re\n",
    "from scipy.integrate import quad\n",
    "from utils import LogisticMap, CosineKernel, LogisticMapSimulation\n",
    "from num2tex import num2tex\n",
    "import sys\n",
    "sys.path.append(\"../../\")\n",
    "from DynamicalSystems.koopman_regression import KernelRidgeRegression, ReducedRankRegression, PrincipalComponentRegression, RandomizedReducedRankRegression\n",
    "from DynamicalSystems.kernels import RBF\n",
    "from simulation import N, kernel, parameters, statistics, tikhonov_regs"
   ]
  },
  {
   "cell_type": "code",
   "execution_count": 2,
   "metadata": {},
   "outputs": [
    {
     "name": "stderr",
     "output_type": "stream",
     "text": [
      "Init: Transfer matrix: 100%|██████████| 21/21 [00:00<00:00, 25.24it/s]\n"
     ]
    }
   ],
   "source": [
    "rank = parameters['ranks']\n",
    "estimators = parameters['estimators']\n",
    "simulation = LogisticMapSimulation(kernel, parameters, statistics, N = N)"
   ]
  },
  {
   "cell_type": "code",
   "execution_count": 3,
   "metadata": {},
   "outputs": [],
   "source": [
    "#[train_repetitions, eig_size, estimators, tikhonov_regs]\n",
    "eigvals = np.load('_tmp_eigenvalues.npy')\n",
    "#[2(mean,std), estimators, tikhonov_regs]\n",
    "train_errors = np.load('_tmp_train_errors.npy')\n",
    "test_errors = np.load('_tmp_test_errors.npy')"
   ]
  },
  {
   "cell_type": "code",
   "execution_count": 12,
   "metadata": {},
   "outputs": [],
   "source": [
    "true_evals = simulation.logistic._evals\n",
    "num_to_compare = 5\n",
    "delta = 0\n",
    "true_evals = simulation._preprocess_eigs(true_evals)[delta:num_to_compare + delta]\n",
    "\n",
    "eigenvalue_errors = []\n",
    "for ev in true_evals:\n",
    "    arg_mins = np.argmin(np.abs(eigvals - ev), axis=1)[:, None,...]\n",
    "    mins = np.take_along_axis(eigvals, arg_mins, axis=1)\n",
    "    mins -= ev\n",
    "    diff = np.abs(mins[:,0,...])\n",
    "    mean = diff.mean(axis=0)\n",
    "    std = diff.std(axis=0)\n",
    "    eigenvalue_errors.append([mean, std])\n",
    "\n",
    "#[true_eigs, 2(mean,std), estimators, tikhonov_regs]\n",
    "eigenvalue_errors = np.array(eigenvalue_errors)"
   ]
  },
  {
   "cell_type": "code",
   "execution_count": 14,
   "metadata": {},
   "outputs": [
    {
     "data": {
      "text/plain": [
       "array([1.        , 0.27173302, 0.27173302, 0.02665459, 0.02211876])"
      ]
     },
     "execution_count": 14,
     "metadata": {},
     "output_type": "execute_result"
    }
   ],
   "source": [
    "np.abs(true_evals)"
   ]
  },
  {
   "cell_type": "code",
   "execution_count": 10,
   "metadata": {},
   "outputs": [
    {
     "name": "stdout",
     "output_type": "stream",
     "text": [
      "KRR & $0.032 \\pm 0.00057$ & $ 0.13 \\pm 0.00068$ & $7.9 \\times 10^{-7} \\pm 5.7 \\times 10^{-7}$ & $ 0.13 \\pm 0.045$ \\\\\n"
     ]
    }
   ],
   "source": [
    "def only_upper(s):\n",
    "    upper_chars = \"\"\n",
    "    for char in s:\n",
    "        if char.isupper():\n",
    "            upper_chars += char\n",
    "    return upper_chars\n",
    "def format_results_for_latex(num_eigs = 2):\n",
    "    full_strs = []\n",
    "    for est_idx, estimator in enumerate(estimators):\n",
    "        #estimator_name = re.sub(r\"(\\w)([A-Z])\", r\"\\1 \\2\", estimator.__name__) + \" & \"\n",
    "        estimator_name = only_upper(estimator.__name__) + \" & \"\n",
    "        _strs = [estimator_name]\n",
    "        err_tuple = (train_errors, test_errors) + tuple([eigenvalue_errors[idx] for idx in range(num_eigs)])\n",
    "        for _err_idx, _err in enumerate(err_tuple):\n",
    "            _zeros = np.abs(_err[0,est_idx]) >= 1e-12\n",
    "            _masked_err = _err[:, est_idx, _zeros]\n",
    "            min_err_idx = np.argmin(_masked_err[0])\n",
    "            mean = num2tex(_masked_err[0, min_err_idx])\n",
    "            std = num2tex(_masked_err[1, min_err_idx])\n",
    "            min_err = \"${:5.2g} \\pm {:5.2g}$\".format(mean, std)\n",
    "            if _err_idx == len(err_tuple) - 1:\n",
    "                min_err += \" \\\\\\\\\"\n",
    "            else:\n",
    "                min_err += \" & \"\n",
    "            _strs.append(min_err)\n",
    "        full_strs.append(''.join(_strs))\n",
    "    for _s in full_strs:\n",
    "        print(_s)\n",
    "format_results_for_latex()"
   ]
  },
  {
   "cell_type": "code",
   "execution_count": 8,
   "metadata": {},
   "outputs": [
    {
     "data": {
      "image/png": "[encoded data removed]",
      "text/plain": [
       "<Figure size 270x360 with 3 Axes>"
      ]
     },
     "metadata": {
      "needs_background": "light"
     },
     "output_type": "display_data"
    }
   ],
   "source": [
    "num_above_threshold = 0\n",
    "fig, axes = plt.subplots(num_to_compare, 1, sharex=True, figsize=(3.75,5))\n",
    "ax_idx = -1\n",
    "for ev_idx, ev in enumerate(true_evals):\n",
    "    ax = axes[ev_idx]\n",
    "    for est_idx, estimator in enumerate(estimators):     \n",
    "        mean = eigenvalue_errors[ev_idx, 0, est_idx]\n",
    "        std = eigenvalue_errors[ev_idx, 1, est_idx]\n",
    "        ax.fill_between(tikhonov_regs, mean - std, mean + std, alpha = 0.1)\n",
    "        ax.plot(tikhonov_regs, mean, '.-', label = re.sub(r\"(\\w)([A-Z])\", r\"\\1 \\2\", estimator.__name__))\n",
    "        ax.set_xmargin(0)\n",
    "        #ax.legend(frameon=False)\n",
    "    ax.set_ylabel(r\"$\\lambda = {:10.2f}$\".format(np.abs(ev)))  \n",
    "    ax.set_xscale('log')\n",
    "    ax.set_yscale('log')\n",
    "    ax.set_ylim(1e-1,1)\n",
    "    if ev_idx == 1:\n",
    "        ax.set_xlabel(r\"Regularization parameter $\\gamma$\")\n",
    "    if ev_idx == 0:\n",
    "        ax.legend(frameon=False, loc ='upper left')\n",
    "plt.subplots_adjust(hspace=0)\n",
    "#plt.savefig(\"eigval_approximation.pdf\")\n"
   ]
  },
  {
   "cell_type": "code",
   "execution_count": 7,
   "metadata": {},
   "outputs": [
    {
     "ename": "NameError",
     "evalue": "name 'colors' is not defined",
     "output_type": "error",
     "traceback": [
      "\u001b[0;31m---------------------------------------------------------------------------\u001b[0m",
      "\u001b[0;31mNameError\u001b[0m                                 Traceback (most recent call last)",
      "Input \u001b[0;32mIn [7]\u001b[0m, in \u001b[0;36m<cell line: 6>\u001b[0;34m()\u001b[0m\n\u001b[1;32m     12\u001b[0m mean \u001b[38;5;241m=\u001b[39m diff\u001b[38;5;241m.\u001b[39mmean(axis\u001b[38;5;241m=\u001b[39m\u001b[38;5;241m0\u001b[39m)\n\u001b[1;32m     13\u001b[0m std \u001b[38;5;241m=\u001b[39m diff\u001b[38;5;241m.\u001b[39mstd(axis\u001b[38;5;241m=\u001b[39m\u001b[38;5;241m0\u001b[39m)\n\u001b[0;32m---> 14\u001b[0m ax\u001b[38;5;241m.\u001b[39mfill_between(tikhonov_regs, mean \u001b[38;5;241m-\u001b[39m std, mean \u001b[38;5;241m+\u001b[39m std,color\u001b[38;5;241m=\u001b[39m\u001b[43mcolors\u001b[49m[est_idx], alpha \u001b[38;5;241m=\u001b[39m \u001b[38;5;241m0.1\u001b[39m)\n\u001b[1;32m     15\u001b[0m ax\u001b[38;5;241m.\u001b[39mplot(tikhonov_regs, mean, styles[ev_idx], c\u001b[38;5;241m=\u001b[39mcolors[est_idx], label \u001b[38;5;241m=\u001b[39m re\u001b[38;5;241m.\u001b[39msub(\u001b[38;5;124mr\u001b[39m\u001b[38;5;124m\"\u001b[39m\u001b[38;5;124m(\u001b[39m\u001b[38;5;124m\\\u001b[39m\u001b[38;5;124mw)([A-Z])\u001b[39m\u001b[38;5;124m\"\u001b[39m, \u001b[38;5;124mr\u001b[39m\u001b[38;5;124m\"\u001b[39m\u001b[38;5;124m\\\u001b[39m\u001b[38;5;124m1 \u001b[39m\u001b[38;5;124m\\\u001b[39m\u001b[38;5;124m2\u001b[39m\u001b[38;5;124m\"\u001b[39m, estimator\u001b[38;5;241m.\u001b[39m\u001b[38;5;18m__name__\u001b[39m))\n\u001b[1;32m     16\u001b[0m ax\u001b[38;5;241m.\u001b[39mset_xmargin(\u001b[38;5;241m0\u001b[39m)\n",
      "\u001b[0;31mNameError\u001b[0m: name 'colors' is not defined"
     ]
    },
    {
     "data": {
      "image/png": "[encoded data removed]",
      "text/plain": [
       "<Figure size 270x360 with 1 Axes>"
      ]
     },
     "metadata": {
      "needs_background": "light"
     },
     "output_type": "display_data"
    }
   ],
   "source": [
    "rank = parameters['ranks']\n",
    "estimators = parameters['estimators']\n",
    "styles = ['-', '-.']\n",
    "num_above_threshold = 0\n",
    "fig, ax = plt.subplots(1, 1, sharex=True, figsize=(3.75,5))\n",
    "for ev_idx, ev in enumerate(true_evals[:2]):\n",
    "    arg_mins = np.argmin(np.abs(eigvals - ev), axis=1)[:, None,...]\n",
    "    mins = np.take_along_axis(eigvals, arg_mins, axis=1)\n",
    "    mins -= ev\n",
    "    for est_idx, estimator in enumerate(estimators):\n",
    "        diff = np.abs(mins[:,0,est_idx,:])\n",
    "        mean = diff.mean(axis=0)\n",
    "        std = diff.std(axis=0)\n",
    "        ax.fill_between(tikhonov_regs, mean - std, mean + std,color=colors[est_idx], alpha = 0.1)\n",
    "        ax.plot(tikhonov_regs, mean, styles[ev_idx], c=colors[est_idx], label = re.sub(r\"(\\w)([A-Z])\", r\"\\1 \\2\", estimator.__name__))\n",
    "        ax.set_xmargin(0)\n",
    "    ax.set_ylabel(r\"$\\lambda = {:10.2f}$\".format(np.abs(ev)))  \n",
    "    ax.set_xscale('log')\n",
    "    ax.set_yscale('log')\n",
    "    if ev_idx == 1:\n",
    "        ax.set_xlabel(r\"Regularization parameter $\\gamma$\")\n",
    "    if ev_idx == 0:\n",
    "        ax.legend(frameon=False, loc ='lower right')\n",
    "plt.subplots_adjust(hspace=0)\n",
    "#plt.savefig(\"eigval_approximation.pdf\")\n"
   ]
  },
  {
   "cell_type": "code",
   "execution_count": 7,
   "metadata": {},
   "outputs": [
    {
     "data": {
      "text/plain": [
       "<matplotlib.legend.Legend at 0x7f41df1cd4c0>"
      ]
     },
     "execution_count": 7,
     "metadata": {},
     "output_type": "execute_result"
    },
    {
     "data": {
      "image/png": "[encoded data removed]",
      "text/plain": [
       "<Figure size 270x360 with 1 Axes>"
      ]
     },
     "metadata": {
      "needs_background": "light"
     },
     "output_type": "display_data"
    }
   ],
   "source": [
    "rank = parameters['ranks']\n",
    "estimators = parameters['estimators']\n",
    "num_above_threshold = 0\n",
    "fig, ax = plt.subplots(1, 1, sharex=True, figsize=(3.75,5))\n",
    "for est_idx, estimator in enumerate(estimators):\n",
    "    mean = test_errors[0,est_idx, :]\n",
    "    std =  test_errors[1,est_idx, :]\n",
    "    ax.fill_between(tikhonov_regs, mean - std, mean + std, alpha = 0.1)\n",
    "    ax.plot(tikhonov_regs, mean, '-', label = re.sub(r\"(\\w)([A-Z])\", r\"\\1 \\2\", estimator.__name__))\n",
    "    ax.set_xmargin(0)\n",
    "    #ax.legend(frameon=False)\n",
    "ax.set_ylabel(r\"$\\lambda = {:10.2f}$\".format(np.abs(ev)))  \n",
    "ax.set_xscale('log')\n",
    "ax.set_yscale('log')\n",
    "ax.set_xlabel(r\"Regularization parameter $\\gamma$\")\n",
    "ax.legend(frameon=False, loc ='upper left')\n"
   ]
  },
  {
   "cell_type": "code",
   "execution_count": 26,
   "metadata": {},
   "outputs": [
    {
     "data": {
      "image/png": "[encoded data removed]",
      "text/plain": [
       "<Figure size 432x288 with 1 Axes>"
      ]
     },
     "metadata": {
      "needs_background": "light"
     },
     "output_type": "display_data"
    }
   ],
   "source": [
    "from matplotlib.colors import ListedColormap, to_rgba\n",
    "from matplotlib.lines import Line2D\n",
    "colors = plt.rcParams['axes.prop_cycle'].by_key()['color']\n",
    "labels = ['PCR-estimated eigenvalues', 'RRR-estimated eigenvalues', 'True eigenvalues']\n",
    "\n",
    "for est_idx in range(1):\n",
    "    cmap_np = np.tile(np.array(to_rgba(colors[est_idx]))[:,None],200).T\n",
    "    num_grad = 10\n",
    "    x = np.linspace(0,1,num_grad)\n",
    "    cmap_np[:num_grad,3] = x\n",
    "    cmap = ListedColormap(cmap_np)\n",
    "    eig = []\n",
    "    for rep_idx in range(100):\n",
    "        eig.append(eigvals[rep_idx,:,est_idx,0])\n",
    "    eig = np.array(eig).flatten()\n",
    "    plt.scatter(np.real(eig), np.imag(eig))     \n",
    "    \n",
    "plt.scatter(np.real(true_evals), np.imag(true_evals), s=50, c='k', marker='*')\n",
    "plt.xlim(-0.5,0.2)\n",
    "plt.ylim(-0.2,0.2)\n",
    "plt.xlabel(r\"${\\rm Re~} \\sigma$\")\n",
    "plt.ylabel(r\"${\\rm Im~} \\sigma$\")\n",
    "custom_lines = [Line2D([0], [0], color=colors[0], lw=2),\n",
    "                Line2D([0], [0], color=colors[1], lw=2),\n",
    "                Line2D([0], [0], marker='*', color='w',\n",
    "                          markerfacecolor='k', markersize=15)               \n",
    "               ]\n",
    "#plt.legend(custom_lines, labels, frameon=False)\n"
   ]
  },
  {
   "cell_type": "code",
   "execution_count": null,
   "metadata": {},
   "outputs": [],
   "source": [
    "import scipy.stats\n",
    "fig_width = 5.5 #Inches\n",
    "fig_height = 2 #Inches\n",
    "fig, axes = plt.subplots(ncols=3, figsize=(fig_width, fig_height), tight_layout=True)\n",
    "x = np.linspace(0, 1, 200)\n",
    "axes[0].plot(x-0.5, simulation.logistic._noise_dist.pdf(x-0.5), 'k-', lw=0.75)\n",
    "axes[0].set_xlim(-0.5, 0.5)\n",
    "axes[0].set_ylim(0, 6)\n",
    "axes[0].set_title(r\"Noise distribution $\\Omega$\")\n",
    "\n",
    "axes[1].plot(x, simulation.logistic.pdf(x), 'k-', label=r\"$N = 20$\", lw=0.75)\n",
    "axes[1].plot(x, scipy.stats.beta(0.5, 0.5).pdf(x), 'k-.', label='Noiseless', lw=0.75)\n",
    "axes[1].set_xlim(0, 1)\n",
    "axes[1].set_ylim(0, 3)\n",
    "axes[1].legend(frameon=False)\n",
    "axes[1].set_title(r\"Invariant distribution $\\pi$\")\n",
    "ev_idx = 1\n",
    "h = np.zeros(len(x), dtype = np.complex128)\n",
    "for i in range(N + 1):\n",
    "    h += simulation.logistic._feature(simulation.logistic.map(x), i)*simulation.logistic._Koop_evecs[i,ev_idx]\n",
    "    #h += simulation.logistic._feature(simulation.logistic.map(x), i)*simulation.logistic._Koop_evecs[i,ev_idx + 1]\n",
    "axes[2].plot(x, np.real(h), 'k-', label=\"Real part\", lw=0.75)\n",
    "axes[2].plot(x, np.imag(h), 'k-.', label=\"Imag. part\", lw=0.75)\n",
    "axes[2].legend(frameon=False)\n",
    "axes[2].set_xlim(0, 1)\n",
    "axes[2].set_ylim(-1, 2.2)\n",
    "axes[2].set_title(r\"Eigenfunction for $\\lambda_{2}$\")\n",
    "#plt.savefig(\"figs/appendix_info.pdf\", bbox_inches='tight')"
   ]
  }
 ],
 "metadata": {
  "kernelspec": {
   "display_name": "Python 3.9.7 ('base')",
   "language": "python",
   "name": "python3"
  },
  "language_info": {
   "codemirror_mode": {
    "name": "ipython",
    "version": 3
   },
   "file_extension": ".py",
   "mimetype": "text/x-python",
   "name": "python",
   "nbconvert_exporter": "python",
   "pygments_lexer": "ipython3",
   "version": "3.9.7"
  },
  "vscode": {
   "interpreter": {
    "hash": "237a184721ccde86ff8290b36768bdbffa305b80665e86389e41b56c4800747d"
   }
  }
 },
 "nbformat": 4,
 "nbformat_minor": 4
}
