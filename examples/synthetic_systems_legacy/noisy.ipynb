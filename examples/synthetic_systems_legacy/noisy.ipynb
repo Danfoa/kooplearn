{
 "cells": [
  {
   "cell_type": "code",
   "execution_count": 1,
   "metadata": {},
   "outputs": [],
   "source": [
    "import numpy as np\n",
    "import matplotlib.pyplot as plt\n",
    "from matplotlib.colors import ListedColormap, to_rgba\n",
    "from matplotlib.lines import Line2D\n",
    "colors = plt.rcParams['axes.prop_cycle'].by_key()['color']\n",
    "import h5py\n",
    "import re\n",
    "from scipy.integrate import quad\n",
    "from utils import LogisticMapSimulation\n",
    "from num2tex import num2tex\n",
    "import sys\n",
    "sys.path.append(\"../../\")\n",
    "from simulation import N, kernel, parameters, statistics, tikhonov_regs"
   ]
  },
  {
   "cell_type": "code",
   "execution_count": 2,
   "metadata": {},
   "outputs": [
    {
     "name": "stderr",
     "output_type": "stream",
     "text": [
      "Init: Transfer matrix: 100%|██████████| 21/21 [00:00<00:00, 24.89it/s]\n"
     ]
    }
   ],
   "source": [
    "rank = parameters['ranks']\n",
    "estimators = parameters['estimators']\n",
    "simulation = LogisticMapSimulation(kernel, parameters, statistics, N = N)"
   ]
  },
  {
   "cell_type": "code",
   "execution_count": 3,
   "metadata": {},
   "outputs": [],
   "source": [
    "RRR_KRR_fname = \"../../../data/noisy_logistic_map/data_20220621_155813.h5\"\n",
    "PCR_fname = \"../../../data/noisy_logistic_map/data_20220622_095755.h5\"\n",
    "h5File = h5py.File(RRR_KRR_fname, \"r\")\n",
    "#[train_repetitions, eig_size, estimators, tikhonov_regs]\n",
    "eigvals = h5File[\"eigenvalues\"][...]\n",
    "#[2(mean,std), estimators, tikhonov_regs]\n",
    "train_errors = h5File[\"train_errors\"][...]\n",
    "test_errors = h5File[\"train_errors\"][...]\n",
    "h5File.close()\n",
    "\n",
    "h5File = h5py.File(PCR_fname, \"r\")\n",
    "#[train_repetitions, eig_size, estimators, tikhonov_regs]\n",
    "eigvals_PCR = h5File[\"eigenvalues\"][...]\n",
    "#[2(mean,std), estimators, tikhonov_regs]\n",
    "train_errors_PCR = h5File[\"train_errors\"][...]\n",
    "test_errors_PCR = h5File[\"train_errors\"][...]\n",
    "h5File.close()"
   ]
  },
  {
   "cell_type": "code",
   "execution_count": 4,
   "metadata": {},
   "outputs": [],
   "source": [
    "true_evals = simulation.logistic._evals\n",
    "num_to_compare = 3\n",
    "delta = 0\n",
    "true_evals = simulation._preprocess_eigs(true_evals)[delta:num_to_compare + delta]\n",
    "\n",
    "eigenvalue_errors = []\n",
    "for ev in true_evals:\n",
    "    arg_mins = np.argmin(np.abs(eigvals - ev), axis=1)[:, None,...]\n",
    "    mins = np.take_along_axis(eigvals, arg_mins, axis=1)\n",
    "    mins -= ev\n",
    "    diff = np.abs(mins[:,0,...])\n",
    "    mean = diff.mean(axis=0)\n",
    "    std = diff.std(axis=0)\n",
    "    eigenvalue_errors.append([mean, std])\n",
    "    \n",
    "#[true_eigs, 2(mean,std), estimators, tikhonov_regs]\n",
    "eigenvalue_errors = np.array(eigenvalue_errors)"
   ]
  },
  {
   "cell_type": "code",
   "execution_count": 5,
   "metadata": {},
   "outputs": [
    {
     "data": {
      "text/plain": [
       "array([1.        , 0.27173302, 0.27173302])"
      ]
     },
     "execution_count": 5,
     "metadata": {},
     "output_type": "execute_result"
    }
   ],
   "source": [
    "np.abs(true_evals)"
   ]
  },
  {
   "cell_type": "code",
   "execution_count": 6,
   "metadata": {},
   "outputs": [
    {
     "name": "stdout",
     "output_type": "stream",
     "text": [
      "KRR & $0.037 \\pm 0.00071$ & $0.037 \\pm 0.00071$ & $3.2 \\times 10^{-6} \\pm 2.5 \\times 10^{-6}$ & $ 0.13 \\pm 0.043$ \\\\\n",
      "RRR & $ 0.14 \\pm 0.0026$ & $ 0.14 \\pm 0.0026$ & $5.1 \\times 10^{-6} \\pm 2.8 \\times 10^{-6}$ & $0.056 \\pm  0.03$ \\\\\n"
     ]
    }
   ],
   "source": [
    "def only_upper(s):\n",
    "    upper_chars = \"\"\n",
    "    for char in s:\n",
    "        if char.isupper():\n",
    "            upper_chars += char\n",
    "    return upper_chars\n",
    "def format_results_for_latex(num_eigs = 2):\n",
    "    full_strs = []\n",
    "    for est_idx, estimator in enumerate(estimators):\n",
    "        #estimator_name = re.sub(r\"(\\w)([A-Z])\", r\"\\1 \\2\", estimator.__name__) + \" & \"\n",
    "        estimator_name = only_upper(estimator.__name__) + \" & \"\n",
    "        _strs = [estimator_name]\n",
    "        err_tuple = (train_errors, test_errors) + tuple([eigenvalue_errors[idx] for idx in range(num_eigs)])\n",
    "        for _err_idx, _err in enumerate(err_tuple):\n",
    "            _zeros = np.abs(_err[0,est_idx]) >= 1e-12\n",
    "            _masked_err = _err[:, est_idx, _zeros]\n",
    "            min_err_idx = np.argmin(_masked_err[0])\n",
    "            mean = num2tex(_masked_err[0, min_err_idx])\n",
    "            std = num2tex(_masked_err[1, min_err_idx])\n",
    "            min_err = \"${:5.2g} \\pm {:5.2g}$\".format(mean, std)\n",
    "            if _err_idx == len(err_tuple) - 1:\n",
    "                min_err += \" \\\\\\\\\"\n",
    "            else:\n",
    "                min_err += \" & \"\n",
    "            _strs.append(min_err)\n",
    "        full_strs.append(''.join(_strs))\n",
    "    for _s in full_strs:\n",
    "        print(_s)\n",
    "format_results_for_latex()"
   ]
  },
  {
   "cell_type": "code",
   "execution_count": 7,
   "metadata": {},
   "outputs": [
    {
     "ename": "ValueError",
     "evalue": "x and y must have same first dimension, but have shapes (1,) and (10,)",
     "output_type": "error",
     "traceback": [
      "\u001b[0;31m---------------------------------------------------------------------------\u001b[0m",
      "\u001b[0;31mValueError\u001b[0m                                Traceback (most recent call last)",
      "\u001b[1;32m/home/novelli/DynamicalSystems/examples/synthetic_systems/noisy.ipynb Cell 7'\u001b[0m in \u001b[0;36m<cell line: 4>\u001b[0;34m()\u001b[0m\n\u001b[1;32m      <a href='vscode-notebook-cell://ssh-remote%2Balienware/home/novelli/DynamicalSystems/examples/synthetic_systems/noisy.ipynb#ch0000006vscode-remote?line=7'>8</a>\u001b[0m std \u001b[39m=\u001b[39m eigenvalue_errors[ev_idx, \u001b[39m1\u001b[39m, est_idx]\n\u001b[1;32m      <a href='vscode-notebook-cell://ssh-remote%2Balienware/home/novelli/DynamicalSystems/examples/synthetic_systems/noisy.ipynb#ch0000006vscode-remote?line=8'>9</a>\u001b[0m ax\u001b[39m.\u001b[39mfill_between(tikhonov_regs, mean \u001b[39m-\u001b[39m std, mean \u001b[39m+\u001b[39m std, alpha \u001b[39m=\u001b[39m \u001b[39m0.1\u001b[39m)\n\u001b[0;32m---> <a href='vscode-notebook-cell://ssh-remote%2Balienware/home/novelli/DynamicalSystems/examples/synthetic_systems/noisy.ipynb#ch0000006vscode-remote?line=9'>10</a>\u001b[0m ax\u001b[39m.\u001b[39;49mplot(tikhonov_regs, mean, \u001b[39m'\u001b[39;49m\u001b[39m-\u001b[39;49m\u001b[39m'\u001b[39;49m, label \u001b[39m=\u001b[39;49m re\u001b[39m.\u001b[39;49msub(\u001b[39mr\u001b[39;49m\u001b[39m\"\u001b[39;49m\u001b[39m(\u001b[39;49m\u001b[39m\\\u001b[39;49m\u001b[39mw)([A-Z])\u001b[39;49m\u001b[39m\"\u001b[39;49m, \u001b[39mr\u001b[39;49m\u001b[39m\"\u001b[39;49m\u001b[39m\\\u001b[39;49m\u001b[39m1 \u001b[39;49m\u001b[39m\\\u001b[39;49m\u001b[39m2\u001b[39;49m\u001b[39m\"\u001b[39;49m, estimator\u001b[39m.\u001b[39;49m\u001b[39m__name__\u001b[39;49m))\n\u001b[1;32m     <a href='vscode-notebook-cell://ssh-remote%2Balienware/home/novelli/DynamicalSystems/examples/synthetic_systems/noisy.ipynb#ch0000006vscode-remote?line=10'>11</a>\u001b[0m ax\u001b[39m.\u001b[39mset_xmargin(\u001b[39m0\u001b[39m)\n\u001b[1;32m     <a href='vscode-notebook-cell://ssh-remote%2Balienware/home/novelli/DynamicalSystems/examples/synthetic_systems/noisy.ipynb#ch0000006vscode-remote?line=11'>12</a>\u001b[0m \u001b[39m#ax.legend(frameon=False)\u001b[39;00m\n",
      "File \u001b[0;32m~/anaconda3/lib/python3.9/site-packages/matplotlib/axes/_axes.py:1632\u001b[0m, in \u001b[0;36mAxes.plot\u001b[0;34m(self, scalex, scaley, data, *args, **kwargs)\u001b[0m\n\u001b[1;32m   1390\u001b[0m \u001b[39m\"\"\"\u001b[39;00m\n\u001b[1;32m   1391\u001b[0m \u001b[39mPlot y versus x as lines and/or markers.\u001b[39;00m\n\u001b[1;32m   1392\u001b[0m \n\u001b[0;32m   (...)\u001b[0m\n\u001b[1;32m   1629\u001b[0m \u001b[39m(``'green'``) or hex strings (``'#008000'``).\u001b[39;00m\n\u001b[1;32m   1630\u001b[0m \u001b[39m\"\"\"\u001b[39;00m\n\u001b[1;32m   1631\u001b[0m kwargs \u001b[39m=\u001b[39m cbook\u001b[39m.\u001b[39mnormalize_kwargs(kwargs, mlines\u001b[39m.\u001b[39mLine2D)\n\u001b[0;32m-> 1632\u001b[0m lines \u001b[39m=\u001b[39m [\u001b[39m*\u001b[39m\u001b[39mself\u001b[39m\u001b[39m.\u001b[39m_get_lines(\u001b[39m*\u001b[39margs, data\u001b[39m=\u001b[39mdata, \u001b[39m*\u001b[39m\u001b[39m*\u001b[39mkwargs)]\n\u001b[1;32m   1633\u001b[0m \u001b[39mfor\u001b[39;00m line \u001b[39min\u001b[39;00m lines:\n\u001b[1;32m   1634\u001b[0m     \u001b[39mself\u001b[39m\u001b[39m.\u001b[39madd_line(line)\n",
      "File \u001b[0;32m~/anaconda3/lib/python3.9/site-packages/matplotlib/axes/_base.py:312\u001b[0m, in \u001b[0;36m_process_plot_var_args.__call__\u001b[0;34m(self, data, *args, **kwargs)\u001b[0m\n\u001b[1;32m    310\u001b[0m     this \u001b[39m+\u001b[39m\u001b[39m=\u001b[39m args[\u001b[39m0\u001b[39m],\n\u001b[1;32m    311\u001b[0m     args \u001b[39m=\u001b[39m args[\u001b[39m1\u001b[39m:]\n\u001b[0;32m--> 312\u001b[0m \u001b[39myield from\u001b[39;00m \u001b[39mself\u001b[39;49m\u001b[39m.\u001b[39;49m_plot_args(this, kwargs)\n",
      "File \u001b[0;32m~/anaconda3/lib/python3.9/site-packages/matplotlib/axes/_base.py:498\u001b[0m, in \u001b[0;36m_process_plot_var_args._plot_args\u001b[0;34m(self, tup, kwargs, return_kwargs)\u001b[0m\n\u001b[1;32m    495\u001b[0m     \u001b[39mself\u001b[39m\u001b[39m.\u001b[39maxes\u001b[39m.\u001b[39myaxis\u001b[39m.\u001b[39mupdate_units(y)\n\u001b[1;32m    497\u001b[0m \u001b[39mif\u001b[39;00m x\u001b[39m.\u001b[39mshape[\u001b[39m0\u001b[39m] \u001b[39m!=\u001b[39m y\u001b[39m.\u001b[39mshape[\u001b[39m0\u001b[39m]:\n\u001b[0;32m--> 498\u001b[0m     \u001b[39mraise\u001b[39;00m \u001b[39mValueError\u001b[39;00m(\u001b[39mf\u001b[39m\u001b[39m\"\u001b[39m\u001b[39mx and y must have same first dimension, but \u001b[39m\u001b[39m\"\u001b[39m\n\u001b[1;32m    499\u001b[0m                      \u001b[39mf\u001b[39m\u001b[39m\"\u001b[39m\u001b[39mhave shapes \u001b[39m\u001b[39m{\u001b[39;00mx\u001b[39m.\u001b[39mshape\u001b[39m}\u001b[39;00m\u001b[39m and \u001b[39m\u001b[39m{\u001b[39;00my\u001b[39m.\u001b[39mshape\u001b[39m}\u001b[39;00m\u001b[39m\"\u001b[39m)\n\u001b[1;32m    500\u001b[0m \u001b[39mif\u001b[39;00m x\u001b[39m.\u001b[39mndim \u001b[39m>\u001b[39m \u001b[39m2\u001b[39m \u001b[39mor\u001b[39;00m y\u001b[39m.\u001b[39mndim \u001b[39m>\u001b[39m \u001b[39m2\u001b[39m:\n\u001b[1;32m    501\u001b[0m     \u001b[39mraise\u001b[39;00m \u001b[39mValueError\u001b[39;00m(\u001b[39mf\u001b[39m\u001b[39m\"\u001b[39m\u001b[39mx and y can be no greater than 2D, but have \u001b[39m\u001b[39m\"\u001b[39m\n\u001b[1;32m    502\u001b[0m                      \u001b[39mf\u001b[39m\u001b[39m\"\u001b[39m\u001b[39mshapes \u001b[39m\u001b[39m{\u001b[39;00mx\u001b[39m.\u001b[39mshape\u001b[39m}\u001b[39;00m\u001b[39m and \u001b[39m\u001b[39m{\u001b[39;00my\u001b[39m.\u001b[39mshape\u001b[39m}\u001b[39;00m\u001b[39m\"\u001b[39m)\n",
      "\u001b[0;31mValueError\u001b[0m: x and y must have same first dimension, but have shapes (1,) and (10,)"
     ]
    },
    {
     "data": {
      "image/png": "[encoded data removed]",
      "text/plain": [
       "<Figure size 270x360 with 3 Axes>"
      ]
     },
     "metadata": {
      "needs_background": "light"
     },
     "output_type": "display_data"
    }
   ],
   "source": [
    "num_above_threshold = 0\n",
    "fig, axes = plt.subplots(num_to_compare, 1, sharex=True, figsize=(3.75,5))\n",
    "ax_idx = -1\n",
    "for ev_idx, ev in enumerate(true_evals):\n",
    "    ax = axes[ev_idx]\n",
    "    for est_idx, estimator in enumerate(estimators):    \n",
    "        mean = eigenvalue_errors[ev_idx, 0, est_idx]    \n",
    "        std = eigenvalue_errors[ev_idx, 1, est_idx]\n",
    "        ax.fill_between(tikhonov_regs, mean - std, mean + std, alpha = 0.1)\n",
    "        ax.plot(tikhonov_regs, mean, '-', label = re.sub(r\"(\\w)([A-Z])\", r\"\\1 \\2\", estimator.__name__))\n",
    "        ax.set_xmargin(0)\n",
    "        #ax.legend(frameon=False)\n",
    "    ax.set_ylabel(r\"$\\lambda = {:10.2f}$\".format(np.abs(ev)))  \n",
    "    ax.set_xscale('log')\n",
    "    ax.set_yscale('log')\n",
    "    #ax.set_ylim(1e-1,1)\n",
    "    if ev_idx == 1:\n",
    "        ax.set_xlabel(r\"Regularization parameter $\\gamma$\")\n",
    "    if ev_idx == 0:\n",
    "        ax.legend(frameon=False, loc ='upper left')\n",
    "plt.subplots_adjust(hspace=0)\n",
    "#plt.savefig(\"eigval_approximation.pdf\")"
   ]
  },
  {
   "cell_type": "code",
   "execution_count": 7,
   "metadata": {},
   "outputs": [
    {
     "data": {
      "image/png": "[encoded data removed]",
      "text/plain": [
       "<Figure size 432x288 with 1 Axes>"
      ]
     },
     "metadata": {
      "needs_background": "light"
     },
     "output_type": "display_data"
    }
   ],
   "source": [
    "for est_idx, estimator in enumerate(estimators):\n",
    "    cmap_np = np.tile(np.array(to_rgba(colors[est_idx]))[:,None],200).T\n",
    "    num_grad = 10\n",
    "    x = np.linspace(0,1,num_grad)\n",
    "    cmap_np[:num_grad,3] = x\n",
    "    cmap = ListedColormap(cmap_np)\n",
    "    eig = []\n",
    "    min_reg_idx = np.argmin(eigenvalue_errors[1, 0, est_idx])\n",
    "    for rep_idx in range(eigvals.shape[0]):\n",
    "        eig.append(eigvals[rep_idx,:,est_idx,min_reg_idx])\n",
    "    eig = np.array(eig).flatten()\n",
    "    plt.scatter(np.real(eig), np.imag(eig), s=1, alpha=0.5)\n",
    "#Principal Component Regression\n",
    "eig = []\n",
    "for rep_idx in range(eigvals.shape[0]):\n",
    "    eig.append(eigvals[rep_idx,:,0,0])  \n",
    "plt.scatter(np.real(eig), np.imag(eig), s=1, alpha=0.5) \n",
    "    \n",
    "plt.scatter(np.real(true_evals), np.imag(true_evals), s=50, c='r', marker='*')\n",
    "plt.xlim(-0.5,0.1)\n",
    "#plt.ylim(-0.2,0.2)\n",
    "plt.xlabel(r\"${\\rm Re~} \\lambda$\")\n",
    "plt.ylabel(r\"${\\rm Im~} \\lambda$\")\n",
    "custom_lines = [Line2D([0], [0], color=colors[0], lw=2),\n",
    "                Line2D([0], [0], color=colors[1], lw=2),\n",
    "                Line2D([0], [0], color=colors[2], lw=2),\n",
    "                Line2D([0], [0], marker='*', color='w',\n",
    "                markerfacecolor='r', markersize=15)               \n",
    "               ]\n",
    "labels = ['KRR-estimated eigenvalues', 'RRR-estimated eigenvalues', 'PCR-estimated eigenvalues', 'True eigenvalues']\n",
    "plt.legend(custom_lines, labels, frameon=False)\n",
    "plt.title(\"Estimated eigenvalues over 100 different independent datasets\")\n",
    "plt.savefig(\"estimated_eigenvalues.pdf\")"
   ]
  },
  {
   "cell_type": "markdown",
   "metadata": {},
   "source": [
    "### Appendix figure"
   ]
  },
  {
   "cell_type": "code",
   "execution_count": 19,
   "metadata": {},
   "outputs": [
    {
     "data": {
      "text/plain": [
       "Text(0.5, 1.0, 'Eigenfunction for $\\\\lambda_{2}$')"
      ]
     },
     "execution_count": 19,
     "metadata": {},
     "output_type": "execute_result"
    },
    {
     "data": {
      "image/png": "[encoded data removed]",
      "text/plain": [
       "<Figure size 396x144 with 3 Axes>"
      ]
     },
     "metadata": {
      "needs_background": "light"
     },
     "output_type": "display_data"
    }
   ],
   "source": [
    "import scipy.stats\n",
    "fig_width = 5.5 #Inches\n",
    "fig_height = 2 #Inches\n",
    "fig, axes = plt.subplots(ncols=3, figsize=(fig_width, fig_height), tight_layout=True)\n",
    "x = np.linspace(0, 1, 200)\n",
    "#Noise distribution\n",
    "axes[0].plot(x-0.5, simulation.logistic._noise_dist.pdf(x-0.5), 'k-', lw=0.75)\n",
    "axes[0].set_xlim(-0.5, 0.5)\n",
    "axes[0].set_ylim(0, 6)\n",
    "axes[0].set_title(r\"Noise distribution $\\Omega$\")\n",
    "\n",
    "#Invariant distribution\n",
    "axes[1].plot(x, simulation.logistic.pdf(x), 'k-', label=r\"$N = 20$\", lw=0.75)\n",
    "axes[1].plot(x, scipy.stats.beta(0.5, 0.5).pdf(x), 'k-.', label='Noiseless', lw=0.75)\n",
    "axes[1].set_xlim(0, 1)\n",
    "axes[1].set_ylim(0, 3)\n",
    "axes[1].legend(frameon=False)\n",
    "axes[1].set_title(r\"Invariant distribution $\\pi$\")\n",
    "\n",
    "#Eigenfunctions of \\lambda_2\n",
    "ev_idx = 1\n",
    "h = np.zeros(len(x), dtype = np.complex128)\n",
    "for i in range(N + 1):\n",
    "    h += simulation.logistic._feature(simulation.logistic.map(x), i)*simulation.logistic._Koop_evecs[i,ev_idx]\n",
    "axes[2].plot(x, np.real(h), 'k-', label=\"Real part\", lw=0.75)\n",
    "axes[2].plot(x, np.imag(h), 'k-.', label=\"Imag. part\", lw=0.75)\n",
    "axes[2].legend(frameon=False)\n",
    "axes[2].set_xlim(0, 1)\n",
    "axes[2].set_ylim(-1, 2.2)\n",
    "axes[2].set_title(r\"Eigenfunction for $\\lambda_{2}$\")\n",
    "#plt.savefig(\"figs/appendix_info.pdf\", bbox_inches='tight')"
   ]
  }
 ],
 "metadata": {
  "kernelspec": {
   "display_name": "Python 3.9.7 ('base')",
   "language": "python",
   "name": "python3"
  },
  "language_info": {
   "codemirror_mode": {
    "name": "ipython",
    "version": 3
   },
   "file_extension": ".py",
   "mimetype": "text/x-python",
   "name": "python",
   "nbconvert_exporter": "python",
   "pygments_lexer": "ipython3",
   "version": "3.9.7"
  },
  "vscode": {
   "interpreter": {
    "hash": "237a184721ccde86ff8290b36768bdbffa305b80665e86389e41b56c4800747d"
   }
  }
 },
 "nbformat": 4,
 "nbformat_minor": 4
}
