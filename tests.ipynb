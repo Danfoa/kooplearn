{
 "cells": [
  {
   "cell_type": "code",
   "execution_count": 1,
   "metadata": {},
   "outputs": [],
   "source": [
    "import h5py\n",
    "import torch\n",
    "cuda = torch.device('cuda')\n",
    "from kernels import matern, gaussian\n",
    "from pykeops.torch import LazyTensor\n",
    "from math import sqrt\n",
    "import matplotlib.pyplot as plt\n",
    "from tqdm import tqdm\n",
    "#Paranoia\n",
    "from IPython.display import set_matplotlib_formats\n",
    "set_matplotlib_formats('svg')\n",
    "__useTeX__ = True\n",
    "if __useTeX__:\n",
    "    plt.rcParams.update({\n",
    "        \"text.usetex\": True,\n",
    "        \"mathtext.fontset\": \"cm\",\n",
    "        \"font.family\": \"serif\",\n",
    "        \"font.serif\": [\"Computer Modern Roman\"]\n",
    "    })\n",
    "from _arnoldi import KernelDMD"
   ]
  },
  {
   "cell_type": "code",
   "execution_count": 2,
   "metadata": {},
   "outputs": [
    {
     "data": {
      "text/plain": [
       "<module '_arnoldi' from '/home/novelli/KernelDMD/_arnoldi.cpython-38-x86_64-linux-gnu.so'>"
      ]
     },
     "execution_count": 2,
     "metadata": {},
     "output_type": "execute_result"
    }
   ],
   "source": [
    "from importlib import reload\n",
    "import _arnoldi\n",
    "reload(_arnoldi)"
   ]
  },
  {
   "cell_type": "code",
   "execution_count": 7,
   "metadata": {},
   "outputs": [],
   "source": [
    "chignolin_path = '../data/md_datasets/chignolin-unbiased/CLN025-0-protein-ALL.h5'\n",
    "f = h5py.File(chignolin_path, 'r')\n",
    "coords = f['coordinates'][:]\n",
    "f.close()\n",
    "n_frames = coords.shape[0]\n",
    "d = coords.shape[1]*coords.shape[2]\n",
    "coords = (coords.reshape(n_frames, d)[::2500,:]).astype('float32')\n",
    "coords_gpu = torch.tensor(coords, device=cuda)\n",
    "l = float(torch.nn.functional.pdist(coords_gpu).cpu().numpy().mean())"
   ]
  },
  {
   "cell_type": "code",
   "execution_count": 8,
   "metadata": {},
   "outputs": [],
   "source": [
    "K = gaussian(coords_gpu, l=l)\n",
    "cols = []\n",
    "for i in range(K.shape[0]):\n",
    "    _e = torch.zeros(K.shape[0], device=cuda)\n",
    "    _e[i] = 1\n",
    "    cols.append(K@_e)\n",
    "K = torch.stack(cols).cpu().numpy()"
   ]
  },
  {
   "cell_type": "code",
   "execution_count": 10,
   "metadata": {},
   "outputs": [],
   "source": [
    "import numpy as np\n",
    "np.save(\"K_mat\",K)"
   ]
  },
  {
   "cell_type": "code",
   "execution_count": 6,
   "metadata": {},
   "outputs": [
    {
     "name": "stdout",
     "output_type": "stream",
     "text": [
      "1.0\n",
      "0.0\n",
      "1.0\n",
      "0.0\n",
      "0.0\n",
      "1.0\n",
      "0.0\n",
      "0.0\n",
      "0.0\n",
      "1.0\n",
      "0.0\n",
      "0.0\n",
      "0.0\n",
      "0.0\n",
      "1.0\n",
      "0.0\n",
      "0.0\n",
      "0.0\n",
      "0.0\n",
      "0.0\n",
      "1.0\n",
      "0.0\n",
      "0.0\n",
      "0.0\n",
      "0.0\n",
      "0.0\n",
      "0.0\n",
      "1.0\n",
      "0.0\n",
      "0.0\n",
      "0.0\n",
      "0.0\n",
      "0.0\n",
      "0.0\n",
      "0.0\n",
      "1.0\n",
      "0.0\n",
      "0.0\n",
      "0.0\n",
      "0.0\n",
      "0.0\n",
      "0.0\n",
      "0.0\n",
      "0.0\n",
      "1.0\n",
      "0.0\n",
      "0.0\n",
      "0.0\n",
      "0.0\n",
      "0.0\n",
      "0.0\n",
      "0.0\n",
      "0.0\n",
      "0.0\n",
      "1.0\n",
      "0.0\n",
      "0.0\n",
      "0.0\n",
      "0.0\n",
      "0.0\n",
      "0.0\n",
      "0.0\n",
      "0.0\n",
      "0.0\n",
      "0.0\n",
      "1.0\n",
      "0.0\n",
      "0.0\n",
      "0.0\n",
      "0.0\n",
      "0.0\n",
      "0.0\n",
      "0.0\n",
      "0.0\n",
      "0.0\n",
      "0.0\n",
      "0.0\n",
      "1.0\n",
      "0.0\n",
      "0.0\n",
      "0.0\n",
      "0.0\n",
      "0.0\n",
      "0.0\n",
      "0.0\n",
      "0.0\n",
      "0.0\n",
      "0.0\n",
      "0.0\n",
      "0.0\n",
      "1.0\n",
      "0.0\n",
      "0.0\n",
      "0.0\n",
      "0.0\n",
      "0.0\n",
      "0.0\n",
      "0.0\n",
      "0.0\n",
      "0.0\n",
      "0.0\n",
      "0.0\n",
      "0.0\n",
      "0.0\n",
      "1.0\n",
      "0.0\n",
      "0.0\n",
      "0.0\n",
      "0.0\n",
      "0.0\n",
      "0.0\n",
      "0.0\n",
      "0.0\n",
      "0.0\n",
      "0.0\n",
      "0.0\n",
      "0.0\n",
      "0.0\n",
      "0.0\n",
      "1.0\n",
      "0.0\n",
      "0.0\n",
      "0.0\n",
      "0.0\n",
      "0.0\n",
      "0.0\n",
      "0.0\n",
      "0.0\n",
      "0.0\n",
      "0.0\n",
      "0.0\n",
      "0.0\n",
      "0.0\n",
      "0.0\n",
      "0.0\n",
      "1.0\n",
      "0.0\n",
      "0.0\n",
      "0.0\n",
      "0.0\n",
      "0.0\n",
      "0.0\n",
      "0.0\n",
      "0.0\n",
      "0.0\n",
      "0.0\n",
      "0.0\n",
      "0.0\n",
      "0.0\n",
      "0.0\n",
      "0.0\n",
      "0.0\n",
      "1.0\n",
      "0.0\n",
      "0.0\n",
      "0.0\n",
      "0.0\n",
      "0.0\n",
      "0.0\n",
      "0.0\n",
      "0.0\n",
      "0.0\n",
      "0.0\n",
      "0.0\n",
      "0.0\n",
      "0.0\n",
      "0.0\n",
      "0.0\n",
      "0.0\n",
      "0.0\n",
      "1.0\n",
      "0.0\n",
      "0.0\n",
      "0.0\n",
      "0.0\n",
      "0.0\n",
      "0.0\n",
      "0.0\n",
      "0.0\n",
      "0.0\n",
      "0.0\n",
      "0.0\n",
      "0.0\n",
      "0.0\n",
      "0.0\n",
      "0.0\n",
      "0.0\n",
      "0.0\n",
      "0.0\n",
      "1.0\n",
      "0.0\n",
      "0.0\n",
      "0.0\n",
      "0.0\n",
      "0.0\n",
      "0.0\n",
      "0.0\n",
      "0.0\n",
      "0.0\n",
      "0.0\n",
      "0.0\n",
      "0.0\n",
      "0.0\n",
      "0.0\n",
      "0.0\n",
      "0.0\n",
      "0.0\n",
      "0.0\n",
      "0.0\n",
      "1.0\n"
     ]
    }
   ],
   "source": [
    "h = _arnoldi.KernelDMD(K, K.dtype)"
   ]
  },
  {
   "cell_type": "code",
   "execution_count": 10,
   "metadata": {},
   "outputs": [
    {
     "data": {
      "text/plain": [
       "<matplotlib.image.AxesImage at 0x7f6aae21c2e0>"
      ]
     },
     "execution_count": 10,
     "metadata": {},
     "output_type": "execute_result"
    },
    {
     "data": {
      "image/svg+xml": "<?xml version=\"1.0\" encoding=\"utf-8\" standalone=\"no\"?>\n<!DOCTYPE svg PUBLIC \"-//W3C//DTD SVG 1.1//EN\"\n  \"http://www.w3.org/Graphics/SVG/1.1/DTD/svg11.dtd\">\n<!-- Created with matplotlib (https://matplotlib.org/) -->\n<svg height=\"256.955677pt\" version=\"1.1\" viewBox=\"0 0 254.562671 256.955677\" width=\"254.562671pt\" xmlns=\"http://www.w3.org/2000/svg\" xmlns:xlink=\"http://www.w3.org/1999/xlink\">\n <metadata>\n  <rdf:RDF xmlns:cc=\"http://creativecommons.org/ns#\" xmlns:dc=\"http://purl.org/dc/elements/1.1/\" xmlns:rdf=\"http://www.w3.org/1999/02/22-rdf-syntax-ns#\">\n   <cc:Work>\n    <dc:type rdf:resource=\"http://purl.org/dc/dcmitype/StillImage\"/>\n    <dc:date>2021-12-22T17:58:52.135796</dc:date>\n    <dc:format>image/svg+xml</dc:format>\n    <dc:creator>\n     <cc:Agent>\n      <dc:title>Matplotlib v3.3.4, https://matplotlib.org/</dc:title>\n     </cc:Agent>\n    </dc:creator>\n   </cc:Work>\n  </rdf:RDF>\n </metadata>\n <defs>\n  <style type=\"text/css\">*{stroke-linecap:butt;stroke-linejoin:round;}</style>\n </defs>\n <g id=\"figure_1\">\n  <g id=\"patch_1\">\n   <path d=\"M 0 256.955677 \nL 254.562671 256.955677 \nL 254.562671 0 \nL 0 0 \nz\n\" style=\"fill:none;\"/>\n  </g>\n  <g id=\"axes_1\">\n   <g id=\"patch_2\">\n    <path d=\"M 24.162671 246.255677 \nL 247.362671 246.255677 \nL 247.362671 23.055677 \nL 24.162671 23.055677 \nz\n\" style=\"fill:#ffffff;\"/>\n   </g>\n   <g clip-path=\"url(#p634068e5b8)\">\n    <image height=\"224\" id=\"image03643f818a\" transform=\"scale(1 -1)translate(0 -224)\" width=\"224\" x=\"24.162671\" xlink:href=\"data:image/png;base64,\niVBORw0KGgoAAAANSUhEUgAAAOAAAADgCAYAAAAaLWrhAAADFElEQVR4nO3dwUnEUBhG0USmCtcWYBGCDdisXViFViEzJfgiCZeXnLMWmc3l33zkrW/rx30B/vT5/TX0d+/Pr8P/8+l/PwXYgwAhJEAICRBCAoSQACEkQAgJEEIChJAAIXSrfwCURudly7JtYjbKBYSQACEkQAgJEEIChJAAISRACAkQQgKEkCUMp1OvW7ZwASEkQAgJEEIChJAAISRACAkQQgKEkAAhJEAImaIxjSPe56u5gBASIIQECCEBQkiAEBIghAQIIQFCSIAQEiCETNFIzfQFsyO4gBASIIQECCEBQkiAEBIghAQIIQFCSIAQsoRhd1dft2zhAkJIgBASIIQECCEBQkiAEBIghAQIIQFCSIAQMkVj2Bnf56u5gBASIIQECCEBQkiAEBIghAQIIQFCSIAQEiCETNEuzhfMWi4ghAQIIQFCSIAQEiCEBAghAUJIgBASIIQsYU7IumUeLiCEBAghAUJIgBASIIQECCEBQkiAEBIghAQIIVO0iXif73xcQAgJEEIChJAAISRACAkQQgKEkAAhJEAICRBCpmgxXzC7NhcQQgKEkAAhJEAICRBCAoSQACEkQAgJEEKWMAewbmGUCwghAUJIgBASIIQECCEBQkiAEBIghAQIIQFCyBRtA+/zsTcXEEIChJAAISRACAkQQgKEkAAhJEAICRBCAoTQ5adovmBGyQWEkAAhJEAICRBCAoSQACEkQAgJEEIChNAplzDWLczCBYSQACEkQAgJEEIChJAAISRACAkQQgKEkAAhNNUUzft8nI0LCCEBQkiAEBIghAQIIQFCSIAQEiCEBAghAUIon6L5ghlX5gJCSIAQEiCEBAghAUJIgBASIIQECCEBQuiQJYx1C4xxASEkQAgJEEIChJAAISRACAkQQgKEkAAhJEAIbZqieZ8P9uUCQkiAEBIghAQIIQFCSIAQEiCEBAghAUJIgBBaf39e7qN/bGIG+3IBISRACAkQQgKEkAAhJEAICRBCAoSQACF0s26BjgsIIQFCSIAQEiCEBAghAUJIgBASIIQECCEBQugB5klAppKfbA8AAAAASUVORK5CYII=\" y=\"-22.255677\"/>\n   </g>\n   <g id=\"matplotlib.axis_1\">\n    <g id=\"xtick_1\">\n     <g id=\"line2d_1\">\n      <defs>\n       <path d=\"M 0 0 \nL 0 3.5 \n\" id=\"mdd5fd89d47\" style=\"stroke:#000000;stroke-width:0.8;\"/>\n      </defs>\n      <g>\n       <use style=\"stroke:#000000;stroke-width:0.8;\" x=\"29.476956\" xlink:href=\"#mdd5fd89d47\" y=\"246.255677\"/>\n      </g>\n     </g>\n     <g id=\"line2d_2\">\n      <defs>\n       <path d=\"M 0 0 \nL 0 -3.5 \n\" id=\"m11a19f1d20\" style=\"stroke:#000000;stroke-width:0.8;\"/>\n      </defs>\n      <g>\n       <use style=\"stroke:#000000;stroke-width:0.8;\" x=\"29.476956\" xlink:href=\"#m11a19f1d20\" y=\"23.055677\"/>\n      </g>\n     </g>\n     <g id=\"text_1\">\n      <!-- $\\mathdefault{0}$ -->\n      <g transform=\"translate(26.986289 14.118498)scale(0.1 -0.1)\">\n       <defs>\n        <path d=\"M 42 31.84375 \nC 42 37.96875 41.90625 48.421875 37.703125 56.453125 \nC 34 63.484375 28.09375 66 22.90625 66 \nC 18.09375 66 12 63.78125 8.203125 56.5625 \nC 4.203125 49.015625 3.796875 39.671875 3.796875 31.84375 \nC 3.796875 26.109375 3.90625 17.375 7 9.734375 \nC 11.296875 -0.609375 19 -2 22.90625 -2 \nC 27.5 -2 34.5 -0.109375 38.59375 9.4375 \nC 41.59375 16.375 42 24.5 42 31.84375 \nz\nM 22.90625 -0.40625 \nC 16.5 -0.40625 12.703125 5.125 11.296875 12.75 \nC 10.203125 18.6875 10.203125 27.328125 10.203125 32.953125 \nC 10.203125 40.6875 10.203125 47.109375 11.5 53.234375 \nC 13.40625 61.78125 19 64.390625 22.90625 64.390625 \nC 27 64.390625 32.296875 61.671875 34.203125 53.4375 \nC 35.5 47.71875 35.59375 40.984375 35.59375 32.953125 \nC 35.59375 26.421875 35.59375 18.375 34.40625 12.453125 \nC 32.296875 1.5 26.40625 -0.40625 22.90625 -0.40625 \nz\n\" id=\"CMR17-48\"/>\n       </defs>\n       <use transform=\"scale(0.996264)\" xlink:href=\"#CMR17-48\"/>\n      </g>\n     </g>\n    </g>\n    <g id=\"xtick_2\">\n     <g id=\"line2d_3\">\n      <g>\n       <use style=\"stroke:#000000;stroke-width:0.8;\" x=\"82.619813\" xlink:href=\"#mdd5fd89d47\" y=\"246.255677\"/>\n      </g>\n     </g>\n     <g id=\"line2d_4\">\n      <g>\n       <use style=\"stroke:#000000;stroke-width:0.8;\" x=\"82.619813\" xlink:href=\"#m11a19f1d20\" y=\"23.055677\"/>\n      </g>\n     </g>\n     <g id=\"text_2\">\n      <!-- $\\mathdefault{5}$ -->\n      <g transform=\"translate(80.129146 14.118498)scale(0.1 -0.1)\">\n       <defs>\n        <path d=\"M 11.40625 58.59375 \nC 12.40625 58.1875 16.5 56.890625 20.703125 56.890625 \nC 30 56.890625 35.09375 61.890625 38 64.6875 \nC 38 65.484375 38 66 37.40625 66 \nC 37.296875 66 37.09375 66 36.296875 65.59375 \nC 32.796875 64.09375 28.703125 63 23.703125 63 \nC 20.703125 63 16.203125 63.359375 11.296875 65.484375 \nC 10.203125 66 10 66 9.90625 66 \nC 9.40625 66 9.296875 65.890625 9.296875 63.90625 \nL 9.296875 34.859375 \nC 9.296875 33.015625 9.296875 32.5 10.296875 32.5 \nC 10.796875 32.5 11 32.703125 11.5 33.421875 \nC 14.703125 38.046875 19.09375 40 24.09375 40 \nC 27.59375 40 35.09375 37.734375 35.09375 20.203125 \nC 35.09375 16.984375 35.09375 11.1875 32.09375 6.59375 \nC 29.59375 2.484375 25.703125 0.390625 21.40625 0.390625 \nC 14.796875 0.390625 8.09375 4.984375 6.296875 12.6875 \nC 6.703125 12.59375 7.5 12.390625 7.90625 12.390625 \nC 9.203125 12.390625 11.703125 13.09375 11.703125 16.1875 \nC 11.703125 18.890625 9.796875 20 7.90625 20 \nC 5.59375 20 4.09375 18.59375 4.09375 15.796875 \nC 4.09375 7.09375 11 -2 21.59375 -2 \nC 31.90625 -2 41.703125 6.890625 41.703125 19.796875 \nC 41.703125 32.09375 33.90625 41.59375 24.203125 41.59375 \nC 19.09375 41.59375 14.796875 39.6875 11.40625 36 \nz\n\" id=\"CMR17-53\"/>\n       </defs>\n       <use transform=\"scale(0.996264)\" xlink:href=\"#CMR17-53\"/>\n      </g>\n     </g>\n    </g>\n    <g id=\"xtick_3\">\n     <g id=\"line2d_5\">\n      <g>\n       <use style=\"stroke:#000000;stroke-width:0.8;\" x=\"135.762671\" xlink:href=\"#mdd5fd89d47\" y=\"246.255677\"/>\n      </g>\n     </g>\n     <g id=\"line2d_6\">\n      <g>\n       <use style=\"stroke:#000000;stroke-width:0.8;\" x=\"135.762671\" xlink:href=\"#m11a19f1d20\" y=\"23.055677\"/>\n      </g>\n     </g>\n     <g id=\"text_3\">\n      <!-- $\\mathdefault{10}$ -->\n      <g transform=\"translate(130.781335 14.118498)scale(0.1 -0.1)\">\n       <defs>\n        <path d=\"M 26.59375 63.796875 \nC 26.59375 65.890625 26.5 66 25.09375 66 \nC 21.203125 61.359375 15.296875 59.890625 9.703125 59.6875 \nC 9.40625 59.6875 8.90625 59.6875 8.796875 59.5 \nC 8.703125 59.296875 8.703125 59.09375 8.703125 57 \nC 11.796875 57 17 57.59375 21 59.984375 \nL 21 7.296875 \nC 21 3.796875 20.796875 2.59375 12.203125 2.59375 \nL 9.203125 2.59375 \nL 9.203125 0 \nC 14 0.09375 19 0.1875 23.796875 0.1875 \nC 28.59375 0.1875 33.59375 0.09375 38.40625 0 \nL 38.40625 2.59375 \nL 35.40625 2.59375 \nC 26.796875 2.59375 26.59375 3.6875 26.59375 7.296875 \nz\n\" id=\"CMR17-49\"/>\n       </defs>\n       <use transform=\"scale(0.996264)\" xlink:href=\"#CMR17-49\"/>\n       <use transform=\"translate(45.690477 0)scale(0.996264)\" xlink:href=\"#CMR17-48\"/>\n      </g>\n     </g>\n    </g>\n    <g id=\"xtick_4\">\n     <g id=\"line2d_7\">\n      <g>\n       <use style=\"stroke:#000000;stroke-width:0.8;\" x=\"188.905528\" xlink:href=\"#mdd5fd89d47\" y=\"246.255677\"/>\n      </g>\n     </g>\n     <g id=\"line2d_8\">\n      <g>\n       <use style=\"stroke:#000000;stroke-width:0.8;\" x=\"188.905528\" xlink:href=\"#m11a19f1d20\" y=\"23.055677\"/>\n      </g>\n     </g>\n     <g id=\"text_4\">\n      <!-- $\\mathdefault{15}$ -->\n      <g transform=\"translate(183.924192 14.118498)scale(0.1 -0.1)\">\n       <use transform=\"scale(0.996264)\" xlink:href=\"#CMR17-49\"/>\n       <use transform=\"translate(45.690477 0)scale(0.996264)\" xlink:href=\"#CMR17-53\"/>\n      </g>\n     </g>\n    </g>\n    <g id=\"xtick_5\">\n     <g id=\"line2d_9\">\n      <g>\n       <use style=\"stroke:#000000;stroke-width:0.8;\" x=\"242.048385\" xlink:href=\"#mdd5fd89d47\" y=\"246.255677\"/>\n      </g>\n     </g>\n     <g id=\"line2d_10\">\n      <g>\n       <use style=\"stroke:#000000;stroke-width:0.8;\" x=\"242.048385\" xlink:href=\"#m11a19f1d20\" y=\"23.055677\"/>\n      </g>\n     </g>\n     <g id=\"text_5\">\n      <!-- $\\mathdefault{20}$ -->\n      <g transform=\"translate(237.06705 14.118498)scale(0.1 -0.1)\">\n       <defs>\n        <path d=\"M 41.703125 15.46875 \nL 39.90625 15.46875 \nC 38.90625 8.390625 38.09375 7.1875 37.703125 6.59375 \nC 37.203125 5.796875 30 5.796875 28.59375 5.796875 \nL 9.40625 5.796875 \nC 13 9.6875 20 16.765625 28.5 24.9375 \nC 34.59375 30.71875 41.703125 37.5 41.703125 47.390625 \nC 41.703125 59.1875 32.296875 66 21.796875 66 \nC 10.796875 66 4.09375 56.296875 4.09375 47.296875 \nC 4.09375 43.390625 7 42.890625 8.203125 42.890625 \nC 9.203125 42.890625 12.203125 43.484375 12.203125 46.984375 \nC 12.203125 50.09375 9.59375 51 8.203125 51 \nC 7.59375 51 7 50.890625 6.59375 50.6875 \nC 8.5 59.1875 14.296875 63.390625 20.40625 63.390625 \nC 29.09375 63.390625 34.796875 56.5 34.796875 47.390625 \nC 34.796875 38.703125 29.703125 31.21875 24 24.734375 \nL 4.09375 2.296875 \nL 4.09375 0 \nL 39.296875 0 \nz\n\" id=\"CMR17-50\"/>\n       </defs>\n       <use transform=\"scale(0.996264)\" xlink:href=\"#CMR17-50\"/>\n       <use transform=\"translate(45.690477 0)scale(0.996264)\" xlink:href=\"#CMR17-48\"/>\n      </g>\n     </g>\n    </g>\n   </g>\n   <g id=\"matplotlib.axis_2\">\n    <g id=\"ytick_1\">\n     <g id=\"line2d_11\">\n      <defs>\n       <path d=\"M 0 0 \nL -3.5 0 \n\" id=\"m50c9328562\" style=\"stroke:#000000;stroke-width:0.8;\"/>\n      </defs>\n      <g>\n       <use style=\"stroke:#000000;stroke-width:0.8;\" x=\"24.162671\" xlink:href=\"#m50c9328562\" y=\"28.369962\"/>\n      </g>\n     </g>\n     <g id=\"text_6\">\n      <!-- $\\mathdefault{0}$ -->\n      <g transform=\"translate(12.181335 31.829212)scale(0.1 -0.1)\">\n       <use transform=\"scale(0.996264)\" xlink:href=\"#CMR17-48\"/>\n      </g>\n     </g>\n    </g>\n    <g id=\"ytick_2\">\n     <g id=\"line2d_12\">\n      <g>\n       <use style=\"stroke:#000000;stroke-width:0.8;\" x=\"24.162671\" xlink:href=\"#m50c9328562\" y=\"81.51282\"/>\n      </g>\n     </g>\n     <g id=\"text_7\">\n      <!-- $\\mathdefault{5}$ -->\n      <g transform=\"translate(12.181335 84.972069)scale(0.1 -0.1)\">\n       <use transform=\"scale(0.996264)\" xlink:href=\"#CMR17-53\"/>\n      </g>\n     </g>\n    </g>\n    <g id=\"ytick_3\">\n     <g id=\"line2d_13\">\n      <g>\n       <use style=\"stroke:#000000;stroke-width:0.8;\" x=\"24.162671\" xlink:href=\"#m50c9328562\" y=\"134.655677\"/>\n      </g>\n     </g>\n     <g id=\"text_8\">\n      <!-- $\\mathdefault{10}$ -->\n      <g transform=\"translate(7.2 138.114926)scale(0.1 -0.1)\">\n       <use transform=\"scale(0.996264)\" xlink:href=\"#CMR17-49\"/>\n       <use transform=\"translate(45.690477 0)scale(0.996264)\" xlink:href=\"#CMR17-48\"/>\n      </g>\n     </g>\n    </g>\n    <g id=\"ytick_4\">\n     <g id=\"line2d_14\">\n      <g>\n       <use style=\"stroke:#000000;stroke-width:0.8;\" x=\"24.162671\" xlink:href=\"#m50c9328562\" y=\"187.798534\"/>\n      </g>\n     </g>\n     <g id=\"text_9\">\n      <!-- $\\mathdefault{15}$ -->\n      <g transform=\"translate(7.2 191.257783)scale(0.1 -0.1)\">\n       <use transform=\"scale(0.996264)\" xlink:href=\"#CMR17-49\"/>\n       <use transform=\"translate(45.690477 0)scale(0.996264)\" xlink:href=\"#CMR17-53\"/>\n      </g>\n     </g>\n    </g>\n    <g id=\"ytick_5\">\n     <g id=\"line2d_15\">\n      <g>\n       <use style=\"stroke:#000000;stroke-width:0.8;\" x=\"24.162671\" xlink:href=\"#m50c9328562\" y=\"240.941391\"/>\n      </g>\n     </g>\n     <g id=\"text_10\">\n      <!-- $\\mathdefault{20}$ -->\n      <g transform=\"translate(7.2 244.40064)scale(0.1 -0.1)\">\n       <use transform=\"scale(0.996264)\" xlink:href=\"#CMR17-50\"/>\n       <use transform=\"translate(45.690477 0)scale(0.996264)\" xlink:href=\"#CMR17-48\"/>\n      </g>\n     </g>\n    </g>\n   </g>\n   <g id=\"patch_3\">\n    <path d=\"M 24.162671 246.255677 \nL 24.162671 23.055677 \n\" style=\"fill:none;stroke:#000000;stroke-linecap:square;stroke-linejoin:miter;stroke-width:0.8;\"/>\n   </g>\n   <g id=\"patch_4\">\n    <path d=\"M 247.362671 246.255677 \nL 247.362671 23.055677 \n\" style=\"fill:none;stroke:#000000;stroke-linecap:square;stroke-linejoin:miter;stroke-width:0.8;\"/>\n   </g>\n   <g id=\"patch_5\">\n    <path d=\"M 24.162671 246.255677 \nL 247.362671 246.255677 \n\" style=\"fill:none;stroke:#000000;stroke-linecap:square;stroke-linejoin:miter;stroke-width:0.8;\"/>\n   </g>\n   <g id=\"patch_6\">\n    <path d=\"M 24.162671 23.055677 \nL 247.362671 23.055677 \n\" style=\"fill:none;stroke:#000000;stroke-linecap:square;stroke-linejoin:miter;stroke-width:0.8;\"/>\n   </g>\n  </g>\n </g>\n <defs>\n  <clipPath id=\"p634068e5b8\">\n   <rect height=\"223.2\" width=\"223.2\" x=\"24.162671\" y=\"23.055677\"/>\n  </clipPath>\n </defs>\n</svg>\n",
      "text/plain": [
       "<Figure size 288x288 with 1 Axes>"
      ]
     },
     "metadata": {
      "needs_background": "light"
     },
     "output_type": "display_data"
    }
   ],
   "source": [
    "plt.matshow(h)\n"
   ]
  },
  {
   "cell_type": "code",
   "execution_count": 250,
   "metadata": {},
   "outputs": [],
   "source": [
    "def KernelDMD(X, kernel, **kernel_args):\n",
    "    K = kernel(X, **kernel_args)\n",
    "    q0 = torch.zeros((K.shape[0] + 1), device=cuda)\n",
    "    q0[0] = 1\n",
    "    q =  [LazyTensor(q0)] +  [LazyTensor(torch.zeros((K.shape[0]), device=cuda)) for _ in range(K.shape[0]) ]\n",
    "    # It should be K[0,0]**-0.5, but is 1 for all implemented kernels\n",
    "    #q[0][0] = 1\n",
    "    shift_mat = LazyTensor(torch.diag(torch.ones(K.shape[0] - 1),-1), axis=0)\n",
    "    h = torch.zeros(K.shape, device=cuda)\n",
    "    print(q[0].shape)\n",
    "    for i in tqdm(range(K.shape[0])):\n",
    "        q[i + 1] = shift_mat.matvecmult(q[i]) #Action of the Koopman Operator\n",
    "        print(q[i+1].shape)\n",
    "        for j in range(i):\n",
    "            pass\n",
    "            #print((q[j]*K.matvecmult(q[i + 1])).sum().shape)\n",
    "            #h[j, i] = (q[j]*K.matvecmult(q[i + 1])).sum()\n",
    "            #q[i + 1] = q[i + 1] - h[j, i]*q[j]\n",
    "        if i <  K.shape[0]:\n",
    "            pass\n",
    "            #h[i + 1,i] = q[i+1].norm2()@torch.tensor([1.0])\n",
    "            #q[i+1] = q[i+1]/h[i + 1,i]\n",
    "    return h"
   ]
  },
  {
   "cell_type": "code",
   "execution_count": 251,
   "metadata": {},
   "outputs": [
    {
     "name": "stderr",
     "output_type": "stream",
     "text": [
      "100%|██████████| 210/210 [00:00<00:00, 8801.17it/s]"
     ]
    },
    {
     "name": "stdout",
     "output_type": "stream",
     "text": [
      "(1, 1, 211)\n",
      "(210, 1, 211)\n",
      "(210, 1, 211)\n",
      "(210, 1, 211)\n",
      "(210, 1, 211)\n",
      "(210, 1, 211)\n",
      "(210, 1, 211)\n",
      "(210, 1, 211)\n",
      "(210, 1, 211)\n",
      "(210, 1, 211)\n",
      "(210, 1, 211)\n",
      "(210, 1, 211)\n",
      "(210, 1, 211)\n",
      "(210, 1, 211)\n",
      "(210, 1, 211)\n",
      "(210, 1, 211)\n",
      "(210, 1, 211)\n",
      "(210, 1, 211)\n",
      "(210, 1, 211)\n",
      "(210, 1, 211)\n",
      "(210, 1, 211)\n",
      "(210, 1, 211)\n",
      "(210, 1, 211)\n",
      "(210, 1, 211)\n",
      "(210, 1, 211)\n",
      "(210, 1, 211)\n",
      "(210, 1, 211)\n",
      "(210, 1, 211)\n",
      "(210, 1, 211)\n",
      "(210, 1, 211)\n",
      "(210, 1, 211)\n",
      "(210, 1, 211)\n",
      "(210, 1, 211)\n",
      "(210, 1, 211)\n",
      "(210, 1, 211)\n",
      "(210, 1, 211)\n",
      "(210, 1, 211)\n",
      "(210, 1, 211)\n",
      "(210, 1, 211)\n",
      "(210, 1, 211)\n",
      "(210, 1, 211)\n",
      "(210, 1, 211)\n",
      "(210, 1, 211)\n",
      "(210, 1, 211)\n",
      "(210, 1, 211)\n",
      "(210, 1, 211)\n",
      "(210, 1, 211)\n",
      "(210, 1, 211)\n",
      "(210, 1, 211)\n",
      "(210, 1, 211)\n",
      "(210, 1, 211)\n",
      "(210, 1, 211)\n",
      "(210, 1, 211)\n",
      "(210, 1, 211)\n",
      "(210, 1, 211)\n",
      "(210, 1, 211)\n",
      "(210, 1, 211)\n",
      "(210, 1, 211)\n",
      "(210, 1, 211)\n",
      "(210, 1, 211)\n",
      "(210, 1, 211)\n",
      "(210, 1, 211)\n",
      "(210, 1, 211)\n",
      "(210, 1, 211)\n",
      "(210, 1, 211)\n",
      "(210, 1, 211)\n",
      "(210, 1, 211)\n",
      "(210, 1, 211)\n",
      "(210, 1, 211)\n",
      "(210, 1, 211)\n",
      "(210, 1, 211)\n",
      "(210, 1, 211)\n",
      "(210, 1, 211)\n",
      "(210, 1, 211)\n",
      "(210, 1, 211)\n",
      "(210, 1, 211)\n",
      "(210, 1, 211)\n",
      "(210, 1, 211)\n",
      "(210, 1, 211)\n",
      "(210, 1, 211)\n",
      "(210, 1, 211)\n",
      "(210, 1, 211)\n",
      "(210, 1, 211)\n",
      "(210, 1, 211)\n",
      "(210, 1, 211)\n",
      "(210, 1, 211)\n",
      "(210, 1, 211)\n",
      "(210, 1, 211)\n",
      "(210, 1, 211)\n",
      "(210, 1, 211)\n",
      "(210, 1, 211)\n",
      "(210, 1, 211)\n",
      "(210, 1, 211)\n",
      "(210, 1, 211)\n",
      "(210, 1, 211)\n",
      "(210, 1, 211)\n",
      "(210, 1, 211)\n",
      "(210, 1, 211)\n",
      "(210, 1, 211)\n",
      "(210, 1, 211)\n",
      "(210, 1, 211)\n",
      "(210, 1, 211)\n",
      "(210, 1, 211)\n",
      "(210, 1, 211)\n",
      "(210, 1, 211)\n",
      "(210, 1, 211)\n",
      "(210, 1, 211)\n",
      "(210, 1, 211)\n",
      "(210, 1, 211)\n",
      "(210, 1, 211)\n",
      "(210, 1, 211)\n",
      "(210, 1, 211)\n",
      "(210, 1, 211)\n",
      "(210, 1, 211)\n",
      "(210, 1, 211)\n",
      "(210, 1, 211)\n",
      "(210, 1, 211)\n",
      "(210, 1, 211)\n",
      "(210, 1, 211)\n",
      "(210, 1, 211)\n",
      "(210, 1, 211)\n",
      "(210, 1, 211)\n",
      "(210, 1, 211)\n",
      "(210, 1, 211)\n",
      "(210, 1, 211)\n",
      "(210, 1, 211)\n",
      "(210, 1, 211)\n",
      "(210, 1, 211)\n",
      "(210, 1, 211)\n",
      "(210, 1, 211)\n",
      "(210, 1, 211)\n",
      "(210, 1, 211)\n",
      "(210, 1, 211)\n",
      "(210, 1, 211)\n",
      "(210, 1, 211)\n",
      "(210, 1, 211)\n",
      "(210, 1, 211)\n",
      "(210, 1, 211)\n",
      "(210, 1, 211)\n",
      "(210, 1, 211)\n",
      "(210, 1, 211)\n",
      "(210, 1, 211)\n",
      "(210, 1, 211)\n",
      "(210, 1, 211)\n",
      "(210, 1, 211)\n",
      "(210, 1, 211)\n",
      "(210, 1, 211)\n",
      "(210, 1, 211)\n",
      "(210, 1, 211)\n",
      "(210, 1, 211)\n",
      "(210, 1, 211)\n",
      "(210, 1, 211)\n",
      "(210, 1, 211)\n",
      "(210, 1, 211)\n",
      "(210, 1, 211)\n",
      "(210, 1, 211)\n",
      "(210, 1, 211)\n",
      "(210, 1, 211)\n",
      "(210, 1, 211)\n",
      "(210, 1, 211)\n",
      "(210, 1, 211)\n",
      "(210, 1, 211)\n",
      "(210, 1, 211)\n",
      "(210, 1, 211)\n",
      "(210, 1, 211)\n",
      "(210, 1, 211)\n",
      "(210, 1, 211)\n",
      "(210, 1, 211)\n",
      "(210, 1, 211)\n",
      "(210, 1, 211)\n",
      "(210, 1, 211)\n",
      "(210, 1, 211)\n",
      "(210, 1, 211)\n",
      "(210, 1, 211)\n",
      "(210, 1, 211)\n",
      "(210, 1, 211)\n",
      "(210, 1, 211)\n",
      "(210, 1, 211)\n",
      "(210, 1, 211)\n",
      "(210, 1, 211)\n",
      "(210, 1, 211)\n",
      "(210, 1, 211)\n",
      "(210, 1, 211)\n",
      "(210, 1, 211)\n",
      "(210, 1, 211)\n",
      "(210, 1, 211)\n",
      "(210, 1, 211)\n",
      "(210, 1, 211)\n",
      "(210, 1, 211)\n",
      "(210, 1, 211)\n",
      "(210, 1, 211)\n",
      "(210, 1, 211)\n",
      "(210, 1, 211)\n",
      "(210, 1, 211)\n",
      "(210, 1, 211)\n",
      "(210, 1, 211)\n",
      "(210, 1, 211)\n",
      "(210, 1, 211)\n",
      "(210, 1, 211)\n",
      "(210, 1, 211)\n",
      "(210, 1, 211)\n",
      "(210, 1, 211)\n",
      "(210, 1, 211)\n",
      "(210, 1, 211)\n",
      "(210, 1, 211)\n",
      "(210, 1, 211)\n",
      "(210, 1, 211)\n",
      "(210, 1, 211)\n",
      "(210, 1, 211)\n",
      "(210, 1, 211)\n",
      "(210, 1, 211)\n"
     ]
    },
    {
     "name": "stderr",
     "output_type": "stream",
     "text": [
      "\n"
     ]
    }
   ],
   "source": [
    "h = KernelDMD(coords_gpu, matern,  **{'l': l**2} )"
   ]
  },
  {
   "cell_type": "code",
   "execution_count": null,
   "metadata": {},
   "outputs": [
    {
     "data": {
      "text/plain": [
       "<matplotlib.image.AxesImage at 0x7f7550109340>"
      ]
     },
     "execution_count": 160,
     "metadata": {},
     "output_type": "execute_result"
    },
    {
     "data": {
      "image/svg+xml": "<?xml version=\"1.0\" encoding=\"utf-8\" standalone=\"no\"?>\n<!DOCTYPE svg PUBLIC \"-//W3C//DTD SVG 1.1//EN\"\n  \"http://www.w3.org/Graphics/SVG/1.1/DTD/svg11.dtd\">\n<!-- Created with matplotlib (https://matplotlib.org/) -->\n<svg height=\"256.955677pt\" version=\"1.1\" viewBox=\"0 0 254.562671 256.955677\" width=\"254.562671pt\" xmlns=\"http://www.w3.org/2000/svg\" xmlns:xlink=\"http://www.w3.org/1999/xlink\">\n <metadata>\n  <rdf:RDF xmlns:cc=\"http://creativecommons.org/ns#\" xmlns:dc=\"http://purl.org/dc/elements/1.1/\" xmlns:rdf=\"http://www.w3.org/1999/02/22-rdf-syntax-ns#\">\n   <cc:Work>\n    <dc:type rdf:resource=\"http://purl.org/dc/dcmitype/StillImage\"/>\n    <dc:date>2021-12-22T15:35:31.160091</dc:date>\n    <dc:format>image/svg+xml</dc:format>\n    <dc:creator>\n     <cc:Agent>\n      <dc:title>Matplotlib v3.3.4, https://matplotlib.org/</dc:title>\n     </cc:Agent>\n    </dc:creator>\n   </cc:Work>\n  </rdf:RDF>\n </metadata>\n <defs>\n  <style type=\"text/css\">*{stroke-linecap:butt;stroke-linejoin:round;}</style>\n </defs>\n <g id=\"figure_1\">\n  <g id=\"patch_1\">\n   <path d=\"M 0 256.955677 \nL 254.562671 256.955677 \nL 254.562671 0 \nL 0 0 \nz\n\" style=\"fill:none;\"/>\n  </g>\n  <g id=\"axes_1\">\n   <g id=\"patch_2\">\n    <path d=\"M 24.162671 246.255677 \nL 247.362671 246.255677 \nL 247.362671 23.055677 \nL 24.162671 23.055677 \nz\n\" style=\"fill:#ffffff;\"/>\n   </g>\n   <g clip-path=\"url(#pd54a9a8c07)\">\n    <image height=\"224\" id=\"imagedaeed0c055\" transform=\"scale(1 -1)translate(0 -224)\" width=\"224\" x=\"24.162671\" xlink:href=\"data:image/png;base64,\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\" y=\"-22.255677\"/>\n   </g>\n   <g id=\"matplotlib.axis_1\">\n    <g id=\"xtick_1\">\n     <g id=\"line2d_1\">\n      <defs>\n       <path d=\"M 0 0 \nL 0 3.5 \n\" id=\"mbbea648242\" style=\"stroke:#000000;stroke-width:0.8;\"/>\n      </defs>\n      <g>\n       <use style=\"stroke:#000000;stroke-width:0.8;\" x=\"29.476956\" xlink:href=\"#mbbea648242\" y=\"246.255677\"/>\n      </g>\n     </g>\n     <g id=\"line2d_2\">\n      <defs>\n       <path d=\"M 0 0 \nL 0 -3.5 \n\" id=\"mfe5d6073e3\" style=\"stroke:#000000;stroke-width:0.8;\"/>\n      </defs>\n      <g>\n       <use style=\"stroke:#000000;stroke-width:0.8;\" x=\"29.476956\" xlink:href=\"#mfe5d6073e3\" y=\"23.055677\"/>\n      </g>\n     </g>\n     <g id=\"text_1\">\n      <!-- $\\mathdefault{0}$ -->\n      <g transform=\"translate(26.986289 14.118498)scale(0.1 -0.1)\">\n       <defs>\n        <path d=\"M 42 31.84375 \nC 42 37.96875 41.90625 48.421875 37.703125 56.453125 \nC 34 63.484375 28.09375 66 22.90625 66 \nC 18.09375 66 12 63.78125 8.203125 56.5625 \nC 4.203125 49.015625 3.796875 39.671875 3.796875 31.84375 \nC 3.796875 26.109375 3.90625 17.375 7 9.734375 \nC 11.296875 -0.609375 19 -2 22.90625 -2 \nC 27.5 -2 34.5 -0.109375 38.59375 9.4375 \nC 41.59375 16.375 42 24.5 42 31.84375 \nz\nM 22.90625 -0.40625 \nC 16.5 -0.40625 12.703125 5.125 11.296875 12.75 \nC 10.203125 18.6875 10.203125 27.328125 10.203125 32.953125 \nC 10.203125 40.6875 10.203125 47.109375 11.5 53.234375 \nC 13.40625 61.78125 19 64.390625 22.90625 64.390625 \nC 27 64.390625 32.296875 61.671875 34.203125 53.4375 \nC 35.5 47.71875 35.59375 40.984375 35.59375 32.953125 \nC 35.59375 26.421875 35.59375 18.375 34.40625 12.453125 \nC 32.296875 1.5 26.40625 -0.40625 22.90625 -0.40625 \nz\n\" id=\"CMR17-48\"/>\n       </defs>\n       <use transform=\"scale(0.996264)\" xlink:href=\"#CMR17-48\"/>\n      </g>\n     </g>\n    </g>\n    <g id=\"xtick_2\">\n     <g id=\"line2d_3\">\n      <g>\n       <use style=\"stroke:#000000;stroke-width:0.8;\" x=\"82.619813\" xlink:href=\"#mbbea648242\" y=\"246.255677\"/>\n      </g>\n     </g>\n     <g id=\"line2d_4\">\n      <g>\n       <use style=\"stroke:#000000;stroke-width:0.8;\" x=\"82.619813\" xlink:href=\"#mfe5d6073e3\" y=\"23.055677\"/>\n      </g>\n     </g>\n     <g id=\"text_2\">\n      <!-- $\\mathdefault{5}$ -->\n      <g transform=\"translate(80.129146 14.118498)scale(0.1 -0.1)\">\n       <defs>\n        <path d=\"M 11.40625 58.59375 \nC 12.40625 58.1875 16.5 56.890625 20.703125 56.890625 \nC 30 56.890625 35.09375 61.890625 38 64.6875 \nC 38 65.484375 38 66 37.40625 66 \nC 37.296875 66 37.09375 66 36.296875 65.59375 \nC 32.796875 64.09375 28.703125 63 23.703125 63 \nC 20.703125 63 16.203125 63.359375 11.296875 65.484375 \nC 10.203125 66 10 66 9.90625 66 \nC 9.40625 66 9.296875 65.890625 9.296875 63.90625 \nL 9.296875 34.859375 \nC 9.296875 33.015625 9.296875 32.5 10.296875 32.5 \nC 10.796875 32.5 11 32.703125 11.5 33.421875 \nC 14.703125 38.046875 19.09375 40 24.09375 40 \nC 27.59375 40 35.09375 37.734375 35.09375 20.203125 \nC 35.09375 16.984375 35.09375 11.1875 32.09375 6.59375 \nC 29.59375 2.484375 25.703125 0.390625 21.40625 0.390625 \nC 14.796875 0.390625 8.09375 4.984375 6.296875 12.6875 \nC 6.703125 12.59375 7.5 12.390625 7.90625 12.390625 \nC 9.203125 12.390625 11.703125 13.09375 11.703125 16.1875 \nC 11.703125 18.890625 9.796875 20 7.90625 20 \nC 5.59375 20 4.09375 18.59375 4.09375 15.796875 \nC 4.09375 7.09375 11 -2 21.59375 -2 \nC 31.90625 -2 41.703125 6.890625 41.703125 19.796875 \nC 41.703125 32.09375 33.90625 41.59375 24.203125 41.59375 \nC 19.09375 41.59375 14.796875 39.6875 11.40625 36 \nz\n\" id=\"CMR17-53\"/>\n       </defs>\n       <use transform=\"scale(0.996264)\" xlink:href=\"#CMR17-53\"/>\n      </g>\n     </g>\n    </g>\n    <g id=\"xtick_3\">\n     <g id=\"line2d_5\">\n      <g>\n       <use style=\"stroke:#000000;stroke-width:0.8;\" x=\"135.762671\" xlink:href=\"#mbbea648242\" y=\"246.255677\"/>\n      </g>\n     </g>\n     <g id=\"line2d_6\">\n      <g>\n       <use style=\"stroke:#000000;stroke-width:0.8;\" x=\"135.762671\" xlink:href=\"#mfe5d6073e3\" y=\"23.055677\"/>\n      </g>\n     </g>\n     <g id=\"text_3\">\n      <!-- $\\mathdefault{10}$ -->\n      <g transform=\"translate(130.781335 14.118498)scale(0.1 -0.1)\">\n       <defs>\n        <path d=\"M 26.59375 63.796875 \nC 26.59375 65.890625 26.5 66 25.09375 66 \nC 21.203125 61.359375 15.296875 59.890625 9.703125 59.6875 \nC 9.40625 59.6875 8.90625 59.6875 8.796875 59.5 \nC 8.703125 59.296875 8.703125 59.09375 8.703125 57 \nC 11.796875 57 17 57.59375 21 59.984375 \nL 21 7.296875 \nC 21 3.796875 20.796875 2.59375 12.203125 2.59375 \nL 9.203125 2.59375 \nL 9.203125 0 \nC 14 0.09375 19 0.1875 23.796875 0.1875 \nC 28.59375 0.1875 33.59375 0.09375 38.40625 0 \nL 38.40625 2.59375 \nL 35.40625 2.59375 \nC 26.796875 2.59375 26.59375 3.6875 26.59375 7.296875 \nz\n\" id=\"CMR17-49\"/>\n       </defs>\n       <use transform=\"scale(0.996264)\" xlink:href=\"#CMR17-49\"/>\n       <use transform=\"translate(45.690477 0)scale(0.996264)\" xlink:href=\"#CMR17-48\"/>\n      </g>\n     </g>\n    </g>\n    <g id=\"xtick_4\">\n     <g id=\"line2d_7\">\n      <g>\n       <use style=\"stroke:#000000;stroke-width:0.8;\" x=\"188.905528\" xlink:href=\"#mbbea648242\" y=\"246.255677\"/>\n      </g>\n     </g>\n     <g id=\"line2d_8\">\n      <g>\n       <use style=\"stroke:#000000;stroke-width:0.8;\" x=\"188.905528\" xlink:href=\"#mfe5d6073e3\" y=\"23.055677\"/>\n      </g>\n     </g>\n     <g id=\"text_4\">\n      <!-- $\\mathdefault{15}$ -->\n      <g transform=\"translate(183.924192 14.118498)scale(0.1 -0.1)\">\n       <use transform=\"scale(0.996264)\" xlink:href=\"#CMR17-49\"/>\n       <use transform=\"translate(45.690477 0)scale(0.996264)\" xlink:href=\"#CMR17-53\"/>\n      </g>\n     </g>\n    </g>\n    <g id=\"xtick_5\">\n     <g id=\"line2d_9\">\n      <g>\n       <use style=\"stroke:#000000;stroke-width:0.8;\" x=\"242.048385\" xlink:href=\"#mbbea648242\" y=\"246.255677\"/>\n      </g>\n     </g>\n     <g id=\"line2d_10\">\n      <g>\n       <use style=\"stroke:#000000;stroke-width:0.8;\" x=\"242.048385\" xlink:href=\"#mfe5d6073e3\" y=\"23.055677\"/>\n      </g>\n     </g>\n     <g id=\"text_5\">\n      <!-- $\\mathdefault{20}$ -->\n      <g transform=\"translate(237.06705 14.118498)scale(0.1 -0.1)\">\n       <defs>\n        <path d=\"M 41.703125 15.46875 \nL 39.90625 15.46875 \nC 38.90625 8.390625 38.09375 7.1875 37.703125 6.59375 \nC 37.203125 5.796875 30 5.796875 28.59375 5.796875 \nL 9.40625 5.796875 \nC 13 9.6875 20 16.765625 28.5 24.9375 \nC 34.59375 30.71875 41.703125 37.5 41.703125 47.390625 \nC 41.703125 59.1875 32.296875 66 21.796875 66 \nC 10.796875 66 4.09375 56.296875 4.09375 47.296875 \nC 4.09375 43.390625 7 42.890625 8.203125 42.890625 \nC 9.203125 42.890625 12.203125 43.484375 12.203125 46.984375 \nC 12.203125 50.09375 9.59375 51 8.203125 51 \nC 7.59375 51 7 50.890625 6.59375 50.6875 \nC 8.5 59.1875 14.296875 63.390625 20.40625 63.390625 \nC 29.09375 63.390625 34.796875 56.5 34.796875 47.390625 \nC 34.796875 38.703125 29.703125 31.21875 24 24.734375 \nL 4.09375 2.296875 \nL 4.09375 0 \nL 39.296875 0 \nz\n\" id=\"CMR17-50\"/>\n       </defs>\n       <use transform=\"scale(0.996264)\" xlink:href=\"#CMR17-50\"/>\n       <use transform=\"translate(45.690477 0)scale(0.996264)\" xlink:href=\"#CMR17-48\"/>\n      </g>\n     </g>\n    </g>\n   </g>\n   <g id=\"matplotlib.axis_2\">\n    <g id=\"ytick_1\">\n     <g id=\"line2d_11\">\n      <defs>\n       <path d=\"M 0 0 \nL -3.5 0 \n\" id=\"m3bab0d3e73\" style=\"stroke:#000000;stroke-width:0.8;\"/>\n      </defs>\n      <g>\n       <use style=\"stroke:#000000;stroke-width:0.8;\" x=\"24.162671\" xlink:href=\"#m3bab0d3e73\" y=\"28.369962\"/>\n      </g>\n     </g>\n     <g id=\"text_6\">\n      <!-- $\\mathdefault{0}$ -->\n      <g transform=\"translate(12.181335 31.829212)scale(0.1 -0.1)\">\n       <use transform=\"scale(0.996264)\" xlink:href=\"#CMR17-48\"/>\n      </g>\n     </g>\n    </g>\n    <g id=\"ytick_2\">\n     <g id=\"line2d_12\">\n      <g>\n       <use style=\"stroke:#000000;stroke-width:0.8;\" x=\"24.162671\" xlink:href=\"#m3bab0d3e73\" y=\"81.51282\"/>\n      </g>\n     </g>\n     <g id=\"text_7\">\n      <!-- $\\mathdefault{5}$ -->\n      <g transform=\"translate(12.181335 84.972069)scale(0.1 -0.1)\">\n       <use transform=\"scale(0.996264)\" xlink:href=\"#CMR17-53\"/>\n      </g>\n     </g>\n    </g>\n    <g id=\"ytick_3\">\n     <g id=\"line2d_13\">\n      <g>\n       <use style=\"stroke:#000000;stroke-width:0.8;\" x=\"24.162671\" xlink:href=\"#m3bab0d3e73\" y=\"134.655677\"/>\n      </g>\n     </g>\n     <g id=\"text_8\">\n      <!-- $\\mathdefault{10}$ -->\n      <g transform=\"translate(7.2 138.114926)scale(0.1 -0.1)\">\n       <use transform=\"scale(0.996264)\" xlink:href=\"#CMR17-49\"/>\n       <use transform=\"translate(45.690477 0)scale(0.996264)\" xlink:href=\"#CMR17-48\"/>\n      </g>\n     </g>\n    </g>\n    <g id=\"ytick_4\">\n     <g id=\"line2d_14\">\n      <g>\n       <use style=\"stroke:#000000;stroke-width:0.8;\" x=\"24.162671\" xlink:href=\"#m3bab0d3e73\" y=\"187.798534\"/>\n      </g>\n     </g>\n     <g id=\"text_9\">\n      <!-- $\\mathdefault{15}$ -->\n      <g transform=\"translate(7.2 191.257783)scale(0.1 -0.1)\">\n       <use transform=\"scale(0.996264)\" xlink:href=\"#CMR17-49\"/>\n       <use transform=\"translate(45.690477 0)scale(0.996264)\" xlink:href=\"#CMR17-53\"/>\n      </g>\n     </g>\n    </g>\n    <g id=\"ytick_5\">\n     <g id=\"line2d_15\">\n      <g>\n       <use style=\"stroke:#000000;stroke-width:0.8;\" x=\"24.162671\" xlink:href=\"#m3bab0d3e73\" y=\"240.941391\"/>\n      </g>\n     </g>\n     <g id=\"text_10\">\n      <!-- $\\mathdefault{20}$ -->\n      <g transform=\"translate(7.2 244.40064)scale(0.1 -0.1)\">\n       <use transform=\"scale(0.996264)\" xlink:href=\"#CMR17-50\"/>\n       <use transform=\"translate(45.690477 0)scale(0.996264)\" xlink:href=\"#CMR17-48\"/>\n      </g>\n     </g>\n    </g>\n   </g>\n   <g id=\"patch_3\">\n    <path d=\"M 24.162671 246.255677 \nL 24.162671 23.055677 \n\" style=\"fill:none;stroke:#000000;stroke-linecap:square;stroke-linejoin:miter;stroke-width:0.8;\"/>\n   </g>\n   <g id=\"patch_4\">\n    <path d=\"M 247.362671 246.255677 \nL 247.362671 23.055677 \n\" style=\"fill:none;stroke:#000000;stroke-linecap:square;stroke-linejoin:miter;stroke-width:0.8;\"/>\n   </g>\n   <g id=\"patch_5\">\n    <path d=\"M 24.162671 246.255677 \nL 247.362671 246.255677 \n\" style=\"fill:none;stroke:#000000;stroke-linecap:square;stroke-linejoin:miter;stroke-width:0.8;\"/>\n   </g>\n   <g id=\"patch_6\">\n    <path d=\"M 24.162671 23.055677 \nL 247.362671 23.055677 \n\" style=\"fill:none;stroke:#000000;stroke-linecap:square;stroke-linejoin:miter;stroke-width:0.8;\"/>\n   </g>\n  </g>\n </g>\n <defs>\n  <clipPath id=\"pd54a9a8c07\">\n   <rect height=\"223.2\" width=\"223.2\" x=\"24.162671\" y=\"23.055677\"/>\n  </clipPath>\n </defs>\n</svg>\n",
      "text/plain": [
       "<Figure size 288x288 with 1 Axes>"
      ]
     },
     "metadata": {
      "needs_background": "light"
     },
     "output_type": "display_data"
    }
   ],
   "source": [
    "plt.matshow(h.cpu().numpy())"
   ]
  },
  {
   "cell_type": "code",
   "execution_count": null,
   "metadata": {},
   "outputs": [],
   "source": [
    "L_mat, V = torch.linalg.eig(h)"
   ]
  },
  {
   "cell_type": "code",
   "execution_count": null,
   "metadata": {},
   "outputs": [
    {
     "data": {
      "text/plain": [
       "Text(0, 0.5, '$\\\\rm{Im}\\\\, \\\\lambda$')"
      ]
     },
     "execution_count": 166,
     "metadata": {},
     "output_type": "execute_result"
    },
    {
     "data": {
      "image/svg+xml": "<?xml version=\"1.0\" encoding=\"utf-8\" standalone=\"no\"?>\n<!DOCTYPE svg PUBLIC \"-//W3C//DTD SVG 1.1//EN\"\n  \"http://www.w3.org/Graphics/SVG/1.1/DTD/svg11.dtd\">\n<!-- Created with matplotlib (https://matplotlib.org/) -->\n<svg height=\"260.551353pt\" version=\"1.1\" viewBox=\"0 0 311.38105 260.551353\" width=\"311.38105pt\" xmlns=\"http://www.w3.org/2000/svg\" xmlns:xlink=\"http://www.w3.org/1999/xlink\">\n <metadata>\n  <rdf:RDF xmlns:cc=\"http://creativecommons.org/ns#\" xmlns:dc=\"http://purl.org/dc/elements/1.1/\" xmlns:rdf=\"http://www.w3.org/1999/02/22-rdf-syntax-ns#\">\n   <cc:Work>\n    <dc:type rdf:resource=\"http://purl.org/dc/dcmitype/StillImage\"/>\n    <dc:date>2021-12-22T15:39:33.562366</dc:date>\n    <dc:format>image/svg+xml</dc:format>\n    <dc:creator>\n     <cc:Agent>\n      <dc:title>Matplotlib v3.3.4, https://matplotlib.org/</dc:title>\n     </cc:Agent>\n    </dc:creator>\n   </cc:Work>\n  </rdf:RDF>\n </metadata>\n <defs>\n  <style type=\"text/css\">*{stroke-linecap:butt;stroke-linejoin:round;}</style>\n </defs>\n <g id=\"figure_1\">\n  <g id=\"patch_1\">\n   <path d=\"M 0 260.551353 \nL 311.38105 260.551353 \nL 311.38105 0 \nL 0 0 \nz\n\" style=\"fill:none;\"/>\n  </g>\n  <g id=\"axes_1\">\n   <g id=\"patch_2\">\n    <path d=\"M 52.515835 224.64 \nL 304.18105 224.64 \nL 304.18105 7.2 \nL 52.515835 7.2 \nz\n\" style=\"fill:#ffffff;\"/>\n   </g>\n   <g id=\"patch_3\">\n    <path clip-path=\"url(#pef933a886c)\" d=\"M 179.722136 214.853061 \nC 205.95949 214.853061 231.125762 204.428849 249.678374 185.876238 \nC 268.230985 167.323627 278.655196 142.157354 278.655196 115.92 \nC 278.655196 89.682646 268.230985 64.516373 249.678374 45.963762 \nC 231.125762 27.411151 205.95949 16.986939 179.722136 16.986939 \nC 153.484781 16.986939 128.318509 27.411151 109.765898 45.963762 \nC 91.213286 64.516373 80.789075 89.682646 80.789075 115.92 \nC 80.789075 142.157354 91.213286 167.323627 109.765898 185.876238 \nC 128.318509 204.428849 153.484781 214.853061 179.722136 214.853061 \nz\n\" style=\"fill:none;stroke:#000000;stroke-linejoin:miter;stroke-width:0.5;\"/>\n   </g>\n   <g id=\"matplotlib.axis_1\">\n    <g id=\"xtick_1\">\n     <g id=\"line2d_1\">\n      <defs>\n       <path d=\"M 0 0 \nL 0 3.5 \n\" id=\"maf8b3b7dbd\" style=\"stroke:#000000;stroke-width:0.8;\"/>\n      </defs>\n      <g>\n       <use style=\"stroke:#000000;stroke-width:0.8;\" x=\"80.789075\" xlink:href=\"#maf8b3b7dbd\" y=\"224.64\"/>\n      </g>\n     </g>\n     <g id=\"text_1\">\n      <!-- $\\mathdefault{−1.0}$ -->\n      <g transform=\"translate(70.549664 238.558498)scale(0.1 -0.1)\">\n       <defs>\n        <path d=\"M 65.90625 23 \nC 67.59375 23 69.40625 23 69.40625 25 \nC 69.40625 27 67.59375 27 65.90625 27 \nL 11.796875 27 \nC 10.09375 27 8.296875 27 8.296875 25 \nC 8.296875 23 10.09375 23 11.796875 23 \nz\n\" id=\"CMSY10-0\"/>\n        <path d=\"M 26.59375 63.796875 \nC 26.59375 65.890625 26.5 66 25.09375 66 \nC 21.203125 61.359375 15.296875 59.890625 9.703125 59.6875 \nC 9.40625 59.6875 8.90625 59.6875 8.796875 59.5 \nC 8.703125 59.296875 8.703125 59.09375 8.703125 57 \nC 11.796875 57 17 57.59375 21 59.984375 \nL 21 7.296875 \nC 21 3.796875 20.796875 2.59375 12.203125 2.59375 \nL 9.203125 2.59375 \nL 9.203125 0 \nC 14 0.09375 19 0.1875 23.796875 0.1875 \nC 28.59375 0.1875 33.59375 0.09375 38.40625 0 \nL 38.40625 2.59375 \nL 35.40625 2.59375 \nC 26.796875 2.59375 26.59375 3.6875 26.59375 7.296875 \nz\n\" id=\"CMR17-49\"/>\n        <path d=\"M 18.40625 4.796875 \nC 18.40625 7.6875 16 9.6875 13.59375 9.6875 \nC 10.703125 9.6875 8.703125 7.296875 8.703125 4.890625 \nC 8.703125 2 11.09375 0 13.5 0 \nC 16.40625 0 18.40625 2.390625 18.40625 4.796875 \nz\n\" id=\"CMMI12-58\"/>\n        <path d=\"M 42 31.84375 \nC 42 37.96875 41.90625 48.421875 37.703125 56.453125 \nC 34 63.484375 28.09375 66 22.90625 66 \nC 18.09375 66 12 63.78125 8.203125 56.5625 \nC 4.203125 49.015625 3.796875 39.671875 3.796875 31.84375 \nC 3.796875 26.109375 3.90625 17.375 7 9.734375 \nC 11.296875 -0.609375 19 -2 22.90625 -2 \nC 27.5 -2 34.5 -0.109375 38.59375 9.4375 \nC 41.59375 16.375 42 24.5 42 31.84375 \nz\nM 22.90625 -0.40625 \nC 16.5 -0.40625 12.703125 5.125 11.296875 12.75 \nC 10.203125 18.6875 10.203125 27.328125 10.203125 32.953125 \nC 10.203125 40.6875 10.203125 47.109375 11.5 53.234375 \nC 13.40625 61.78125 19 64.390625 22.90625 64.390625 \nC 27 64.390625 32.296875 61.671875 34.203125 53.4375 \nC 35.5 47.71875 35.59375 40.984375 35.59375 32.953125 \nC 35.59375 26.421875 35.59375 18.375 34.40625 12.453125 \nC 32.296875 1.5 26.40625 -0.40625 22.90625 -0.40625 \nz\n\" id=\"CMR17-48\"/>\n       </defs>\n       <use transform=\"scale(0.996264)\" xlink:href=\"#CMSY10-0\"/>\n       <use transform=\"translate(77.487468 0)scale(0.996264)\" xlink:href=\"#CMR17-49\"/>\n       <use transform=\"translate(123.177945 0)scale(0.996264)\" xlink:href=\"#CMMI12-58\"/>\n       <use transform=\"translate(150.275122 0)scale(0.996264)\" xlink:href=\"#CMR17-48\"/>\n      </g>\n     </g>\n    </g>\n    <g id=\"xtick_2\">\n     <g id=\"line2d_2\">\n      <g>\n       <use style=\"stroke:#000000;stroke-width:0.8;\" x=\"130.255605\" xlink:href=\"#maf8b3b7dbd\" y=\"224.64\"/>\n      </g>\n     </g>\n     <g id=\"text_2\">\n      <!-- $\\mathdefault{−0.5}$ -->\n      <g transform=\"translate(120.016194 238.558498)scale(0.1 -0.1)\">\n       <defs>\n        <path d=\"M 11.40625 58.59375 \nC 12.40625 58.1875 16.5 56.890625 20.703125 56.890625 \nC 30 56.890625 35.09375 61.890625 38 64.6875 \nC 38 65.484375 38 66 37.40625 66 \nC 37.296875 66 37.09375 66 36.296875 65.59375 \nC 32.796875 64.09375 28.703125 63 23.703125 63 \nC 20.703125 63 16.203125 63.359375 11.296875 65.484375 \nC 10.203125 66 10 66 9.90625 66 \nC 9.40625 66 9.296875 65.890625 9.296875 63.90625 \nL 9.296875 34.859375 \nC 9.296875 33.015625 9.296875 32.5 10.296875 32.5 \nC 10.796875 32.5 11 32.703125 11.5 33.421875 \nC 14.703125 38.046875 19.09375 40 24.09375 40 \nC 27.59375 40 35.09375 37.734375 35.09375 20.203125 \nC 35.09375 16.984375 35.09375 11.1875 32.09375 6.59375 \nC 29.59375 2.484375 25.703125 0.390625 21.40625 0.390625 \nC 14.796875 0.390625 8.09375 4.984375 6.296875 12.6875 \nC 6.703125 12.59375 7.5 12.390625 7.90625 12.390625 \nC 9.203125 12.390625 11.703125 13.09375 11.703125 16.1875 \nC 11.703125 18.890625 9.796875 20 7.90625 20 \nC 5.59375 20 4.09375 18.59375 4.09375 15.796875 \nC 4.09375 7.09375 11 -2 21.59375 -2 \nC 31.90625 -2 41.703125 6.890625 41.703125 19.796875 \nC 41.703125 32.09375 33.90625 41.59375 24.203125 41.59375 \nC 19.09375 41.59375 14.796875 39.6875 11.40625 36 \nz\n\" id=\"CMR17-53\"/>\n       </defs>\n       <use transform=\"scale(0.996264)\" xlink:href=\"#CMSY10-0\"/>\n       <use transform=\"translate(77.487468 0)scale(0.996264)\" xlink:href=\"#CMR17-48\"/>\n       <use transform=\"translate(123.177945 0)scale(0.996264)\" xlink:href=\"#CMMI12-58\"/>\n       <use transform=\"translate(150.275122 0)scale(0.996264)\" xlink:href=\"#CMR17-53\"/>\n      </g>\n     </g>\n    </g>\n    <g id=\"xtick_3\">\n     <g id=\"line2d_3\">\n      <g>\n       <use style=\"stroke:#000000;stroke-width:0.8;\" x=\"179.722136\" xlink:href=\"#maf8b3b7dbd\" y=\"224.64\"/>\n      </g>\n     </g>\n     <g id=\"text_3\">\n      <!-- $\\mathdefault{0.0}$ -->\n      <g transform=\"translate(173.357096 238.558498)scale(0.1 -0.1)\">\n       <use transform=\"scale(0.996264)\" xlink:href=\"#CMR17-48\"/>\n       <use transform=\"translate(45.690477 0)scale(0.996264)\" xlink:href=\"#CMMI12-58\"/>\n       <use transform=\"translate(72.787654 0)scale(0.996264)\" xlink:href=\"#CMR17-48\"/>\n      </g>\n     </g>\n    </g>\n    <g id=\"xtick_4\">\n     <g id=\"line2d_4\">\n      <g>\n       <use style=\"stroke:#000000;stroke-width:0.8;\" x=\"229.188666\" xlink:href=\"#maf8b3b7dbd\" y=\"224.64\"/>\n      </g>\n     </g>\n     <g id=\"text_4\">\n      <!-- $\\mathdefault{0.5}$ -->\n      <g transform=\"translate(222.823626 238.558498)scale(0.1 -0.1)\">\n       <use transform=\"scale(0.996264)\" xlink:href=\"#CMR17-48\"/>\n       <use transform=\"translate(45.690477 0)scale(0.996264)\" xlink:href=\"#CMMI12-58\"/>\n       <use transform=\"translate(72.787654 0)scale(0.996264)\" xlink:href=\"#CMR17-53\"/>\n      </g>\n     </g>\n    </g>\n    <g id=\"xtick_5\">\n     <g id=\"line2d_5\">\n      <g>\n       <use style=\"stroke:#000000;stroke-width:0.8;\" x=\"278.655196\" xlink:href=\"#maf8b3b7dbd\" y=\"224.64\"/>\n      </g>\n     </g>\n     <g id=\"text_5\">\n      <!-- $\\mathdefault{1.0}$ -->\n      <g transform=\"translate(272.290157 238.558498)scale(0.1 -0.1)\">\n       <use transform=\"scale(0.996264)\" xlink:href=\"#CMR17-49\"/>\n       <use transform=\"translate(45.690477 0)scale(0.996264)\" xlink:href=\"#CMMI12-58\"/>\n       <use transform=\"translate(72.787654 0)scale(0.996264)\" xlink:href=\"#CMR17-48\"/>\n      </g>\n     </g>\n    </g>\n    <g id=\"text_6\">\n     <!-- $\\rm{Re}\\, \\lambda$ -->\n     <g transform=\"translate(168.731734 251.414175)scale(0.1 -0.1)\">\n      <defs>\n       <path d=\"M 39.203125 33.6875 \nC 48.703125 35.59375 56.703125 42.015625 56.703125 50.046875 \nC 56.703125 59.46875 46.09375 68 32.09375 68 \nL 5.203125 68 \nL 5.203125 65.390625 \nC 12.09375 65.390625 13.203125 65.390625 13.203125 60.875 \nL 13.203125 6.6875 \nC 13.203125 2.1875 12.09375 2.1875 5.203125 2.1875 \nL 5.203125 -0.40625 \nC 8.09375 -0.203125 13.296875 -0.203125 16.40625 -0.203125 \nC 19.5 -0.203125 24.703125 -0.203125 27.59375 -0.40625 \nL 27.59375 2.1875 \nC 20.703125 2.1875 19.59375 2.1875 19.59375 6.6875 \nL 19.59375 33 \nL 31.296875 33 \nC 37 33 40.203125 30.6875 41.59375 29.390625 \nC 45.59375 25.5 45.59375 22.796875 45.59375 16 \nC 45.59375 9.296875 45.59375 5.890625 48.59375 2.5 \nC 52.40625 -1.609375 57.5 -2 59.703125 -2 \nC 67.09375 -2 68.203125 6.296875 68.203125 8 \nC 68.203125 8.59375 68.203125 9.296875 67.296875 9.296875 \nC 66.5 9.296875 66.40625 8.6875 66.40625 8.296875 \nC 65.90625 1.796875 63 -0.40625 59.90625 -0.40625 \nC 54.40625 -0.40625 53.796875 5.890625 53.203125 12 \nC 52.90625 14.09375 52.703125 15.59375 52.5 17.796875 \nC 51.90625 22.796875 51.09375 30.09375 39.203125 33.6875 \nz\nM 31 34.59375 \nL 19.59375 34.59375 \nL 19.59375 61.484375 \nC 19.59375 64.890625 19.796875 65.390625 23.796875 65.390625 \nL 31.09375 65.390625 \nC 39.40625 65.390625 49.09375 62.484375 49.09375 50.046875 \nC 49.09375 37.09375 38.5 34.59375 31 34.59375 \nz\n\" id=\"CMR17-82\"/>\n       <path d=\"M 38.09375 23.484375 \nC 38.5 23.890625 38.5 24.09375 38.5 25.09375 \nC 38.5 35.171875 33.09375 44 21.703125 44 \nC 11.09375 44 2.703125 33.984375 2.703125 21.78125 \nC 2.703125 8.65625 12.203125 -1 22.796875 -1 \nC 34 -1 38.40625 9.671875 38.40625 11.796875 \nC 38.40625 12.5 37.796875 12.5 37.59375 12.5 \nC 36.90625 12.5 36.796875 12.296875 36.40625 11.078125 \nC 34.203125 4.21875 28.703125 0.796875 23.5 0.796875 \nC 19.203125 0.796875 14.90625 3.21875 12.203125 7.65625 \nC 9.09375 12.796875 9.09375 18.75 9.09375 23.484375 \nz\nM 9.203125 25 \nC 9.90625 39.234375 17.59375 42.390625 21.59375 42.390625 \nC 28.40625 42.390625 33 36.0625 33.09375 25 \nz\n\" id=\"CMR17-101\"/>\n       <path d=\"M 30.90625 61.921875 \nC 28.40625 69 20.5 69 19.203125 69 \nC 18.59375 69 17.5 69 17.5 67.984375 \nC 17.5 67.1875 18.09375 67.09375 18.59375 66.984375 \nC 20.09375 66.796875 21.296875 66.59375 22.90625 63.71875 \nC 23.90625 61.828125 34.203125 32.109375 34.203125 31.90625 \nC 34.203125 31.8125 34.09375 31.703125 33.296875 30.90625 \nL 7.296875 4.765625 \nC 6.09375 3.578125 5.296875 2.78125 5.296875 1.484375 \nC 5.296875 0.09375 6.5 -1.109375 8.09375 -1.109375 \nC 8.5 -1.109375 9.59375 -0.90625 10.203125 -0.3125 \nC 11.796875 1.1875 26.09375 18.59375 35.203125 29.328125 \nC 37.796875 21.5625 41 12.421875 44.09375 4.078125 \nC 44.59375 2.578125 45.09375 1.1875 46.5 -0.109375 \nC 47.5 -1 47.703125 -1 50.5 -1 \nL 52.40625 -1 \nC 52.796875 -1 53.5 -1 53.5 -0.203125 \nC 53.5 0.1875 53.40625 0.296875 53 0.6875 \nC 52.09375 1.78125 51.40625 3.578125 51 4.765625 \nz\n\" id=\"CMMI12-21\"/>\n      </defs>\n      <use transform=\"scale(0.996264)\" xlink:href=\"#CMR17-82\"/>\n      <use transform=\"translate(67.791102 0)scale(0.996264)\" xlink:href=\"#CMR17-101\"/>\n      <use transform=\"translate(124.881168 0)scale(0.996264)\" xlink:href=\"#CMMI12-21\"/>\n     </g>\n    </g>\n   </g>\n   <g id=\"matplotlib.axis_2\">\n    <g id=\"ytick_1\">\n     <g id=\"line2d_6\">\n      <defs>\n       <path d=\"M 0 0 \nL -3.5 0 \n\" id=\"m8ef8f4890d\" style=\"stroke:#000000;stroke-width:0.8;\"/>\n      </defs>\n      <g>\n       <use style=\"stroke:#000000;stroke-width:0.8;\" x=\"52.515835\" xlink:href=\"#m8ef8f4890d\" y=\"214.853061\"/>\n      </g>\n     </g>\n     <g id=\"text_7\">\n      <!-- $\\mathdefault{−1.00}$ -->\n      <g transform=\"translate(20.055677 218.31231)scale(0.1 -0.1)\">\n       <use transform=\"scale(0.996264)\" xlink:href=\"#CMSY10-0\"/>\n       <use transform=\"translate(77.487468 0)scale(0.996264)\" xlink:href=\"#CMR17-49\"/>\n       <use transform=\"translate(123.177945 0)scale(0.996264)\" xlink:href=\"#CMMI12-58\"/>\n       <use transform=\"translate(150.275122 0)scale(0.996264)\" xlink:href=\"#CMR17-48\"/>\n       <use transform=\"translate(195.965599 0)scale(0.996264)\" xlink:href=\"#CMR17-48\"/>\n      </g>\n     </g>\n    </g>\n    <g id=\"ytick_2\">\n     <g id=\"line2d_7\">\n      <g>\n       <use style=\"stroke:#000000;stroke-width:0.8;\" x=\"52.515835\" xlink:href=\"#m8ef8f4890d\" y=\"190.119795\"/>\n      </g>\n     </g>\n     <g id=\"text_8\">\n      <!-- $\\mathdefault{−0.75}$ -->\n      <g transform=\"translate(20.055677 193.579045)scale(0.1 -0.1)\">\n       <defs>\n        <path d=\"M 45.09375 61.796875 \nL 45.09375 64 \nL 21.59375 64 \nC 9.90625 64 9.703125 65.09375 9.296875 67 \nL 7.5 67 \nL 4.59375 48.5 \nL 6.40625 48.5 \nC 6.703125 50.40625 7.40625 55.5 8.59375 57.390625 \nC 9.203125 58.1875 16.59375 58.1875 18.296875 58.1875 \nL 40.296875 58.1875 \nL 29.203125 41.71875 \nC 21.796875 30.640625 16.703125 15.671875 16.703125 2.59375 \nC 16.703125 1.390625 16.703125 -2 20.296875 -2 \nC 23.90625 -2 23.90625 1.390625 23.90625 2.6875 \nL 23.90625 7.28125 \nC 23.90625 23.65625 26.703125 34.4375 31.296875 41.3125 \nz\n\" id=\"CMR17-55\"/>\n       </defs>\n       <use transform=\"scale(0.996264)\" xlink:href=\"#CMSY10-0\"/>\n       <use transform=\"translate(77.487468 0)scale(0.996264)\" xlink:href=\"#CMR17-48\"/>\n       <use transform=\"translate(123.177945 0)scale(0.996264)\" xlink:href=\"#CMMI12-58\"/>\n       <use transform=\"translate(150.275122 0)scale(0.996264)\" xlink:href=\"#CMR17-55\"/>\n       <use transform=\"translate(195.965599 0)scale(0.996264)\" xlink:href=\"#CMR17-53\"/>\n      </g>\n     </g>\n    </g>\n    <g id=\"ytick_3\">\n     <g id=\"line2d_8\">\n      <g>\n       <use style=\"stroke:#000000;stroke-width:0.8;\" x=\"52.515835\" xlink:href=\"#m8ef8f4890d\" y=\"165.38653\"/>\n      </g>\n     </g>\n     <g id=\"text_9\">\n      <!-- $\\mathdefault{−0.50}$ -->\n      <g transform=\"translate(20.055677 168.845779)scale(0.1 -0.1)\">\n       <use transform=\"scale(0.996264)\" xlink:href=\"#CMSY10-0\"/>\n       <use transform=\"translate(77.487468 0)scale(0.996264)\" xlink:href=\"#CMR17-48\"/>\n       <use transform=\"translate(123.177945 0)scale(0.996264)\" xlink:href=\"#CMMI12-58\"/>\n       <use transform=\"translate(150.275122 0)scale(0.996264)\" xlink:href=\"#CMR17-53\"/>\n       <use transform=\"translate(195.965599 0)scale(0.996264)\" xlink:href=\"#CMR17-48\"/>\n      </g>\n     </g>\n    </g>\n    <g id=\"ytick_4\">\n     <g id=\"line2d_9\">\n      <g>\n       <use style=\"stroke:#000000;stroke-width:0.8;\" x=\"52.515835\" xlink:href=\"#m8ef8f4890d\" y=\"140.653265\"/>\n      </g>\n     </g>\n     <g id=\"text_10\">\n      <!-- $\\mathdefault{−0.25}$ -->\n      <g transform=\"translate(20.055677 144.112514)scale(0.1 -0.1)\">\n       <defs>\n        <path d=\"M 41.703125 15.46875 \nL 39.90625 15.46875 \nC 38.90625 8.390625 38.09375 7.1875 37.703125 6.59375 \nC 37.203125 5.796875 30 5.796875 28.59375 5.796875 \nL 9.40625 5.796875 \nC 13 9.6875 20 16.765625 28.5 24.9375 \nC 34.59375 30.71875 41.703125 37.5 41.703125 47.390625 \nC 41.703125 59.1875 32.296875 66 21.796875 66 \nC 10.796875 66 4.09375 56.296875 4.09375 47.296875 \nC 4.09375 43.390625 7 42.890625 8.203125 42.890625 \nC 9.203125 42.890625 12.203125 43.484375 12.203125 46.984375 \nC 12.203125 50.09375 9.59375 51 8.203125 51 \nC 7.59375 51 7 50.890625 6.59375 50.6875 \nC 8.5 59.1875 14.296875 63.390625 20.40625 63.390625 \nC 29.09375 63.390625 34.796875 56.5 34.796875 47.390625 \nC 34.796875 38.703125 29.703125 31.21875 24 24.734375 \nL 4.09375 2.296875 \nL 4.09375 0 \nL 39.296875 0 \nz\n\" id=\"CMR17-50\"/>\n       </defs>\n       <use transform=\"scale(0.996264)\" xlink:href=\"#CMSY10-0\"/>\n       <use transform=\"translate(77.487468 0)scale(0.996264)\" xlink:href=\"#CMR17-48\"/>\n       <use transform=\"translate(123.177945 0)scale(0.996264)\" xlink:href=\"#CMMI12-58\"/>\n       <use transform=\"translate(150.275122 0)scale(0.996264)\" xlink:href=\"#CMR17-50\"/>\n       <use transform=\"translate(195.965599 0)scale(0.996264)\" xlink:href=\"#CMR17-53\"/>\n      </g>\n     </g>\n    </g>\n    <g id=\"ytick_5\">\n     <g id=\"line2d_10\">\n      <g>\n       <use style=\"stroke:#000000;stroke-width:0.8;\" x=\"52.515835\" xlink:href=\"#m8ef8f4890d\" y=\"115.92\"/>\n      </g>\n     </g>\n     <g id=\"text_11\">\n      <!-- $\\mathdefault{0.00}$ -->\n      <g transform=\"translate(27.80442 119.379249)scale(0.1 -0.1)\">\n       <use transform=\"scale(0.996264)\" xlink:href=\"#CMR17-48\"/>\n       <use transform=\"translate(45.690477 0)scale(0.996264)\" xlink:href=\"#CMMI12-58\"/>\n       <use transform=\"translate(72.787654 0)scale(0.996264)\" xlink:href=\"#CMR17-48\"/>\n       <use transform=\"translate(118.478131 0)scale(0.996264)\" xlink:href=\"#CMR17-48\"/>\n      </g>\n     </g>\n    </g>\n    <g id=\"ytick_6\">\n     <g id=\"line2d_11\">\n      <g>\n       <use style=\"stroke:#000000;stroke-width:0.8;\" x=\"52.515835\" xlink:href=\"#m8ef8f4890d\" y=\"91.186735\"/>\n      </g>\n     </g>\n     <g id=\"text_12\">\n      <!-- $\\mathdefault{0.25}$ -->\n      <g transform=\"translate(27.80442 94.645984)scale(0.1 -0.1)\">\n       <use transform=\"scale(0.996264)\" xlink:href=\"#CMR17-48\"/>\n       <use transform=\"translate(45.690477 0)scale(0.996264)\" xlink:href=\"#CMMI12-58\"/>\n       <use transform=\"translate(72.787654 0)scale(0.996264)\" xlink:href=\"#CMR17-50\"/>\n       <use transform=\"translate(118.478131 0)scale(0.996264)\" xlink:href=\"#CMR17-53\"/>\n      </g>\n     </g>\n    </g>\n    <g id=\"ytick_7\">\n     <g id=\"line2d_12\">\n      <g>\n       <use style=\"stroke:#000000;stroke-width:0.8;\" x=\"52.515835\" xlink:href=\"#m8ef8f4890d\" y=\"66.45347\"/>\n      </g>\n     </g>\n     <g id=\"text_13\">\n      <!-- $\\mathdefault{0.50}$ -->\n      <g transform=\"translate(27.80442 69.912719)scale(0.1 -0.1)\">\n       <use transform=\"scale(0.996264)\" xlink:href=\"#CMR17-48\"/>\n       <use transform=\"translate(45.690477 0)scale(0.996264)\" xlink:href=\"#CMMI12-58\"/>\n       <use transform=\"translate(72.787654 0)scale(0.996264)\" xlink:href=\"#CMR17-53\"/>\n       <use transform=\"translate(118.478131 0)scale(0.996264)\" xlink:href=\"#CMR17-48\"/>\n      </g>\n     </g>\n    </g>\n    <g id=\"ytick_8\">\n     <g id=\"line2d_13\">\n      <g>\n       <use style=\"stroke:#000000;stroke-width:0.8;\" x=\"52.515835\" xlink:href=\"#m8ef8f4890d\" y=\"41.720205\"/>\n      </g>\n     </g>\n     <g id=\"text_14\">\n      <!-- $\\mathdefault{0.75}$ -->\n      <g transform=\"translate(27.80442 45.179454)scale(0.1 -0.1)\">\n       <use transform=\"scale(0.996264)\" xlink:href=\"#CMR17-48\"/>\n       <use transform=\"translate(45.690477 0)scale(0.996264)\" xlink:href=\"#CMMI12-58\"/>\n       <use transform=\"translate(72.787654 0)scale(0.996264)\" xlink:href=\"#CMR17-55\"/>\n       <use transform=\"translate(118.478131 0)scale(0.996264)\" xlink:href=\"#CMR17-53\"/>\n      </g>\n     </g>\n    </g>\n    <g id=\"ytick_9\">\n     <g id=\"line2d_14\">\n      <g>\n       <use style=\"stroke:#000000;stroke-width:0.8;\" x=\"52.515835\" xlink:href=\"#m8ef8f4890d\" y=\"16.986939\"/>\n      </g>\n     </g>\n     <g id=\"text_15\">\n      <!-- $\\mathdefault{1.00}$ -->\n      <g transform=\"translate(27.80442 20.446189)scale(0.1 -0.1)\">\n       <use transform=\"scale(0.996264)\" xlink:href=\"#CMR17-49\"/>\n       <use transform=\"translate(45.690477 0)scale(0.996264)\" xlink:href=\"#CMMI12-58\"/>\n       <use transform=\"translate(72.787654 0)scale(0.996264)\" xlink:href=\"#CMR17-48\"/>\n       <use transform=\"translate(118.478131 0)scale(0.996264)\" xlink:href=\"#CMR17-48\"/>\n      </g>\n     </g>\n    </g>\n    <g id=\"text_16\">\n     <!-- $\\rm{Im}\\, \\lambda$ -->\n     <g transform=\"translate(14.118498 125.605907)rotate(-90)scale(0.1 -0.1)\">\n      <defs>\n       <path d=\"M 19.703125 60.90625 \nC 19.703125 65.390625 20.90625 65.390625 28.09375 65.390625 \nL 28.09375 68 \nC 24.90625 67.796875 19.796875 67.796875 16.40625 67.796875 \nC 13 67.796875 7.90625 67.796875 4.703125 68 \nL 4.703125 65.390625 \nC 11.90625 65.390625 13.09375 65.390625 13.09375 60.90625 \nL 13.09375 7.078125 \nC 13.09375 2.59375 11.90625 2.59375 4.703125 2.59375 \nL 4.703125 0 \nC 7.90625 0.1875 13 0.1875 16.40625 0.1875 \nC 19.796875 0.1875 24.90625 0.1875 28.09375 0 \nL 28.09375 2.59375 \nC 20.90625 2.59375 19.703125 2.59375 19.703125 7.078125 \nz\n\" id=\"CMR17-73\"/>\n       <path d=\"M 67.59375 30.53125 \nC 67.59375 35.5625 66.703125 44 54.796875 44 \nC 48 44 43.296875 39.375 41.5 33.953125 \nL 41.40625 33.953125 \nC 40.203125 42.1875 34.296875 44 28.703125 44 \nC 20.796875 44 16.703125 37.875 15.203125 33.84375 \nL 15.09375 33.84375 \nL 15.09375 44 \nL 3.296875 42.890625 \nL 3.296875 40.28125 \nC 9.203125 40.28125 10.09375 39.6875 10.09375 34.859375 \nL 10.09375 6.921875 \nC 10.09375 3.09375 9.703125 2.59375 3.296875 2.59375 \nL 3.296875 0 \nC 5.703125 0.1875 10.09375 0.1875 12.703125 0.1875 \nC 15.296875 0.1875 19.796875 0.1875 22.203125 0 \nL 22.203125 2.59375 \nC 15.796875 2.59375 15.40625 3 15.40625 6.921875 \nL 15.40625 26.21875 \nC 15.40625 35.453125 21 42.390625 28 42.390625 \nC 35.40625 42.390625 36.203125 35.765625 36.203125 30.9375 \nL 36.203125 6.921875 \nC 36.203125 3.09375 35.796875 2.59375 29.40625 2.59375 \nL 29.40625 0 \nC 31.796875 0.1875 36.203125 0.1875 38.796875 0.1875 \nC 41.40625 0.1875 45.90625 0.1875 48.296875 0 \nL 48.296875 2.59375 \nC 41.90625 2.59375 41.5 3 41.5 6.921875 \nL 41.5 26.21875 \nC 41.5 35.453125 47.09375 42.390625 54.09375 42.390625 \nC 61.5 42.390625 62.296875 35.765625 62.296875 30.9375 \nL 62.296875 6.921875 \nC 62.296875 3.09375 61.90625 2.59375 55.5 2.59375 \nL 55.5 0 \nC 57.90625 0.1875 62.296875 0.1875 64.90625 0.1875 \nC 67.5 0.1875 72 0.1875 74.40625 0 \nL 74.40625 2.59375 \nC 68 2.59375 67.59375 3 67.59375 6.921875 \nz\n\" id=\"CMR17-109\"/>\n      </defs>\n      <use transform=\"scale(0.996264)\" xlink:href=\"#CMR17-73\"/>\n      <use transform=\"translate(32.638409 0)scale(0.996264)\" xlink:href=\"#CMR17-109\"/>\n      <use transform=\"translate(126.162404 0)scale(0.996264)\" xlink:href=\"#CMMI12-21\"/>\n     </g>\n    </g>\n   </g>\n   <g id=\"line2d_15\">\n    <defs>\n     <path d=\"M 0 1.5 \nC 0.397805 1.5 0.77937 1.341951 1.06066 1.06066 \nC 1.341951 0.77937 1.5 0.397805 1.5 0 \nC 1.5 -0.397805 1.341951 -0.77937 1.06066 -1.06066 \nC 0.77937 -1.341951 0.397805 -1.5 0 -1.5 \nC -0.397805 -1.5 -0.77937 -1.341951 -1.06066 -1.06066 \nC -1.341951 -0.77937 -1.5 -0.397805 -1.5 0 \nC -1.5 0.397805 -1.341951 0.77937 -1.06066 1.06066 \nC -0.77937 1.341951 -0.397805 1.5 0 1.5 \nz\n\" id=\"mea3fbb9001\" style=\"stroke:#000000;\"/>\n    </defs>\n    <g clip-path=\"url(#pef933a886c)\">\n     <use style=\"stroke:#000000;\" x=\"179.722136\" xlink:href=\"#mea3fbb9001\" y=\"115.92\"/>\n     <use style=\"stroke:#000000;\" x=\"81.797074\" xlink:href=\"#mea3fbb9001\" y=\"114.368297\"/>\n     <use style=\"stroke:#000000;\" x=\"81.797074\" xlink:href=\"#mea3fbb9001\" y=\"117.471703\"/>\n     <use style=\"stroke:#000000;\" x=\"81.949668\" xlink:href=\"#mea3fbb9001\" y=\"111.404354\"/>\n     <use style=\"stroke:#000000;\" x=\"81.949668\" xlink:href=\"#mea3fbb9001\" y=\"120.435646\"/>\n     <use style=\"stroke:#000000;\" x=\"81.7717\" xlink:href=\"#mea3fbb9001\" y=\"108.562663\"/>\n     <use style=\"stroke:#000000;\" x=\"81.7717\" xlink:href=\"#mea3fbb9001\" y=\"123.277337\"/>\n     <use style=\"stroke:#000000;\" x=\"82.643004\" xlink:href=\"#mea3fbb9001\" y=\"105.641606\"/>\n     <use style=\"stroke:#000000;\" x=\"82.643004\" xlink:href=\"#mea3fbb9001\" y=\"126.198394\"/>\n     <use style=\"stroke:#000000;\" x=\"82.395371\" xlink:href=\"#mea3fbb9001\" y=\"103.036023\"/>\n     <use style=\"stroke:#000000;\" x=\"82.395371\" xlink:href=\"#mea3fbb9001\" y=\"128.803977\"/>\n     <use style=\"stroke:#000000;\" x=\"82.766579\" xlink:href=\"#mea3fbb9001\" y=\"99.513419\"/>\n     <use style=\"stroke:#000000;\" x=\"82.766579\" xlink:href=\"#mea3fbb9001\" y=\"132.326581\"/>\n     <use style=\"stroke:#000000;\" x=\"83.899367\" xlink:href=\"#mea3fbb9001\" y=\"96.533475\"/>\n     <use style=\"stroke:#000000;\" x=\"83.899367\" xlink:href=\"#mea3fbb9001\" y=\"135.306525\"/>\n     <use style=\"stroke:#000000;\" x=\"83.673181\" xlink:href=\"#mea3fbb9001\" y=\"93.205713\"/>\n     <use style=\"stroke:#000000;\" x=\"83.673181\" xlink:href=\"#mea3fbb9001\" y=\"138.634287\"/>\n     <use style=\"stroke:#000000;\" x=\"84.067405\" xlink:href=\"#mea3fbb9001\" y=\"90.35757\"/>\n     <use style=\"stroke:#000000;\" x=\"84.067405\" xlink:href=\"#mea3fbb9001\" y=\"141.48243\"/>\n     <use style=\"stroke:#000000;\" x=\"88.905609\" xlink:href=\"#mea3fbb9001\" y=\"77.814954\"/>\n     <use style=\"stroke:#000000;\" x=\"88.905609\" xlink:href=\"#mea3fbb9001\" y=\"154.025046\"/>\n     <use style=\"stroke:#000000;\" x=\"87.564343\" xlink:href=\"#mea3fbb9001\" y=\"81.288635\"/>\n     <use style=\"stroke:#000000;\" x=\"87.564343\" xlink:href=\"#mea3fbb9001\" y=\"150.551365\"/>\n     <use style=\"stroke:#000000;\" x=\"86.124268\" xlink:href=\"#mea3fbb9001\" y=\"84.907589\"/>\n     <use style=\"stroke:#000000;\" x=\"86.124268\" xlink:href=\"#mea3fbb9001\" y=\"146.932411\"/>\n     <use style=\"stroke:#000000;\" x=\"86.673149\" xlink:href=\"#mea3fbb9001\" y=\"87.363794\"/>\n     <use style=\"stroke:#000000;\" x=\"86.673149\" xlink:href=\"#mea3fbb9001\" y=\"144.476206\"/>\n     <use style=\"stroke:#000000;\" x=\"89.996218\" xlink:href=\"#mea3fbb9001\" y=\"73.937341\"/>\n     <use style=\"stroke:#000000;\" x=\"89.996218\" xlink:href=\"#mea3fbb9001\" y=\"157.902659\"/>\n     <use style=\"stroke:#000000;\" x=\"93.683814\" xlink:href=\"#mea3fbb9001\" y=\"67.809119\"/>\n     <use style=\"stroke:#000000;\" x=\"93.683814\" xlink:href=\"#mea3fbb9001\" y=\"164.030881\"/>\n     <use style=\"stroke:#000000;\" x=\"92.796187\" xlink:href=\"#mea3fbb9001\" y=\"69.957316\"/>\n     <use style=\"stroke:#000000;\" x=\"92.796187\" xlink:href=\"#mea3fbb9001\" y=\"161.882684\"/>\n     <use style=\"stroke:#000000;\" x=\"95.609714\" xlink:href=\"#mea3fbb9001\" y=\"64.289006\"/>\n     <use style=\"stroke:#000000;\" x=\"95.609714\" xlink:href=\"#mea3fbb9001\" y=\"167.550994\"/>\n     <use style=\"stroke:#000000;\" x=\"98.830384\" xlink:href=\"#mea3fbb9001\" y=\"59.748794\"/>\n     <use style=\"stroke:#000000;\" x=\"98.830384\" xlink:href=\"#mea3fbb9001\" y=\"172.091206\"/>\n     <use style=\"stroke:#000000;\" x=\"97.896343\" xlink:href=\"#mea3fbb9001\" y=\"61.558749\"/>\n     <use style=\"stroke:#000000;\" x=\"97.896343\" xlink:href=\"#mea3fbb9001\" y=\"170.281251\"/>\n     <use style=\"stroke:#000000;\" x=\"101.101905\" xlink:href=\"#mea3fbb9001\" y=\"56.544629\"/>\n     <use style=\"stroke:#000000;\" x=\"101.101905\" xlink:href=\"#mea3fbb9001\" y=\"175.295371\"/>\n     <use style=\"stroke:#000000;\" x=\"102.542145\" xlink:href=\"#mea3fbb9001\" y=\"54.379163\"/>\n     <use style=\"stroke:#000000;\" x=\"102.542145\" xlink:href=\"#mea3fbb9001\" y=\"177.460837\"/>\n     <use style=\"stroke:#000000;\" x=\"104.730479\" xlink:href=\"#mea3fbb9001\" y=\"51.714951\"/>\n     <use style=\"stroke:#000000;\" x=\"104.730479\" xlink:href=\"#mea3fbb9001\" y=\"180.125049\"/>\n     <use style=\"stroke:#000000;\" x=\"107.120805\" xlink:href=\"#mea3fbb9001\" y=\"49.364364\"/>\n     <use style=\"stroke:#000000;\" x=\"107.120805\" xlink:href=\"#mea3fbb9001\" y=\"182.475636\"/>\n     <use style=\"stroke:#000000;\" x=\"278.574309\" xlink:href=\"#mea3fbb9001\" y=\"115.92\"/>\n     <use style=\"stroke:#000000;\" x=\"277.155575\" xlink:href=\"#mea3fbb9001\" y=\"111.634616\"/>\n     <use style=\"stroke:#000000;\" x=\"277.155575\" xlink:href=\"#mea3fbb9001\" y=\"120.205384\"/>\n     <use style=\"stroke:#000000;\" x=\"277.371512\" xlink:href=\"#mea3fbb9001\" y=\"109.667017\"/>\n     <use style=\"stroke:#000000;\" x=\"277.371512\" xlink:href=\"#mea3fbb9001\" y=\"122.172983\"/>\n     <use style=\"stroke:#000000;\" x=\"277.742703\" xlink:href=\"#mea3fbb9001\" y=\"105.336857\"/>\n     <use style=\"stroke:#000000;\" x=\"277.742703\" xlink:href=\"#mea3fbb9001\" y=\"126.503143\"/>\n     <use style=\"stroke:#000000;\" x=\"276.902729\" xlink:href=\"#mea3fbb9001\" y=\"101.821933\"/>\n     <use style=\"stroke:#000000;\" x=\"276.902729\" xlink:href=\"#mea3fbb9001\" y=\"130.018067\"/>\n     <use style=\"stroke:#000000;\" x=\"276.728317\" xlink:href=\"#mea3fbb9001\" y=\"98.305311\"/>\n     <use style=\"stroke:#000000;\" x=\"276.728317\" xlink:href=\"#mea3fbb9001\" y=\"133.534689\"/>\n     <use style=\"stroke:#000000;\" x=\"275.656296\" xlink:href=\"#mea3fbb9001\" y=\"95.216181\"/>\n     <use style=\"stroke:#000000;\" x=\"275.656296\" xlink:href=\"#mea3fbb9001\" y=\"136.623819\"/>\n     <use style=\"stroke:#000000;\" x=\"275.445943\" xlink:href=\"#mea3fbb9001\" y=\"92.223148\"/>\n     <use style=\"stroke:#000000;\" x=\"275.445943\" xlink:href=\"#mea3fbb9001\" y=\"139.616852\"/>\n     <use style=\"stroke:#000000;\" x=\"275.087083\" xlink:href=\"#mea3fbb9001\" y=\"88.550032\"/>\n     <use style=\"stroke:#000000;\" x=\"275.087083\" xlink:href=\"#mea3fbb9001\" y=\"143.289968\"/>\n     <use style=\"stroke:#000000;\" x=\"250.482251\" xlink:href=\"#mea3fbb9001\" y=\"46.883333\"/>\n     <use style=\"stroke:#000000;\" x=\"250.482251\" xlink:href=\"#mea3fbb9001\" y=\"184.956667\"/>\n     <use style=\"stroke:#000000;\" x=\"254.915731\" xlink:href=\"#mea3fbb9001\" y=\"51.33761\"/>\n     <use style=\"stroke:#000000;\" x=\"254.915731\" xlink:href=\"#mea3fbb9001\" y=\"180.50239\"/>\n     <use style=\"stroke:#000000;\" x=\"252.574744\" xlink:href=\"#mea3fbb9001\" y=\"49.254541\"/>\n     <use style=\"stroke:#000000;\" x=\"252.574744\" xlink:href=\"#mea3fbb9001\" y=\"182.585459\"/>\n     <use style=\"stroke:#000000;\" x=\"256.63113\" xlink:href=\"#mea3fbb9001\" y=\"53.665052\"/>\n     <use style=\"stroke:#000000;\" x=\"256.63113\" xlink:href=\"#mea3fbb9001\" y=\"178.174948\"/>\n     <use style=\"stroke:#000000;\" x=\"258.642423\" xlink:href=\"#mea3fbb9001\" y=\"56.798766\"/>\n     <use style=\"stroke:#000000;\" x=\"258.642423\" xlink:href=\"#mea3fbb9001\" y=\"175.041234\"/>\n     <use style=\"stroke:#000000;\" x=\"260.49141\" xlink:href=\"#mea3fbb9001\" y=\"59.2185\"/>\n     <use style=\"stroke:#000000;\" x=\"260.49141\" xlink:href=\"#mea3fbb9001\" y=\"172.6215\"/>\n     <use style=\"stroke:#000000;\" x=\"274.970136\" xlink:href=\"#mea3fbb9001\" y=\"115.92\"/>\n     <use style=\"stroke:#000000;\" x=\"264.910288\" xlink:href=\"#mea3fbb9001\" y=\"66.62748\"/>\n     <use style=\"stroke:#000000;\" x=\"264.910288\" xlink:href=\"#mea3fbb9001\" y=\"165.21252\"/>\n     <use style=\"stroke:#000000;\" x=\"273.710128\" xlink:href=\"#mea3fbb9001\" y=\"85.484252\"/>\n     <use style=\"stroke:#000000;\" x=\"273.710128\" xlink:href=\"#mea3fbb9001\" y=\"146.355748\"/>\n     <use style=\"stroke:#000000;\" x=\"263.255155\" xlink:href=\"#mea3fbb9001\" y=\"63.595345\"/>\n     <use style=\"stroke:#000000;\" x=\"263.255155\" xlink:href=\"#mea3fbb9001\" y=\"168.244655\"/>\n     <use style=\"stroke:#000000;\" x=\"261.776167\" xlink:href=\"#mea3fbb9001\" y=\"62.565799\"/>\n     <use style=\"stroke:#000000;\" x=\"261.776167\" xlink:href=\"#mea3fbb9001\" y=\"169.274201\"/>\n     <use style=\"stroke:#000000;\" x=\"266.83643\" xlink:href=\"#mea3fbb9001\" y=\"69.447886\"/>\n     <use style=\"stroke:#000000;\" x=\"266.83643\" xlink:href=\"#mea3fbb9001\" y=\"162.392114\"/>\n     <use style=\"stroke:#000000;\" x=\"108.860782\" xlink:href=\"#mea3fbb9001\" y=\"46.818273\"/>\n     <use style=\"stroke:#000000;\" x=\"108.860782\" xlink:href=\"#mea3fbb9001\" y=\"185.021727\"/>\n     <use style=\"stroke:#000000;\" x=\"248.376426\" xlink:href=\"#mea3fbb9001\" y=\"44.596934\"/>\n     <use style=\"stroke:#000000;\" x=\"248.376426\" xlink:href=\"#mea3fbb9001\" y=\"187.243066\"/>\n     <use style=\"stroke:#000000;\" x=\"245.237882\" xlink:href=\"#mea3fbb9001\" y=\"42.832118\"/>\n     <use style=\"stroke:#000000;\" x=\"245.237882\" xlink:href=\"#mea3fbb9001\" y=\"189.007882\"/>\n     <use style=\"stroke:#000000;\" x=\"272.326038\" xlink:href=\"#mea3fbb9001\" y=\"82.567159\"/>\n     <use style=\"stroke:#000000;\" x=\"272.326038\" xlink:href=\"#mea3fbb9001\" y=\"149.272841\"/>\n     <use style=\"stroke:#000000;\" x=\"267.772629\" xlink:href=\"#mea3fbb9001\" y=\"72.45493\"/>\n     <use style=\"stroke:#000000;\" x=\"267.772629\" xlink:href=\"#mea3fbb9001\" y=\"159.38507\"/>\n     <use style=\"stroke:#000000;\" x=\"111.944574\" xlink:href=\"#mea3fbb9001\" y=\"44.837166\"/>\n     <use style=\"stroke:#000000;\" x=\"111.944574\" xlink:href=\"#mea3fbb9001\" y=\"187.002834\"/>\n     <use style=\"stroke:#000000;\" x=\"114.997513\" xlink:href=\"#mea3fbb9001\" y=\"41.288801\"/>\n     <use style=\"stroke:#000000;\" x=\"114.997513\" xlink:href=\"#mea3fbb9001\" y=\"190.551199\"/>\n     <use style=\"stroke:#000000;\" x=\"117.317778\" xlink:href=\"#mea3fbb9001\" y=\"39.307536\"/>\n     <use style=\"stroke:#000000;\" x=\"117.317778\" xlink:href=\"#mea3fbb9001\" y=\"192.532464\"/>\n     <use style=\"stroke:#000000;\" x=\"113.347015\" xlink:href=\"#mea3fbb9001\" y=\"45.712969\"/>\n     <use style=\"stroke:#000000;\" x=\"113.347015\" xlink:href=\"#mea3fbb9001\" y=\"186.127031\"/>\n     <use style=\"stroke:#000000;\" x=\"243.103227\" xlink:href=\"#mea3fbb9001\" y=\"40.83131\"/>\n     <use style=\"stroke:#000000;\" x=\"243.103227\" xlink:href=\"#mea3fbb9001\" y=\"191.00869\"/>\n     <use style=\"stroke:#000000;\" x=\"270.957676\" xlink:href=\"#mea3fbb9001\" y=\"79.854083\"/>\n     <use style=\"stroke:#000000;\" x=\"270.957676\" xlink:href=\"#mea3fbb9001\" y=\"151.985917\"/>\n     <use style=\"stroke:#000000;\" x=\"120.132932\" xlink:href=\"#mea3fbb9001\" y=\"37.126602\"/>\n     <use style=\"stroke:#000000;\" x=\"120.132932\" xlink:href=\"#mea3fbb9001\" y=\"194.713398\"/>\n     <use style=\"stroke:#000000;\" x=\"122.159999\" xlink:href=\"#mea3fbb9001\" y=\"35.747766\"/>\n     <use style=\"stroke:#000000;\" x=\"122.159999\" xlink:href=\"#mea3fbb9001\" y=\"196.092234\"/>\n     <use style=\"stroke:#000000;\" x=\"240.355415\" xlink:href=\"#mea3fbb9001\" y=\"37.934709\"/>\n     <use style=\"stroke:#000000;\" x=\"240.355415\" xlink:href=\"#mea3fbb9001\" y=\"193.905291\"/>\n     <use style=\"stroke:#000000;\" x=\"269.149772\" xlink:href=\"#mea3fbb9001\" y=\"75.262854\"/>\n     <use style=\"stroke:#000000;\" x=\"269.149772\" xlink:href=\"#mea3fbb9001\" y=\"156.577146\"/>\n     <use style=\"stroke:#000000;\" x=\"124.695152\" xlink:href=\"#mea3fbb9001\" y=\"33.97272\"/>\n     <use style=\"stroke:#000000;\" x=\"124.695152\" xlink:href=\"#mea3fbb9001\" y=\"197.86728\"/>\n     <use style=\"stroke:#000000;\" x=\"236.998044\" xlink:href=\"#mea3fbb9001\" y=\"35.805013\"/>\n     <use style=\"stroke:#000000;\" x=\"236.998044\" xlink:href=\"#mea3fbb9001\" y=\"196.034987\"/>\n     <use style=\"stroke:#000000;\" x=\"234.464666\" xlink:href=\"#mea3fbb9001\" y=\"34.274817\"/>\n     <use style=\"stroke:#000000;\" x=\"234.464666\" xlink:href=\"#mea3fbb9001\" y=\"197.565183\"/>\n     <use style=\"stroke:#000000;\" x=\"240.240308\" xlink:href=\"#mea3fbb9001\" y=\"42.816167\"/>\n     <use style=\"stroke:#000000;\" x=\"240.240308\" xlink:href=\"#mea3fbb9001\" y=\"189.023833\"/>\n     <use style=\"stroke:#000000;\" x=\"127.370061\" xlink:href=\"#mea3fbb9001\" y=\"31.820976\"/>\n     <use style=\"stroke:#000000;\" x=\"127.370061\" xlink:href=\"#mea3fbb9001\" y=\"200.019024\"/>\n     <use style=\"stroke:#000000;\" x=\"130.478236\" xlink:href=\"#mea3fbb9001\" y=\"30.399694\"/>\n     <use style=\"stroke:#000000;\" x=\"130.478236\" xlink:href=\"#mea3fbb9001\" y=\"201.440306\"/>\n     <use style=\"stroke:#000000;\" x=\"231.704058\" xlink:href=\"#mea3fbb9001\" y=\"32.56443\"/>\n     <use style=\"stroke:#000000;\" x=\"231.704058\" xlink:href=\"#mea3fbb9001\" y=\"199.27557\"/>\n     <use style=\"stroke:#000000;\" x=\"227.725013\" xlink:href=\"#mea3fbb9001\" y=\"30.100027\"/>\n     <use style=\"stroke:#000000;\" x=\"227.725013\" xlink:href=\"#mea3fbb9001\" y=\"201.739973\"/>\n     <use style=\"stroke:#000000;\" x=\"229.230121\" xlink:href=\"#mea3fbb9001\" y=\"31.188236\"/>\n     <use style=\"stroke:#000000;\" x=\"229.230121\" xlink:href=\"#mea3fbb9001\" y=\"200.651764\"/>\n     <use style=\"stroke:#000000;\" x=\"224.797632\" xlink:href=\"#mea3fbb9001\" y=\"28.405538\"/>\n     <use style=\"stroke:#000000;\" x=\"224.797632\" xlink:href=\"#mea3fbb9001\" y=\"203.434462\"/>\n     <use style=\"stroke:#000000;\" x=\"132.881535\" xlink:href=\"#mea3fbb9001\" y=\"29.112608\"/>\n     <use style=\"stroke:#000000;\" x=\"132.881535\" xlink:href=\"#mea3fbb9001\" y=\"202.727392\"/>\n     <use style=\"stroke:#000000;\" x=\"136.186606\" xlink:href=\"#mea3fbb9001\" y=\"27.713688\"/>\n     <use style=\"stroke:#000000;\" x=\"136.186606\" xlink:href=\"#mea3fbb9001\" y=\"204.126312\"/>\n     <use style=\"stroke:#000000;\" x=\"137.975911\" xlink:href=\"#mea3fbb9001\" y=\"26.981568\"/>\n     <use style=\"stroke:#000000;\" x=\"137.975911\" xlink:href=\"#mea3fbb9001\" y=\"204.858432\"/>\n     <use style=\"stroke:#000000;\" x=\"221.483382\" xlink:href=\"#mea3fbb9001\" y=\"26.970535\"/>\n     <use style=\"stroke:#000000;\" x=\"221.483382\" xlink:href=\"#mea3fbb9001\" y=\"204.869465\"/>\n     <use style=\"stroke:#000000;\" x=\"218.875724\" xlink:href=\"#mea3fbb9001\" y=\"25.894975\"/>\n     <use style=\"stroke:#000000;\" x=\"218.875724\" xlink:href=\"#mea3fbb9001\" y=\"205.945025\"/>\n     <use style=\"stroke:#000000;\" x=\"215.861822\" xlink:href=\"#mea3fbb9001\" y=\"24.133044\"/>\n     <use style=\"stroke:#000000;\" x=\"215.861822\" xlink:href=\"#mea3fbb9001\" y=\"207.706956\"/>\n     <use style=\"stroke:#000000;\" x=\"141.337929\" xlink:href=\"#mea3fbb9001\" y=\"25.353702\"/>\n     <use style=\"stroke:#000000;\" x=\"141.337929\" xlink:href=\"#mea3fbb9001\" y=\"206.486298\"/>\n     <use style=\"stroke:#000000;\" x=\"143.401863\" xlink:href=\"#mea3fbb9001\" y=\"24.404152\"/>\n     <use style=\"stroke:#000000;\" x=\"143.401863\" xlink:href=\"#mea3fbb9001\" y=\"207.435848\"/>\n     <use style=\"stroke:#000000;\" x=\"147.004178\" xlink:href=\"#mea3fbb9001\" y=\"22.641307\"/>\n     <use style=\"stroke:#000000;\" x=\"147.004178\" xlink:href=\"#mea3fbb9001\" y=\"209.198693\"/>\n     <use style=\"stroke:#000000;\" x=\"210.977592\" xlink:href=\"#mea3fbb9001\" y=\"22.903723\"/>\n     <use style=\"stroke:#000000;\" x=\"210.977592\" xlink:href=\"#mea3fbb9001\" y=\"208.936277\"/>\n     <use style=\"stroke:#000000;\" x=\"207.600431\" xlink:href=\"#mea3fbb9001\" y=\"21.021035\"/>\n     <use style=\"stroke:#000000;\" x=\"207.600431\" xlink:href=\"#mea3fbb9001\" y=\"210.818965\"/>\n     <use style=\"stroke:#000000;\" x=\"212.705794\" xlink:href=\"#mea3fbb9001\" y=\"24.024341\"/>\n     <use style=\"stroke:#000000;\" x=\"212.705794\" xlink:href=\"#mea3fbb9001\" y=\"207.815659\"/>\n     <use style=\"stroke:#000000;\" x=\"202.420011\" xlink:href=\"#mea3fbb9001\" y=\"20.211324\"/>\n     <use style=\"stroke:#000000;\" x=\"202.420011\" xlink:href=\"#mea3fbb9001\" y=\"211.628676\"/>\n     <use style=\"stroke:#000000;\" x=\"160.606928\" xlink:href=\"#mea3fbb9001\" y=\"19.01025\"/>\n     <use style=\"stroke:#000000;\" x=\"160.606928\" xlink:href=\"#mea3fbb9001\" y=\"212.82975\"/>\n     <use style=\"stroke:#000000;\" x=\"164.255244\" xlink:href=\"#mea3fbb9001\" y=\"18.27277\"/>\n     <use style=\"stroke:#000000;\" x=\"164.255244\" xlink:href=\"#mea3fbb9001\" y=\"213.56723\"/>\n     <use style=\"stroke:#000000;\" x=\"166.97333\" xlink:href=\"#mea3fbb9001\" y=\"18.377245\"/>\n     <use style=\"stroke:#000000;\" x=\"166.97333\" xlink:href=\"#mea3fbb9001\" y=\"213.462755\"/>\n     <use style=\"stroke:#000000;\" x=\"169.713809\" xlink:href=\"#mea3fbb9001\" y=\"17.581356\"/>\n     <use style=\"stroke:#000000;\" x=\"169.713809\" xlink:href=\"#mea3fbb9001\" y=\"214.258644\"/>\n     <use style=\"stroke:#000000;\" x=\"198.631239\" xlink:href=\"#mea3fbb9001\" y=\"19.063534\"/>\n     <use style=\"stroke:#000000;\" x=\"198.631239\" xlink:href=\"#mea3fbb9001\" y=\"212.776466\"/>\n     <use style=\"stroke:#000000;\" x=\"190.778804\" xlink:href=\"#mea3fbb9001\" y=\"17.816511\"/>\n     <use style=\"stroke:#000000;\" x=\"190.778804\" xlink:href=\"#mea3fbb9001\" y=\"214.023489\"/>\n     <use style=\"stroke:#000000;\" x=\"187.524767\" xlink:href=\"#mea3fbb9001\" y=\"17.521939\"/>\n     <use style=\"stroke:#000000;\" x=\"187.524767\" xlink:href=\"#mea3fbb9001\" y=\"214.318061\"/>\n     <use style=\"stroke:#000000;\" x=\"157.350835\" xlink:href=\"#mea3fbb9001\" y=\"19.746657\"/>\n     <use style=\"stroke:#000000;\" x=\"157.350835\" xlink:href=\"#mea3fbb9001\" y=\"212.093343\"/>\n     <use style=\"stroke:#000000;\" x=\"149.15883\" xlink:href=\"#mea3fbb9001\" y=\"22.647716\"/>\n     <use style=\"stroke:#000000;\" x=\"149.15883\" xlink:href=\"#mea3fbb9001\" y=\"209.192284\"/>\n     <use style=\"stroke:#000000;\" x=\"184.089297\" xlink:href=\"#mea3fbb9001\" y=\"17.083636\"/>\n     <use style=\"stroke:#000000;\" x=\"184.089297\" xlink:href=\"#mea3fbb9001\" y=\"214.756364\"/>\n     <use style=\"stroke:#000000;\" x=\"205.226688\" xlink:href=\"#mea3fbb9001\" y=\"21.696416\"/>\n     <use style=\"stroke:#000000;\" x=\"205.226688\" xlink:href=\"#mea3fbb9001\" y=\"210.143584\"/>\n     <use style=\"stroke:#000000;\" x=\"173.182954\" xlink:href=\"#mea3fbb9001\" y=\"18.237872\"/>\n     <use style=\"stroke:#000000;\" x=\"173.182954\" xlink:href=\"#mea3fbb9001\" y=\"213.602128\"/>\n     <use style=\"stroke:#000000;\" x=\"194.097292\" xlink:href=\"#mea3fbb9001\" y=\"18.801271\"/>\n     <use style=\"stroke:#000000;\" x=\"194.097292\" xlink:href=\"#mea3fbb9001\" y=\"213.038729\"/>\n     <use style=\"stroke:#000000;\" x=\"269.528493\" xlink:href=\"#mea3fbb9001\" y=\"77.549126\"/>\n     <use style=\"stroke:#000000;\" x=\"269.528493\" xlink:href=\"#mea3fbb9001\" y=\"154.290874\"/>\n     <use style=\"stroke:#000000;\" x=\"152.764029\" xlink:href=\"#mea3fbb9001\" y=\"21.474345\"/>\n     <use style=\"stroke:#000000;\" x=\"152.764029\" xlink:href=\"#mea3fbb9001\" y=\"210.365655\"/>\n     <use style=\"stroke:#000000;\" x=\"154.39834\" xlink:href=\"#mea3fbb9001\" y=\"21.306721\"/>\n     <use style=\"stroke:#000000;\" x=\"154.39834\" xlink:href=\"#mea3fbb9001\" y=\"210.533279\"/>\n     <use style=\"stroke:#000000;\" x=\"175.393907\" xlink:href=\"#mea3fbb9001\" y=\"17.743154\"/>\n     <use style=\"stroke:#000000;\" x=\"175.393907\" xlink:href=\"#mea3fbb9001\" y=\"214.096846\"/>\n     <use style=\"stroke:#000000;\" x=\"180.439266\" xlink:href=\"#mea3fbb9001\" y=\"18.088994\"/>\n     <use style=\"stroke:#000000;\" x=\"180.439266\" xlink:href=\"#mea3fbb9001\" y=\"213.751006\"/>\n     <use style=\"stroke:#000000;\" x=\"179.560356\" xlink:href=\"#mea3fbb9001\" y=\"18.558107\"/>\n     <use style=\"stroke:#000000;\" x=\"179.560356\" xlink:href=\"#mea3fbb9001\" y=\"213.281893\"/>\n     <use style=\"stroke:#000000;\" x=\"196.000843\" xlink:href=\"#mea3fbb9001\" y=\"20.401186\"/>\n     <use style=\"stroke:#000000;\" x=\"196.000843\" xlink:href=\"#mea3fbb9001\" y=\"211.438814\"/>\n     <use style=\"stroke:#000000;\" x=\"93.866935\" xlink:href=\"#mea3fbb9001\" y=\"74.443024\"/>\n     <use style=\"stroke:#000000;\" x=\"93.866935\" xlink:href=\"#mea3fbb9001\" y=\"157.396976\"/>\n     <use style=\"stroke:#000000;\" x=\"98.076433\" xlink:href=\"#mea3fbb9001\" y=\"82.891808\"/>\n     <use style=\"stroke:#000000;\" x=\"98.076433\" xlink:href=\"#mea3fbb9001\" y=\"148.948192\"/>\n     <use style=\"stroke:#000000;\" x=\"269.911046\" xlink:href=\"#mea3fbb9001\" y=\"102.688008\"/>\n     <use style=\"stroke:#000000;\" x=\"269.911046\" xlink:href=\"#mea3fbb9001\" y=\"129.151992\"/>\n     <use style=\"stroke:#000000;\" x=\"150.708383\" xlink:href=\"#mea3fbb9001\" y=\"115.92\"/>\n    </g>\n   </g>\n   <g id=\"line2d_16\">\n    <defs>\n     <path d=\"M 0 1.5 \nC 0.397805 1.5 0.77937 1.341951 1.06066 1.06066 \nC 1.341951 0.77937 1.5 0.397805 1.5 0 \nC 1.5 -0.397805 1.341951 -0.77937 1.06066 -1.06066 \nC 0.77937 -1.341951 0.397805 -1.5 0 -1.5 \nC -0.397805 -1.5 -0.77937 -1.341951 -1.06066 -1.06066 \nC -1.341951 -0.77937 -1.5 -0.397805 -1.5 0 \nC -1.5 0.397805 -1.341951 0.77937 -1.06066 1.06066 \nC -0.77937 1.341951 -0.397805 1.5 0 1.5 \nz\n\" id=\"mbdd2364361\" style=\"stroke:#ff0000;\"/>\n    </defs>\n    <g clip-path=\"url(#pef933a886c)\">\n     <use style=\"fill:#ff0000;stroke:#ff0000;\" x=\"179.722136\" xlink:href=\"#mbdd2364361\" y=\"115.92\"/>\n     <use style=\"fill:#ff0000;stroke:#ff0000;\" x=\"97.904563\" xlink:href=\"#mbdd2364361\" y=\"24.866856\"/>\n     <use style=\"fill:#ff0000;stroke:#ff0000;\" x=\"97.904563\" xlink:href=\"#mbdd2364361\" y=\"206.973144\"/>\n     <use style=\"fill:#ff0000;stroke:#ff0000;\" x=\"63.955163\" xlink:href=\"#mbdd2364361\" y=\"103.031431\"/>\n     <use style=\"fill:#ff0000;stroke:#ff0000;\" x=\"63.955163\" xlink:href=\"#mbdd2364361\" y=\"128.808569\"/>\n     <use style=\"fill:#ff0000;stroke:#ff0000;\" x=\"75.908719\" xlink:href=\"#mbdd2364361\" y=\"73.947875\"/>\n     <use style=\"fill:#ff0000;stroke:#ff0000;\" x=\"75.908719\" xlink:href=\"#mbdd2364361\" y=\"157.892125\"/>\n     <use style=\"fill:#ff0000;stroke:#ff0000;\" x=\"94.780407\" xlink:href=\"#mbdd2364361\" y=\"55.408833\"/>\n     <use style=\"fill:#ff0000;stroke:#ff0000;\" x=\"94.780407\" xlink:href=\"#mbdd2364361\" y=\"176.431167\"/>\n     <use style=\"fill:#ff0000;stroke:#ff0000;\" x=\"144.909221\" xlink:href=\"#mbdd2364361\" y=\"21.280209\"/>\n     <use style=\"fill:#ff0000;stroke:#ff0000;\" x=\"144.909221\" xlink:href=\"#mbdd2364361\" y=\"210.559791\"/>\n     <use style=\"fill:#ff0000;stroke:#ff0000;\" x=\"265.712711\" xlink:href=\"#mbdd2364361\" y=\"33.957365\"/>\n     <use style=\"fill:#ff0000;stroke:#ff0000;\" x=\"265.712711\" xlink:href=\"#mbdd2364361\" y=\"197.882635\"/>\n     <use style=\"fill:#ff0000;stroke:#ff0000;\" x=\"292.741722\" xlink:href=\"#mbdd2364361\" y=\"103.341046\"/>\n     <use style=\"fill:#ff0000;stroke:#ff0000;\" x=\"292.741722\" xlink:href=\"#mbdd2364361\" y=\"128.498954\"/>\n     <use style=\"fill:#ff0000;stroke:#ff0000;\" x=\"283.203004\" xlink:href=\"#mbdd2364361\" y=\"68.7918\"/>\n     <use style=\"fill:#ff0000;stroke:#ff0000;\" x=\"283.203004\" xlink:href=\"#mbdd2364361\" y=\"163.0482\"/>\n     <use style=\"fill:#ff0000;stroke:#ff0000;\" x=\"248.861933\" xlink:href=\"#mbdd2364361\" y=\"43.505352\"/>\n     <use style=\"fill:#ff0000;stroke:#ff0000;\" x=\"248.861933\" xlink:href=\"#mbdd2364361\" y=\"188.334648\"/>\n     <use style=\"fill:#ff0000;stroke:#ff0000;\" x=\"229.243772\" xlink:href=\"#mbdd2364361\" y=\"85.694087\"/>\n     <use style=\"fill:#ff0000;stroke:#ff0000;\" x=\"229.243772\" xlink:href=\"#mbdd2364361\" y=\"146.145913\"/>\n    </g>\n   </g>\n   <g id=\"patch_4\">\n    <path d=\"M 52.515835 224.64 \nL 52.515835 7.2 \n\" style=\"fill:none;stroke:#000000;stroke-linecap:square;stroke-linejoin:miter;stroke-width:0.8;\"/>\n   </g>\n   <g id=\"patch_5\">\n    <path d=\"M 304.18105 224.64 \nL 304.18105 7.2 \n\" style=\"fill:none;stroke:#000000;stroke-linecap:square;stroke-linejoin:miter;stroke-width:0.8;\"/>\n   </g>\n   <g id=\"patch_6\">\n    <path d=\"M 52.515835 224.64 \nL 304.18105 224.64 \n\" style=\"fill:none;stroke:#000000;stroke-linecap:square;stroke-linejoin:miter;stroke-width:0.8;\"/>\n   </g>\n   <g id=\"patch_7\">\n    <path d=\"M 52.515835 7.2 \nL 304.18105 7.2 \n\" style=\"fill:none;stroke:#000000;stroke-linecap:square;stroke-linejoin:miter;stroke-width:0.8;\"/>\n   </g>\n  </g>\n </g>\n <defs>\n  <clipPath id=\"pef933a886c\">\n   <rect height=\"217.44\" width=\"251.665215\" x=\"52.515835\" y=\"7.2\"/>\n  </clipPath>\n </defs>\n</svg>\n",
      "text/plain": [
       "<Figure size 432x288 with 1 Axes>"
      ]
     },
     "metadata": {
      "needs_background": "light"
     },
     "output_type": "display_data"
    }
   ],
   "source": [
    "re_e = L.real.cpu().numpy()\n",
    "im_e = L.imag.cpu().numpy()\n",
    "re_e_mat = L_mat.real.cpu().numpy()\n",
    "im_e_mat = L_mat.imag.cpu().numpy()\n",
    "\n",
    "figure, axes = plt.subplots()\n",
    "draw_circle = plt.Circle((0, 0), 1,fill=False, lw =0.5)\n",
    "axes.set_aspect(1)\n",
    "axes.add_artist(draw_circle)\n",
    "axes.plot(re_e, im_e, 'k.')\n",
    "axes.plot(re_e_mat, im_e_mat, 'r.')\n",
    "axes.set_xlabel(r'$\\rm{Re}\\, \\lambda$')\n",
    "axes.set_ylabel(r'$\\rm{Im}\\, \\lambda$')"
   ]
  },
  {
   "cell_type": "code",
   "execution_count": null,
   "metadata": {},
   "outputs": [
    {
     "data": {
      "image/svg+xml": "<?xml version=\"1.0\" encoding=\"utf-8\" standalone=\"no\"?>\n<!DOCTYPE svg PUBLIC \"-//W3C//DTD SVG 1.1//EN\"\n  \"http://www.w3.org/Graphics/SVG/1.1/DTD/svg11.dtd\">\n<!-- Created with matplotlib (https://matplotlib.org/) -->\n<svg height=\"248.518125pt\" version=\"1.1\" viewBox=\"0 0 381.65 248.518125\" width=\"381.65pt\" xmlns=\"http://www.w3.org/2000/svg\" xmlns:xlink=\"http://www.w3.org/1999/xlink\">\n <metadata>\n  <rdf:RDF xmlns:cc=\"http://creativecommons.org/ns#\" xmlns:dc=\"http://purl.org/dc/elements/1.1/\" xmlns:rdf=\"http://www.w3.org/1999/02/22-rdf-syntax-ns#\">\n   <cc:Work>\n    <dc:type rdf:resource=\"http://purl.org/dc/dcmitype/StillImage\"/>\n    <dc:date>2021-12-22T12:33:28.597179</dc:date>\n    <dc:format>image/svg+xml</dc:format>\n    <dc:creator>\n     <cc:Agent>\n      <dc:title>Matplotlib v3.3.4, https://matplotlib.org/</dc:title>\n     </cc:Agent>\n    </dc:creator>\n   </cc:Work>\n  </rdf:RDF>\n </metadata>\n <defs>\n  <style type=\"text/css\">*{stroke-linecap:butt;stroke-linejoin:round;}</style>\n </defs>\n <g id=\"figure_1\">\n  <g id=\"patch_1\">\n   <path d=\"M -0 248.518125 \nL 381.65 248.518125 \nL 381.65 0 \nL -0 0 \nz\n\" style=\"fill:none;\"/>\n  </g>\n  <g id=\"axes_1\">\n   <g id=\"patch_2\">\n    <path d=\"M 39.65 224.64 \nL 374.45 224.64 \nL 374.45 7.2 \nL 39.65 7.2 \nz\n\" style=\"fill:#ffffff;\"/>\n   </g>\n   <g id=\"patch_3\">\n    <path clip-path=\"url(#pc72e8902e0)\" d=\"M 54.868182 224.64 \nL 56.39 224.64 \nL 56.39 17.554286 \nL 54.868182 17.554286 \nz\n\" style=\"fill:#1f77b4;\"/>\n   </g>\n   <g id=\"patch_4\">\n    <path clip-path=\"url(#pc72e8902e0)\" d=\"M 56.39 224.64 \nL 57.911818 224.64 \nL 57.911818 58.557633 \nL 56.39 58.557633 \nz\n\" style=\"fill:#1f77b4;\"/>\n   </g>\n   <g id=\"patch_5\">\n    <path clip-path=\"url(#pc72e8902e0)\" d=\"M 57.911818 224.64 \nL 59.433636 224.64 \nL 59.433636 88.463745 \nL 57.911818 88.463745 \nz\n\" style=\"fill:#1f77b4;\"/>\n   </g>\n   <g id=\"patch_6\">\n    <path clip-path=\"url(#pc72e8902e0)\" d=\"M 59.433636 224.64 \nL 60.955455 224.64 \nL 60.955455 118.181767 \nL 59.433636 118.181767 \nz\n\" style=\"fill:#1f77b4;\"/>\n   </g>\n   <g id=\"patch_7\">\n    <path clip-path=\"url(#pc72e8902e0)\" d=\"M 60.955455 224.64 \nL 62.477273 224.64 \nL 62.477273 126.269583 \nL 60.955455 126.269583 \nz\n\" style=\"fill:#1f77b4;\"/>\n   </g>\n   <g id=\"patch_8\">\n    <path clip-path=\"url(#pc72e8902e0)\" d=\"M 62.477273 224.64 \nL 63.999091 224.64 \nL 63.999091 143.38566 \nL 62.477273 143.38566 \nz\n\" style=\"fill:#1f77b4;\"/>\n   </g>\n   <g id=\"patch_9\">\n    <path clip-path=\"url(#pc72e8902e0)\" d=\"M 63.999092 224.64 \nL 65.52091 224.64 \nL 65.52091 147.89979 \nL 63.999092 147.89979 \nz\n\" style=\"fill:#1f77b4;\"/>\n   </g>\n   <g id=\"patch_10\">\n    <path clip-path=\"url(#pc72e8902e0)\" d=\"M 65.52091 224.64 \nL 67.042729 224.64 \nL 67.042729 149.4045 \nL 65.52091 149.4045 \nz\n\" style=\"fill:#1f77b4;\"/>\n   </g>\n   <g id=\"patch_11\">\n    <path clip-path=\"url(#pc72e8902e0)\" d=\"M 67.042728 224.64 \nL 68.564545 224.64 \nL 68.564545 158.43276 \nL 67.042728 158.43276 \nz\n\" style=\"fill:#1f77b4;\"/>\n   </g>\n   <g id=\"patch_12\">\n    <path clip-path=\"url(#pc72e8902e0)\" d=\"M 68.564545 224.64 \nL 70.086363 224.64 \nL 70.086363 164.4516 \nL 68.564545 164.4516 \nz\n\" style=\"fill:#1f77b4;\"/>\n   </g>\n   <g id=\"patch_13\">\n    <path clip-path=\"url(#pc72e8902e0)\" d=\"M 70.086365 224.64 \nL 71.608183 224.64 \nL 71.608183 171.034706 \nL 70.086365 171.034706 \nz\n\" style=\"fill:#1f77b4;\"/>\n   </g>\n   <g id=\"patch_14\">\n    <path clip-path=\"url(#pc72e8902e0)\" d=\"M 71.608182 224.64 \nL 73.13 224.64 \nL 73.13 176.113102 \nL 71.608182 176.113102 \nz\n\" style=\"fill:#1f77b4;\"/>\n   </g>\n   <g id=\"patch_15\">\n    <path clip-path=\"url(#pc72e8902e0)\" d=\"M 73.13 224.64 \nL 74.651818 224.64 \nL 74.651818 180.251055 \nL 73.13 180.251055 \nz\n\" style=\"fill:#1f77b4;\"/>\n   </g>\n   <g id=\"patch_16\">\n    <path clip-path=\"url(#pc72e8902e0)\" d=\"M 74.651819 224.64 \nL 76.173639 224.64 \nL 76.173639 178.746345 \nL 74.651819 178.746345 \nz\n\" style=\"fill:#1f77b4;\"/>\n   </g>\n   <g id=\"patch_17\">\n    <path clip-path=\"url(#pc72e8902e0)\" d=\"M 76.173636 224.64 \nL 77.695454 224.64 \nL 77.695454 183.260475 \nL 76.173636 183.260475 \nz\n\" style=\"fill:#1f77b4;\"/>\n   </g>\n   <g id=\"patch_18\">\n    <path clip-path=\"url(#pc72e8902e0)\" d=\"M 77.695456 224.64 \nL 79.217276 224.64 \nL 79.217276 184.953274 \nL 77.695456 184.953274 \nz\n\" style=\"fill:#1f77b4;\"/>\n   </g>\n   <g id=\"patch_19\">\n    <path clip-path=\"url(#pc72e8902e0)\" d=\"M 79.217273 224.64 \nL 80.739091 224.64 \nL 80.739091 191.912557 \nL 79.217273 191.912557 \nz\n\" style=\"fill:#1f77b4;\"/>\n   </g>\n   <g id=\"patch_20\">\n    <path clip-path=\"url(#pc72e8902e0)\" d=\"M 80.739091 224.64 \nL 82.260908 224.64 \nL 82.260908 189.655492 \nL 80.739091 189.655492 \nz\n\" style=\"fill:#1f77b4;\"/>\n   </g>\n   <g id=\"patch_21\">\n    <path clip-path=\"url(#pc72e8902e0)\" d=\"M 82.260908 224.64 \nL 83.782728 224.64 \nL 83.782728 193.981534 \nL 82.260908 193.981534 \nz\n\" style=\"fill:#1f77b4;\"/>\n   </g>\n   <g id=\"patch_22\">\n    <path clip-path=\"url(#pc72e8902e0)\" d=\"M 83.782728 224.64 \nL 85.304545 224.64 \nL 85.304545 199.436107 \nL 83.782728 199.436107 \nz\n\" style=\"fill:#1f77b4;\"/>\n   </g>\n   <g id=\"patch_23\">\n    <path clip-path=\"url(#pc72e8902e0)\" d=\"M 85.304547 224.64 \nL 86.826367 224.64 \nL 86.826367 196.05051 \nL 85.304547 196.05051 \nz\n\" style=\"fill:#1f77b4;\"/>\n   </g>\n   <g id=\"patch_24\">\n    <path clip-path=\"url(#pc72e8902e0)\" d=\"M 86.826365 224.64 \nL 88.348182 224.64 \nL 88.348182 200.56464 \nL 86.826365 200.56464 \nz\n\" style=\"fill:#1f77b4;\"/>\n   </g>\n   <g id=\"patch_25\">\n    <path clip-path=\"url(#pc72e8902e0)\" d=\"M 88.348182 224.64 \nL 89.869999 224.64 \nL 89.869999 199.248019 \nL 88.348182 199.248019 \nz\n\" style=\"fill:#1f77b4;\"/>\n   </g>\n   <g id=\"patch_26\">\n    <path clip-path=\"url(#pc72e8902e0)\" d=\"M 89.869999 224.64 \nL 91.391819 224.64 \nL 91.391819 196.238599 \nL 89.869999 196.238599 \nz\n\" style=\"fill:#1f77b4;\"/>\n   </g>\n   <g id=\"patch_27\">\n    <path clip-path=\"url(#pc72e8902e0)\" d=\"M 91.391819 224.64 \nL 92.913636 224.64 \nL 92.913636 204.326415 \nL 91.391819 204.326415 \nz\n\" style=\"fill:#1f77b4;\"/>\n   </g>\n   <g id=\"patch_28\">\n    <path clip-path=\"url(#pc72e8902e0)\" d=\"M 92.913636 224.64 \nL 94.435454 224.64 \nL 94.435454 203.950237 \nL 92.913636 203.950237 \nz\n\" style=\"fill:#1f77b4;\"/>\n   </g>\n   <g id=\"patch_29\">\n    <path clip-path=\"url(#pc72e8902e0)\" d=\"M 94.435456 224.64 \nL 95.957278 224.64 \nL 95.957278 208.840545 \nL 94.435456 208.840545 \nz\n\" style=\"fill:#1f77b4;\"/>\n   </g>\n   <g id=\"patch_30\">\n    <path clip-path=\"url(#pc72e8902e0)\" d=\"M 95.957273 224.64 \nL 97.479091 224.64 \nL 97.479091 209.028634 \nL 95.957273 209.028634 \nz\n\" style=\"fill:#1f77b4;\"/>\n   </g>\n   <g id=\"patch_31\">\n    <path clip-path=\"url(#pc72e8902e0)\" d=\"M 97.479091 224.64 \nL 99.000908 224.64 \nL 99.000908 207.523924 \nL 97.479091 207.523924 \nz\n\" style=\"fill:#1f77b4;\"/>\n   </g>\n   <g id=\"patch_32\">\n    <path clip-path=\"url(#pc72e8902e0)\" d=\"M 99.000908 224.64 \nL 100.522725 224.64 \nL 100.522725 209.969077 \nL 99.000908 209.969077 \nz\n\" style=\"fill:#1f77b4;\"/>\n   </g>\n   <g id=\"patch_33\">\n    <path clip-path=\"url(#pc72e8902e0)\" d=\"M 100.52272 224.64 \nL 102.044543 224.64 \nL 102.044543 213.542764 \nL 100.52272 213.542764 \nz\n\" style=\"fill:#1f77b4;\"/>\n   </g>\n   <g id=\"patch_34\">\n    <path clip-path=\"url(#pc72e8902e0)\" d=\"M 102.044548 224.64 \nL 103.566365 224.64 \nL 103.566365 210.157166 \nL 102.044548 210.157166 \nz\n\" style=\"fill:#1f77b4;\"/>\n   </g>\n   <g id=\"patch_35\">\n    <path clip-path=\"url(#pc72e8902e0)\" d=\"M 103.566365 224.64 \nL 105.088182 224.64 \nL 105.088182 211.285699 \nL 103.566365 211.285699 \nz\n\" style=\"fill:#1f77b4;\"/>\n   </g>\n   <g id=\"patch_36\">\n    <path clip-path=\"url(#pc72e8902e0)\" d=\"M 105.088182 224.64 \nL 106.609999 224.64 \nL 106.609999 214.671296 \nL 105.088182 214.671296 \nz\n\" style=\"fill:#1f77b4;\"/>\n   </g>\n   <g id=\"patch_37\">\n    <path clip-path=\"url(#pc72e8902e0)\" d=\"M 106.609999 224.64 \nL 108.131817 224.64 \nL 108.131817 213.918941 \nL 106.609999 213.918941 \nz\n\" style=\"fill:#1f77b4;\"/>\n   </g>\n   <g id=\"patch_38\">\n    <path clip-path=\"url(#pc72e8902e0)\" d=\"M 108.131817 224.64 \nL 109.653634 224.64 \nL 109.653634 215.799829 \nL 108.131817 215.799829 \nz\n\" style=\"fill:#1f77b4;\"/>\n   </g>\n   <g id=\"patch_39\">\n    <path clip-path=\"url(#pc72e8902e0)\" d=\"M 109.653634 224.64 \nL 111.175456 224.64 \nL 111.175456 214.483207 \nL 109.653634 214.483207 \nz\n\" style=\"fill:#1f77b4;\"/>\n   </g>\n   <g id=\"patch_40\">\n    <path clip-path=\"url(#pc72e8902e0)\" d=\"M 111.175456 224.64 \nL 112.697274 224.64 \nL 112.697274 218.056894 \nL 111.175456 218.056894 \nz\n\" style=\"fill:#1f77b4;\"/>\n   </g>\n   <g id=\"patch_41\">\n    <path clip-path=\"url(#pc72e8902e0)\" d=\"M 112.697274 224.64 \nL 114.219091 224.64 \nL 114.219091 217.304539 \nL 112.697274 217.304539 \nz\n\" style=\"fill:#1f77b4;\"/>\n   </g>\n   <g id=\"patch_42\">\n    <path clip-path=\"url(#pc72e8902e0)\" d=\"M 114.219091 224.64 \nL 115.740908 224.64 \nL 115.740908 215.799829 \nL 114.219091 215.799829 \nz\n\" style=\"fill:#1f77b4;\"/>\n   </g>\n   <g id=\"patch_43\">\n    <path clip-path=\"url(#pc72e8902e0)\" d=\"M 115.740908 224.64 \nL 117.262725 224.64 \nL 117.262725 216.364095 \nL 115.740908 216.364095 \nz\n\" style=\"fill:#1f77b4;\"/>\n   </g>\n   <g id=\"patch_44\">\n    <path clip-path=\"url(#pc72e8902e0)\" d=\"M 117.262721 224.64 \nL 118.784543 224.64 \nL 118.784543 216.552184 \nL 117.262721 216.552184 \nz\n\" style=\"fill:#1f77b4;\"/>\n   </g>\n   <g id=\"patch_45\">\n    <path clip-path=\"url(#pc72e8902e0)\" d=\"M 118.784548 224.64 \nL 120.306365 224.64 \nL 120.306365 218.809249 \nL 118.784548 218.809249 \nz\n\" style=\"fill:#1f77b4;\"/>\n   </g>\n   <g id=\"patch_46\">\n    <path clip-path=\"url(#pc72e8902e0)\" d=\"M 120.306365 224.64 \nL 121.828182 224.64 \nL 121.828182 219.561604 \nL 120.306365 219.561604 \nz\n\" style=\"fill:#1f77b4;\"/>\n   </g>\n   <g id=\"patch_47\">\n    <path clip-path=\"url(#pc72e8902e0)\" d=\"M 121.828182 224.64 \nL 123.35 224.64 \nL 123.35 216.176006 \nL 121.828182 216.176006 \nz\n\" style=\"fill:#1f77b4;\"/>\n   </g>\n   <g id=\"patch_48\">\n    <path clip-path=\"url(#pc72e8902e0)\" d=\"M 123.35 224.64 \nL 124.871817 224.64 \nL 124.871817 218.433071 \nL 123.35 218.433071 \nz\n\" style=\"fill:#1f77b4;\"/>\n   </g>\n   <g id=\"patch_49\">\n    <path clip-path=\"url(#pc72e8902e0)\" d=\"M 124.871817 224.64 \nL 126.393634 224.64 \nL 126.393634 217.304539 \nL 124.871817 217.304539 \nz\n\" style=\"fill:#1f77b4;\"/>\n   </g>\n   <g id=\"patch_50\">\n    <path clip-path=\"url(#pc72e8902e0)\" d=\"M 126.393634 224.64 \nL 127.915456 224.64 \nL 127.915456 218.056894 \nL 126.393634 218.056894 \nz\n\" style=\"fill:#1f77b4;\"/>\n   </g>\n   <g id=\"patch_51\">\n    <path clip-path=\"url(#pc72e8902e0)\" d=\"M 127.915456 224.64 \nL 129.437274 224.64 \nL 129.437274 218.056894 \nL 127.915456 218.056894 \nz\n\" style=\"fill:#1f77b4;\"/>\n   </g>\n   <g id=\"patch_52\">\n    <path clip-path=\"url(#pc72e8902e0)\" d=\"M 129.437274 224.64 \nL 130.959091 224.64 \nL 130.959091 220.12587 \nL 129.437274 220.12587 \nz\n\" style=\"fill:#1f77b4;\"/>\n   </g>\n   <g id=\"patch_53\">\n    <path clip-path=\"url(#pc72e8902e0)\" d=\"M 130.959091 224.64 \nL 132.480908 224.64 \nL 132.480908 218.809249 \nL 130.959091 218.809249 \nz\n\" style=\"fill:#1f77b4;\"/>\n   </g>\n   <g id=\"patch_54\">\n    <path clip-path=\"url(#pc72e8902e0)\" d=\"M 132.480908 224.64 \nL 134.002726 224.64 \nL 134.002726 221.254402 \nL 132.480908 221.254402 \nz\n\" style=\"fill:#1f77b4;\"/>\n   </g>\n   <g id=\"patch_55\">\n    <path clip-path=\"url(#pc72e8902e0)\" d=\"M 134.002721 224.64 \nL 135.524543 224.64 \nL 135.524543 220.313959 \nL 134.002721 220.313959 \nz\n\" style=\"fill:#1f77b4;\"/>\n   </g>\n   <g id=\"patch_56\">\n    <path clip-path=\"url(#pc72e8902e0)\" d=\"M 135.524548 224.64 \nL 137.046365 224.64 \nL 137.046365 220.313959 \nL 135.524548 220.313959 \nz\n\" style=\"fill:#1f77b4;\"/>\n   </g>\n   <g id=\"patch_57\">\n    <path clip-path=\"url(#pc72e8902e0)\" d=\"M 137.046375 224.64 \nL 138.568192 224.64 \nL 138.568192 218.433071 \nL 137.046375 218.433071 \nz\n\" style=\"fill:#1f77b4;\"/>\n   </g>\n   <g id=\"patch_58\">\n    <path clip-path=\"url(#pc72e8902e0)\" d=\"M 138.568182 224.64 \nL 140.09 224.64 \nL 140.09 220.502047 \nL 138.568182 220.502047 \nz\n\" style=\"fill:#1f77b4;\"/>\n   </g>\n   <g id=\"patch_59\">\n    <path clip-path=\"url(#pc72e8902e0)\" d=\"M 140.090009 224.64 \nL 141.611827 224.64 \nL 141.611827 220.313959 \nL 140.090009 220.313959 \nz\n\" style=\"fill:#1f77b4;\"/>\n   </g>\n   <g id=\"patch_60\">\n    <path clip-path=\"url(#pc72e8902e0)\" d=\"M 141.611817 224.64 \nL 143.133634 224.64 \nL 143.133634 221.254402 \nL 141.611817 221.254402 \nz\n\" style=\"fill:#1f77b4;\"/>\n   </g>\n   <g id=\"patch_61\">\n    <path clip-path=\"url(#pc72e8902e0)\" d=\"M 143.133644 224.64 \nL 144.655461 224.64 \nL 144.655461 220.690136 \nL 143.133644 220.690136 \nz\n\" style=\"fill:#1f77b4;\"/>\n   </g>\n   <g id=\"patch_62\">\n    <path clip-path=\"url(#pc72e8902e0)\" d=\"M 144.655452 224.64 \nL 146.177269 224.64 \nL 146.177269 219.937781 \nL 144.655452 219.937781 \nz\n\" style=\"fill:#1f77b4;\"/>\n   </g>\n   <g id=\"patch_63\">\n    <path clip-path=\"url(#pc72e8902e0)\" d=\"M 146.177279 224.64 \nL 147.699096 224.64 \nL 147.699096 222.006757 \nL 146.177279 222.006757 \nz\n\" style=\"fill:#1f77b4;\"/>\n   </g>\n   <g id=\"patch_64\">\n    <path clip-path=\"url(#pc72e8902e0)\" d=\"M 147.699086 224.64 \nL 149.220913 224.64 \nL 149.220913 221.442491 \nL 147.699086 221.442491 \nz\n\" style=\"fill:#1f77b4;\"/>\n   </g>\n   <g id=\"patch_65\">\n    <path clip-path=\"url(#pc72e8902e0)\" d=\"M 149.220913 224.64 \nL 150.74273 224.64 \nL 150.74273 220.313959 \nL 149.220913 220.313959 \nz\n\" style=\"fill:#1f77b4;\"/>\n   </g>\n   <g id=\"patch_66\">\n    <path clip-path=\"url(#pc72e8902e0)\" d=\"M 150.74274 224.64 \nL 152.264558 224.64 \nL 152.264558 222.759112 \nL 150.74274 222.759112 \nz\n\" style=\"fill:#1f77b4;\"/>\n   </g>\n   <g id=\"patch_67\">\n    <path clip-path=\"url(#pc72e8902e0)\" d=\"M 152.264548 224.64 \nL 153.786365 224.64 \nL 153.786365 222.382935 \nL 152.264548 222.382935 \nz\n\" style=\"fill:#1f77b4;\"/>\n   </g>\n   <g id=\"patch_68\">\n    <path clip-path=\"url(#pc72e8902e0)\" d=\"M 153.786375 224.64 \nL 155.308192 224.64 \nL 155.308192 220.502047 \nL 153.786375 220.502047 \nz\n\" style=\"fill:#1f77b4;\"/>\n   </g>\n   <g id=\"patch_69\">\n    <path clip-path=\"url(#pc72e8902e0)\" d=\"M 155.308182 224.64 \nL 156.83 224.64 \nL 156.83 221.818669 \nL 155.308182 221.818669 \nz\n\" style=\"fill:#1f77b4;\"/>\n   </g>\n   <g id=\"patch_70\">\n    <path clip-path=\"url(#pc72e8902e0)\" d=\"M 156.830009 224.64 \nL 158.351827 224.64 \nL 158.351827 223.13529 \nL 156.830009 223.13529 \nz\n\" style=\"fill:#1f77b4;\"/>\n   </g>\n   <g id=\"patch_71\">\n    <path clip-path=\"url(#pc72e8902e0)\" d=\"M 158.351817 224.64 \nL 159.873634 224.64 \nL 159.873634 222.006757 \nL 158.351817 222.006757 \nz\n\" style=\"fill:#1f77b4;\"/>\n   </g>\n   <g id=\"patch_72\">\n    <path clip-path=\"url(#pc72e8902e0)\" d=\"M 159.873644 224.64 \nL 161.395461 224.64 \nL 161.395461 223.511467 \nL 159.873644 223.511467 \nz\n\" style=\"fill:#1f77b4;\"/>\n   </g>\n   <g id=\"patch_73\">\n    <path clip-path=\"url(#pc72e8902e0)\" d=\"M 161.395452 224.64 \nL 162.917269 224.64 \nL 162.917269 222.006757 \nL 161.395452 222.006757 \nz\n\" style=\"fill:#1f77b4;\"/>\n   </g>\n   <g id=\"patch_74\">\n    <path clip-path=\"url(#pc72e8902e0)\" d=\"M 162.917279 224.64 \nL 164.439096 224.64 \nL 164.439096 223.699556 \nL 162.917279 223.699556 \nz\n\" style=\"fill:#1f77b4;\"/>\n   </g>\n   <g id=\"patch_75\">\n    <path clip-path=\"url(#pc72e8902e0)\" d=\"M 164.439086 224.64 \nL 165.960913 224.64 \nL 165.960913 222.382935 \nL 164.439086 222.382935 \nz\n\" style=\"fill:#1f77b4;\"/>\n   </g>\n   <g id=\"patch_76\">\n    <path clip-path=\"url(#pc72e8902e0)\" d=\"M 165.960913 224.64 \nL 167.482731 224.64 \nL 167.482731 223.887645 \nL 165.960913 223.887645 \nz\n\" style=\"fill:#1f77b4;\"/>\n   </g>\n   <g id=\"patch_77\">\n    <path clip-path=\"url(#pc72e8902e0)\" d=\"M 167.48274 224.64 \nL 169.004558 224.64 \nL 169.004558 222.194846 \nL 167.48274 222.194846 \nz\n\" style=\"fill:#1f77b4;\"/>\n   </g>\n   <g id=\"patch_78\">\n    <path clip-path=\"url(#pc72e8902e0)\" d=\"M 169.004548 224.64 \nL 170.526365 224.64 \nL 170.526365 223.13529 \nL 169.004548 223.13529 \nz\n\" style=\"fill:#1f77b4;\"/>\n   </g>\n   <g id=\"patch_79\">\n    <path clip-path=\"url(#pc72e8902e0)\" d=\"M 170.526375 224.64 \nL 172.048192 224.64 \nL 172.048192 223.511467 \nL 170.526375 223.511467 \nz\n\" style=\"fill:#1f77b4;\"/>\n   </g>\n   <g id=\"patch_80\">\n    <path clip-path=\"url(#pc72e8902e0)\" d=\"M 172.048183 224.64 \nL 173.57 224.64 \nL 173.57 223.511467 \nL 172.048183 223.511467 \nz\n\" style=\"fill:#1f77b4;\"/>\n   </g>\n   <g id=\"patch_81\">\n    <path clip-path=\"url(#pc72e8902e0)\" d=\"M 173.57001 224.64 \nL 175.091827 224.64 \nL 175.091827 222.947201 \nL 173.57001 222.947201 \nz\n\" style=\"fill:#1f77b4;\"/>\n   </g>\n   <g id=\"patch_82\">\n    <path clip-path=\"url(#pc72e8902e0)\" d=\"M 175.091817 224.64 \nL 176.613634 224.64 \nL 176.613634 222.759112 \nL 175.091817 222.759112 \nz\n\" style=\"fill:#1f77b4;\"/>\n   </g>\n   <g id=\"patch_83\">\n    <path clip-path=\"url(#pc72e8902e0)\" d=\"M 176.613644 224.64 \nL 178.135461 224.64 \nL 178.135461 222.382935 \nL 176.613644 222.382935 \nz\n\" style=\"fill:#1f77b4;\"/>\n   </g>\n   <g id=\"patch_84\">\n    <path clip-path=\"url(#pc72e8902e0)\" d=\"M 178.135452 224.64 \nL 179.657269 224.64 \nL 179.657269 223.887645 \nL 178.135452 223.887645 \nz\n\" style=\"fill:#1f77b4;\"/>\n   </g>\n   <g id=\"patch_85\">\n    <path clip-path=\"url(#pc72e8902e0)\" d=\"M 179.657279 224.64 \nL 181.179096 224.64 \nL 181.179096 222.947201 \nL 179.657279 222.947201 \nz\n\" style=\"fill:#1f77b4;\"/>\n   </g>\n   <g id=\"patch_86\">\n    <path clip-path=\"url(#pc72e8902e0)\" d=\"M 181.179086 224.64 \nL 182.700913 224.64 \nL 182.700913 223.13529 \nL 181.179086 223.13529 \nz\n\" style=\"fill:#1f77b4;\"/>\n   </g>\n   <g id=\"patch_87\">\n    <path clip-path=\"url(#pc72e8902e0)\" d=\"M 182.700913 224.64 \nL 184.222731 224.64 \nL 184.222731 222.759112 \nL 182.700913 222.759112 \nz\n\" style=\"fill:#1f77b4;\"/>\n   </g>\n   <g id=\"patch_88\">\n    <path clip-path=\"url(#pc72e8902e0)\" d=\"M 184.22274 224.64 \nL 185.744558 224.64 \nL 185.744558 223.323379 \nL 184.22274 223.323379 \nz\n\" style=\"fill:#1f77b4;\"/>\n   </g>\n   <g id=\"patch_89\">\n    <path clip-path=\"url(#pc72e8902e0)\" d=\"M 185.744548 224.64 \nL 187.266365 224.64 \nL 187.266365 223.323379 \nL 185.744548 223.323379 \nz\n\" style=\"fill:#1f77b4;\"/>\n   </g>\n   <g id=\"patch_90\">\n    <path clip-path=\"url(#pc72e8902e0)\" d=\"M 187.266375 224.64 \nL 188.788192 224.64 \nL 188.788192 223.887645 \nL 187.266375 223.887645 \nz\n\" style=\"fill:#1f77b4;\"/>\n   </g>\n   <g id=\"patch_91\">\n    <path clip-path=\"url(#pc72e8902e0)\" d=\"M 188.788183 224.64 \nL 190.31 224.64 \nL 190.31 222.759112 \nL 188.788183 222.759112 \nz\n\" style=\"fill:#1f77b4;\"/>\n   </g>\n   <g id=\"patch_92\">\n    <path clip-path=\"url(#pc72e8902e0)\" d=\"M 190.31001 224.64 \nL 191.831827 224.64 \nL 191.831827 224.263822 \nL 190.31001 224.263822 \nz\n\" style=\"fill:#1f77b4;\"/>\n   </g>\n   <g id=\"patch_93\">\n    <path clip-path=\"url(#pc72e8902e0)\" d=\"M 191.831817 224.64 \nL 193.353635 224.64 \nL 193.353635 222.947201 \nL 191.831817 222.947201 \nz\n\" style=\"fill:#1f77b4;\"/>\n   </g>\n   <g id=\"patch_94\">\n    <path clip-path=\"url(#pc72e8902e0)\" d=\"M 193.353644 224.64 \nL 194.875462 224.64 \nL 194.875462 223.511467 \nL 193.353644 223.511467 \nz\n\" style=\"fill:#1f77b4;\"/>\n   </g>\n   <g id=\"patch_95\">\n    <path clip-path=\"url(#pc72e8902e0)\" d=\"M 194.875452 224.64 \nL 196.397269 224.64 \nL 196.397269 224.075734 \nL 194.875452 224.075734 \nz\n\" style=\"fill:#1f77b4;\"/>\n   </g>\n   <g id=\"patch_96\">\n    <path clip-path=\"url(#pc72e8902e0)\" d=\"M 196.397279 224.64 \nL 197.919096 224.64 \nL 197.919096 224.075734 \nL 196.397279 224.075734 \nz\n\" style=\"fill:#1f77b4;\"/>\n   </g>\n   <g id=\"patch_97\">\n    <path clip-path=\"url(#pc72e8902e0)\" d=\"M 197.919086 224.64 \nL 199.440913 224.64 \nL 199.440913 223.887645 \nL 197.919086 223.887645 \nz\n\" style=\"fill:#1f77b4;\"/>\n   </g>\n   <g id=\"patch_98\">\n    <path clip-path=\"url(#pc72e8902e0)\" d=\"M 199.440913 224.64 \nL 200.962731 224.64 \nL 200.962731 223.699556 \nL 199.440913 223.699556 \nz\n\" style=\"fill:#1f77b4;\"/>\n   </g>\n   <g id=\"patch_99\">\n    <path clip-path=\"url(#pc72e8902e0)\" d=\"M 200.962741 224.64 \nL 202.484558 224.64 \nL 202.484558 224.075734 \nL 200.962741 224.075734 \nz\n\" style=\"fill:#1f77b4;\"/>\n   </g>\n   <g id=\"patch_100\">\n    <path clip-path=\"url(#pc72e8902e0)\" d=\"M 202.484548 224.64 \nL 204.006365 224.64 \nL 204.006365 223.511467 \nL 202.484548 223.511467 \nz\n\" style=\"fill:#1f77b4;\"/>\n   </g>\n   <g id=\"patch_101\">\n    <path clip-path=\"url(#pc72e8902e0)\" d=\"M 204.006375 224.64 \nL 205.528192 224.64 \nL 205.528192 223.699556 \nL 204.006375 223.699556 \nz\n\" style=\"fill:#1f77b4;\"/>\n   </g>\n   <g id=\"patch_102\">\n    <path clip-path=\"url(#pc72e8902e0)\" d=\"M 205.528183 224.64 \nL 207.05 224.64 \nL 207.05 224.075734 \nL 205.528183 224.075734 \nz\n\" style=\"fill:#1f77b4;\"/>\n   </g>\n   <g id=\"patch_103\">\n    <path clip-path=\"url(#pc72e8902e0)\" d=\"M 207.05001 224.64 \nL 208.571827 224.64 \nL 208.571827 223.887645 \nL 207.05001 223.887645 \nz\n\" style=\"fill:#1f77b4;\"/>\n   </g>\n   <g id=\"patch_104\">\n    <path clip-path=\"url(#pc72e8902e0)\" d=\"M 208.571817 224.64 \nL 210.093635 224.64 \nL 210.093635 224.075734 \nL 208.571817 224.075734 \nz\n\" style=\"fill:#1f77b4;\"/>\n   </g>\n   <g id=\"patch_105\">\n    <path clip-path=\"url(#pc72e8902e0)\" d=\"M 210.093644 224.64 \nL 211.615462 224.64 \nL 211.615462 223.887645 \nL 210.093644 223.887645 \nz\n\" style=\"fill:#1f77b4;\"/>\n   </g>\n   <g id=\"patch_106\">\n    <path clip-path=\"url(#pc72e8902e0)\" d=\"M 211.615452 224.64 \nL 213.137269 224.64 \nL 213.137269 224.263822 \nL 211.615452 224.263822 \nz\n\" style=\"fill:#1f77b4;\"/>\n   </g>\n   <g id=\"patch_107\">\n    <path clip-path=\"url(#pc72e8902e0)\" d=\"M 213.137279 224.64 \nL 214.659096 224.64 \nL 214.659096 224.075734 \nL 213.137279 224.075734 \nz\n\" style=\"fill:#1f77b4;\"/>\n   </g>\n   <g id=\"patch_108\">\n    <path clip-path=\"url(#pc72e8902e0)\" d=\"M 214.659087 224.64 \nL 216.180914 224.64 \nL 216.180914 224.075734 \nL 214.659087 224.075734 \nz\n\" style=\"fill:#1f77b4;\"/>\n   </g>\n   <g id=\"patch_109\">\n    <path clip-path=\"url(#pc72e8902e0)\" d=\"M 216.180914 224.64 \nL 217.702731 224.64 \nL 217.702731 224.451911 \nL 216.180914 224.451911 \nz\n\" style=\"fill:#1f77b4;\"/>\n   </g>\n   <g id=\"patch_110\">\n    <path clip-path=\"url(#pc72e8902e0)\" d=\"M 217.702741 224.64 \nL 219.224568 224.64 \nL 219.224568 224.263822 \nL 217.702741 224.263822 \nz\n\" style=\"fill:#1f77b4;\"/>\n   </g>\n   <g id=\"patch_111\">\n    <path clip-path=\"url(#pc72e8902e0)\" d=\"M 219.224548 224.64 \nL 220.746356 224.64 \nL 220.746356 224.263822 \nL 219.224548 224.263822 \nz\n\" style=\"fill:#1f77b4;\"/>\n   </g>\n   <g id=\"patch_112\">\n    <path clip-path=\"url(#pc72e8902e0)\" d=\"M 220.746375 224.64 \nL 222.268202 224.64 \nL 222.268202 224.263822 \nL 220.746375 224.263822 \nz\n\" style=\"fill:#1f77b4;\"/>\n   </g>\n   <g id=\"patch_113\">\n    <path clip-path=\"url(#pc72e8902e0)\" d=\"M 222.268183 224.64 \nL 223.78999 224.64 \nL 223.78999 224.64 \nL 222.268183 224.64 \nz\n\" style=\"fill:#1f77b4;\"/>\n   </g>\n   <g id=\"patch_114\">\n    <path clip-path=\"url(#pc72e8902e0)\" d=\"M 223.78999 224.64 \nL 225.311817 224.64 \nL 225.311817 224.263822 \nL 223.78999 224.263822 \nz\n\" style=\"fill:#1f77b4;\"/>\n   </g>\n   <g id=\"patch_115\">\n    <path clip-path=\"url(#pc72e8902e0)\" d=\"M 225.311837 224.64 \nL 226.833664 224.64 \nL 226.833664 224.075734 \nL 225.311837 224.075734 \nz\n\" style=\"fill:#1f77b4;\"/>\n   </g>\n   <g id=\"patch_116\">\n    <path clip-path=\"url(#pc72e8902e0)\" d=\"M 226.833644 224.64 \nL 228.355452 224.64 \nL 228.355452 224.451911 \nL 226.833644 224.451911 \nz\n\" style=\"fill:#1f77b4;\"/>\n   </g>\n   <g id=\"patch_117\">\n    <path clip-path=\"url(#pc72e8902e0)\" d=\"M 228.355452 224.64 \nL 229.877279 224.64 \nL 229.877279 223.511467 \nL 228.355452 223.511467 \nz\n\" style=\"fill:#1f77b4;\"/>\n   </g>\n   <g id=\"patch_118\">\n    <path clip-path=\"url(#pc72e8902e0)\" d=\"M 229.877279 224.64 \nL 231.399087 224.64 \nL 231.399087 224.451911 \nL 229.877279 224.451911 \nz\n\" style=\"fill:#1f77b4;\"/>\n   </g>\n   <g id=\"patch_119\">\n    <path clip-path=\"url(#pc72e8902e0)\" d=\"M 231.399106 224.64 \nL 232.920933 224.64 \nL 232.920933 224.451911 \nL 231.399106 224.451911 \nz\n\" style=\"fill:#1f77b4;\"/>\n   </g>\n   <g id=\"patch_120\">\n    <path clip-path=\"url(#pc72e8902e0)\" d=\"M 232.920914 224.64 \nL 234.442721 224.64 \nL 234.442721 224.451911 \nL 232.920914 224.451911 \nz\n\" style=\"fill:#1f77b4;\"/>\n   </g>\n   <g id=\"patch_121\">\n    <path clip-path=\"url(#pc72e8902e0)\" d=\"M 234.442721 224.64 \nL 235.964548 224.64 \nL 235.964548 224.64 \nL 234.442721 224.64 \nz\n\" style=\"fill:#1f77b4;\"/>\n   </g>\n   <g id=\"patch_122\">\n    <path clip-path=\"url(#pc72e8902e0)\" d=\"M 235.964548 224.64 \nL 237.486356 224.64 \nL 237.486356 224.64 \nL 235.964548 224.64 \nz\n\" style=\"fill:#1f77b4;\"/>\n   </g>\n   <g id=\"patch_123\">\n    <path clip-path=\"url(#pc72e8902e0)\" d=\"M 237.486375 224.64 \nL 239.008202 224.64 \nL 239.008202 224.64 \nL 237.486375 224.64 \nz\n\" style=\"fill:#1f77b4;\"/>\n   </g>\n   <g id=\"patch_124\">\n    <path clip-path=\"url(#pc72e8902e0)\" d=\"M 239.008183 224.64 \nL 240.52999 224.64 \nL 240.52999 224.075734 \nL 239.008183 224.075734 \nz\n\" style=\"fill:#1f77b4;\"/>\n   </g>\n   <g id=\"patch_125\">\n    <path clip-path=\"url(#pc72e8902e0)\" d=\"M 240.52999 224.64 \nL 242.051817 224.64 \nL 242.051817 224.451911 \nL 240.52999 224.451911 \nz\n\" style=\"fill:#1f77b4;\"/>\n   </g>\n   <g id=\"patch_126\">\n    <path clip-path=\"url(#pc72e8902e0)\" d=\"M 242.051837 224.64 \nL 243.573664 224.64 \nL 243.573664 224.451911 \nL 242.051837 224.451911 \nz\n\" style=\"fill:#1f77b4;\"/>\n   </g>\n   <g id=\"patch_127\">\n    <path clip-path=\"url(#pc72e8902e0)\" d=\"M 243.573645 224.64 \nL 245.095452 224.64 \nL 245.095452 224.451911 \nL 243.573645 224.451911 \nz\n\" style=\"fill:#1f77b4;\"/>\n   </g>\n   <g id=\"patch_128\">\n    <path clip-path=\"url(#pc72e8902e0)\" d=\"M 245.095452 224.64 \nL 246.617279 224.64 \nL 246.617279 224.451911 \nL 245.095452 224.451911 \nz\n\" style=\"fill:#1f77b4;\"/>\n   </g>\n   <g id=\"patch_129\">\n    <path clip-path=\"url(#pc72e8902e0)\" d=\"M 246.617279 224.64 \nL 248.139087 224.64 \nL 248.139087 224.451911 \nL 246.617279 224.451911 \nz\n\" style=\"fill:#1f77b4;\"/>\n   </g>\n   <g id=\"patch_130\">\n    <path clip-path=\"url(#pc72e8902e0)\" d=\"M 248.139106 224.64 \nL 249.660933 224.64 \nL 249.660933 224.451911 \nL 248.139106 224.451911 \nz\n\" style=\"fill:#1f77b4;\"/>\n   </g>\n   <g id=\"patch_131\">\n    <path clip-path=\"url(#pc72e8902e0)\" d=\"M 249.660914 224.64 \nL 251.182721 224.64 \nL 251.182721 224.075734 \nL 249.660914 224.075734 \nz\n\" style=\"fill:#1f77b4;\"/>\n   </g>\n   <g id=\"patch_132\">\n    <path clip-path=\"url(#pc72e8902e0)\" d=\"M 251.182721 224.64 \nL 252.704548 224.64 \nL 252.704548 224.263822 \nL 251.182721 224.263822 \nz\n\" style=\"fill:#1f77b4;\"/>\n   </g>\n   <g id=\"patch_133\">\n    <path clip-path=\"url(#pc72e8902e0)\" d=\"M 252.704548 224.64 \nL 254.226356 224.64 \nL 254.226356 224.451911 \nL 252.704548 224.451911 \nz\n\" style=\"fill:#1f77b4;\"/>\n   </g>\n   <g id=\"patch_134\">\n    <path clip-path=\"url(#pc72e8902e0)\" d=\"M 254.226375 224.64 \nL 255.748203 224.64 \nL 255.748203 224.451911 \nL 254.226375 224.451911 \nz\n\" style=\"fill:#1f77b4;\"/>\n   </g>\n   <g id=\"patch_135\">\n    <path clip-path=\"url(#pc72e8902e0)\" d=\"M 255.748183 224.64 \nL 257.269991 224.64 \nL 257.269991 224.64 \nL 255.748183 224.64 \nz\n\" style=\"fill:#1f77b4;\"/>\n   </g>\n   <g id=\"patch_136\">\n    <path clip-path=\"url(#pc72e8902e0)\" d=\"M 257.269991 224.64 \nL 258.791818 224.64 \nL 258.791818 224.64 \nL 257.269991 224.64 \nz\n\" style=\"fill:#1f77b4;\"/>\n   </g>\n   <g id=\"patch_137\">\n    <path clip-path=\"url(#pc72e8902e0)\" d=\"M 258.791837 224.64 \nL 260.313664 224.64 \nL 260.313664 224.64 \nL 258.791837 224.64 \nz\n\" style=\"fill:#1f77b4;\"/>\n   </g>\n   <g id=\"patch_138\">\n    <path clip-path=\"url(#pc72e8902e0)\" d=\"M 260.313645 224.64 \nL 261.835452 224.64 \nL 261.835452 224.64 \nL 260.313645 224.64 \nz\n\" style=\"fill:#1f77b4;\"/>\n   </g>\n   <g id=\"patch_139\">\n    <path clip-path=\"url(#pc72e8902e0)\" d=\"M 261.835452 224.64 \nL 263.357279 224.64 \nL 263.357279 224.451911 \nL 261.835452 224.451911 \nz\n\" style=\"fill:#1f77b4;\"/>\n   </g>\n   <g id=\"patch_140\">\n    <path clip-path=\"url(#pc72e8902e0)\" d=\"M 263.357279 224.64 \nL 264.879087 224.64 \nL 264.879087 224.451911 \nL 263.357279 224.451911 \nz\n\" style=\"fill:#1f77b4;\"/>\n   </g>\n   <g id=\"patch_141\">\n    <path clip-path=\"url(#pc72e8902e0)\" d=\"M 264.879106 224.64 \nL 266.400933 224.64 \nL 266.400933 224.451911 \nL 264.879106 224.451911 \nz\n\" style=\"fill:#1f77b4;\"/>\n   </g>\n   <g id=\"patch_142\">\n    <path clip-path=\"url(#pc72e8902e0)\" d=\"M 266.400914 224.64 \nL 267.922721 224.64 \nL 267.922721 224.64 \nL 266.400914 224.64 \nz\n\" style=\"fill:#1f77b4;\"/>\n   </g>\n   <g id=\"patch_143\">\n    <path clip-path=\"url(#pc72e8902e0)\" d=\"M 267.922721 224.64 \nL 269.444548 224.64 \nL 269.444548 224.64 \nL 267.922721 224.64 \nz\n\" style=\"fill:#1f77b4;\"/>\n   </g>\n   <g id=\"patch_144\">\n    <path clip-path=\"url(#pc72e8902e0)\" d=\"M 269.444548 224.64 \nL 270.966356 224.64 \nL 270.966356 224.451911 \nL 269.444548 224.451911 \nz\n\" style=\"fill:#1f77b4;\"/>\n   </g>\n   <g id=\"patch_145\">\n    <path clip-path=\"url(#pc72e8902e0)\" d=\"M 270.966376 224.64 \nL 272.488203 224.64 \nL 272.488203 224.263822 \nL 270.966376 224.263822 \nz\n\" style=\"fill:#1f77b4;\"/>\n   </g>\n   <g id=\"patch_146\">\n    <path clip-path=\"url(#pc72e8902e0)\" d=\"M 272.488183 224.64 \nL 274.009991 224.64 \nL 274.009991 224.451911 \nL 272.488183 224.451911 \nz\n\" style=\"fill:#1f77b4;\"/>\n   </g>\n   <g id=\"patch_147\">\n    <path clip-path=\"url(#pc72e8902e0)\" d=\"M 274.009991 224.64 \nL 275.531818 224.64 \nL 275.531818 224.64 \nL 274.009991 224.64 \nz\n\" style=\"fill:#1f77b4;\"/>\n   </g>\n   <g id=\"patch_148\">\n    <path clip-path=\"url(#pc72e8902e0)\" d=\"M 275.531837 224.64 \nL 277.053664 224.64 \nL 277.053664 224.64 \nL 275.531837 224.64 \nz\n\" style=\"fill:#1f77b4;\"/>\n   </g>\n   <g id=\"patch_149\">\n    <path clip-path=\"url(#pc72e8902e0)\" d=\"M 277.053645 224.64 \nL 278.575452 224.64 \nL 278.575452 224.64 \nL 277.053645 224.64 \nz\n\" style=\"fill:#1f77b4;\"/>\n   </g>\n   <g id=\"patch_150\">\n    <path clip-path=\"url(#pc72e8902e0)\" d=\"M 278.575452 224.64 \nL 280.097279 224.64 \nL 280.097279 224.263822 \nL 278.575452 224.263822 \nz\n\" style=\"fill:#1f77b4;\"/>\n   </g>\n   <g id=\"patch_151\">\n    <path clip-path=\"url(#pc72e8902e0)\" d=\"M 280.097279 224.64 \nL 281.619087 224.64 \nL 281.619087 224.64 \nL 280.097279 224.64 \nz\n\" style=\"fill:#1f77b4;\"/>\n   </g>\n   <g id=\"patch_152\">\n    <path clip-path=\"url(#pc72e8902e0)\" d=\"M 281.619106 224.64 \nL 283.140934 224.64 \nL 283.140934 224.451911 \nL 281.619106 224.451911 \nz\n\" style=\"fill:#1f77b4;\"/>\n   </g>\n   <g id=\"patch_153\">\n    <path clip-path=\"url(#pc72e8902e0)\" d=\"M 283.140914 224.64 \nL 284.662722 224.64 \nL 284.662722 224.64 \nL 283.140914 224.64 \nz\n\" style=\"fill:#1f77b4;\"/>\n   </g>\n   <g id=\"patch_154\">\n    <path clip-path=\"url(#pc72e8902e0)\" d=\"M 284.662722 224.64 \nL 286.184549 224.64 \nL 286.184549 224.64 \nL 284.662722 224.64 \nz\n\" style=\"fill:#1f77b4;\"/>\n   </g>\n   <g id=\"patch_155\">\n    <path clip-path=\"url(#pc72e8902e0)\" d=\"M 286.184549 224.64 \nL 287.706356 224.64 \nL 287.706356 224.451911 \nL 286.184549 224.451911 \nz\n\" style=\"fill:#1f77b4;\"/>\n   </g>\n   <g id=\"patch_156\">\n    <path clip-path=\"url(#pc72e8902e0)\" d=\"M 287.706376 224.64 \nL 289.228203 224.64 \nL 289.228203 224.451911 \nL 287.706376 224.451911 \nz\n\" style=\"fill:#1f77b4;\"/>\n   </g>\n   <g id=\"patch_157\">\n    <path clip-path=\"url(#pc72e8902e0)\" d=\"M 289.228183 224.64 \nL 290.749991 224.64 \nL 290.749991 224.64 \nL 289.228183 224.64 \nz\n\" style=\"fill:#1f77b4;\"/>\n   </g>\n   <g id=\"patch_158\">\n    <path clip-path=\"url(#pc72e8902e0)\" d=\"M 290.749991 224.64 \nL 292.271818 224.64 \nL 292.271818 224.64 \nL 290.749991 224.64 \nz\n\" style=\"fill:#1f77b4;\"/>\n   </g>\n   <g id=\"patch_159\">\n    <path clip-path=\"url(#pc72e8902e0)\" d=\"M 292.271837 224.64 \nL 293.793664 224.64 \nL 293.793664 224.451911 \nL 292.271837 224.451911 \nz\n\" style=\"fill:#1f77b4;\"/>\n   </g>\n   <g id=\"patch_160\">\n    <path clip-path=\"url(#pc72e8902e0)\" d=\"M 293.793645 224.64 \nL 295.315452 224.64 \nL 295.315452 224.64 \nL 293.793645 224.64 \nz\n\" style=\"fill:#1f77b4;\"/>\n   </g>\n   <g id=\"patch_161\">\n    <path clip-path=\"url(#pc72e8902e0)\" d=\"M 295.315452 224.64 \nL 296.837279 224.64 \nL 296.837279 224.64 \nL 295.315452 224.64 \nz\n\" style=\"fill:#1f77b4;\"/>\n   </g>\n   <g id=\"patch_162\">\n    <path clip-path=\"url(#pc72e8902e0)\" d=\"M 296.837279 224.64 \nL 298.359087 224.64 \nL 298.359087 224.64 \nL 296.837279 224.64 \nz\n\" style=\"fill:#1f77b4;\"/>\n   </g>\n   <g id=\"patch_163\">\n    <path clip-path=\"url(#pc72e8902e0)\" d=\"M 298.359107 224.64 \nL 299.880934 224.64 \nL 299.880934 224.64 \nL 298.359107 224.64 \nz\n\" style=\"fill:#1f77b4;\"/>\n   </g>\n   <g id=\"patch_164\">\n    <path clip-path=\"url(#pc72e8902e0)\" d=\"M 299.880914 224.64 \nL 301.402722 224.64 \nL 301.402722 224.451911 \nL 299.880914 224.451911 \nz\n\" style=\"fill:#1f77b4;\"/>\n   </g>\n   <g id=\"patch_165\">\n    <path clip-path=\"url(#pc72e8902e0)\" d=\"M 301.402722 224.64 \nL 302.924549 224.64 \nL 302.924549 224.451911 \nL 301.402722 224.451911 \nz\n\" style=\"fill:#1f77b4;\"/>\n   </g>\n   <g id=\"patch_166\">\n    <path clip-path=\"url(#pc72e8902e0)\" d=\"M 302.924549 224.64 \nL 304.446356 224.64 \nL 304.446356 224.64 \nL 302.924549 224.64 \nz\n\" style=\"fill:#1f77b4;\"/>\n   </g>\n   <g id=\"patch_167\">\n    <path clip-path=\"url(#pc72e8902e0)\" d=\"M 304.446376 224.64 \nL 305.968203 224.64 \nL 305.968203 224.64 \nL 304.446376 224.64 \nz\n\" style=\"fill:#1f77b4;\"/>\n   </g>\n   <g id=\"patch_168\">\n    <path clip-path=\"url(#pc72e8902e0)\" d=\"M 305.968183 224.64 \nL 307.489991 224.64 \nL 307.489991 224.64 \nL 305.968183 224.64 \nz\n\" style=\"fill:#1f77b4;\"/>\n   </g>\n   <g id=\"patch_169\">\n    <path clip-path=\"url(#pc72e8902e0)\" d=\"M 307.489991 224.64 \nL 309.011818 224.64 \nL 309.011818 224.64 \nL 307.489991 224.64 \nz\n\" style=\"fill:#1f77b4;\"/>\n   </g>\n   <g id=\"patch_170\">\n    <path clip-path=\"url(#pc72e8902e0)\" d=\"M 309.011837 224.64 \nL 310.533665 224.64 \nL 310.533665 224.64 \nL 309.011837 224.64 \nz\n\" style=\"fill:#1f77b4;\"/>\n   </g>\n   <g id=\"patch_171\">\n    <path clip-path=\"url(#pc72e8902e0)\" d=\"M 310.533645 224.64 \nL 312.055452 224.64 \nL 312.055452 224.64 \nL 310.533645 224.64 \nz\n\" style=\"fill:#1f77b4;\"/>\n   </g>\n   <g id=\"patch_172\">\n    <path clip-path=\"url(#pc72e8902e0)\" d=\"M 312.055452 224.64 \nL 313.57728 224.64 \nL 313.57728 224.64 \nL 312.055452 224.64 \nz\n\" style=\"fill:#1f77b4;\"/>\n   </g>\n   <g id=\"patch_173\">\n    <path clip-path=\"url(#pc72e8902e0)\" d=\"M 313.57728 224.64 \nL 315.099087 224.64 \nL 315.099087 224.64 \nL 313.57728 224.64 \nz\n\" style=\"fill:#1f77b4;\"/>\n   </g>\n   <g id=\"patch_174\">\n    <path clip-path=\"url(#pc72e8902e0)\" d=\"M 315.099107 224.64 \nL 316.620934 224.64 \nL 316.620934 224.64 \nL 315.099107 224.64 \nz\n\" style=\"fill:#1f77b4;\"/>\n   </g>\n   <g id=\"patch_175\">\n    <path clip-path=\"url(#pc72e8902e0)\" d=\"M 316.620914 224.64 \nL 318.142722 224.64 \nL 318.142722 224.64 \nL 316.620914 224.64 \nz\n\" style=\"fill:#1f77b4;\"/>\n   </g>\n   <g id=\"patch_176\">\n    <path clip-path=\"url(#pc72e8902e0)\" d=\"M 318.142722 224.64 \nL 319.664549 224.64 \nL 319.664549 224.64 \nL 318.142722 224.64 \nz\n\" style=\"fill:#1f77b4;\"/>\n   </g>\n   <g id=\"patch_177\">\n    <path clip-path=\"url(#pc72e8902e0)\" d=\"M 319.664549 224.64 \nL 321.186356 224.64 \nL 321.186356 224.451911 \nL 319.664549 224.451911 \nz\n\" style=\"fill:#1f77b4;\"/>\n   </g>\n   <g id=\"patch_178\">\n    <path clip-path=\"url(#pc72e8902e0)\" d=\"M 321.186376 224.64 \nL 322.708203 224.64 \nL 322.708203 224.64 \nL 321.186376 224.64 \nz\n\" style=\"fill:#1f77b4;\"/>\n   </g>\n   <g id=\"patch_179\">\n    <path clip-path=\"url(#pc72e8902e0)\" d=\"M 322.708183 224.64 \nL 324.229991 224.64 \nL 324.229991 224.64 \nL 322.708183 224.64 \nz\n\" style=\"fill:#1f77b4;\"/>\n   </g>\n   <g id=\"patch_180\">\n    <path clip-path=\"url(#pc72e8902e0)\" d=\"M 324.229991 224.64 \nL 325.751818 224.64 \nL 325.751818 224.64 \nL 324.229991 224.64 \nz\n\" style=\"fill:#1f77b4;\"/>\n   </g>\n   <g id=\"patch_181\">\n    <path clip-path=\"url(#pc72e8902e0)\" d=\"M 325.751838 224.64 \nL 327.273665 224.64 \nL 327.273665 224.64 \nL 325.751838 224.64 \nz\n\" style=\"fill:#1f77b4;\"/>\n   </g>\n   <g id=\"patch_182\">\n    <path clip-path=\"url(#pc72e8902e0)\" d=\"M 327.273645 224.64 \nL 328.795453 224.64 \nL 328.795453 224.451911 \nL 327.273645 224.451911 \nz\n\" style=\"fill:#1f77b4;\"/>\n   </g>\n   <g id=\"patch_183\">\n    <path clip-path=\"url(#pc72e8902e0)\" d=\"M 328.795453 224.64 \nL 330.31728 224.64 \nL 330.31728 224.64 \nL 328.795453 224.64 \nz\n\" style=\"fill:#1f77b4;\"/>\n   </g>\n   <g id=\"patch_184\">\n    <path clip-path=\"url(#pc72e8902e0)\" d=\"M 330.31728 224.64 \nL 331.839087 224.64 \nL 331.839087 224.64 \nL 330.31728 224.64 \nz\n\" style=\"fill:#1f77b4;\"/>\n   </g>\n   <g id=\"patch_185\">\n    <path clip-path=\"url(#pc72e8902e0)\" d=\"M 331.839107 224.64 \nL 333.360934 224.64 \nL 333.360934 224.64 \nL 331.839107 224.64 \nz\n\" style=\"fill:#1f77b4;\"/>\n   </g>\n   <g id=\"patch_186\">\n    <path clip-path=\"url(#pc72e8902e0)\" d=\"M 333.360914 224.64 \nL 334.882722 224.64 \nL 334.882722 224.64 \nL 333.360914 224.64 \nz\n\" style=\"fill:#1f77b4;\"/>\n   </g>\n   <g id=\"patch_187\">\n    <path clip-path=\"url(#pc72e8902e0)\" d=\"M 334.882722 224.64 \nL 336.404549 224.64 \nL 336.404549 224.64 \nL 334.882722 224.64 \nz\n\" style=\"fill:#1f77b4;\"/>\n   </g>\n   <g id=\"patch_188\">\n    <path clip-path=\"url(#pc72e8902e0)\" d=\"M 336.404549 224.64 \nL 337.926356 224.64 \nL 337.926356 224.64 \nL 336.404549 224.64 \nz\n\" style=\"fill:#1f77b4;\"/>\n   </g>\n   <g id=\"patch_189\">\n    <path clip-path=\"url(#pc72e8902e0)\" d=\"M 337.926376 224.64 \nL 339.448203 224.64 \nL 339.448203 224.64 \nL 337.926376 224.64 \nz\n\" style=\"fill:#1f77b4;\"/>\n   </g>\n   <g id=\"patch_190\">\n    <path clip-path=\"url(#pc72e8902e0)\" d=\"M 339.448183 224.64 \nL 340.969991 224.64 \nL 340.969991 224.64 \nL 339.448183 224.64 \nz\n\" style=\"fill:#1f77b4;\"/>\n   </g>\n   <g id=\"patch_191\">\n    <path clip-path=\"url(#pc72e8902e0)\" d=\"M 340.969991 224.64 \nL 342.491818 224.64 \nL 342.491818 224.64 \nL 340.969991 224.64 \nz\n\" style=\"fill:#1f77b4;\"/>\n   </g>\n   <g id=\"patch_192\">\n    <path clip-path=\"url(#pc72e8902e0)\" d=\"M 342.491838 224.64 \nL 344.013665 224.64 \nL 344.013665 224.64 \nL 342.491838 224.64 \nz\n\" style=\"fill:#1f77b4;\"/>\n   </g>\n   <g id=\"patch_193\">\n    <path clip-path=\"url(#pc72e8902e0)\" d=\"M 344.013645 224.64 \nL 345.535453 224.64 \nL 345.535453 224.64 \nL 344.013645 224.64 \nz\n\" style=\"fill:#1f77b4;\"/>\n   </g>\n   <g id=\"patch_194\">\n    <path clip-path=\"url(#pc72e8902e0)\" d=\"M 345.535453 224.64 \nL 347.05728 224.64 \nL 347.05728 224.64 \nL 345.535453 224.64 \nz\n\" style=\"fill:#1f77b4;\"/>\n   </g>\n   <g id=\"patch_195\">\n    <path clip-path=\"url(#pc72e8902e0)\" d=\"M 347.05728 224.64 \nL 348.579087 224.64 \nL 348.579087 224.64 \nL 347.05728 224.64 \nz\n\" style=\"fill:#1f77b4;\"/>\n   </g>\n   <g id=\"patch_196\">\n    <path clip-path=\"url(#pc72e8902e0)\" d=\"M 348.579107 224.64 \nL 350.100934 224.64 \nL 350.100934 224.64 \nL 348.579107 224.64 \nz\n\" style=\"fill:#1f77b4;\"/>\n   </g>\n   <g id=\"patch_197\">\n    <path clip-path=\"url(#pc72e8902e0)\" d=\"M 350.100914 224.64 \nL 351.622722 224.64 \nL 351.622722 224.64 \nL 350.100914 224.64 \nz\n\" style=\"fill:#1f77b4;\"/>\n   </g>\n   <g id=\"patch_198\">\n    <path clip-path=\"url(#pc72e8902e0)\" d=\"M 351.622722 224.64 \nL 353.144549 224.64 \nL 353.144549 224.64 \nL 351.622722 224.64 \nz\n\" style=\"fill:#1f77b4;\"/>\n   </g>\n   <g id=\"patch_199\">\n    <path clip-path=\"url(#pc72e8902e0)\" d=\"M 353.144549 224.64 \nL 354.666357 224.64 \nL 354.666357 224.64 \nL 353.144549 224.64 \nz\n\" style=\"fill:#1f77b4;\"/>\n   </g>\n   <g id=\"patch_200\">\n    <path clip-path=\"url(#pc72e8902e0)\" d=\"M 354.666376 224.64 \nL 356.188203 224.64 \nL 356.188203 224.64 \nL 354.666376 224.64 \nz\n\" style=\"fill:#1f77b4;\"/>\n   </g>\n   <g id=\"patch_201\">\n    <path clip-path=\"url(#pc72e8902e0)\" d=\"M 356.188184 224.64 \nL 357.709991 224.64 \nL 357.709991 224.64 \nL 356.188184 224.64 \nz\n\" style=\"fill:#1f77b4;\"/>\n   </g>\n   <g id=\"patch_202\">\n    <path clip-path=\"url(#pc72e8902e0)\" d=\"M 357.709991 224.64 \nL 359.231818 224.64 \nL 359.231818 224.451911 \nL 357.709991 224.451911 \nz\n\" style=\"fill:#1f77b4;\"/>\n   </g>\n   <g id=\"matplotlib.axis_1\">\n    <g id=\"xtick_1\">\n     <g id=\"line2d_1\">\n      <defs>\n       <path d=\"M 0 0 \nL 0 3.5 \n\" id=\"med7ca10def\" style=\"stroke:#000000;stroke-width:0.8;\"/>\n      </defs>\n      <g>\n       <use style=\"stroke:#000000;stroke-width:0.8;\" x=\"54.865681\" xlink:href=\"#med7ca10def\" y=\"224.64\"/>\n      </g>\n     </g>\n     <g id=\"text_1\">\n      <!-- 0 -->\n      <g transform=\"translate(51.684431 239.238437)scale(0.1 -0.1)\">\n       <defs>\n        <path d=\"M 31.78125 66.40625 \nQ 24.171875 66.40625 20.328125 58.90625 \nQ 16.5 51.421875 16.5 36.375 \nQ 16.5 21.390625 20.328125 13.890625 \nQ 24.171875 6.390625 31.78125 6.390625 \nQ 39.453125 6.390625 43.28125 13.890625 \nQ 47.125 21.390625 47.125 36.375 \nQ 47.125 51.421875 43.28125 58.90625 \nQ 39.453125 66.40625 31.78125 66.40625 \nz\nM 31.78125 74.21875 \nQ 44.046875 74.21875 50.515625 64.515625 \nQ 56.984375 54.828125 56.984375 36.375 \nQ 56.984375 17.96875 50.515625 8.265625 \nQ 44.046875 -1.421875 31.78125 -1.421875 \nQ 19.53125 -1.421875 13.0625 8.265625 \nQ 6.59375 17.96875 6.59375 36.375 \nQ 6.59375 54.828125 13.0625 64.515625 \nQ 19.53125 74.21875 31.78125 74.21875 \nz\n\" id=\"DejaVuSans-48\"/>\n       </defs>\n       <use xlink:href=\"#DejaVuSans-48\"/>\n      </g>\n     </g>\n    </g>\n    <g id=\"xtick_2\">\n     <g id=\"line2d_2\">\n      <g>\n       <use style=\"stroke:#000000;stroke-width:0.8;\" x=\"104.886574\" xlink:href=\"#med7ca10def\" y=\"224.64\"/>\n      </g>\n     </g>\n     <g id=\"text_2\">\n      <!-- 20000 -->\n      <g transform=\"translate(88.980324 239.238437)scale(0.1 -0.1)\">\n       <defs>\n        <path d=\"M 19.1875 8.296875 \nL 53.609375 8.296875 \nL 53.609375 0 \nL 7.328125 0 \nL 7.328125 8.296875 \nQ 12.9375 14.109375 22.625 23.890625 \nQ 32.328125 33.6875 34.8125 36.53125 \nQ 39.546875 41.84375 41.421875 45.53125 \nQ 43.3125 49.21875 43.3125 52.78125 \nQ 43.3125 58.59375 39.234375 62.25 \nQ 35.15625 65.921875 28.609375 65.921875 \nQ 23.96875 65.921875 18.8125 64.3125 \nQ 13.671875 62.703125 7.8125 59.421875 \nL 7.8125 69.390625 \nQ 13.765625 71.78125 18.9375 73 \nQ 24.125 74.21875 28.421875 74.21875 \nQ 39.75 74.21875 46.484375 68.546875 \nQ 53.21875 62.890625 53.21875 53.421875 \nQ 53.21875 48.921875 51.53125 44.890625 \nQ 49.859375 40.875 45.40625 35.40625 \nQ 44.1875 33.984375 37.640625 27.21875 \nQ 31.109375 20.453125 19.1875 8.296875 \nz\n\" id=\"DejaVuSans-50\"/>\n       </defs>\n       <use xlink:href=\"#DejaVuSans-50\"/>\n       <use x=\"63.623047\" xlink:href=\"#DejaVuSans-48\"/>\n       <use x=\"127.246094\" xlink:href=\"#DejaVuSans-48\"/>\n       <use x=\"190.869141\" xlink:href=\"#DejaVuSans-48\"/>\n       <use x=\"254.492188\" xlink:href=\"#DejaVuSans-48\"/>\n      </g>\n     </g>\n    </g>\n    <g id=\"xtick_3\">\n     <g id=\"line2d_3\">\n      <g>\n       <use style=\"stroke:#000000;stroke-width:0.8;\" x=\"154.907468\" xlink:href=\"#med7ca10def\" y=\"224.64\"/>\n      </g>\n     </g>\n     <g id=\"text_3\">\n      <!-- 40000 -->\n      <g transform=\"translate(139.001218 239.238437)scale(0.1 -0.1)\">\n       <defs>\n        <path d=\"M 37.796875 64.3125 \nL 12.890625 25.390625 \nL 37.796875 25.390625 \nz\nM 35.203125 72.90625 \nL 47.609375 72.90625 \nL 47.609375 25.390625 \nL 58.015625 25.390625 \nL 58.015625 17.1875 \nL 47.609375 17.1875 \nL 47.609375 0 \nL 37.796875 0 \nL 37.796875 17.1875 \nL 4.890625 17.1875 \nL 4.890625 26.703125 \nz\n\" id=\"DejaVuSans-52\"/>\n       </defs>\n       <use xlink:href=\"#DejaVuSans-52\"/>\n       <use x=\"63.623047\" xlink:href=\"#DejaVuSans-48\"/>\n       <use x=\"127.246094\" xlink:href=\"#DejaVuSans-48\"/>\n       <use x=\"190.869141\" xlink:href=\"#DejaVuSans-48\"/>\n       <use x=\"254.492188\" xlink:href=\"#DejaVuSans-48\"/>\n      </g>\n     </g>\n    </g>\n    <g id=\"xtick_4\">\n     <g id=\"line2d_4\">\n      <g>\n       <use style=\"stroke:#000000;stroke-width:0.8;\" x=\"204.928362\" xlink:href=\"#med7ca10def\" y=\"224.64\"/>\n      </g>\n     </g>\n     <g id=\"text_4\">\n      <!-- 60000 -->\n      <g transform=\"translate(189.022112 239.238437)scale(0.1 -0.1)\">\n       <defs>\n        <path d=\"M 33.015625 40.375 \nQ 26.375 40.375 22.484375 35.828125 \nQ 18.609375 31.296875 18.609375 23.390625 \nQ 18.609375 15.53125 22.484375 10.953125 \nQ 26.375 6.390625 33.015625 6.390625 \nQ 39.65625 6.390625 43.53125 10.953125 \nQ 47.40625 15.53125 47.40625 23.390625 \nQ 47.40625 31.296875 43.53125 35.828125 \nQ 39.65625 40.375 33.015625 40.375 \nz\nM 52.59375 71.296875 \nL 52.59375 62.3125 \nQ 48.875 64.0625 45.09375 64.984375 \nQ 41.3125 65.921875 37.59375 65.921875 \nQ 27.828125 65.921875 22.671875 59.328125 \nQ 17.53125 52.734375 16.796875 39.40625 \nQ 19.671875 43.65625 24.015625 45.921875 \nQ 28.375 48.1875 33.59375 48.1875 \nQ 44.578125 48.1875 50.953125 41.515625 \nQ 57.328125 34.859375 57.328125 23.390625 \nQ 57.328125 12.15625 50.6875 5.359375 \nQ 44.046875 -1.421875 33.015625 -1.421875 \nQ 20.359375 -1.421875 13.671875 8.265625 \nQ 6.984375 17.96875 6.984375 36.375 \nQ 6.984375 53.65625 15.1875 63.9375 \nQ 23.390625 74.21875 37.203125 74.21875 \nQ 40.921875 74.21875 44.703125 73.484375 \nQ 48.484375 72.75 52.59375 71.296875 \nz\n\" id=\"DejaVuSans-54\"/>\n       </defs>\n       <use xlink:href=\"#DejaVuSans-54\"/>\n       <use x=\"63.623047\" xlink:href=\"#DejaVuSans-48\"/>\n       <use x=\"127.246094\" xlink:href=\"#DejaVuSans-48\"/>\n       <use x=\"190.869141\" xlink:href=\"#DejaVuSans-48\"/>\n       <use x=\"254.492188\" xlink:href=\"#DejaVuSans-48\"/>\n      </g>\n     </g>\n    </g>\n    <g id=\"xtick_5\">\n     <g id=\"line2d_5\">\n      <g>\n       <use style=\"stroke:#000000;stroke-width:0.8;\" x=\"254.949256\" xlink:href=\"#med7ca10def\" y=\"224.64\"/>\n      </g>\n     </g>\n     <g id=\"text_5\">\n      <!-- 80000 -->\n      <g transform=\"translate(239.043006 239.238437)scale(0.1 -0.1)\">\n       <defs>\n        <path d=\"M 31.78125 34.625 \nQ 24.75 34.625 20.71875 30.859375 \nQ 16.703125 27.09375 16.703125 20.515625 \nQ 16.703125 13.921875 20.71875 10.15625 \nQ 24.75 6.390625 31.78125 6.390625 \nQ 38.8125 6.390625 42.859375 10.171875 \nQ 46.921875 13.96875 46.921875 20.515625 \nQ 46.921875 27.09375 42.890625 30.859375 \nQ 38.875 34.625 31.78125 34.625 \nz\nM 21.921875 38.8125 \nQ 15.578125 40.375 12.03125 44.71875 \nQ 8.5 49.078125 8.5 55.328125 \nQ 8.5 64.0625 14.71875 69.140625 \nQ 20.953125 74.21875 31.78125 74.21875 \nQ 42.671875 74.21875 48.875 69.140625 \nQ 55.078125 64.0625 55.078125 55.328125 \nQ 55.078125 49.078125 51.53125 44.71875 \nQ 48 40.375 41.703125 38.8125 \nQ 48.828125 37.15625 52.796875 32.3125 \nQ 56.78125 27.484375 56.78125 20.515625 \nQ 56.78125 9.90625 50.3125 4.234375 \nQ 43.84375 -1.421875 31.78125 -1.421875 \nQ 19.734375 -1.421875 13.25 4.234375 \nQ 6.78125 9.90625 6.78125 20.515625 \nQ 6.78125 27.484375 10.78125 32.3125 \nQ 14.796875 37.15625 21.921875 38.8125 \nz\nM 18.3125 54.390625 \nQ 18.3125 48.734375 21.84375 45.5625 \nQ 25.390625 42.390625 31.78125 42.390625 \nQ 38.140625 42.390625 41.71875 45.5625 \nQ 45.3125 48.734375 45.3125 54.390625 \nQ 45.3125 60.0625 41.71875 63.234375 \nQ 38.140625 66.40625 31.78125 66.40625 \nQ 25.390625 66.40625 21.84375 63.234375 \nQ 18.3125 60.0625 18.3125 54.390625 \nz\n\" id=\"DejaVuSans-56\"/>\n       </defs>\n       <use xlink:href=\"#DejaVuSans-56\"/>\n       <use x=\"63.623047\" xlink:href=\"#DejaVuSans-48\"/>\n       <use x=\"127.246094\" xlink:href=\"#DejaVuSans-48\"/>\n       <use x=\"190.869141\" xlink:href=\"#DejaVuSans-48\"/>\n       <use x=\"254.492188\" xlink:href=\"#DejaVuSans-48\"/>\n      </g>\n     </g>\n    </g>\n    <g id=\"xtick_6\">\n     <g id=\"line2d_6\">\n      <g>\n       <use style=\"stroke:#000000;stroke-width:0.8;\" x=\"304.970149\" xlink:href=\"#med7ca10def\" y=\"224.64\"/>\n      </g>\n     </g>\n     <g id=\"text_6\">\n      <!-- 100000 -->\n      <g transform=\"translate(285.882649 239.238437)scale(0.1 -0.1)\">\n       <defs>\n        <path d=\"M 12.40625 8.296875 \nL 28.515625 8.296875 \nL 28.515625 63.921875 \nL 10.984375 60.40625 \nL 10.984375 69.390625 \nL 28.421875 72.90625 \nL 38.28125 72.90625 \nL 38.28125 8.296875 \nL 54.390625 8.296875 \nL 54.390625 0 \nL 12.40625 0 \nz\n\" id=\"DejaVuSans-49\"/>\n       </defs>\n       <use xlink:href=\"#DejaVuSans-49\"/>\n       <use x=\"63.623047\" xlink:href=\"#DejaVuSans-48\"/>\n       <use x=\"127.246094\" xlink:href=\"#DejaVuSans-48\"/>\n       <use x=\"190.869141\" xlink:href=\"#DejaVuSans-48\"/>\n       <use x=\"254.492188\" xlink:href=\"#DejaVuSans-48\"/>\n       <use x=\"318.115234\" xlink:href=\"#DejaVuSans-48\"/>\n      </g>\n     </g>\n    </g>\n    <g id=\"xtick_7\">\n     <g id=\"line2d_7\">\n      <g>\n       <use style=\"stroke:#000000;stroke-width:0.8;\" x=\"354.991043\" xlink:href=\"#med7ca10def\" y=\"224.64\"/>\n      </g>\n     </g>\n     <g id=\"text_7\">\n      <!-- 120000 -->\n      <g transform=\"translate(335.903543 239.238437)scale(0.1 -0.1)\">\n       <use xlink:href=\"#DejaVuSans-49\"/>\n       <use x=\"63.623047\" xlink:href=\"#DejaVuSans-50\"/>\n       <use x=\"127.246094\" xlink:href=\"#DejaVuSans-48\"/>\n       <use x=\"190.869141\" xlink:href=\"#DejaVuSans-48\"/>\n       <use x=\"254.492188\" xlink:href=\"#DejaVuSans-48\"/>\n       <use x=\"318.115234\" xlink:href=\"#DejaVuSans-48\"/>\n      </g>\n     </g>\n    </g>\n   </g>\n   <g id=\"matplotlib.axis_2\">\n    <g id=\"ytick_1\">\n     <g id=\"line2d_8\">\n      <defs>\n       <path d=\"M 0 0 \nL -3.5 0 \n\" id=\"m123b0d63ab\" style=\"stroke:#000000;stroke-width:0.8;\"/>\n      </defs>\n      <g>\n       <use style=\"stroke:#000000;stroke-width:0.8;\" x=\"39.65\" xlink:href=\"#m123b0d63ab\" y=\"224.64\"/>\n      </g>\n     </g>\n     <g id=\"text_8\">\n      <!-- 0 -->\n      <g transform=\"translate(26.2875 228.439219)scale(0.1 -0.1)\">\n       <use xlink:href=\"#DejaVuSans-48\"/>\n      </g>\n     </g>\n    </g>\n    <g id=\"ytick_2\">\n     <g id=\"line2d_9\">\n      <g>\n       <use style=\"stroke:#000000;stroke-width:0.8;\" x=\"39.65\" xlink:href=\"#m123b0d63ab\" y=\"187.02225\"/>\n      </g>\n     </g>\n     <g id=\"text_9\">\n      <!-- 200 -->\n      <g transform=\"translate(13.5625 190.821469)scale(0.1 -0.1)\">\n       <use xlink:href=\"#DejaVuSans-50\"/>\n       <use x=\"63.623047\" xlink:href=\"#DejaVuSans-48\"/>\n       <use x=\"127.246094\" xlink:href=\"#DejaVuSans-48\"/>\n      </g>\n     </g>\n    </g>\n    <g id=\"ytick_3\">\n     <g id=\"line2d_10\">\n      <g>\n       <use style=\"stroke:#000000;stroke-width:0.8;\" x=\"39.65\" xlink:href=\"#m123b0d63ab\" y=\"149.4045\"/>\n      </g>\n     </g>\n     <g id=\"text_10\">\n      <!-- 400 -->\n      <g transform=\"translate(13.5625 153.203719)scale(0.1 -0.1)\">\n       <use xlink:href=\"#DejaVuSans-52\"/>\n       <use x=\"63.623047\" xlink:href=\"#DejaVuSans-48\"/>\n       <use x=\"127.246094\" xlink:href=\"#DejaVuSans-48\"/>\n      </g>\n     </g>\n    </g>\n    <g id=\"ytick_4\">\n     <g id=\"line2d_11\">\n      <g>\n       <use style=\"stroke:#000000;stroke-width:0.8;\" x=\"39.65\" xlink:href=\"#m123b0d63ab\" y=\"111.78675\"/>\n      </g>\n     </g>\n     <g id=\"text_11\">\n      <!-- 600 -->\n      <g transform=\"translate(13.5625 115.585968)scale(0.1 -0.1)\">\n       <use xlink:href=\"#DejaVuSans-54\"/>\n       <use x=\"63.623047\" xlink:href=\"#DejaVuSans-48\"/>\n       <use x=\"127.246094\" xlink:href=\"#DejaVuSans-48\"/>\n      </g>\n     </g>\n    </g>\n    <g id=\"ytick_5\">\n     <g id=\"line2d_12\">\n      <g>\n       <use style=\"stroke:#000000;stroke-width:0.8;\" x=\"39.65\" xlink:href=\"#m123b0d63ab\" y=\"74.169\"/>\n      </g>\n     </g>\n     <g id=\"text_12\">\n      <!-- 800 -->\n      <g transform=\"translate(13.5625 77.968218)scale(0.1 -0.1)\">\n       <use xlink:href=\"#DejaVuSans-56\"/>\n       <use x=\"63.623047\" xlink:href=\"#DejaVuSans-48\"/>\n       <use x=\"127.246094\" xlink:href=\"#DejaVuSans-48\"/>\n      </g>\n     </g>\n    </g>\n    <g id=\"ytick_6\">\n     <g id=\"line2d_13\">\n      <g>\n       <use style=\"stroke:#000000;stroke-width:0.8;\" x=\"39.65\" xlink:href=\"#m123b0d63ab\" y=\"36.55125\"/>\n      </g>\n     </g>\n     <g id=\"text_13\">\n      <!-- 1000 -->\n      <g transform=\"translate(7.2 40.350468)scale(0.1 -0.1)\">\n       <use xlink:href=\"#DejaVuSans-49\"/>\n       <use x=\"63.623047\" xlink:href=\"#DejaVuSans-48\"/>\n       <use x=\"127.246094\" xlink:href=\"#DejaVuSans-48\"/>\n       <use x=\"190.869141\" xlink:href=\"#DejaVuSans-48\"/>\n      </g>\n     </g>\n    </g>\n   </g>\n   <g id=\"patch_203\">\n    <path d=\"M 39.65 224.64 \nL 39.65 7.2 \n\" style=\"fill:none;stroke:#000000;stroke-linecap:square;stroke-linejoin:miter;stroke-width:0.8;\"/>\n   </g>\n   <g id=\"patch_204\">\n    <path d=\"M 374.45 224.64 \nL 374.45 7.2 \n\" style=\"fill:none;stroke:#000000;stroke-linecap:square;stroke-linejoin:miter;stroke-width:0.8;\"/>\n   </g>\n   <g id=\"patch_205\">\n    <path d=\"M 39.65 224.64 \nL 374.45 224.64 \n\" style=\"fill:none;stroke:#000000;stroke-linecap:square;stroke-linejoin:miter;stroke-width:0.8;\"/>\n   </g>\n   <g id=\"patch_206\">\n    <path d=\"M 39.65 7.2 \nL 374.45 7.2 \n\" style=\"fill:none;stroke:#000000;stroke-linecap:square;stroke-linejoin:miter;stroke-width:0.8;\"/>\n   </g>\n  </g>\n </g>\n <defs>\n  <clipPath id=\"pc72e8902e0\">\n   <rect height=\"217.44\" width=\"334.8\" x=\"39.65\" y=\"7.2\"/>\n  </clipPath>\n </defs>\n</svg>\n",
      "text/plain": [
       "<Figure size 432x288 with 1 Axes>"
      ]
     },
     "metadata": {
      "needs_background": "light"
     },
     "output_type": "display_data"
    }
   ],
   "source": [
    "\n",
    "K = matern(coords_gpu, nu=2.5, l=l)\n",
    "_e1 = torch.zeros(K.shape[0], device=cuda)\n",
    "_e1[0] = 1\n",
    "plt.hist((K@_e1).cpu().numpy(), 200);"
   ]
  },
  {
   "cell_type": "code",
   "execution_count": 218,
   "metadata": {},
   "outputs": [],
   "source": [
    "a = torch.arange(10, dtype=float) + 2"
   ]
  },
  {
   "cell_type": "code",
   "execution_count": 219,
   "metadata": {},
   "outputs": [],
   "source": [
    "shift_mat = torch.diag(torch.ones(9,dtype=float),-1)"
   ]
  },
  {
   "cell_type": "code",
   "execution_count": 220,
   "metadata": {},
   "outputs": [
    {
     "data": {
      "text/plain": [
       "tensor([ 0.,  2.,  3.,  4.,  5.,  6.,  7.,  8.,  9., 10.], dtype=torch.float64)"
      ]
     },
     "execution_count": 220,
     "metadata": {},
     "output_type": "execute_result"
    }
   ],
   "source": [
    "shift_mat@a"
   ]
  },
  {
   "cell_type": "code",
   "execution_count": 209,
   "metadata": {},
   "outputs": [
    {
     "data": {
      "text/plain": [
       "tensor([0, 1, 2, 3, 4, 5, 6, 7, 8, 9])"
      ]
     },
     "execution_count": 209,
     "metadata": {},
     "output_type": "execute_result"
    }
   ],
   "source": [
    "a"
   ]
  },
  {
   "cell_type": "code",
   "execution_count": null,
   "metadata": {},
   "outputs": [],
   "source": [
    "gaussian_conv = Genred('Exp(-G * SqDist(X,Y)) * B', # F(g,x,y,b) = exp( -g*|x-y|^2 ) * b\n",
    "                       ['G = Pm(1)',          # First arg  is a parameter,    of dim 1\n",
    "                        'X = Vi(3)',          # Second arg is indexed by \"i\", of dim 3\n",
    "                        'Y = Vj(3)',          # Third arg  is indexed by \"j\", of dim 3\n",
    "                        'B = Vj(2)'],         # Fourth arg is indexed by \"j\", of dim 2\n",
    "                       reduction_op='Sum',\n",
    "                       axis=1)                # Summation over \"j\"\n",
    "\n",
    "\n",
    "# N.B.: a.shape == [1000, 2]\n",
    "a = gaussian_conv(gamma, x, y, b)\n",
    "\n",
    "# By explicitly specifying the backend, you can try to optimize your pipeline:\n",
    "a = gaussian_conv(gamma, x, y, b, backend='GPU')\n",
    "a = gaussian_conv(gamma, x, y, b, backend='CPU')\n",
    "\n",
    "def gaussian(X, l=1):\n",
    "    #Assuming X = [observations, features]\n",
    "    l = l**2\n",
    "    l *=2\n",
    "    _x = LazyTensor(X[:, None, :])\n",
    "    _xx = LazyTensor(X[None, :, :])\n",
    "    D = ((_x - _xx) ** 2).sum(-1)  # Euclidean squared distance\n",
    "    return (-D/l).exp()"
   ]
  }
 ],
 "metadata": {
  "interpreter": {
   "hash": "237a184721ccde86ff8290b36768bdbffa305b80665e86389e41b56c4800747d"
  },
  "kernelspec": {
   "display_name": "Python 3.8.8 64-bit ('base': conda)",
   "language": "python",
   "name": "python3"
  },
  "language_info": {
   "codemirror_mode": {
    "name": "ipython",
    "version": 3
   },
   "file_extension": ".py",
   "mimetype": "text/x-python",
   "name": "python",
   "nbconvert_exporter": "python",
   "pygments_lexer": "ipython3",
   "version": "3.8.8"
  },
  "orig_nbformat": 4
 },
 "nbformat": 4,
 "nbformat_minor": 2
}
