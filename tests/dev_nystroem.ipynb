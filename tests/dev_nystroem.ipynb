{
 "cells": [
  {
   "cell_type": "code",
   "execution_count": 1,
   "metadata": {},
   "outputs": [],
   "source": [
    "%load_ext autoreload\n",
    "%load_ext line_profiler"
   ]
  },
  {
   "cell_type": "code",
   "execution_count": 2,
   "metadata": {},
   "outputs": [],
   "source": [
    "#Reload all modules (except those excluded by %aimport) every time before executing the Python code typed.\n",
    "%autoreload 2 "
   ]
  },
  {
   "cell_type": "code",
   "execution_count": 316,
   "metadata": {},
   "outputs": [],
   "source": [
    "import functools\n",
    "from time import perf_counter\n",
    "import kooplearn\n",
    "import numpy as np\n",
    "import matplotlib.pyplot as plt\n",
    "import pnstyler.styler as styler\n",
    "import ml_confs"
   ]
  },
  {
   "cell_type": "code",
   "execution_count": 317,
   "metadata": {},
   "outputs": [],
   "source": [
    "configs = ml_confs.from_dict({\n",
    "    'train_samples': 2000,\n",
    "    'test_samples': 100,\n",
    "})"
   ]
  },
  {
   "cell_type": "code",
   "execution_count": 318,
   "metadata": {},
   "outputs": [],
   "source": [
    "# Adapted from https://realpython.com/python-timer/#creating-a-python-timer-decorator\n",
    "def timer(func):\n",
    "    @functools.wraps(func)\n",
    "    def wrapper_timer(*args, **kwargs):\n",
    "        tic = perf_counter()\n",
    "        value = func(*args, **kwargs)\n",
    "        toc = perf_counter()\n",
    "        elapsed_time = toc - tic\n",
    "        return value, elapsed_time\n",
    "\n",
    "    return wrapper_timer"
   ]
  },
  {
   "cell_type": "markdown",
   "metadata": {},
   "source": [
    "## Data Generation"
   ]
  },
  {
   "cell_type": "code",
   "execution_count": 319,
   "metadata": {},
   "outputs": [],
   "source": [
    "from kooplearn.datasets import Lorenz63, LogisticMap\n",
    "\n",
    "#raw_data = Lorenz63().sample(X0 = np.ones(3), T=configs.train_samples + 1000 + configs.test_samples)\n",
    "raw_data = LogisticMap(N=20).sample(X0 = np.ones(1), T=configs.train_samples + 1000 + configs.test_samples)\n",
    "mean = np.mean(raw_data, axis=0)\n",
    "norm = np.max(np.abs(raw_data), axis=0)\n",
    "# Data rescaling\n",
    "data = raw_data - mean\n",
    "data /= norm\n",
    "\n",
    "train_data = data[:configs.train_samples + 1]\n",
    "test_data =  data[-configs.test_samples - 1:]"
   ]
  },
  {
   "cell_type": "code",
   "execution_count": 320,
   "metadata": {},
   "outputs": [
    {
     "data": {
      "image/png": "[encoded data removed]",
      "text/plain": [
       "<Figure size 1098.66x366.219 with 1 Axes>"
      ]
     },
     "metadata": {},
     "output_type": "display_data"
    }
   ],
   "source": [
    "from itertools import combinations\n",
    "fig, ax = plt.subplots(ncols=train_data.shape[1], figsize = styler.figsize(width_to_height=3), layout='tight')\n",
    "for i, (x, y) in enumerate(combinations(range(train_data.shape[1]), 2)):\n",
    "    ax[i].plot(data[:, x], data[:, y], lw=0.5)\n",
    "    ax[i].set_xlabel(f'$x_{x}$')\n",
    "    ax[i].set_ylabel(f'$x_{y}$')"
   ]
  },
  {
   "cell_type": "markdown",
   "metadata": {},
   "source": [
    "## Estimator fitting"
   ]
  },
  {
   "cell_type": "code",
   "execution_count": 321,
   "metadata": {},
   "outputs": [],
   "source": [
    "from sklearn.gaussian_process.kernels import RBF\n",
    "from scipy.spatial.distance import pdist\n",
    "from kooplearn.models import KernelDMD\n",
    "from kooplearn.models.nystroem_kernel import NystroemKernelLeastSquares\n",
    "from kooplearn.data import traj_to_contexts\n",
    "\n",
    "# Length scale of the kernel: median of the pairwise distances of the dataset\n",
    "data_pdist = pdist(train_data)\n",
    "kernel = RBF(length_scale=np.quantile(data_pdist, 0.5))\n",
    "train_contexts = traj_to_contexts(train_data)\n",
    "test_contexts = traj_to_contexts(test_data)"
   ]
  },
  {
   "cell_type": "code",
   "execution_count": 355,
   "metadata": {},
   "outputs": [],
   "source": [
    "reduced_rank = True\n",
    "rank = 20\n",
    "num_centers = 500\n",
    "tikhonov_reg = 1e-6\n",
    "\n",
    "models = {\n",
    "    'KernelDMD': KernelDMD(kernel=kernel, reduced_rank=reduced_rank, tikhonov_reg=tikhonov_reg, rank = rank, svd_solver='arnoldi'),\n",
    "    'RandSVDKernelDMD': KernelDMD(kernel=kernel, reduced_rank=reduced_rank, svd_solver='randomized', tikhonov_reg=tikhonov_reg, rank = rank),\n",
    "    'Nystroem': NystroemKernelLeastSquares(kernel=kernel, reduced_rank=reduced_rank, svd_solver='arnoldi', tikhonov_reg=tikhonov_reg, rank = rank, num_centers=num_centers)\n",
    "}"
   ]
  },
  {
   "cell_type": "code",
   "execution_count": 356,
   "metadata": {},
   "outputs": [],
   "source": [
    "def runner(models):\n",
    "    results = {}\n",
    "    for name, model in models.items():\n",
    "        print(f'Running {name}')\n",
    "        model, fit_time = timer(model.fit)(train_contexts, verbose=False)\n",
    "        # One-step prediction\n",
    "        X_pred = model.predict(test_contexts[:, :-1, ...])\n",
    "        X_true = test_contexts[:, 1, ...]\n",
    "        # Eigenvalues\n",
    "        eigs = model.eig()\n",
    "\n",
    "        results[name] = {\n",
    "            'model': model,\n",
    "            'fit_time': fit_time,\n",
    "            'train_risk': model.risk(),\n",
    "            'rMSE_onestep': np.sqrt(np.mean((X_pred - X_true)**2)),\n",
    "            'eigenvalues': eigs,\n",
    "        }\n",
    "    return results\n",
    "    \n",
    "def hausdorff_distance(eigs_1, eigs_2):\n",
    "    dist = np.abs(eigs_1[:, None] - eigs_2[None, :])\n",
    "    d1 = np.min(dist, axis=1).max()\n",
    "    d2 = np.min(dist, axis=0).max()\n",
    "    return max(d1, d2)\n"
   ]
  },
  {
   "cell_type": "code",
   "execution_count": 357,
   "metadata": {},
   "outputs": [
    {
     "name": "stdout",
     "output_type": "stream",
     "text": [
      "Running KernelDMD\n"
     ]
    },
    {
     "name": "stderr",
     "output_type": "stream",
     "text": [
      "Warning: Discarted 15 dimensions of the 20 requested, consider decreasing the rank. The largest squared singular value discarted is: 5.673e-10\n",
      "Warning: 3 out of the 8 squared singular values are smaller than the regularization strength 1.00e-06. Consider redudcing the regularization strength to avoid overfitting.\n",
      "The fitting algorithm automatically reduced the rank of the estimator to 8. The rank attribute has been updated accordingly.\n"
     ]
    },
    {
     "name": "stdout",
     "output_type": "stream",
     "text": [
      "Running RandSVDKernelDMD\n"
     ]
    },
    {
     "name": "stderr",
     "output_type": "stream",
     "text": [
      "/Users/pietronovelli/code_repos/kooplearn/kooplearn/_src/operator_regression/dual.py:348: RuntimeWarning: divide by zero encountered in reciprocal\n",
      "  vr = vr * r_normr\n",
      "/Users/pietronovelli/code_repos/kooplearn/kooplearn/_src/operator_regression/dual.py:353: RuntimeWarning: invalid value encountered in reciprocal\n",
      "  vl = vl * r_norm_l\n"
     ]
    },
    {
     "name": "stdout",
     "output_type": "stream",
     "text": [
      "Running Nystroem\n"
     ]
    },
    {
     "name": "stderr",
     "output_type": "stream",
     "text": [
      "The numerical rank of the projector is smaller than the selected rank (20). 6 degrees of freedom will be ignored.\n",
      "/Users/pietronovelli/code_repos/kooplearn/kooplearn/_src/operator_regression/dual.py:348: RuntimeWarning: divide by zero encountered in reciprocal\n",
      "  vr = vr * r_normr\n",
      "/Users/pietronovelli/code_repos/kooplearn/kooplearn/_src/operator_regression/dual.py:353: RuntimeWarning: invalid value encountered in reciprocal\n",
      "  vl = vl * r_norm_l\n"
     ]
    }
   ],
   "source": [
    "results = runner(models)"
   ]
  },
  {
   "cell_type": "code",
   "execution_count": 354,
   "metadata": {},
   "outputs": [
    {
     "name": "stdout",
     "output_type": "stream",
     "text": [
      "\n",
      "    KernelDMD:\n",
      "        Fit time: 4.03s\n",
      "        Train risk: 1.8133e-01\n",
      "        One-step rMSE: 3.2135e-01\n",
      "        Hausdorff: 0.00e+00\n",
      "\n",
      "    RandSVDKernelDMD:\n",
      "        Fit time: 0.53s\n",
      "        Train risk: 1.8135e-01\n",
      "        One-step rMSE: 3.2139e-01\n",
      "        Hausdorff: 1.13e-01\n",
      "\n",
      "    Nystroem:\n",
      "        Fit time: 0.89s\n",
      "        Train risk: 9.9703e-01\n",
      "        One-step rMSE: 3.5371e-01\n",
      "        Hausdorff: 9.98e-01\n"
     ]
    }
   ],
   "source": [
    "# Print results:\n",
    "for name, res in results.items():\n",
    "    _str = f'''\n",
    "    {name}:\n",
    "        Fit time: {res[\"fit_time\"]:.2f}s\n",
    "        Train risk: {res[\"train_risk\"]:.4e}\n",
    "        One-step rMSE: {res[\"rMSE_onestep\"]:.4e}\n",
    "        Hausdorff: {hausdorff_distance(res[\"eigenvalues\"], results[\"KernelDMD\"][\"eigenvalues\"]):.2e}'''\n",
    "    print(_str)"
   ]
  },
  {
   "cell_type": "markdown",
   "metadata": {},
   "source": [
    "## Algorithms development:"
   ]
  },
  {
   "cell_type": "code",
   "execution_count": 243,
   "metadata": {},
   "outputs": [],
   "source": [
    "from scipy.linalg import eig\n",
    "from scipy.sparse.linalg import eigs\n",
    "from kooplearn._src.operator_regression.dual import regularize\n",
    "from kooplearn._src.operator_regression.utils import contexts_to_markov_train_states\n",
    "\n",
    "model = models['KernelDMD']\n",
    "\n",
    "X_fit, Y_fit = contexts_to_markov_train_states(model.data_fit, model.lookback_len)\n",
    "kernel_X, kernel_Y, _ = model._init_kernels(X_fit, Y_fit)\n",
    "\n",
    "dim = kernel_X.shape[0]\n",
    "rsqrt_dim = dim ** (-0.5)\n",
    "# Rescaled Kernel matrices\n",
    "K_Xn = kernel_X * rsqrt_dim\n",
    "K_Yn = kernel_Y * rsqrt_dim\n",
    "\n",
    "K = K_Yn @ K_Xn\n",
    "\n",
    "_num_arnoldi_eigs = min(rank + 3, K.shape[0])\n",
    "eigvals = []\n",
    "regs = [1, 1e-3, 1e-6, 1e-9]\n",
    "for r in regs:\n",
    "    eigvals.append(eigs(K, k=_num_arnoldi_eigs, M=regularize(kernel_X, r))[0])"
   ]
  },
  {
   "cell_type": "code",
   "execution_count": 273,
   "metadata": {},
   "outputs": [],
   "source": [
    "from kooplearn._src.utils import topk\n",
    "\n",
    "penalty = 1e-6\n",
    "vals, vecs = eigs(K, k=_num_arnoldi_eigs, M=regularize(kernel_X, penalty))\n",
    "# Filtering procedure. First: order eigenvalues by magnitude\n",
    "_, sort_perm = topk(np.abs(vals), len(vals))\n",
    "\n",
    "# Sort by magnitude\n",
    "vals = vals[sort_perm]\n",
    "vecs = vecs[:, sort_perm]"
   ]
  },
  {
   "cell_type": "code",
   "execution_count": 289,
   "metadata": {},
   "outputs": [
    {
     "name": "stdout",
     "output_type": "stream",
     "text": [
      "Number of discarded eigenvalues: 16\n",
      "Largest discarded eigenvalue: 1.135e-09\n",
      "Warning: 2 eigenvalues are smaller than the regularization strength 1.00e-06, consider redudcing the regularization strength.\n"
     ]
    }
   ],
   "source": [
    "# Second: create a mask which is True when the real part of the eigenvalue is negative or the imaginary part is nonzero\n",
    "is_invalid = np.logical_or(np.real(vals) < 0, np.imag(vals) != 0)\n",
    "# Third, take the first occurrence of a True value in the mask and filter everything after that\n",
    "first_invalid = np.argmax(is_invalid) # In the case of multiple occurrences of the maximum values, the indices corresponding to the first occurrence are returned.\n",
    "vals_filtered = vals[:first_invalid]\n",
    "vecs_filtered = vecs[:, :first_invalid]\n",
    "# Fourth assert that the eigenvectors do not have any imaginary part\n",
    "assert np.all(np.imag(vecs_filtered) == 0)\n",
    "# Fifth: take the real part of the eigenvectors\n",
    "vecs_filtered = np.real(vecs_filtered)\n",
    "vals_filtered = np.real(vals_filtered)\n",
    "# Sixth: logging. Print the number of discarded eigenvalues, as well as the magnitude of the largest one.\n",
    "print(f'Number of discarded eigenvalues: {len(vals) - len(vals_filtered)}\\nLargest discarded eigenvalue: {np.max(np.abs(vals[first_invalid:])):.3e}')\n",
    "# Seventh: compare the filtered eigenvalues with the regularization strength, and warn if there are any eigenvalues that are smaller than the regularization strength.\n",
    "if not np.all(np.abs(vals_filtered) >= penalty):\n",
    "    print(f'Warning: {(np.abs(vals_filtered) < penalty).sum()} eigenvalues are smaller than the regularization strength {penalty:.2e}, consider redudcing the regularization strength.')"
   ]
  },
  {
   "cell_type": "code",
   "execution_count": 278,
   "metadata": {},
   "outputs": [
    {
     "name": "stderr",
     "output_type": "stream",
     "text": [
      "/var/folders/hv/61b9_7692vs_qnbhp7fxkmfh0000gn/T/ipykernel_92646/3145804433.py:3: RuntimeWarning: invalid value encountered in matmul\n",
      "  M = (K_Xn @ K_Xn.T) + tikhonov_reg * kernel_X # Norm_inducing matrix\n"
     ]
    }
   ],
   "source": [
    "from kooplearn._src.linalg import weighted_norm\n",
    "# Eighth: normalize the eigenvectors\n",
    "M = (K_Xn @ K_Xn.T) + tikhonov_reg * kernel_X # Norm_inducing matrix\n",
    "_kooplearn_norms = weighted_norm(vecs_filtered, M)\n",
    "\n",
    "kernel_X_vecs = np.dot(K_Xn, vecs_filtered)\n",
    "norm_sq = np.sum(kernel_X_vecs**2 + tikhonov_reg*kernel_X_vecs*vecs_filtered*(dim**0.5), axis=0)\n"
   ]
  },
  {
   "cell_type": "code",
   "execution_count": 314,
   "metadata": {},
   "outputs": [
    {
     "name": "stderr",
     "output_type": "stream",
     "text": [
      "<magic-timeit>:1: RuntimeWarning: invalid value encountered in matmul\n"
     ]
    },
    {
     "name": "stdout",
     "output_type": "stream",
     "text": [
      "68.4 ms ± 2.21 ms per loop (mean ± std. dev. of 7 runs, 10 loops each)\n"
     ]
    }
   ],
   "source": [
    "%%timeit\n",
    "M = (K_Xn @ K_Xn.T) + tikhonov_reg * kernel_X # Norm_inducing matrix\n",
    "_kooplearn_norms = weighted_norm(vecs_filtered, M)"
   ]
  },
  {
   "cell_type": "code",
   "execution_count": 315,
   "metadata": {},
   "outputs": [
    {
     "name": "stdout",
     "output_type": "stream",
     "text": [
      "2.34 ms ± 152 µs per loop (mean ± std. dev. of 7 runs, 100 loops each)\n"
     ]
    }
   ],
   "source": [
    "%%timeit\n",
    "kernel_X_vecs = np.dot(K_Xn, vecs_filtered)\n",
    "fast_norm = np.sum(kernel_X_vecs**2 + penalty*kernel_X_vecs*vecs_filtered*(dim**0.5), axis=0)**0.5"
   ]
  },
  {
   "cell_type": "code",
   "execution_count": 291,
   "metadata": {},
   "outputs": [
    {
     "data": {
      "text/plain": [
       "array([1.30420730e-02, 1.15862092e-03, 1.97380882e-03, 2.19908560e-04,\n",
       "       1.08299035e-04, 2.06420150e-05, 2.24913431e-05])"
      ]
     },
     "execution_count": 291,
     "metadata": {},
     "output_type": "execute_result"
    }
   ],
   "source": [
    "_kooplearn_norms"
   ]
  },
  {
   "cell_type": "code",
   "execution_count": null,
   "metadata": {},
   "outputs": [],
   "source": [
    "_tmp_norm = np.dot(K_Xn, vecs_filtered)\n",
    "norms = "
   ]
  },
  {
   "cell_type": "code",
   "execution_count": 244,
   "metadata": {},
   "outputs": [
    {
     "data": {
      "text/plain": [
       "<matplotlib.legend.Legend at 0x2ad6f2c10>"
      ]
     },
     "execution_count": 244,
     "metadata": {},
     "output_type": "execute_result"
    },
    {
     "data": {
      "image/png": "[encoded data removed]",
      "text/plain": [
       "<Figure size 1280x960 with 1 Axes>"
      ]
     },
     "metadata": {},
     "output_type": "display_data"
    }
   ],
   "source": [
    "for i, w in enumerate(zip(eigvals, regs)):\n",
    "    plt.plot(w[0].imag, 'x', label = f'{w[1]:.2e}', color=styler.palettes['categorical_light'][i])\n",
    "    plt.plot(w[0].real, '.', label = f'{w[1]:.2e}', color=styler.palettes['categorical_light'][i])\n",
    "    plt.axhline(w[1], color=styler.palettes['categorical_light'][i]) \n",
    "   #plt.plot(w[0].imag, '.', label = f'{w[1]:.2e}')\n",
    "# plt.plot(sigma_sq_full.real, 'k.')\n",
    "# plt.plot(sigma_sq_arnoldi.real, 'rx')\n",
    "  \n",
    "plt.xscale('log')\n",
    "plt.yscale('log')\n",
    "plt.legend()"
   ]
  },
  {
   "cell_type": "code",
   "execution_count": 206,
   "metadata": {},
   "outputs": [
    {
     "data": {
      "text/plain": [
       "1324.0385853511482"
      ]
     },
     "execution_count": 206,
     "metadata": {},
     "output_type": "execute_result"
    }
   ],
   "source": [
    "np.linalg.norm(kernel_X)"
   ]
  },
  {
   "cell_type": "code",
   "execution_count": null,
   "metadata": {},
   "outputs": [],
   "source": []
  },
  {
   "cell_type": "code",
   "execution_count": 205,
   "metadata": {},
   "outputs": [
    {
     "data": {
      "text/plain": [
       "array([[1.        , 0.0125394 , 0.01289618, ..., 0.71244189, 0.72511549,\n",
       "        0.73039319],\n",
       "       [0.0125394 , 1.        , 0.99995492, ..., 0.10218403, 0.09753344,\n",
       "        0.0956339 ],\n",
       "       [0.01289618, 0.99995492, 1.        , ..., 0.10427289, 0.09954774,\n",
       "        0.0976174 ],\n",
       "       ...,\n",
       "       [0.71244189, 0.10218403, 0.10427289, ..., 1.        , 0.99976462,\n",
       "        0.99952595],\n",
       "       [0.72511549, 0.09753344, 0.09954774, ..., 0.99976462, 1.        ,\n",
       "        0.99995863],\n",
       "       [0.73039319, 0.0956339 , 0.0976174 , ..., 0.99952595, 0.99995863,\n",
       "        1.        ]])"
      ]
     },
     "execution_count": 205,
     "metadata": {},
     "output_type": "execute_result"
    }
   ],
   "source": []
  },
  {
   "cell_type": "code",
   "execution_count": 208,
   "metadata": {},
   "outputs": [
    {
     "data": {
      "text/plain": [
       "array([ 3.60455011e-03,  3.20472871e-04,  5.08545546e-05,  1.71724838e-05,\n",
       "        1.30455121e-05,  7.34007214e-06,  1.31497585e-06,  6.79460448e-07,\n",
       "        5.10752909e-07,  1.04773267e-07,  9.86711593e-08,  5.79589869e-08,\n",
       "        3.13479681e-08,  1.22743646e-08,  6.41832149e-09,  4.21512477e-09,\n",
       "        3.16439886e-09,  2.05329605e-09,  8.63191331e-10,  3.54268503e-10,\n",
       "        3.49650919e-10,  2.63843283e-10,  1.28451661e-10,  1.01719857e-10,\n",
       "        7.26371253e-11,  3.55293708e-11,  1.96316911e-11,  1.54593452e-11,\n",
       "        7.97133037e-12,  7.14398976e-12,  4.89885485e-12,  2.68141660e-12,\n",
       "        1.63334036e-12,  8.92488698e-13,  7.00935155e-13,  5.90233544e-13,\n",
       "        4.10232519e-13,  3.03045031e-13,  1.74733446e-13,  1.10087160e-13,\n",
       "        5.85608544e-14,  3.75155512e-14,  3.51000518e-14,  2.50289677e-14,\n",
       "        1.60031251e-14,  1.01931598e-14,  6.84319677e-15,  4.51150331e-15,\n",
       "        3.08888871e-15,  2.00720038e-15,  1.13683651e-15,  1.03540083e-15,\n",
       "        8.19413588e-16,  5.64634609e-16,  3.84380266e-16,  3.09935124e-16,\n",
       "        2.30484539e-16,  1.40354313e-16,  1.03773297e-16,  6.60458190e-17,\n",
       "        4.44917772e-17,  2.76006224e-17,  2.45519029e-17,  1.50163159e-17,\n",
       "        1.13046312e-17,  9.22885261e-18,  6.13832068e-18,  5.72698401e-18,\n",
       "        4.06692089e-18,  2.99073465e-18,  2.33935772e-18,  1.68812766e-18,\n",
       "        1.48483980e-18,  1.09156434e-18,  6.39830918e-19,  5.18983240e-19,\n",
       "        3.35473720e-19,  2.75679306e-19,  1.91611307e-19,  1.88601339e-19,\n",
       "        1.46118978e-19,  1.29148737e-19,  1.00815172e-19,  8.13699994e-20,\n",
       "        7.29880956e-20,  5.49684969e-20,  5.49684969e-20,  5.49172912e-20,\n",
       "        5.49172912e-20,  4.60190115e-20,  4.60190115e-20,  4.05121306e-20,\n",
       "        4.05121306e-20,  1.89000582e-20,  1.89000582e-20,  9.37081367e-21,\n",
       "        9.37081367e-21, -3.88335902e-20, -3.88335902e-20, -4.22203640e-20,\n",
       "       -4.22203640e-20, -5.15805970e-20, -5.67682209e-20])"
      ]
     },
     "execution_count": 208,
     "metadata": {},
     "output_type": "execute_result"
    }
   ],
   "source": [
    "np.sort(eigvals[0].real)[::-1]"
   ]
  },
  {
   "cell_type": "code",
   "execution_count": 194,
   "metadata": {},
   "outputs": [
    {
     "name": "stdout",
     "output_type": "stream",
     "text": [
      "68.28\n",
      "98.78\n",
      "96.04\n",
      "99.96\n",
      "99.98\n",
      "99.99\n",
      "99.95\n",
      "99.95\n",
      "99.96\n",
      "99.96\n",
      "99.86\n",
      "100.00\n",
      "99.96\n",
      "99.99\n",
      "99.98\n",
      "99.98\n",
      "99.99\n",
      "100.00\n",
      "99.94\n",
      "99.99\n",
      "99.99\n",
      "99.98\n",
      "99.99\n",
      "100.00\n",
      "100.00\n",
      "99.98\n",
      "100.00\n",
      "99.99\n",
      "99.99\n",
      "99.99\n",
      "100.00\n",
      "99.99\n",
      "99.99\n",
      "100.00\n",
      "99.99\n",
      "99.99\n",
      "99.99\n",
      "100.00\n",
      "99.98\n",
      "99.94\n",
      "99.99\n",
      "100.00\n",
      "99.97\n",
      "100.00\n",
      "99.97\n",
      "99.98\n",
      "99.98\n",
      "100.00\n",
      "99.98\n",
      "100.00\n",
      "100.00\n",
      "100.00\n",
      "100.00\n"
     ]
    }
   ],
   "source": [
    "for _x in np.sort(eigvals[1].real)[::-1] / np.sort(eigvals[0].real)[::-1]:\n",
    "    print(f'{_x:.2f}')"
   ]
  },
  {
   "cell_type": "code",
   "execution_count": null,
   "metadata": {},
   "outputs": [],
   "source": [
    "\n",
    "max_imag_part = np.max(U.imag)\n",
    "if max_imag_part >= 10.0 * U.shape[0] * np.finfo(U.dtype).eps:\n",
    "    logger.warning(\n",
    "        \"The computed projector is not real. The Kernel matrix is severely ill-conditioned.\"\n",
    "    )\n",
    "U = np.real(U)\n",
    "# Post-process U. Promote numerical stability via additional QR decoposition if necessary.\n",
    "U = U[:, topk(sigma_sq.real, rank).indices]\n",
    "\n",
    "norm_inducing_op = (K_Xn @ K_Xn.T) + tikhonov_reg * K_X\n",
    "U, _, columns_permutation = modified_QR(\n",
    "    U, M=norm_inducing_op, column_pivoting=True\n",
    ")\n",
    "U = U[:, np.argsort(columns_permutation)]\n",
    "if U.shape[1] < rank:\n",
    "    logger.warning(\n",
    "        f\"The numerical rank of the projector is smaller than the selected rank ({rank}). {rank - U.shape[1]} \"\n",
    "        f\"degrees of freedom will be ignored.\"\n",
    "    )\n",
    "    _zeroes = np.zeros((U.shape[0], rank - U.shape[1]))\n",
    "    U = np.c_[U, _zeroes]\n",
    "    assert U.shape[1] == rank\n",
    "V = K_X @ np.asfortranarray(U)\n",
    "if _return_singular_values:\n",
    "    return U, V, sigma_sq\n",
    "else:\n",
    "    return U, V"
   ]
  },
  {
   "cell_type": "markdown",
   "metadata": {},
   "source": [
    "## Nystroem PCR"
   ]
  },
  {
   "cell_type": "markdown",
   "metadata": {},
   "source": [
    "## A better RRR"
   ]
  },
  {
   "cell_type": "code",
   "execution_count": 13,
   "metadata": {},
   "outputs": [
    {
     "name": "stdout",
     "output_type": "stream",
     "text": [
      "Fitted KernelDMD model. Lookback length set to 1\n"
     ]
    },
    {
     "name": "stderr",
     "output_type": "stream",
     "text": [
      "/Users/pietronovelli/code_repos/kooplearn/kooplearn/_src/operator_regression/dual.py:69: RuntimeWarning: invalid value encountered in matmul\n",
      "  norm_inducing_op = (K_Xn @ K_Xn.T) + tikhonov_reg * K_X\n"
     ]
    },
    {
     "data": {
      "text/plain": [
       "<kooplearn.models.kernel.KernelDMD at 0x28d25bfd0>"
      ]
     },
     "execution_count": 13,
     "metadata": {},
     "output_type": "execute_result"
    }
   ],
   "source": [
    "base_estimator = KernelDMD(kernel=kernel, reduced_rank=True, tikhonov_reg=1e-6, rank = 20, svd_solver='arnoldi')\n",
    "base_estimator.fit(train_data)"
   ]
  },
  {
   "cell_type": "code",
   "execution_count": 14,
   "metadata": {},
   "outputs": [],
   "source": [
    "def compare_fits(U_ref, V_ref, U_est, V_est):\n",
    "    W_ref = U_ref @ V_ref.T\n",
    "    W_est = U_est @ V_est.T\n",
    "    return np.linalg.norm(W_ref - W_est, ord='fro') / np.linalg.norm(W_ref, ord='fro')"
   ]
  },
  {
   "cell_type": "code",
   "execution_count": 15,
   "metadata": {},
   "outputs": [],
   "source": [
    "kernel_X = base_estimator.kernel_X\n",
    "kernel_Y = base_estimator.kernel_Y\n",
    "kernel_YX = base_estimator.kernel_YX\n",
    "\n",
    "tikhonov_reg = 1e-3\n",
    "rank = 20"
   ]
  },
  {
   "cell_type": "markdown",
   "metadata": {},
   "source": []
  },
  {
   "cell_type": "code",
   "execution_count": 16,
   "metadata": {},
   "outputs": [],
   "source": [
    "from scipy.sparse.linalg import LinearOperator"
   ]
  },
  {
   "cell_type": "code",
   "execution_count": null,
   "metadata": {},
   "outputs": [],
   "source": [
    "def fast_mv(x):\n",
    "    "
   ]
  },
  {
   "cell_type": "code",
   "execution_count": 17,
   "metadata": {},
   "outputs": [],
   "source": [
    "from kooplearn._src.operator_regression.dual import fit_reduced_rank_regression, regularize"
   ]
  },
  {
   "cell_type": "code",
   "execution_count": 59,
   "metadata": {},
   "outputs": [],
   "source": [
    "from scipy.sparse import bsr_array, kron\n",
    "from scipy.sparse.linalg import eigsh, aslinearoperator\n",
    "\n",
    "def sym_rrr(\n",
    "    K_X: np.ndarray,  # Kernel matrix of the input data\n",
    "    K_Y: np.ndarray,  # Kernel matrix of the output data\n",
    "    tikhonov_reg: float,  # Tikhonov regularization parameter, can be 0\n",
    "    rank: int,  # Rank of the estimator\n",
    "    svd_solver: str = \"arnoldi\",  # SVD solver to use. 'arnoldi' is faster but might be numerically unstable.\n",
    "    _return_singular_values: bool = False\n",
    "    # Whether to return the singular values of the projector. (Development purposes)\n",
    ") -> tuple[np.ndarray, np.ndarray] or tuple[np.ndarray, np.ndarray, np.ndarray]:\n",
    "    if tikhonov_reg == 0.0:\n",
    "        raise NotImplementedError(\"Symmetric RRR without Tikhonov regularization is not implemented yet.\")\n",
    "    else:\n",
    "        dim = K_X.shape[0]\n",
    "        rsqrt_dim = dim ** (-0.5)\n",
    "        # Rescaled Kernel matrices\n",
    "        K_Xn = K_X * rsqrt_dim\n",
    "        K_Yn = K_Y * rsqrt_dim\n",
    "\n",
    "        def fast_Amv(x):\n",
    "            dim = x.shape[0] // 2\n",
    "            u = x[:dim]\n",
    "            v = x[dim:]\n",
    "            return np.r_[K_Xn @ (K_Yn @ v), K_Yn @ (K_Xn @ u)]\n",
    "\n",
    "        def fast_Mmv(x):\n",
    "            dim = x.shape[0] // 2\n",
    "            u = x[:dim]\n",
    "            v = x[dim:]\n",
    "            reg_K = regularize(K_X, tikhonov_reg)\n",
    "            return np.r_[reg_K @ v, reg_K @ u]\n",
    "\n",
    "        A = LinearOperator((2 * dim, 2 * dim), matvec=fast_Amv)\n",
    "        M = LinearOperator((2 * dim, 2 * dim), matvec=fast_Mmv)\n",
    "\n",
    "\n",
    "        if svd_solver == \"arnoldi\":\n",
    "            # Adding a small buffer to the Arnoldi-computed eigenvalues.\n",
    "            _num_arnoldi_eigs = min(2*rank + 6, dim*2)\n",
    "            sigma_sq, U = eigsh(A, k=_num_arnoldi_eigs, M=M)\n",
    "        else:  # 'full'\n",
    "            sigma_sq, U = eig(K, regularize(K_X, tikhonov_reg))\n",
    "\n",
    "        max_imag_part = np.max(U.imag)\n",
    "        if max_imag_part >= 10.0 * U.shape[0] * np.finfo(U.dtype).eps:\n",
    "            logger.warning(\n",
    "                \"The computed projector is not real. The Kernel matrix is severely ill-conditioned.\"\n",
    "            )\n",
    "        U = np.real(U)\n",
    "        # Post-process U. Promote numerical stability via additional QR decoposition if necessary.\n",
    "        U = U[:, topk(sigma_sq.real, rank).indices]\n",
    "\n",
    "        norm_inducing_op = (K_Xn @ K_Xn.T) + tikhonov_reg * K_X\n",
    "        U, _, columns_permutation = modified_QR(\n",
    "            U, M=norm_inducing_op, column_pivoting=True\n",
    "        )\n",
    "        U = U[:, np.argsort(columns_permutation)]\n",
    "        if U.shape[1] < rank:\n",
    "            logger.warning(\n",
    "                f\"The numerical rank of the projector is smaller than the selected rank ({rank}). {rank - U.shape[1]} \"\n",
    "                f\"degrees of freedom will be ignored.\"\n",
    "            )\n",
    "            _zeroes = np.zeros((U.shape[0], rank - U.shape[1]))\n",
    "            U = np.c_[U, _zeroes]\n",
    "            assert U.shape[1] == rank\n",
    "        V = K_X @ np.asfortranarray(U)\n",
    "        if _return_singular_values:\n",
    "            return U, V, sigma_sq\n",
    "        else:\n",
    "            return U, V"
   ]
  },
  {
   "cell_type": "code",
   "execution_count": 22,
   "metadata": {},
   "outputs": [],
   "source": [
    "from scipy.sparse import bmat, csr_array\n",
    "from scipy.sparse.linalg import eigsh"
   ]
  },
  {
   "cell_type": "code",
   "execution_count": 19,
   "metadata": {},
   "outputs": [],
   "source": [
    "K_X = base_estimator.kernel_X\n",
    "K_Y = base_estimator.kernel_Y\n",
    "\n",
    "dim = K_X.shape[0]\n",
    "rsqrt_dim = dim ** (-0.5)\n",
    "# Rescaled Kernel matrices\n",
    "K_Xn = K_X * rsqrt_dim\n",
    "K_Yn = K_Y * rsqrt_dim\n",
    "\n",
    "K = K_Yn @ K_Xn\n",
    "Kreg = regularize(K_X, tikhonov_reg)\n",
    "# Adding a small buffer to the Arnoldi-computed eigenvalues.\n",
    "# _num_arnoldi_eigs = min(2*rank + 6, dim*2)\n",
    "# sigma_sq, U = eigsh(A, k=_num_arnoldi_eigs, M=M)"
   ]
  },
  {
   "cell_type": "code",
   "execution_count": 20,
   "metadata": {},
   "outputs": [],
   "source": [
    "spK = csr_array(bmat([[None, K], [K.T, None]], format = 'csr'))\n",
    "spKreg = csr_array(bmat([[None, Kreg], [Kreg, None]], format = 'csr'))"
   ]
  },
  {
   "cell_type": "code",
   "execution_count": 28,
   "metadata": {},
   "outputs": [
    {
     "ename": "KeyboardInterrupt",
     "evalue": "",
     "output_type": "error",
     "traceback": [
      "\u001b[0;31m---------------------------------------------------------------------------\u001b[0m",
      "\u001b[0;31mKeyboardInterrupt\u001b[0m                         Traceback (most recent call last)",
      "Cell \u001b[0;32mIn[28], line 2\u001b[0m\n\u001b[1;32m      1\u001b[0m _num_arnoldi_eigs \u001b[38;5;241m=\u001b[39m \u001b[38;5;28mmin\u001b[39m(\u001b[38;5;241m6\u001b[39m, dim\u001b[38;5;241m*\u001b[39m\u001b[38;5;241m2\u001b[39m)\n\u001b[0;32m----> 2\u001b[0m sigma_sq, U \u001b[38;5;241m=\u001b[39m \u001b[43meigsh\u001b[49m\u001b[43m(\u001b[49m\u001b[43mspK\u001b[49m\u001b[43m,\u001b[49m\u001b[43m \u001b[49m\u001b[43mk\u001b[49m\u001b[38;5;241;43m=\u001b[39;49m\u001b[43m_num_arnoldi_eigs\u001b[49m\u001b[43m,\u001b[49m\u001b[43m \u001b[49m\u001b[43mM\u001b[49m\u001b[38;5;241;43m=\u001b[39;49m\u001b[43mspKreg\u001b[49m\u001b[43m,\u001b[49m\u001b[43m \u001b[49m\u001b[43mmode\u001b[49m\u001b[38;5;241;43m=\u001b[39;49m\u001b[38;5;124;43m'\u001b[39;49m\u001b[38;5;124;43mbuckling\u001b[39;49m\u001b[38;5;124;43m'\u001b[39;49m\u001b[43m,\u001b[49m\u001b[43m \u001b[49m\u001b[43msigma\u001b[49m\u001b[38;5;241;43m=\u001b[39;49m\u001b[38;5;241;43m100\u001b[39;49m\u001b[43m)\u001b[49m\n",
      "File \u001b[0;32m~/anaconda3/envs/kooplearn/lib/python3.11/site-packages/scipy/sparse/linalg/_eigen/arpack/arpack.py:1697\u001b[0m, in \u001b[0;36meigsh\u001b[0;34m(A, k, M, sigma, which, v0, ncv, maxiter, tol, return_eigenvectors, Minv, OPinv, mode)\u001b[0m\n\u001b[1;32m   1695\u001b[0m \u001b[38;5;28;01mwith\u001b[39;00m _ARPACK_LOCK:\n\u001b[1;32m   1696\u001b[0m     \u001b[38;5;28;01mwhile\u001b[39;00m \u001b[38;5;129;01mnot\u001b[39;00m params\u001b[38;5;241m.\u001b[39mconverged:\n\u001b[0;32m-> 1697\u001b[0m         \u001b[43mparams\u001b[49m\u001b[38;5;241;43m.\u001b[39;49m\u001b[43miterate\u001b[49m\u001b[43m(\u001b[49m\u001b[43m)\u001b[49m\n\u001b[1;32m   1699\u001b[0m     \u001b[38;5;28;01mreturn\u001b[39;00m params\u001b[38;5;241m.\u001b[39mextract(return_eigenvectors)\n",
      "File \u001b[0;32m~/anaconda3/envs/kooplearn/lib/python3.11/site-packages/scipy/sparse/linalg/_eigen/arpack/arpack.py:560\u001b[0m, in \u001b[0;36m_SymmetricArpackParams.iterate\u001b[0;34m(self)\u001b[0m\n\u001b[1;32m    558\u001b[0m     \u001b[38;5;28;01melse\u001b[39;00m:\n\u001b[1;32m    559\u001b[0m         Bxslice \u001b[38;5;241m=\u001b[39m \u001b[38;5;28mslice\u001b[39m(\u001b[38;5;28mself\u001b[39m\u001b[38;5;241m.\u001b[39mipntr[\u001b[38;5;241m2\u001b[39m] \u001b[38;5;241m-\u001b[39m \u001b[38;5;241m1\u001b[39m, \u001b[38;5;28mself\u001b[39m\u001b[38;5;241m.\u001b[39mipntr[\u001b[38;5;241m2\u001b[39m] \u001b[38;5;241m-\u001b[39m \u001b[38;5;241m1\u001b[39m \u001b[38;5;241m+\u001b[39m \u001b[38;5;28mself\u001b[39m\u001b[38;5;241m.\u001b[39mn)\n\u001b[0;32m--> 560\u001b[0m         \u001b[38;5;28mself\u001b[39m\u001b[38;5;241m.\u001b[39mworkd[yslice] \u001b[38;5;241m=\u001b[39m \u001b[38;5;28;43mself\u001b[39;49m\u001b[38;5;241;43m.\u001b[39;49m\u001b[43mOPa\u001b[49m\u001b[43m(\u001b[49m\u001b[38;5;28;43mself\u001b[39;49m\u001b[38;5;241;43m.\u001b[39;49m\u001b[43mworkd\u001b[49m\u001b[43m[\u001b[49m\u001b[43mBxslice\u001b[49m\u001b[43m]\u001b[49m\u001b[43m)\u001b[49m\n\u001b[1;32m    561\u001b[0m \u001b[38;5;28;01melif\u001b[39;00m \u001b[38;5;28mself\u001b[39m\u001b[38;5;241m.\u001b[39mido \u001b[38;5;241m==\u001b[39m \u001b[38;5;241m2\u001b[39m:\n\u001b[1;32m    562\u001b[0m     \u001b[38;5;28mself\u001b[39m\u001b[38;5;241m.\u001b[39mworkd[yslice] \u001b[38;5;241m=\u001b[39m \u001b[38;5;28mself\u001b[39m\u001b[38;5;241m.\u001b[39mB(\u001b[38;5;28mself\u001b[39m\u001b[38;5;241m.\u001b[39mworkd[xslice])\n",
      "File \u001b[0;32m~/anaconda3/envs/kooplearn/lib/python3.11/site-packages/scipy/sparse/linalg/_interface.py:234\u001b[0m, in \u001b[0;36mLinearOperator.matvec\u001b[0;34m(self, x)\u001b[0m\n\u001b[1;32m    231\u001b[0m \u001b[38;5;28;01mif\u001b[39;00m x\u001b[38;5;241m.\u001b[39mshape \u001b[38;5;241m!=\u001b[39m (N,) \u001b[38;5;129;01mand\u001b[39;00m x\u001b[38;5;241m.\u001b[39mshape \u001b[38;5;241m!=\u001b[39m (N,\u001b[38;5;241m1\u001b[39m):\n\u001b[1;32m    232\u001b[0m     \u001b[38;5;28;01mraise\u001b[39;00m \u001b[38;5;167;01mValueError\u001b[39;00m(\u001b[38;5;124m'\u001b[39m\u001b[38;5;124mdimension mismatch\u001b[39m\u001b[38;5;124m'\u001b[39m)\n\u001b[0;32m--> 234\u001b[0m y \u001b[38;5;241m=\u001b[39m \u001b[38;5;28;43mself\u001b[39;49m\u001b[38;5;241;43m.\u001b[39;49m\u001b[43m_matvec\u001b[49m\u001b[43m(\u001b[49m\u001b[43mx\u001b[49m\u001b[43m)\u001b[49m\n\u001b[1;32m    236\u001b[0m \u001b[38;5;28;01mif\u001b[39;00m \u001b[38;5;28misinstance\u001b[39m(x, np\u001b[38;5;241m.\u001b[39mmatrix):\n\u001b[1;32m    237\u001b[0m     y \u001b[38;5;241m=\u001b[39m asmatrix(y)\n",
      "File \u001b[0;32m~/anaconda3/envs/kooplearn/lib/python3.11/site-packages/scipy/sparse/linalg/_eigen/arpack/arpack.py:928\u001b[0m, in \u001b[0;36mSpLuInv._matvec\u001b[0;34m(self, x)\u001b[0m\n\u001b[1;32m    925\u001b[0m     \u001b[38;5;28;01mreturn\u001b[39;00m (\u001b[38;5;28mself\u001b[39m\u001b[38;5;241m.\u001b[39mM_lu\u001b[38;5;241m.\u001b[39msolve(np\u001b[38;5;241m.\u001b[39mreal(x)\u001b[38;5;241m.\u001b[39mastype(\u001b[38;5;28mself\u001b[39m\u001b[38;5;241m.\u001b[39mdtype))\n\u001b[1;32m    926\u001b[0m             \u001b[38;5;241m+\u001b[39m \u001b[38;5;241m1\u001b[39mj \u001b[38;5;241m*\u001b[39m \u001b[38;5;28mself\u001b[39m\u001b[38;5;241m.\u001b[39mM_lu\u001b[38;5;241m.\u001b[39msolve(np\u001b[38;5;241m.\u001b[39mimag(x)\u001b[38;5;241m.\u001b[39mastype(\u001b[38;5;28mself\u001b[39m\u001b[38;5;241m.\u001b[39mdtype)))\n\u001b[1;32m    927\u001b[0m \u001b[38;5;28;01melse\u001b[39;00m:\n\u001b[0;32m--> 928\u001b[0m     \u001b[38;5;28;01mreturn\u001b[39;00m \u001b[38;5;28;43mself\u001b[39;49m\u001b[38;5;241;43m.\u001b[39;49m\u001b[43mM_lu\u001b[49m\u001b[38;5;241;43m.\u001b[39;49m\u001b[43msolve\u001b[49m\u001b[43m(\u001b[49m\u001b[43mx\u001b[49m\u001b[38;5;241;43m.\u001b[39;49m\u001b[43mastype\u001b[49m\u001b[43m(\u001b[49m\u001b[38;5;28;43mself\u001b[39;49m\u001b[38;5;241;43m.\u001b[39;49m\u001b[43mdtype\u001b[49m\u001b[43m)\u001b[49m\u001b[43m)\u001b[49m\n",
      "\u001b[0;31mKeyboardInterrupt\u001b[0m: "
     ]
    }
   ],
   "source": [
    "_num_arnoldi_eigs = min(6, dim*2)\n",
    "sigma_sq, U = eigsh(spK, k=_num_arnoldi_eigs, M=spKreg, mode='buckling', sigma=100)"
   ]
  },
  {
   "cell_type": "code",
   "execution_count": 24,
   "metadata": {},
   "outputs": [
    {
     "data": {
      "text/plain": [
       "array([-43.28340139, -37.77323298, -35.28737111, -34.87946822,\n",
       "        36.55874902,  42.06891736])"
      ]
     },
     "execution_count": 24,
     "metadata": {},
     "output_type": "execute_result"
    }
   ],
   "source": [
    "sigma_sq"
   ]
  },
  {
   "cell_type": "code",
   "execution_count": 142,
   "metadata": {},
   "outputs": [],
   "source": [
    "import matplotlib.pyplot as plt"
   ]
  },
  {
   "cell_type": "code",
   "execution_count": 143,
   "metadata": {},
   "outputs": [
    {
     "data": {
      "text/plain": [
       "<matplotlib.lines.Line2D at 0x13c6c7fd0>"
      ]
     },
     "execution_count": 143,
     "metadata": {},
     "output_type": "execute_result"
    },
    {
     "name": "stdout",
     "output_type": "stream",
     "text": [
      "Error in callback <function _draw_all_if_interactive at 0x28f01df80> (for post_execute):\n"
     ]
    },
    {
     "ename": "KeyboardInterrupt",
     "evalue": "",
     "output_type": "error",
     "traceback": [
      "\u001b[0;31m---------------------------------------------------------------------------\u001b[0m",
      "\u001b[0;31mKeyboardInterrupt\u001b[0m                         Traceback (most recent call last)",
      "File \u001b[0;32m~/anaconda3/envs/kooplearn/lib/python3.11/site-packages/matplotlib/pyplot.py:120\u001b[0m, in \u001b[0;36m_draw_all_if_interactive\u001b[0;34m()\u001b[0m\n\u001b[1;32m    118\u001b[0m \u001b[38;5;28;01mdef\u001b[39;00m \u001b[38;5;21m_draw_all_if_interactive\u001b[39m():\n\u001b[1;32m    119\u001b[0m     \u001b[38;5;28;01mif\u001b[39;00m matplotlib\u001b[38;5;241m.\u001b[39mis_interactive():\n\u001b[0;32m--> 120\u001b[0m         \u001b[43mdraw_all\u001b[49m\u001b[43m(\u001b[49m\u001b[43m)\u001b[49m\n",
      "File \u001b[0;32m~/anaconda3/envs/kooplearn/lib/python3.11/site-packages/matplotlib/_pylab_helpers.py:132\u001b[0m, in \u001b[0;36mGcf.draw_all\u001b[0;34m(cls, force)\u001b[0m\n\u001b[1;32m    130\u001b[0m \u001b[38;5;28;01mfor\u001b[39;00m manager \u001b[38;5;129;01min\u001b[39;00m \u001b[38;5;28mcls\u001b[39m\u001b[38;5;241m.\u001b[39mget_all_fig_managers():\n\u001b[1;32m    131\u001b[0m     \u001b[38;5;28;01mif\u001b[39;00m force \u001b[38;5;129;01mor\u001b[39;00m manager\u001b[38;5;241m.\u001b[39mcanvas\u001b[38;5;241m.\u001b[39mfigure\u001b[38;5;241m.\u001b[39mstale:\n\u001b[0;32m--> 132\u001b[0m         \u001b[43mmanager\u001b[49m\u001b[38;5;241;43m.\u001b[39;49m\u001b[43mcanvas\u001b[49m\u001b[38;5;241;43m.\u001b[39;49m\u001b[43mdraw_idle\u001b[49m\u001b[43m(\u001b[49m\u001b[43m)\u001b[49m\n",
      "File \u001b[0;32m~/anaconda3/envs/kooplearn/lib/python3.11/site-packages/matplotlib/backend_bases.py:2082\u001b[0m, in \u001b[0;36mFigureCanvasBase.draw_idle\u001b[0;34m(self, *args, **kwargs)\u001b[0m\n\u001b[1;32m   2080\u001b[0m \u001b[38;5;28;01mif\u001b[39;00m \u001b[38;5;129;01mnot\u001b[39;00m \u001b[38;5;28mself\u001b[39m\u001b[38;5;241m.\u001b[39m_is_idle_drawing:\n\u001b[1;32m   2081\u001b[0m     \u001b[38;5;28;01mwith\u001b[39;00m \u001b[38;5;28mself\u001b[39m\u001b[38;5;241m.\u001b[39m_idle_draw_cntx():\n\u001b[0;32m-> 2082\u001b[0m         \u001b[38;5;28;43mself\u001b[39;49m\u001b[38;5;241;43m.\u001b[39;49m\u001b[43mdraw\u001b[49m\u001b[43m(\u001b[49m\u001b[38;5;241;43m*\u001b[39;49m\u001b[43margs\u001b[49m\u001b[43m,\u001b[49m\u001b[43m \u001b[49m\u001b[38;5;241;43m*\u001b[39;49m\u001b[38;5;241;43m*\u001b[39;49m\u001b[43mkwargs\u001b[49m\u001b[43m)\u001b[49m\n",
      "File \u001b[0;32m~/anaconda3/envs/kooplearn/lib/python3.11/site-packages/matplotlib/backends/backend_agg.py:400\u001b[0m, in \u001b[0;36mFigureCanvasAgg.draw\u001b[0;34m(self)\u001b[0m\n\u001b[1;32m    396\u001b[0m \u001b[38;5;66;03m# Acquire a lock on the shared font cache.\u001b[39;00m\n\u001b[1;32m    397\u001b[0m \u001b[38;5;28;01mwith\u001b[39;00m RendererAgg\u001b[38;5;241m.\u001b[39mlock, \\\n\u001b[1;32m    398\u001b[0m      (\u001b[38;5;28mself\u001b[39m\u001b[38;5;241m.\u001b[39mtoolbar\u001b[38;5;241m.\u001b[39m_wait_cursor_for_draw_cm() \u001b[38;5;28;01mif\u001b[39;00m \u001b[38;5;28mself\u001b[39m\u001b[38;5;241m.\u001b[39mtoolbar\n\u001b[1;32m    399\u001b[0m       \u001b[38;5;28;01melse\u001b[39;00m nullcontext()):\n\u001b[0;32m--> 400\u001b[0m     \u001b[38;5;28;43mself\u001b[39;49m\u001b[38;5;241;43m.\u001b[39;49m\u001b[43mfigure\u001b[49m\u001b[38;5;241;43m.\u001b[39;49m\u001b[43mdraw\u001b[49m\u001b[43m(\u001b[49m\u001b[38;5;28;43mself\u001b[39;49m\u001b[38;5;241;43m.\u001b[39;49m\u001b[43mrenderer\u001b[49m\u001b[43m)\u001b[49m\n\u001b[1;32m    401\u001b[0m     \u001b[38;5;66;03m# A GUI class may be need to update a window using this draw, so\u001b[39;00m\n\u001b[1;32m    402\u001b[0m     \u001b[38;5;66;03m# don't forget to call the superclass.\u001b[39;00m\n\u001b[1;32m    403\u001b[0m     \u001b[38;5;28msuper\u001b[39m()\u001b[38;5;241m.\u001b[39mdraw()\n",
      "File \u001b[0;32m~/anaconda3/envs/kooplearn/lib/python3.11/site-packages/matplotlib/artist.py:95\u001b[0m, in \u001b[0;36m_finalize_rasterization.<locals>.draw_wrapper\u001b[0;34m(artist, renderer, *args, **kwargs)\u001b[0m\n\u001b[1;32m     93\u001b[0m \u001b[38;5;129m@wraps\u001b[39m(draw)\n\u001b[1;32m     94\u001b[0m \u001b[38;5;28;01mdef\u001b[39;00m \u001b[38;5;21mdraw_wrapper\u001b[39m(artist, renderer, \u001b[38;5;241m*\u001b[39margs, \u001b[38;5;241m*\u001b[39m\u001b[38;5;241m*\u001b[39mkwargs):\n\u001b[0;32m---> 95\u001b[0m     result \u001b[38;5;241m=\u001b[39m \u001b[43mdraw\u001b[49m\u001b[43m(\u001b[49m\u001b[43martist\u001b[49m\u001b[43m,\u001b[49m\u001b[43m \u001b[49m\u001b[43mrenderer\u001b[49m\u001b[43m,\u001b[49m\u001b[43m \u001b[49m\u001b[38;5;241;43m*\u001b[39;49m\u001b[43margs\u001b[49m\u001b[43m,\u001b[49m\u001b[43m \u001b[49m\u001b[38;5;241;43m*\u001b[39;49m\u001b[38;5;241;43m*\u001b[39;49m\u001b[43mkwargs\u001b[49m\u001b[43m)\u001b[49m\n\u001b[1;32m     96\u001b[0m     \u001b[38;5;28;01mif\u001b[39;00m renderer\u001b[38;5;241m.\u001b[39m_rasterizing:\n\u001b[1;32m     97\u001b[0m         renderer\u001b[38;5;241m.\u001b[39mstop_rasterizing()\n",
      "File \u001b[0;32m~/anaconda3/envs/kooplearn/lib/python3.11/site-packages/matplotlib/artist.py:72\u001b[0m, in \u001b[0;36mallow_rasterization.<locals>.draw_wrapper\u001b[0;34m(artist, renderer)\u001b[0m\n\u001b[1;32m     69\u001b[0m     \u001b[38;5;28;01mif\u001b[39;00m artist\u001b[38;5;241m.\u001b[39mget_agg_filter() \u001b[38;5;129;01mis\u001b[39;00m \u001b[38;5;129;01mnot\u001b[39;00m \u001b[38;5;28;01mNone\u001b[39;00m:\n\u001b[1;32m     70\u001b[0m         renderer\u001b[38;5;241m.\u001b[39mstart_filter()\n\u001b[0;32m---> 72\u001b[0m     \u001b[38;5;28;01mreturn\u001b[39;00m \u001b[43mdraw\u001b[49m\u001b[43m(\u001b[49m\u001b[43martist\u001b[49m\u001b[43m,\u001b[49m\u001b[43m \u001b[49m\u001b[43mrenderer\u001b[49m\u001b[43m)\u001b[49m\n\u001b[1;32m     73\u001b[0m \u001b[38;5;28;01mfinally\u001b[39;00m:\n\u001b[1;32m     74\u001b[0m     \u001b[38;5;28;01mif\u001b[39;00m artist\u001b[38;5;241m.\u001b[39mget_agg_filter() \u001b[38;5;129;01mis\u001b[39;00m \u001b[38;5;129;01mnot\u001b[39;00m \u001b[38;5;28;01mNone\u001b[39;00m:\n",
      "File \u001b[0;32m~/anaconda3/envs/kooplearn/lib/python3.11/site-packages/matplotlib/figure.py:3175\u001b[0m, in \u001b[0;36mFigure.draw\u001b[0;34m(self, renderer)\u001b[0m\n\u001b[1;32m   3172\u001b[0m         \u001b[38;5;66;03m# ValueError can occur when resizing a window.\u001b[39;00m\n\u001b[1;32m   3174\u001b[0m \u001b[38;5;28mself\u001b[39m\u001b[38;5;241m.\u001b[39mpatch\u001b[38;5;241m.\u001b[39mdraw(renderer)\n\u001b[0;32m-> 3175\u001b[0m \u001b[43mmimage\u001b[49m\u001b[38;5;241;43m.\u001b[39;49m\u001b[43m_draw_list_compositing_images\u001b[49m\u001b[43m(\u001b[49m\n\u001b[1;32m   3176\u001b[0m \u001b[43m    \u001b[49m\u001b[43mrenderer\u001b[49m\u001b[43m,\u001b[49m\u001b[43m \u001b[49m\u001b[38;5;28;43mself\u001b[39;49m\u001b[43m,\u001b[49m\u001b[43m \u001b[49m\u001b[43martists\u001b[49m\u001b[43m,\u001b[49m\u001b[43m \u001b[49m\u001b[38;5;28;43mself\u001b[39;49m\u001b[38;5;241;43m.\u001b[39;49m\u001b[43msuppressComposite\u001b[49m\u001b[43m)\u001b[49m\n\u001b[1;32m   3178\u001b[0m \u001b[38;5;28;01mfor\u001b[39;00m sfig \u001b[38;5;129;01min\u001b[39;00m \u001b[38;5;28mself\u001b[39m\u001b[38;5;241m.\u001b[39msubfigs:\n\u001b[1;32m   3179\u001b[0m     sfig\u001b[38;5;241m.\u001b[39mdraw(renderer)\n",
      "File \u001b[0;32m~/anaconda3/envs/kooplearn/lib/python3.11/site-packages/matplotlib/image.py:131\u001b[0m, in \u001b[0;36m_draw_list_compositing_images\u001b[0;34m(renderer, parent, artists, suppress_composite)\u001b[0m\n\u001b[1;32m    129\u001b[0m \u001b[38;5;28;01mif\u001b[39;00m not_composite \u001b[38;5;129;01mor\u001b[39;00m \u001b[38;5;129;01mnot\u001b[39;00m has_images:\n\u001b[1;32m    130\u001b[0m     \u001b[38;5;28;01mfor\u001b[39;00m a \u001b[38;5;129;01min\u001b[39;00m artists:\n\u001b[0;32m--> 131\u001b[0m         \u001b[43ma\u001b[49m\u001b[38;5;241;43m.\u001b[39;49m\u001b[43mdraw\u001b[49m\u001b[43m(\u001b[49m\u001b[43mrenderer\u001b[49m\u001b[43m)\u001b[49m\n\u001b[1;32m    132\u001b[0m \u001b[38;5;28;01melse\u001b[39;00m:\n\u001b[1;32m    133\u001b[0m     \u001b[38;5;66;03m# Composite any adjacent images together\u001b[39;00m\n\u001b[1;32m    134\u001b[0m     image_group \u001b[38;5;241m=\u001b[39m []\n",
      "File \u001b[0;32m~/anaconda3/envs/kooplearn/lib/python3.11/site-packages/matplotlib/artist.py:72\u001b[0m, in \u001b[0;36mallow_rasterization.<locals>.draw_wrapper\u001b[0;34m(artist, renderer)\u001b[0m\n\u001b[1;32m     69\u001b[0m     \u001b[38;5;28;01mif\u001b[39;00m artist\u001b[38;5;241m.\u001b[39mget_agg_filter() \u001b[38;5;129;01mis\u001b[39;00m \u001b[38;5;129;01mnot\u001b[39;00m \u001b[38;5;28;01mNone\u001b[39;00m:\n\u001b[1;32m     70\u001b[0m         renderer\u001b[38;5;241m.\u001b[39mstart_filter()\n\u001b[0;32m---> 72\u001b[0m     \u001b[38;5;28;01mreturn\u001b[39;00m \u001b[43mdraw\u001b[49m\u001b[43m(\u001b[49m\u001b[43martist\u001b[49m\u001b[43m,\u001b[49m\u001b[43m \u001b[49m\u001b[43mrenderer\u001b[49m\u001b[43m)\u001b[49m\n\u001b[1;32m     73\u001b[0m \u001b[38;5;28;01mfinally\u001b[39;00m:\n\u001b[1;32m     74\u001b[0m     \u001b[38;5;28;01mif\u001b[39;00m artist\u001b[38;5;241m.\u001b[39mget_agg_filter() \u001b[38;5;129;01mis\u001b[39;00m \u001b[38;5;129;01mnot\u001b[39;00m \u001b[38;5;28;01mNone\u001b[39;00m:\n",
      "File \u001b[0;32m~/anaconda3/envs/kooplearn/lib/python3.11/site-packages/matplotlib/axes/_base.py:3064\u001b[0m, in \u001b[0;36m_AxesBase.draw\u001b[0;34m(self, renderer)\u001b[0m\n\u001b[1;32m   3061\u001b[0m \u001b[38;5;28;01mif\u001b[39;00m artists_rasterized:\n\u001b[1;32m   3062\u001b[0m     _draw_rasterized(\u001b[38;5;28mself\u001b[39m\u001b[38;5;241m.\u001b[39mfigure, artists_rasterized, renderer)\n\u001b[0;32m-> 3064\u001b[0m \u001b[43mmimage\u001b[49m\u001b[38;5;241;43m.\u001b[39;49m\u001b[43m_draw_list_compositing_images\u001b[49m\u001b[43m(\u001b[49m\n\u001b[1;32m   3065\u001b[0m \u001b[43m    \u001b[49m\u001b[43mrenderer\u001b[49m\u001b[43m,\u001b[49m\u001b[43m \u001b[49m\u001b[38;5;28;43mself\u001b[39;49m\u001b[43m,\u001b[49m\u001b[43m \u001b[49m\u001b[43martists\u001b[49m\u001b[43m,\u001b[49m\u001b[43m \u001b[49m\u001b[38;5;28;43mself\u001b[39;49m\u001b[38;5;241;43m.\u001b[39;49m\u001b[43mfigure\u001b[49m\u001b[38;5;241;43m.\u001b[39;49m\u001b[43msuppressComposite\u001b[49m\u001b[43m)\u001b[49m\n\u001b[1;32m   3067\u001b[0m renderer\u001b[38;5;241m.\u001b[39mclose_group(\u001b[38;5;124m'\u001b[39m\u001b[38;5;124maxes\u001b[39m\u001b[38;5;124m'\u001b[39m)\n\u001b[1;32m   3068\u001b[0m \u001b[38;5;28mself\u001b[39m\u001b[38;5;241m.\u001b[39mstale \u001b[38;5;241m=\u001b[39m \u001b[38;5;28;01mFalse\u001b[39;00m\n",
      "File \u001b[0;32m~/anaconda3/envs/kooplearn/lib/python3.11/site-packages/matplotlib/image.py:131\u001b[0m, in \u001b[0;36m_draw_list_compositing_images\u001b[0;34m(renderer, parent, artists, suppress_composite)\u001b[0m\n\u001b[1;32m    129\u001b[0m \u001b[38;5;28;01mif\u001b[39;00m not_composite \u001b[38;5;129;01mor\u001b[39;00m \u001b[38;5;129;01mnot\u001b[39;00m has_images:\n\u001b[1;32m    130\u001b[0m     \u001b[38;5;28;01mfor\u001b[39;00m a \u001b[38;5;129;01min\u001b[39;00m artists:\n\u001b[0;32m--> 131\u001b[0m         \u001b[43ma\u001b[49m\u001b[38;5;241;43m.\u001b[39;49m\u001b[43mdraw\u001b[49m\u001b[43m(\u001b[49m\u001b[43mrenderer\u001b[49m\u001b[43m)\u001b[49m\n\u001b[1;32m    132\u001b[0m \u001b[38;5;28;01melse\u001b[39;00m:\n\u001b[1;32m    133\u001b[0m     \u001b[38;5;66;03m# Composite any adjacent images together\u001b[39;00m\n\u001b[1;32m    134\u001b[0m     image_group \u001b[38;5;241m=\u001b[39m []\n",
      "File \u001b[0;32m~/anaconda3/envs/kooplearn/lib/python3.11/site-packages/matplotlib/artist.py:72\u001b[0m, in \u001b[0;36mallow_rasterization.<locals>.draw_wrapper\u001b[0;34m(artist, renderer)\u001b[0m\n\u001b[1;32m     69\u001b[0m     \u001b[38;5;28;01mif\u001b[39;00m artist\u001b[38;5;241m.\u001b[39mget_agg_filter() \u001b[38;5;129;01mis\u001b[39;00m \u001b[38;5;129;01mnot\u001b[39;00m \u001b[38;5;28;01mNone\u001b[39;00m:\n\u001b[1;32m     70\u001b[0m         renderer\u001b[38;5;241m.\u001b[39mstart_filter()\n\u001b[0;32m---> 72\u001b[0m     \u001b[38;5;28;01mreturn\u001b[39;00m \u001b[43mdraw\u001b[49m\u001b[43m(\u001b[49m\u001b[43martist\u001b[49m\u001b[43m,\u001b[49m\u001b[43m \u001b[49m\u001b[43mrenderer\u001b[49m\u001b[43m)\u001b[49m\n\u001b[1;32m     73\u001b[0m \u001b[38;5;28;01mfinally\u001b[39;00m:\n\u001b[1;32m     74\u001b[0m     \u001b[38;5;28;01mif\u001b[39;00m artist\u001b[38;5;241m.\u001b[39mget_agg_filter() \u001b[38;5;129;01mis\u001b[39;00m \u001b[38;5;129;01mnot\u001b[39;00m \u001b[38;5;28;01mNone\u001b[39;00m:\n",
      "File \u001b[0;32m~/anaconda3/envs/kooplearn/lib/python3.11/site-packages/matplotlib/lines.py:863\u001b[0m, in \u001b[0;36mLine2D.draw\u001b[0;34m(self, renderer)\u001b[0m\n\u001b[1;32m    860\u001b[0m \u001b[38;5;28;01melse\u001b[39;00m:\n\u001b[1;32m    861\u001b[0m     \u001b[38;5;66;03m# Don't scale for pixels, and don't stroke them\u001b[39;00m\n\u001b[1;32m    862\u001b[0m     marker_trans \u001b[38;5;241m=\u001b[39m marker_trans\u001b[38;5;241m.\u001b[39mscale(w)\n\u001b[0;32m--> 863\u001b[0m \u001b[43mrenderer\u001b[49m\u001b[38;5;241;43m.\u001b[39;49m\u001b[43mdraw_markers\u001b[49m\u001b[43m(\u001b[49m\u001b[43mgc\u001b[49m\u001b[43m,\u001b[49m\u001b[43m \u001b[49m\u001b[43mmarker_path\u001b[49m\u001b[43m,\u001b[49m\u001b[43m \u001b[49m\u001b[43mmarker_trans\u001b[49m\u001b[43m,\u001b[49m\n\u001b[1;32m    864\u001b[0m \u001b[43m                      \u001b[49m\u001b[43msubsampled\u001b[49m\u001b[43m,\u001b[49m\u001b[43m \u001b[49m\u001b[43maffine\u001b[49m\u001b[38;5;241;43m.\u001b[39;49m\u001b[43mfrozen\u001b[49m\u001b[43m(\u001b[49m\u001b[43m)\u001b[49m\u001b[43m,\u001b[49m\n\u001b[1;32m    865\u001b[0m \u001b[43m                      \u001b[49m\u001b[43mfc_rgba\u001b[49m\u001b[43m)\u001b[49m\n\u001b[1;32m    867\u001b[0m alt_marker_path \u001b[38;5;241m=\u001b[39m marker\u001b[38;5;241m.\u001b[39mget_alt_path()\n\u001b[1;32m    868\u001b[0m \u001b[38;5;28;01mif\u001b[39;00m alt_marker_path:\n",
      "\u001b[0;31mKeyboardInterrupt\u001b[0m: "
     ]
    },
    {
     "ename": "",
     "evalue": "",
     "output_type": "error",
     "traceback": [
      "\u001b[1;31mCannot execute code, session has been disposed. Please try restarting the Kernel."
     ]
    }
   ],
   "source": [
    "plt.spy(spK)"
   ]
  },
  {
   "cell_type": "code",
   "execution_count": 15,
   "metadata": {},
   "outputs": [
    {
     "data": {
      "text/plain": [
       "array([[0., 1., 2., 3., 4.],\n",
       "       [0., 1., 2., 3., 4.],\n",
       "       [0., 1., 2., 3., 4.],\n",
       "       [0., 1., 2., 3., 4.],\n",
       "       [0., 1., 2., 3., 4.],\n",
       "       [0., 1., 2., 3., 4.],\n",
       "       [0., 1., 2., 3., 4.],\n",
       "       [0., 1., 2., 3., 4.],\n",
       "       [0., 1., 2., 3., 4.],\n",
       "       [0., 1., 2., 3., 4.],\n",
       "       [0., 1., 2., 3., 4.],\n",
       "       [0., 1., 2., 3., 4.],\n",
       "       [0., 1., 2., 3., 4.],\n",
       "       [0., 1., 2., 3., 4.],\n",
       "       [0., 1., 2., 3., 4.],\n",
       "       [0., 1., 2., 3., 4.],\n",
       "       [0., 1., 2., 3., 4.],\n",
       "       [0., 1., 2., 3., 4.],\n",
       "       [0., 1., 2., 3., 4.],\n",
       "       [0., 1., 2., 3., 4.],\n",
       "       [0., 1., 2., 3., 4.],\n",
       "       [0., 1., 2., 3., 4.],\n",
       "       [0., 1., 2., 3., 4.],\n",
       "       [0., 1., 2., 3., 4.],\n",
       "       [0., 1., 2., 3., 4.],\n",
       "       [0., 1., 2., 3., 4.],\n",
       "       [0., 1., 2., 3., 4.],\n",
       "       [0., 1., 2., 3., 4.],\n",
       "       [0., 1., 2., 3., 4.],\n",
       "       [0., 1., 2., 3., 4.],\n",
       "       [0., 1., 2., 3., 4.],\n",
       "       [0., 1., 2., 3., 4.],\n",
       "       [0., 1., 2., 3., 4.],\n",
       "       [0., 1., 2., 3., 4.],\n",
       "       [0., 1., 2., 3., 4.],\n",
       "       [0., 1., 2., 3., 4.],\n",
       "       [0., 1., 2., 3., 4.],\n",
       "       [0., 1., 2., 3., 4.],\n",
       "       [0., 1., 2., 3., 4.],\n",
       "       [0., 1., 2., 3., 4.],\n",
       "       [0., 1., 2., 3., 4.],\n",
       "       [0., 1., 2., 3., 4.],\n",
       "       [0., 1., 2., 3., 4.],\n",
       "       [0., 1., 2., 3., 4.],\n",
       "       [0., 1., 2., 3., 4.],\n",
       "       [0., 1., 2., 3., 4.],\n",
       "       [0., 1., 2., 3., 4.],\n",
       "       [0., 1., 2., 3., 4.],\n",
       "       [0., 1., 2., 3., 4.],\n",
       "       [0., 1., 2., 3., 4.],\n",
       "       [0., 1., 2., 3., 4.],\n",
       "       [0., 1., 2., 3., 4.],\n",
       "       [0., 1., 2., 3., 4.],\n",
       "       [0., 1., 2., 3., 4.],\n",
       "       [0., 1., 2., 3., 4.],\n",
       "       [0., 1., 2., 3., 4.],\n",
       "       [0., 1., 2., 3., 4.],\n",
       "       [0., 1., 2., 3., 4.],\n",
       "       [0., 1., 2., 3., 4.],\n",
       "       [0., 1., 2., 3., 4.],\n",
       "       [0., 1., 2., 3., 4.],\n",
       "       [0., 1., 2., 3., 4.],\n",
       "       [0., 1., 2., 3., 4.],\n",
       "       [0., 1., 2., 3., 4.],\n",
       "       [0., 1., 2., 3., 4.],\n",
       "       [0., 1., 2., 3., 4.],\n",
       "       [0., 1., 2., 3., 4.],\n",
       "       [0., 1., 2., 3., 4.],\n",
       "       [0., 1., 2., 3., 4.],\n",
       "       [0., 1., 2., 3., 4.],\n",
       "       [0., 1., 2., 3., 4.],\n",
       "       [0., 1., 2., 3., 4.],\n",
       "       [0., 1., 2., 3., 4.],\n",
       "       [0., 1., 2., 3., 4.],\n",
       "       [0., 1., 2., 3., 4.],\n",
       "       [0., 1., 2., 3., 4.],\n",
       "       [0., 1., 2., 3., 4.],\n",
       "       [0., 1., 2., 3., 4.],\n",
       "       [0., 1., 2., 3., 4.],\n",
       "       [0., 1., 2., 3., 4.],\n",
       "       [0., 1., 2., 3., 4.],\n",
       "       [0., 1., 2., 3., 4.],\n",
       "       [0., 1., 2., 3., 4.],\n",
       "       [0., 1., 2., 3., 4.],\n",
       "       [0., 1., 2., 3., 4.],\n",
       "       [0., 1., 2., 3., 4.],\n",
       "       [0., 1., 2., 3., 4.],\n",
       "       [0., 1., 2., 3., 4.],\n",
       "       [0., 1., 2., 3., 4.],\n",
       "       [0., 1., 2., 3., 4.],\n",
       "       [0., 1., 2., 3., 4.],\n",
       "       [0., 1., 2., 3., 4.],\n",
       "       [0., 1., 2., 3., 4.],\n",
       "       [0., 1., 2., 3., 4.],\n",
       "       [0., 1., 2., 3., 4.],\n",
       "       [0., 1., 2., 3., 4.],\n",
       "       [0., 1., 2., 3., 4.],\n",
       "       [0., 1., 2., 3., 4.],\n",
       "       [0., 1., 2., 3., 4.],\n",
       "       [0., 1., 2., 3., 4.]])"
      ]
     },
     "execution_count": 15,
     "metadata": {},
     "output_type": "execute_result"
    }
   ],
   "source": [
    "np.ones((100, 5))*np.arange(5)"
   ]
  },
  {
   "cell_type": "code",
   "execution_count": null,
   "metadata": {},
   "outputs": [],
   "source": []
  }
 ],
 "metadata": {
  "kernelspec": {
   "display_name": "kooplearn",
   "language": "python",
   "name": "python3"
  },
  "language_info": {
   "codemirror_mode": {
    "name": "ipython",
    "version": 3
   },
   "file_extension": ".py",
   "mimetype": "text/x-python",
   "name": "python",
   "nbconvert_exporter": "python",
   "pygments_lexer": "ipython3",
   "version": "3.11.4"
  }
 },
 "nbformat": 4,
 "nbformat_minor": 2
}
