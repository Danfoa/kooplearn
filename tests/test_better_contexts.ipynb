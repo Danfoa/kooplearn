{
 "cells": [
  {
   "cell_type": "code",
   "execution_count": 9,
   "metadata": {
    "ExecuteTime": {
     "end_time": "2024-03-05T20:50:40.331627Z",
     "start_time": "2024-03-05T20:50:40.314464Z"
    }
   },
   "outputs": [
    {
     "name": "stdout",
     "output_type": "stream",
     "text": [
      "The autoreload extension is already loaded. To reload it, use:\n",
      "  %reload_ext autoreload\n"
     ]
    }
   ],
   "source": [
    "%load_ext autoreload\n",
    "%autoreload 2"
   ]
  },
  {
   "cell_type": "code",
   "execution_count": 27,
   "metadata": {
    "ExecuteTime": {
     "end_time": "2024-03-05T20:50:41.765084Z",
     "start_time": "2024-03-05T20:50:40.632290Z"
    }
   },
   "outputs": [],
   "source": [
    "from kooplearn.data import TrajectoryContexts\n",
    "import numpy as np"
   ]
  },
  {
   "cell_type": "code",
   "execution_count": 44,
   "metadata": {
    "ExecuteTime": {
     "end_time": "2024-03-05T20:50:42.830544Z",
     "start_time": "2024-03-05T20:50:42.810609Z"
    }
   },
   "outputs": [],
   "source": [
    "test_traj = np.arange(20, dtype = np.float32)"
   ]
  },
  {
   "cell_type": "code",
   "execution_count": 45,
   "metadata": {
    "ExecuteTime": {
     "end_time": "2024-03-05T20:50:43.816528Z",
     "start_time": "2024-03-05T20:50:43.792206Z"
    }
   },
   "outputs": [],
   "source": [
    "contexts = TrajectoryContexts(test_traj,\n",
    "    context_length = 3,\n",
    "    time_lag = 2)"
   ]
  },
  {
   "cell_type": "code",
   "execution_count": 46,
   "metadata": {},
   "outputs": [
    {
     "data": {
      "text/plain": [
       "array([[ 0,  2,  4],\n",
       "       [ 1,  3,  5],\n",
       "       [ 2,  4,  6],\n",
       "       [ 3,  5,  7],\n",
       "       [ 4,  6,  8],\n",
       "       [ 5,  7,  9],\n",
       "       [ 6,  8, 10],\n",
       "       [ 7,  9, 11],\n",
       "       [ 8, 10, 12],\n",
       "       [ 9, 11, 13],\n",
       "       [10, 12, 14],\n",
       "       [11, 13, 15],\n",
       "       [12, 14, 16],\n",
       "       [13, 15, 17],\n",
       "       [14, 16, 18],\n",
       "       [15, 17, 19]])"
      ]
     },
     "execution_count": 46,
     "metadata": {},
     "output_type": "execute_result"
    }
   ],
   "source": [
    "contexts.idx_map"
   ]
  },
  {
   "cell_type": "code",
   "execution_count": 47,
   "metadata": {},
   "outputs": [
    {
     "data": {
      "text/plain": [
       "array([[ True,  True,  True],\n",
       "       [ True,  True,  True],\n",
       "       [ True,  True,  True],\n",
       "       [ True,  True,  True],\n",
       "       [ True,  True,  True],\n",
       "       [ True,  True,  True],\n",
       "       [ True,  True,  True],\n",
       "       [ True,  True,  True],\n",
       "       [ True,  True,  True],\n",
       "       [ True,  True,  True],\n",
       "       [ True,  True,  True],\n",
       "       [ True,  True,  True],\n",
       "       [ True,  True,  True],\n",
       "       [ True,  True,  True],\n",
       "       [ True,  True,  True],\n",
       "       [ True,  True, False]])"
      ]
     },
     "execution_count": 47,
     "metadata": {},
     "output_type": "execute_result"
    }
   ],
   "source": [
    "contexts.idx_map + 1 < len(contexts.trajectory)"
   ]
  },
  {
   "cell_type": "code",
   "execution_count": 51,
   "metadata": {},
   "outputs": [],
   "source": [
    "clipped_out = np.take(contexts.trajectory, contexts.idx_map + 1, axis=0, mode='clip')\n",
    "np.place(clipped_out, ~(contexts.idx_map + 1 < len(contexts.trajectory)), np.NAN)"
   ]
  },
  {
   "cell_type": "code",
   "execution_count": 52,
   "metadata": {},
   "outputs": [],
   "source": []
  },
  {
   "cell_type": "code",
   "execution_count": 53,
   "metadata": {},
   "outputs": [
    {
     "data": {
      "text/plain": [
       "array([[[ 1.],\n",
       "        [ 3.],\n",
       "        [ 5.]],\n",
       "\n",
       "       [[ 2.],\n",
       "        [ 4.],\n",
       "        [ 6.]],\n",
       "\n",
       "       [[ 3.],\n",
       "        [ 5.],\n",
       "        [ 7.]],\n",
       "\n",
       "       [[ 4.],\n",
       "        [ 6.],\n",
       "        [ 8.]],\n",
       "\n",
       "       [[ 5.],\n",
       "        [ 7.],\n",
       "        [ 9.]],\n",
       "\n",
       "       [[ 6.],\n",
       "        [ 8.],\n",
       "        [10.]],\n",
       "\n",
       "       [[ 7.],\n",
       "        [ 9.],\n",
       "        [11.]],\n",
       "\n",
       "       [[ 8.],\n",
       "        [10.],\n",
       "        [12.]],\n",
       "\n",
       "       [[ 9.],\n",
       "        [11.],\n",
       "        [13.]],\n",
       "\n",
       "       [[10.],\n",
       "        [12.],\n",
       "        [14.]],\n",
       "\n",
       "       [[11.],\n",
       "        [13.],\n",
       "        [15.]],\n",
       "\n",
       "       [[12.],\n",
       "        [14.],\n",
       "        [16.]],\n",
       "\n",
       "       [[13.],\n",
       "        [15.],\n",
       "        [17.]],\n",
       "\n",
       "       [[14.],\n",
       "        [16.],\n",
       "        [18.]],\n",
       "\n",
       "       [[15.],\n",
       "        [17.],\n",
       "        [19.]],\n",
       "\n",
       "       [[16.],\n",
       "        [18.],\n",
       "        [nan]]], dtype=float32)"
      ]
     },
     "execution_count": 53,
     "metadata": {},
     "output_type": "execute_result"
    }
   ],
   "source": [
    "clipped_out"
   ]
  },
  {
   "cell_type": "code",
   "execution_count": 54,
   "metadata": {},
   "outputs": [
    {
     "data": {
      "text/plain": [
       "array([[[ 0.],\n",
       "        [ 2.],\n",
       "        [ 4.]],\n",
       "\n",
       "       [[ 1.],\n",
       "        [ 3.],\n",
       "        [ 5.]],\n",
       "\n",
       "       [[ 2.],\n",
       "        [ 4.],\n",
       "        [ 6.]],\n",
       "\n",
       "       [[ 3.],\n",
       "        [ 5.],\n",
       "        [ 7.]],\n",
       "\n",
       "       [[ 4.],\n",
       "        [ 6.],\n",
       "        [ 8.]],\n",
       "\n",
       "       [[ 5.],\n",
       "        [ 7.],\n",
       "        [ 9.]],\n",
       "\n",
       "       [[ 6.],\n",
       "        [ 8.],\n",
       "        [10.]],\n",
       "\n",
       "       [[ 7.],\n",
       "        [ 9.],\n",
       "        [11.]],\n",
       "\n",
       "       [[ 8.],\n",
       "        [10.],\n",
       "        [12.]],\n",
       "\n",
       "       [[ 9.],\n",
       "        [11.],\n",
       "        [13.]],\n",
       "\n",
       "       [[10.],\n",
       "        [12.],\n",
       "        [14.]],\n",
       "\n",
       "       [[11.],\n",
       "        [13.],\n",
       "        [15.]],\n",
       "\n",
       "       [[12.],\n",
       "        [14.],\n",
       "        [16.]],\n",
       "\n",
       "       [[13.],\n",
       "        [15.],\n",
       "        [17.]],\n",
       "\n",
       "       [[14.],\n",
       "        [16.],\n",
       "        [18.]],\n",
       "\n",
       "       [[15.],\n",
       "        [17.],\n",
       "        [19.]]], dtype=float32)"
      ]
     },
     "execution_count": 54,
     "metadata": {},
     "output_type": "execute_result"
    }
   ],
   "source": [
    "contexts.data"
   ]
  },
  {
   "cell_type": "code",
   "execution_count": null,
   "metadata": {},
   "outputs": [],
   "source": []
  }
 ],
 "metadata": {
  "kernelspec": {
   "display_name": "kooplearn",
   "language": "python",
   "name": "python3"
  },
  "language_info": {
   "codemirror_mode": {
    "name": "ipython",
    "version": 3
   },
   "file_extension": ".py",
   "mimetype": "text/x-python",
   "name": "python",
   "nbconvert_exporter": "python",
   "pygments_lexer": "ipython3",
   "version": "3.11.4"
  }
 },
 "nbformat": 4,
 "nbformat_minor": 2
}
