{
 "cells": [
  {
   "cell_type": "code",
   "execution_count": 52,
   "metadata": {
    "ExecuteTime": {
     "end_time": "2024-03-05T20:50:40.331627Z",
     "start_time": "2024-03-05T20:50:40.314464Z"
    }
   },
   "outputs": [
    {
     "name": "stdout",
     "output_type": "stream",
     "text": [
      "The autoreload extension is already loaded. To reload it, use:\n",
      "  %reload_ext autoreload\n"
     ]
    }
   ],
   "source": [
    "%load_ext autoreload\n",
    "%autoreload 2"
   ]
  },
  {
   "cell_type": "code",
   "execution_count": 60,
   "metadata": {
    "ExecuteTime": {
     "end_time": "2024-03-05T20:50:41.765084Z",
     "start_time": "2024-03-05T20:50:40.632290Z"
    }
   },
   "outputs": [],
   "source": [
    "from kooplearn.abc import ContextWindow, ContextWindowDataset\n",
    "from kooplearn.data import TensorContextDataset\n",
    "\n",
    "import numpy as np\n",
    "import torch"
   ]
  },
  {
   "cell_type": "code",
   "execution_count": 65,
   "metadata": {},
   "outputs": [],
   "source": [
    "ctx_np = np.arange(20).reshape(4, 5, 1)\n",
    "ctx_torch = torch.arange(20).reshape(4, 5, 1)"
   ]
  },
  {
   "cell_type": "code",
   "execution_count": 74,
   "metadata": {},
   "outputs": [
    {
     "data": {
      "text/plain": [
       "torch.Size([4, 3, 1])"
      ]
     },
     "execution_count": 74,
     "metadata": {},
     "output_type": "execute_result"
    }
   ],
   "source": [
    "TensorContextDataset(ctx_torch).lookforward(2).shape"
   ]
  },
  {
   "cell_type": "code",
   "execution_count": 69,
   "metadata": {},
   "outputs": [
    {
     "data": {
      "text/plain": [
       "array([[[ 0],\n",
       "        [ 1],\n",
       "        [ 2],\n",
       "        [ 3],\n",
       "        [ 4]],\n",
       "\n",
       "       [[ 5],\n",
       "        [ 6],\n",
       "        [ 7],\n",
       "        [ 8],\n",
       "        [ 9]],\n",
       "\n",
       "       [[10],\n",
       "        [11],\n",
       "        [12],\n",
       "        [13],\n",
       "        [14]],\n",
       "\n",
       "       [[15],\n",
       "        [16],\n",
       "        [17],\n",
       "        [18],\n",
       "        [19]]])"
      ]
     },
     "execution_count": 69,
     "metadata": {},
     "output_type": "execute_result"
    }
   ],
   "source": [
    "ctx_np"
   ]
  },
  {
   "cell_type": "code",
   "execution_count": 51,
   "metadata": {},
   "outputs": [
    {
     "name": "stdout",
     "output_type": "stream",
     "text": [
      "ContextWindowDataset <item_count=10, context_length=5, data=[[0, 1, 2, 3, 4], [0, 1, 2, 3, 4], [0, 1, 2, 3, 4], [0, 1, 2, 3, 4], [0, 1, 2, 3, 4], [0, 1, 2, 3, 4], [0, 1, 2, 3, 4], [0, 1, 2, 3, 4], [0, 1, 2, 3, 4], [0, 1, 2, 3, 4]]>\n"
     ]
    }
   ],
   "source": [
    "print(test_ctxs)"
   ]
  },
  {
   "cell_type": "code",
   "execution_count": 18,
   "metadata": {},
   "outputs": [
    {
     "data": {
      "text/plain": [
       "3"
      ]
     },
     "execution_count": 18,
     "metadata": {},
     "output_type": "execute_result"
    }
   ],
   "source": [
    "test_single_window[3]"
   ]
  },
  {
   "cell_type": "code",
   "execution_count": 3,
   "metadata": {},
   "outputs": [
    {
     "ename": "NameError",
     "evalue": "name 'np' is not defined",
     "output_type": "error",
     "traceback": [
      "\u001b[0;31m---------------------------------------------------------------------------\u001b[0m",
      "\u001b[0;31mNameError\u001b[0m                                 Traceback (most recent call last)",
      "Cell \u001b[0;32mIn[3], line 1\u001b[0m\n\u001b[0;32m----> 1\u001b[0m clipped_out \u001b[38;5;241m=\u001b[39m \u001b[43mnp\u001b[49m\u001b[38;5;241m.\u001b[39mtake(contexts\u001b[38;5;241m.\u001b[39mtrajectory, contexts\u001b[38;5;241m.\u001b[39midx_map \u001b[38;5;241m+\u001b[39m \u001b[38;5;241m1\u001b[39m, axis\u001b[38;5;241m=\u001b[39m\u001b[38;5;241m0\u001b[39m, mode\u001b[38;5;241m=\u001b[39m\u001b[38;5;124m'\u001b[39m\u001b[38;5;124mclip\u001b[39m\u001b[38;5;124m'\u001b[39m)\n\u001b[1;32m      2\u001b[0m np\u001b[38;5;241m.\u001b[39mplace(clipped_out, \u001b[38;5;241m~\u001b[39m(contexts\u001b[38;5;241m.\u001b[39midx_map \u001b[38;5;241m+\u001b[39m \u001b[38;5;241m1\u001b[39m \u001b[38;5;241m<\u001b[39m \u001b[38;5;28mlen\u001b[39m(contexts\u001b[38;5;241m.\u001b[39mtrajectory)), np\u001b[38;5;241m.\u001b[39mNAN)\n",
      "\u001b[0;31mNameError\u001b[0m: name 'np' is not defined"
     ]
    }
   ],
   "source": [
    "clipped_out = np.take(contexts.trajectory, contexts.idx_map + 1, axis=0, mode='clip')\n",
    "np.place(clipped_out, ~(contexts.idx_map + 1 < len(contexts.trajectory)), np.NAN)"
   ]
  },
  {
   "cell_type": "code",
   "execution_count": 52,
   "metadata": {},
   "outputs": [],
   "source": []
  },
  {
   "cell_type": "code",
   "execution_count": 53,
   "metadata": {},
   "outputs": [
    {
     "data": {
      "text/plain": [
       "array([[[ 1.],\n",
       "        [ 3.],\n",
       "        [ 5.]],\n",
       "\n",
       "       [[ 2.],\n",
       "        [ 4.],\n",
       "        [ 6.]],\n",
       "\n",
       "       [[ 3.],\n",
       "        [ 5.],\n",
       "        [ 7.]],\n",
       "\n",
       "       [[ 4.],\n",
       "        [ 6.],\n",
       "        [ 8.]],\n",
       "\n",
       "       [[ 5.],\n",
       "        [ 7.],\n",
       "        [ 9.]],\n",
       "\n",
       "       [[ 6.],\n",
       "        [ 8.],\n",
       "        [10.]],\n",
       "\n",
       "       [[ 7.],\n",
       "        [ 9.],\n",
       "        [11.]],\n",
       "\n",
       "       [[ 8.],\n",
       "        [10.],\n",
       "        [12.]],\n",
       "\n",
       "       [[ 9.],\n",
       "        [11.],\n",
       "        [13.]],\n",
       "\n",
       "       [[10.],\n",
       "        [12.],\n",
       "        [14.]],\n",
       "\n",
       "       [[11.],\n",
       "        [13.],\n",
       "        [15.]],\n",
       "\n",
       "       [[12.],\n",
       "        [14.],\n",
       "        [16.]],\n",
       "\n",
       "       [[13.],\n",
       "        [15.],\n",
       "        [17.]],\n",
       "\n",
       "       [[14.],\n",
       "        [16.],\n",
       "        [18.]],\n",
       "\n",
       "       [[15.],\n",
       "        [17.],\n",
       "        [19.]],\n",
       "\n",
       "       [[16.],\n",
       "        [18.],\n",
       "        [nan]]], dtype=float32)"
      ]
     },
     "execution_count": 53,
     "metadata": {},
     "output_type": "execute_result"
    }
   ],
   "source": [
    "clipped_out"
   ]
  },
  {
   "cell_type": "code",
   "execution_count": 54,
   "metadata": {},
   "outputs": [
    {
     "data": {
      "text/plain": [
       "array([[[ 0.],\n",
       "        [ 2.],\n",
       "        [ 4.]],\n",
       "\n",
       "       [[ 1.],\n",
       "        [ 3.],\n",
       "        [ 5.]],\n",
       "\n",
       "       [[ 2.],\n",
       "        [ 4.],\n",
       "        [ 6.]],\n",
       "\n",
       "       [[ 3.],\n",
       "        [ 5.],\n",
       "        [ 7.]],\n",
       "\n",
       "       [[ 4.],\n",
       "        [ 6.],\n",
       "        [ 8.]],\n",
       "\n",
       "       [[ 5.],\n",
       "        [ 7.],\n",
       "        [ 9.]],\n",
       "\n",
       "       [[ 6.],\n",
       "        [ 8.],\n",
       "        [10.]],\n",
       "\n",
       "       [[ 7.],\n",
       "        [ 9.],\n",
       "        [11.]],\n",
       "\n",
       "       [[ 8.],\n",
       "        [10.],\n",
       "        [12.]],\n",
       "\n",
       "       [[ 9.],\n",
       "        [11.],\n",
       "        [13.]],\n",
       "\n",
       "       [[10.],\n",
       "        [12.],\n",
       "        [14.]],\n",
       "\n",
       "       [[11.],\n",
       "        [13.],\n",
       "        [15.]],\n",
       "\n",
       "       [[12.],\n",
       "        [14.],\n",
       "        [16.]],\n",
       "\n",
       "       [[13.],\n",
       "        [15.],\n",
       "        [17.]],\n",
       "\n",
       "       [[14.],\n",
       "        [16.],\n",
       "        [18.]],\n",
       "\n",
       "       [[15.],\n",
       "        [17.],\n",
       "        [19.]]], dtype=float32)"
      ]
     },
     "execution_count": 54,
     "metadata": {},
     "output_type": "execute_result"
    }
   ],
   "source": [
    "contexts.data"
   ]
  },
  {
   "cell_type": "code",
   "execution_count": null,
   "metadata": {},
   "outputs": [],
   "source": []
  }
 ],
 "metadata": {
  "kernelspec": {
   "display_name": "kooplearn",
   "language": "python",
   "name": "python3"
  },
  "language_info": {
   "codemirror_mode": {
    "name": "ipython",
    "version": 3
   },
   "file_extension": ".py",
   "mimetype": "text/x-python",
   "name": "python",
   "nbconvert_exporter": "python",
   "pygments_lexer": "ipython3",
   "version": "3.11.4"
  }
 },
 "nbformat": 4,
 "nbformat_minor": 2
}
