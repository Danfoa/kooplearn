{
 "cells": [
  {
   "cell_type": "code",
   "execution_count": 1,
   "metadata": {
    "ExecuteTime": {
     "end_time": "2024-03-06T13:41:45.343557Z",
     "start_time": "2024-03-06T13:41:45.328290Z"
    }
   },
   "outputs": [],
   "source": [
    "%load_ext autoreload\n",
    "%autoreload 2"
   ]
  },
  {
   "cell_type": "code",
   "execution_count": 2,
   "metadata": {
    "ExecuteTime": {
     "end_time": "2024-03-06T13:41:48.432907Z",
     "start_time": "2024-03-06T13:41:45.908597Z"
    }
   },
   "outputs": [],
   "source": [
    "from kooplearn.abc import ContextWindow, ContextWindowDataset\n",
    "from kooplearn.data import TensorContextDataset, TrajectoryContextDataset\n",
    "\n",
    "import numpy as np\n",
    "import torch"
   ]
  },
  {
   "cell_type": "code",
   "execution_count": 3,
   "metadata": {
    "ExecuteTime": {
     "end_time": "2024-03-06T13:41:49.003853Z",
     "start_time": "2024-03-06T13:41:48.965505Z"
    }
   },
   "outputs": [],
   "source": [
    "traj_np = np.arange(20)\n",
    "traj_torch = torch.arange(20)"
   ]
  },
  {
   "cell_type": "code",
   "execution_count": 4,
   "metadata": {
    "ExecuteTime": {
     "end_time": "2024-03-06T13:41:49.282448Z",
     "start_time": "2024-03-06T13:41:49.247733Z"
    }
   },
   "outputs": [],
   "source": [
    "ctx = TrajectoryContextDataset(traj_torch, context_length=5)"
   ]
  },
  {
   "cell_type": "code",
   "execution_count": 5,
   "metadata": {
    "ExecuteTime": {
     "end_time": "2024-03-06T13:41:50.201611Z",
     "start_time": "2024-03-06T13:41:50.161238Z"
    }
   },
   "outputs": [
    {
     "data": {
      "text/plain": "tensor([[ 0,  1,  2,  3,  4],\n        [ 1,  2,  3,  4,  5],\n        [ 2,  3,  4,  5,  6],\n        [ 3,  4,  5,  6,  7],\n        [ 4,  5,  6,  7,  8],\n        [ 5,  6,  7,  8,  9],\n        [ 6,  7,  8,  9, 10],\n        [ 7,  8,  9, 10, 11],\n        [ 8,  9, 10, 11, 12],\n        [ 9, 10, 11, 12, 13],\n        [10, 11, 12, 13, 14],\n        [11, 12, 13, 14, 15],\n        [12, 13, 14, 15, 16],\n        [13, 14, 15, 16, 17],\n        [14, 15, 16, 17, 18],\n        [15, 16, 17, 18, 19]])"
     },
     "execution_count": 5,
     "metadata": {},
     "output_type": "execute_result"
    }
   ],
   "source": [
    "ctx.idx_map"
   ]
  },
  {
   "cell_type": "code",
   "execution_count": 6,
   "metadata": {
    "ExecuteTime": {
     "end_time": "2024-03-06T13:41:51.818643Z",
     "start_time": "2024-03-06T13:41:51.782065Z"
    }
   },
   "outputs": [
    {
     "data": {
      "text/plain": "5"
     },
     "execution_count": 6,
     "metadata": {},
     "output_type": "execute_result"
    }
   ],
   "source": [
    "ctx.context_length"
   ]
  },
  {
   "cell_type": "code",
   "execution_count": 18,
   "metadata": {},
   "outputs": [
    {
     "data": {
      "text/plain": [
       "3"
      ]
     },
     "execution_count": 18,
     "metadata": {},
     "output_type": "execute_result"
    }
   ],
   "source": [
    "test_single_window[3]"
   ]
  },
  {
   "cell_type": "code",
   "execution_count": 3,
   "metadata": {},
   "outputs": [
    {
     "ename": "NameError",
     "evalue": "name 'np' is not defined",
     "output_type": "error",
     "traceback": [
      "\u001B[0;31m---------------------------------------------------------------------------\u001B[0m",
      "\u001B[0;31mNameError\u001B[0m                                 Traceback (most recent call last)",
      "Cell \u001B[0;32mIn[3], line 1\u001B[0m\n\u001B[0;32m----> 1\u001B[0m clipped_out \u001B[38;5;241m=\u001B[39m \u001B[43mnp\u001B[49m\u001B[38;5;241m.\u001B[39mtake(contexts\u001B[38;5;241m.\u001B[39mtrajectory, contexts\u001B[38;5;241m.\u001B[39midx_map \u001B[38;5;241m+\u001B[39m \u001B[38;5;241m1\u001B[39m, axis\u001B[38;5;241m=\u001B[39m\u001B[38;5;241m0\u001B[39m, mode\u001B[38;5;241m=\u001B[39m\u001B[38;5;124m'\u001B[39m\u001B[38;5;124mclip\u001B[39m\u001B[38;5;124m'\u001B[39m)\n\u001B[1;32m      2\u001B[0m np\u001B[38;5;241m.\u001B[39mplace(clipped_out, \u001B[38;5;241m~\u001B[39m(contexts\u001B[38;5;241m.\u001B[39midx_map \u001B[38;5;241m+\u001B[39m \u001B[38;5;241m1\u001B[39m \u001B[38;5;241m<\u001B[39m \u001B[38;5;28mlen\u001B[39m(contexts\u001B[38;5;241m.\u001B[39mtrajectory)), np\u001B[38;5;241m.\u001B[39mNAN)\n",
      "\u001B[0;31mNameError\u001B[0m: name 'np' is not defined"
     ]
    }
   ],
   "source": [
    "clipped_out = np.take(contexts.trajectory, contexts.idx_map + 1, axis=0, mode='clip')\n",
    "np.place(clipped_out, ~(contexts.idx_map + 1 < len(contexts.trajectory)), np.NAN)"
   ]
  },
  {
   "cell_type": "code",
   "execution_count": 52,
   "metadata": {},
   "outputs": [],
   "source": []
  },
  {
   "cell_type": "code",
   "execution_count": 53,
   "metadata": {},
   "outputs": [
    {
     "data": {
      "text/plain": [
       "array([[[ 1.],\n",
       "        [ 3.],\n",
       "        [ 5.]],\n",
       "\n",
       "       [[ 2.],\n",
       "        [ 4.],\n",
       "        [ 6.]],\n",
       "\n",
       "       [[ 3.],\n",
       "        [ 5.],\n",
       "        [ 7.]],\n",
       "\n",
       "       [[ 4.],\n",
       "        [ 6.],\n",
       "        [ 8.]],\n",
       "\n",
       "       [[ 5.],\n",
       "        [ 7.],\n",
       "        [ 9.]],\n",
       "\n",
       "       [[ 6.],\n",
       "        [ 8.],\n",
       "        [10.]],\n",
       "\n",
       "       [[ 7.],\n",
       "        [ 9.],\n",
       "        [11.]],\n",
       "\n",
       "       [[ 8.],\n",
       "        [10.],\n",
       "        [12.]],\n",
       "\n",
       "       [[ 9.],\n",
       "        [11.],\n",
       "        [13.]],\n",
       "\n",
       "       [[10.],\n",
       "        [12.],\n",
       "        [14.]],\n",
       "\n",
       "       [[11.],\n",
       "        [13.],\n",
       "        [15.]],\n",
       "\n",
       "       [[12.],\n",
       "        [14.],\n",
       "        [16.]],\n",
       "\n",
       "       [[13.],\n",
       "        [15.],\n",
       "        [17.]],\n",
       "\n",
       "       [[14.],\n",
       "        [16.],\n",
       "        [18.]],\n",
       "\n",
       "       [[15.],\n",
       "        [17.],\n",
       "        [19.]],\n",
       "\n",
       "       [[16.],\n",
       "        [18.],\n",
       "        [nan]]], dtype=float32)"
      ]
     },
     "execution_count": 53,
     "metadata": {},
     "output_type": "execute_result"
    }
   ],
   "source": [
    "clipped_out"
   ]
  },
  {
   "cell_type": "code",
   "execution_count": 11,
   "metadata": {
    "ExecuteTime": {
     "end_time": "2024-03-06T13:42:17.460988Z",
     "start_time": "2024-03-06T13:42:17.429720Z"
    }
   },
   "outputs": [
    {
     "data": {
      "text/plain": "torch.Size([16, 5, 1])"
     },
     "execution_count": 11,
     "metadata": {},
     "output_type": "execute_result"
    }
   ],
   "source": [
    "ctx.data.shape"
   ]
  },
  {
   "cell_type": "code",
   "execution_count": null,
   "metadata": {},
   "outputs": [],
   "source": []
  }
 ],
 "metadata": {
  "kernelspec": {
   "display_name": "kooplearn",
   "language": "python",
   "name": "python3"
  },
  "language_info": {
   "codemirror_mode": {
    "name": "ipython",
    "version": 3
   },
   "file_extension": ".py",
   "mimetype": "text/x-python",
   "name": "python",
   "nbconvert_exporter": "python",
   "pygments_lexer": "ipython3",
   "version": "3.11.4"
  }
 },
 "nbformat": 4,
 "nbformat_minor": 2
}
