{
 "cells": [
  {
   "cell_type": "code",
   "execution_count": 2,
   "metadata": {
    "ExecuteTime": {
     "end_time": "2024-03-05T20:50:40.331627Z",
     "start_time": "2024-03-05T20:50:40.314464Z"
    }
   },
   "outputs": [
    {
     "name": "stdout",
     "output_type": "stream",
     "text": [
      "The autoreload extension is already loaded. To reload it, use:\n",
      "  %reload_ext autoreload\n"
     ]
    }
   ],
   "source": [
    "%load_ext autoreload\n",
    "%autoreload 2"
   ]
  },
  {
   "cell_type": "code",
   "execution_count": 3,
   "metadata": {
    "ExecuteTime": {
     "end_time": "2024-03-05T20:50:41.765084Z",
     "start_time": "2024-03-05T20:50:40.632290Z"
    }
   },
   "outputs": [],
   "source": [
    "from kooplearn.data import traj_to_contexts, Contexts\n",
    "import numpy as np"
   ]
  },
  {
   "cell_type": "code",
   "execution_count": 4,
   "metadata": {
    "ExecuteTime": {
     "end_time": "2024-03-05T20:50:42.830544Z",
     "start_time": "2024-03-05T20:50:42.810609Z"
    }
   },
   "outputs": [],
   "source": [
    "test_traj = np.arange(20)"
   ]
  },
  {
   "cell_type": "code",
   "execution_count": 5,
   "metadata": {
    "ExecuteTime": {
     "end_time": "2024-03-05T20:50:43.816528Z",
     "start_time": "2024-03-05T20:50:43.792206Z"
    }
   },
   "outputs": [],
   "source": [
    "contexts = traj_to_contexts(test_traj,\n",
    "    context_window_len = 3,\n",
    "    lookforward_window_len = 1,\n",
    "    time_lag = 1)"
   ]
  },
  {
   "cell_type": "code",
   "execution_count": 6,
   "metadata": {
    "ExecuteTime": {
     "end_time": "2024-03-05T20:50:44.858678Z",
     "start_time": "2024-03-05T20:50:44.831645Z"
    }
   },
   "outputs": [
    {
     "data": {
      "text/plain": "(18, 3, 1)"
     },
     "execution_count": 6,
     "metadata": {},
     "output_type": "execute_result"
    }
   ],
   "source": [
    "contexts.data.shape"
   ]
  },
  {
   "cell_type": "code",
   "execution_count": 7,
   "metadata": {
    "ExecuteTime": {
     "end_time": "2024-03-05T20:50:45.700794Z",
     "start_time": "2024-03-05T20:50:45.675967Z"
    }
   },
   "outputs": [
    {
     "name": "stdout",
     "output_type": "stream",
     "text": [
      "[[[ 1]\n",
      "  [ 2]]\n",
      "\n",
      " [[ 2]\n",
      "  [ 3]]\n",
      "\n",
      " [[ 3]\n",
      "  [ 4]]\n",
      "\n",
      " [[ 4]\n",
      "  [ 5]]\n",
      "\n",
      " [[ 5]\n",
      "  [ 6]]\n",
      "\n",
      " [[ 6]\n",
      "  [ 7]]\n",
      "\n",
      " [[ 7]\n",
      "  [ 8]]\n",
      "\n",
      " [[ 8]\n",
      "  [ 9]]\n",
      "\n",
      " [[ 9]\n",
      "  [10]]\n",
      "\n",
      " [[10]\n",
      "  [11]]\n",
      "\n",
      " [[11]\n",
      "  [12]]\n",
      "\n",
      " [[12]\n",
      "  [13]]\n",
      "\n",
      " [[13]\n",
      "  [14]]\n",
      "\n",
      " [[14]\n",
      "  [15]]\n",
      "\n",
      " [[15]\n",
      "  [16]]\n",
      "\n",
      " [[16]\n",
      "  [17]]\n",
      "\n",
      " [[17]\n",
      "  [18]]\n",
      "\n",
      " [[18]\n",
      "  [19]]]\n"
     ]
    }
   ],
   "source": [
    "print(contexts.evolve_lookback(1))"
   ]
  },
  {
   "cell_type": "code",
   "execution_count": null,
   "metadata": {},
   "outputs": [],
   "source": []
  }
 ],
 "metadata": {
  "kernelspec": {
   "display_name": "kooplearn",
   "language": "python",
   "name": "python3"
  },
  "language_info": {
   "codemirror_mode": {
    "name": "ipython",
    "version": 3
   },
   "file_extension": ".py",
   "mimetype": "text/x-python",
   "name": "python",
   "nbconvert_exporter": "python",
   "pygments_lexer": "ipython3",
   "version": "3.11.4"
  }
 },
 "nbformat": 4,
 "nbformat_minor": 2
}
